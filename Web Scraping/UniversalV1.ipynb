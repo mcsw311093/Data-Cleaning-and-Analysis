{
 "cells": [
  {
   "cell_type": "code",
   "execution_count": 23,
   "metadata": {},
   "outputs": [
    {
     "name": "stdout",
     "output_type": "stream",
     "text": [
      "year - 20\n"
     ]
    },
    {
     "ename": "KeyError",
     "evalue": "'0001564590-20-019706'",
     "output_type": "error",
     "traceback": [
      "\u001b[1;31m---------------------------------------------------------------------------\u001b[0m",
      "\u001b[1;31mKeyError\u001b[0m                                  Traceback (most recent call last)",
      "\u001b[1;32m<ipython-input-23-fdb9c341cf0c>\u001b[0m in \u001b[0;36m<module>\u001b[1;34m\u001b[0m\n\u001b[0;32m      4\u001b[0m         \u001b[0myear\u001b[0m \u001b[1;33m=\u001b[0m \u001b[0mint\u001b[0m\u001b[1;33m(\u001b[0m\u001b[0macc_num\u001b[0m\u001b[1;33m.\u001b[0m\u001b[0msplit\u001b[0m\u001b[1;33m(\u001b[0m\u001b[0msep\u001b[0m\u001b[1;33m=\u001b[0m\u001b[1;34m'-'\u001b[0m\u001b[1;33m)\u001b[0m\u001b[1;33m[\u001b[0m\u001b[1;36m1\u001b[0m\u001b[1;33m]\u001b[0m\u001b[1;33m)\u001b[0m\u001b[1;33m\u001b[0m\u001b[1;33m\u001b[0m\u001b[0m\n\u001b[0;32m      5\u001b[0m         \u001b[0mprint\u001b[0m\u001b[1;33m(\u001b[0m\u001b[1;34mf'year - {year}'\u001b[0m\u001b[1;33m)\u001b[0m\u001b[1;33m\u001b[0m\u001b[1;33m\u001b[0m\u001b[0m\n\u001b[1;32m----> 6\u001b[1;33m         \u001b[0mpages\u001b[0m \u001b[1;33m=\u001b[0m \u001b[0mmaster_filings_dict\u001b[0m\u001b[1;33m[\u001b[0m\u001b[0macc_num\u001b[0m\u001b[1;33m]\u001b[0m\u001b[1;33m[\u001b[0m\u001b[1;34m'filing_documents'\u001b[0m\u001b[1;33m]\u001b[0m\u001b[1;33m[\u001b[0m\u001b[0mQK\u001b[0m\u001b[1;33m]\u001b[0m\u001b[1;33m[\u001b[0m\u001b[1;34m'pages_code'\u001b[0m\u001b[1;33m]\u001b[0m\u001b[1;33m\u001b[0m\u001b[1;33m\u001b[0m\u001b[0m\n\u001b[0m\u001b[0;32m      7\u001b[0m         \u001b[0mprint\u001b[0m\u001b[1;33m(\u001b[0m\u001b[1;34m'\\n'\u001b[0m\u001b[1;33m,\u001b[0m \u001b[1;34m'This is {} a {} document.'\u001b[0m\u001b[1;33m.\u001b[0m\u001b[0mformat\u001b[0m\u001b[1;33m(\u001b[0m\u001b[0macc_num\u001b[0m\u001b[1;33m,\u001b[0m \u001b[0mQK\u001b[0m\u001b[1;33m)\u001b[0m\u001b[1;33m)\u001b[0m\u001b[1;33m\u001b[0m\u001b[1;33m\u001b[0m\u001b[0m\n\u001b[0;32m      8\u001b[0m         \u001b[0mprint\u001b[0m\u001b[1;33m(\u001b[0m\u001b[0mlen\u001b[0m\u001b[1;33m(\u001b[0m\u001b[0mpages\u001b[0m\u001b[1;33m)\u001b[0m\u001b[1;33m)\u001b[0m\u001b[1;33m\u001b[0m\u001b[1;33m\u001b[0m\u001b[0m\n",
      "\u001b[1;31mKeyError\u001b[0m: '0001564590-20-019706'"
     ]
    }
   ],
   "source": [
    "for QK, N_O in QorK.items():\n",
    "    \n",
    "    for an_postition, acc_num in enumerate(N_O):\n",
    "        year = int(acc_num.split(sep='-')[1])\n",
    "        print(f'year - {year}')\n",
    "        pages = master_filings_dict[acc_num]['filing_documents'][QK]['pages_code']\n",
    "        print('\\n', 'This is {} a {} document.'.format(acc_num, QK))\n",
    "        print(len(pages))\n",
    "        \n",
    "        for page in pages: \n",
    "            \n",
    "            if anchor_check(page) and search(r'million', page, flags=re.I):\n",
    "                print('anchor check')\n",
    "                # Convert string to BS object\n",
    "                soup = BeautifulSoup(page, 'html5')\n",
    "\n",
    "                # Get only the first table in the page.\n",
    "                for table_num, table in enumerate(soup.find_all('tbody')):\n",
    "                    \n",
    "                    if table_num == 0:\n",
    "                        \n",
    "                        # then get all the rows in the table.\n",
    "                        table_rows = soup.findAll('tr')\n",
    "                       \n",
    "                        if len( [tr.text for tr in table_rows[0].find_all('td')] ) < 3:\n",
    "                            del table_rows[0]\n",
    "\n",
    "                        single_table = []\n",
    "                        Date_column = []\n",
    "\n",
    "                        # Loop through each column, adding in three structures to single_table.\n",
    "                        for tr_post, tr in enumerate(table_rows):\n",
    "                            td = tr.find_all('td')\n",
    "\n",
    "                            try: \n",
    "                                column = [tr.text.encode('cp1252').decode(\"utf-8\", \"ignore\") for tr in td]\n",
    "                                \n",
    "                            except: \n",
    "                                column  =[tr.text.encode('ISO-8859-1').decode(\"utf-8\", \"ignore\") for tr in td]\n",
    "                                \n",
    "#                             print( 'tr_post', tr_post, len(column), column)\n",
    "\n",
    "                            if QK == '10-Q' and year < 11 or QK == '10-K' and year < 13:\n",
    "                                \n",
    "                                if tr_post == 2:\n",
    "\n",
    "                                    # Quarter Column\n",
    "                                    col_Q, col_year = Quarter( column, '10-Q' )\n",
    "                                    single_table.append( col_Q )\n",
    "                                    # Year Column\n",
    "                                    single_table.append( col_year )\n",
    "\n",
    "                                elif tr_post > 1: \n",
    "#                                     print(column)\n",
    "                                    # Features Columns\n",
    "                                    cleaned_data = cleaning_column( column , 10**6 )\n",
    "                                    #print(cleaned_data)\n",
    "                                    if len(cleaned_data) > 10:\n",
    "                                        del cleaned_data[3]\n",
    "\n",
    "                                    if cleaned_data == ['']:\n",
    "                                        break\n",
    "                                    single_table.append( cleaned_data )\n",
    "                            else: \n",
    "\n",
    "                                if tr_post == 1:\n",
    "\n",
    "                                    # Quarter Column\n",
    "                                    col_Q, col_year = Quarter( column, '10-Q' )\n",
    "                                    single_table.append( col_Q )\n",
    "                                    # Year Column\n",
    "                                    single_table.append( col_year )\n",
    "\n",
    "                                elif tr_post > 1: \n",
    "            #                         print(column)\n",
    "                                    # Features Columns\n",
    "                                    cleaned_data = cleaning_column( column , 10**6 )\n",
    "                                    #print(cleaned_data)\n",
    "                                    if len(cleaned_data) > 10:\n",
    "                                        del cleaned_data[3]\n",
    "\n",
    "                                    if cleaned_data == ['']:\n",
    "                                        break\n",
    "                                    single_table.append( cleaned_data )\n",
    "                                    \n",
    "                        print(single_table[1])\n",
    "                        table_df = pd.DataFrame(single_table)\n",
    "        #                 print(table_df)\n",
    "                        table_df = table_df.transpose()\n",
    "        #                 print(table_df[0])\n",
    "\n",
    "                table_df.drop(table_df.index[pick_row_del(single_table):], 0, inplace=True)\n",
    "\n",
    "                table_df.columns = table_df.iloc[0]\n",
    "\n",
    "                table_df = table_df.drop(table_df.index[0])\n",
    "                ICD.display(table_df)\n",
    "            \n",
    "        else:\n",
    "            print( '\\n', '~'*40, '\\n')\n",
    "            "
   ]
  },
  {
   "cell_type": "markdown",
   "metadata": {},
   "source": [
    "# Problems"
   ]
  },
  {
   "cell_type": "markdown",
   "metadata": {},
   "source": [
    "###  - Apple doesnt have key in Table of Contents\n",
    "### - Amazon has werid keys"
   ]
  },
  {
   "cell_type": "markdown",
   "metadata": {},
   "source": [
    "# Capstone Project"
   ]
  },
  {
   "cell_type": "markdown",
   "metadata": {},
   "source": [
    "# Libraries"
   ]
  },
  {
   "cell_type": "code",
   "execution_count": 1,
   "metadata": {},
   "outputs": [],
   "source": [
    "# Import Library \n",
    "\n",
    "import re\n",
    "import requests\n",
    "from re import search\n",
    "\n",
    "import unicodedata\n",
    "from bs4 import BeautifulSoup\n",
    "from bs4 import Tag\n",
    "\n",
    "from bs4 import NavigableString\n",
    "from bs4 import SoupStrainer\n",
    "from pprint import pprint\n",
    "\n",
    "import numpy as np\n",
    "from numpy import array\n",
    "import pandas as pd \n",
    "\n",
    "import csv\n",
    "import pickle\n",
    "\n",
    "from collections import Counter\n",
    "import datetime\n",
    "\n",
    "from IPython.display import display_html\n",
    "from IPython.display import display\n",
    "from IPython.core import display as ICD\n",
    "pd.set_option('display.max_columns', 100)\n"
   ]
  },
  {
   "cell_type": "markdown",
   "metadata": {},
   "source": [
    "# Initialise dictionary-containers and url templates. "
   ]
  },
  {
   "cell_type": "code",
   "execution_count": 2,
   "metadata": {},
   "outputs": [],
   "source": [
    "master_filings_dict = {}\n",
    "        \n",
    "Accession_Number_URL = {}\n",
    "\n",
    "AN_Active = {}\n",
    "\n",
    "name_CIK = { \n",
<<<<<<< HEAD
    "    'Microsoft' :  ['0000789019']\n",
=======
    "    'Microsoft' : ['0000789019']\n",
>>>>>>> Universal_Tesla
    "}\n",
    "\n",
    "dir_url = r'https://www.sec.gov/cgi-bin/browse-edgar?action=getcompany&CIK={}&type=10-&dateb=&owner=include&count=100'\n",
    "\n",
    "doc_url = r'https://www.sec.gov/Archives/edgar/data/{CIKx}/{xx}/{yy}.txt'"
   ]
  },
  {
   "cell_type": "markdown",
   "metadata": {},
   "source": [
    "# Retrieving unique Accession Numbers per filing based on CIK."
   ]
  },
  {
   "cell_type": "code",
   "execution_count": 3,
<<<<<<< HEAD
   "metadata": {
    "scrolled": true
   },
   "outputs": [
    {
     "name": "stdout",
     "output_type": "stream",
     "text": [
      "Accession_Number_URL -  \n",
      " {'0001564590-20-019706': 'https://www.sec.gov/Archives/edgar/data/0000789019/000156459020019706/0001564590-20-019706.txt', '0001564590-20-002450': 'https://www.sec.gov/Archives/edgar/data/0000789019/000156459020002450/0001564590-20-002450.txt', '0001564590-19-037549': 'https://www.sec.gov/Archives/edgar/data/0000789019/000156459019037549/0001564590-19-037549.txt', '0001564590-19-027952': 'https://www.sec.gov/Archives/edgar/data/0000789019/000156459019027952/0001564590-19-027952.txt', '0001564590-19-012709': 'https://www.sec.gov/Archives/edgar/data/0000789019/000156459019012709/0001564590-19-012709.txt', '0001564590-19-001392': 'https://www.sec.gov/Archives/edgar/data/0000789019/000156459019001392/0001564590-19-001392.txt', '0001564590-18-024893': 'https://www.sec.gov/Archives/edgar/data/0000789019/000156459018024893/0001564590-18-024893.txt', '0001564590-18-019062': 'https://www.sec.gov/Archives/edgar/data/0000789019/000156459018019062/0001564590-18-019062.txt', '0001564590-18-009307': 'https://www.sec.gov/Archives/edgar/data/0000789019/000156459018009307/0001564590-18-009307.txt', '0001564590-18-001129': 'https://www.sec.gov/Archives/edgar/data/0000789019/000156459018001129/0001564590-18-001129.txt', '0001564590-17-020171': 'https://www.sec.gov/Archives/edgar/data/0000789019/000156459017020171/0001564590-17-020171.txt', '0001564590-17-014900': 'https://www.sec.gov/Archives/edgar/data/0000789019/000156459017014900/0001564590-17-014900.txt', '0001564590-17-007547': 'https://www.sec.gov/Archives/edgar/data/0000789019/000156459017007547/0001564590-17-007547.txt', '0001564590-17-000654': 'https://www.sec.gov/Archives/edgar/data/0000789019/000156459017000654/0001564590-17-000654.txt', '0001193125-16-742796': 'https://www.sec.gov/Archives/edgar/data/0000789019/000119312516742796/0001193125-16-742796.txt', '0001193125-16-662209': 'https://www.sec.gov/Archives/edgar/data/0000789019/000119312516662209/0001193125-16-662209.txt', '0001193125-16-550254': 'https://www.sec.gov/Archives/edgar/data/0000789019/000119312516550254/0001193125-16-550254.txt', '0001193125-16-441821': 'https://www.sec.gov/Archives/edgar/data/0000789019/000119312516441821/0001193125-16-441821.txt', '0001193125-15-350718': 'https://www.sec.gov/Archives/edgar/data/0000789019/000119312515350718/0001193125-15-350718.txt', '0001193125-15-272806': 'https://www.sec.gov/Archives/edgar/data/0000789019/000119312515272806/0001193125-15-272806.txt', '0001193125-15-144151': 'https://www.sec.gov/Archives/edgar/data/0000789019/000119312515144151/0001193125-15-144151.txt', '0001193125-15-020351': 'https://www.sec.gov/Archives/edgar/data/0000789019/000119312515020351/0001193125-15-020351.txt', '0001193125-14-380252': 'https://www.sec.gov/Archives/edgar/data/0000789019/000119312514380252/0001193125-14-380252.txt', '0001193125-14-289961': 'https://www.sec.gov/Archives/edgar/data/0000789019/000119312514289961/0001193125-14-289961.txt', '0001193125-14-157088': 'https://www.sec.gov/Archives/edgar/data/0000789019/000119312514157088/0001193125-14-157088.txt', '0001193125-14-018634': 'https://www.sec.gov/Archives/edgar/data/0000789019/000119312514018634/0001193125-14-018634.txt', '0001193125-13-409855': 'https://www.sec.gov/Archives/edgar/data/0000789019/000119312513409855/0001193125-13-409855.txt', '0001193125-13-310206': 'https://www.sec.gov/Archives/edgar/data/0000789019/000119312513310206/0001193125-13-310206.txt', '0001193125-13-160748': 'https://www.sec.gov/Archives/edgar/data/0000789019/000119312513160748/0001193125-13-160748.txt', '0001193125-13-022207': 'https://www.sec.gov/Archives/edgar/data/0000789019/000119312513022207/0001193125-13-022207.txt', '0001193125-12-427209': 'https://www.sec.gov/Archives/edgar/data/0000789019/000119312512427209/0001193125-12-427209.txt', '0001193125-12-316848': 'https://www.sec.gov/Archives/edgar/data/0000789019/000119312512316848/0001193125-12-316848.txt', '0001193125-12-170665': 'https://www.sec.gov/Archives/edgar/data/0000789019/000119312512170665/0001193125-12-170665.txt', '0001193125-12-026864': 'https://www.sec.gov/Archives/edgar/data/0000789019/000119312512026864/0001193125-12-026864.txt', '0001193125-12-017029': 'https://www.sec.gov/Archives/edgar/data/0000789019/000119312512017029/0001193125-12-017029.txt', '0001193125-11-276022': 'https://www.sec.gov/Archives/edgar/data/0000789019/000119312511276022/0001193125-11-276022.txt', '0001193125-11-200680': 'https://www.sec.gov/Archives/edgar/data/0000789019/000119312511200680/0001193125-11-200680.txt', '0001193125-11-115186': 'https://www.sec.gov/Archives/edgar/data/0000789019/000119312511115186/0001193125-11-115186.txt', '0001193125-11-015947': 'https://www.sec.gov/Archives/edgar/data/0000789019/000119312511015947/0001193125-11-015947.txt', '0001193125-10-239825': 'https://www.sec.gov/Archives/edgar/data/0000789019/000119312510239825/0001193125-10-239825.txt', '0001193125-10-171791': 'https://www.sec.gov/Archives/edgar/data/0000789019/000119312510171791/0001193125-10-171791.txt', '0001193125-10-090116': 'https://www.sec.gov/Archives/edgar/data/0000789019/000119312510090116/0001193125-10-090116.txt', '0001193125-10-015598': 'https://www.sec.gov/Archives/edgar/data/0000789019/000119312510015598/0001193125-10-015598.txt', '0001193125-09-212454': 'https://www.sec.gov/Archives/edgar/data/0000789019/000119312509212454/0001193125-09-212454.txt', '0001193125-09-158735': 'https://www.sec.gov/Archives/edgar/data/0000789019/000119312509158735/0001193125-09-158735.txt', '0001193125-09-085779': 'https://www.sec.gov/Archives/edgar/data/0000789019/000119312509085779/0001193125-09-085779.txt', '0001193125-09-009386': 'https://www.sec.gov/Archives/edgar/data/0000789019/000119312509009386/0001193125-09-009386.txt', '0001193125-08-215207': 'https://www.sec.gov/Archives/edgar/data/0000789019/000119312508215207/0001193125-08-215207.txt', '0001193125-08-162768': 'https://www.sec.gov/Archives/edgar/data/0000789019/000119312508162768/0001193125-08-162768.txt', '0001193125-08-089362': 'https://www.sec.gov/Archives/edgar/data/0000789019/000119312508089362/0001193125-08-089362.txt', '0001193125-08-011476': 'https://www.sec.gov/Archives/edgar/data/0000789019/000119312508011476/0001193125-08-011476.txt', '0001193125-07-225854': 'https://www.sec.gov/Archives/edgar/data/0000789019/000119312507225854/0001193125-07-225854.txt', '0001193125-07-170817': 'https://www.sec.gov/Archives/edgar/data/0000789019/000119312507170817/0001193125-07-170817.txt', '0001193125-07-091808': 'https://www.sec.gov/Archives/edgar/data/0000789019/000119312507091808/0001193125-07-091808.txt', '0001193125-07-013034': 'https://www.sec.gov/Archives/edgar/data/0000789019/000119312507013034/0001193125-07-013034.txt', '0001193125-06-215912': 'https://www.sec.gov/Archives/edgar/data/0000789019/000119312506215912/0001193125-06-215912.txt', '0001193125-06-180008': 'https://www.sec.gov/Archives/edgar/data/0000789019/000119312506180008/0001193125-06-180008.txt', '0001193125-06-091033': 'https://www.sec.gov/Archives/edgar/data/0000789019/000119312506091033/0001193125-06-091033.txt', '0001193125-06-045107': 'https://www.sec.gov/Archives/edgar/data/0000789019/000119312506045107/0001193125-06-045107.txt', '0001193125-06-012779': 'https://www.sec.gov/Archives/edgar/data/0000789019/000119312506012779/0001193125-06-012779.txt', '0001193125-05-209978': 'https://www.sec.gov/Archives/edgar/data/0000789019/000119312505209978/0001193125-05-209978.txt', '0001193125-05-174825': 'https://www.sec.gov/Archives/edgar/data/0000789019/000119312505174825/0001193125-05-174825.txt', '0001193125-05-088562': 'https://www.sec.gov/Archives/edgar/data/0000789019/000119312505088562/0001193125-05-088562.txt', '0001193125-05-013133': 'https://www.sec.gov/Archives/edgar/data/0000789019/000119312505013133/0001193125-05-013133.txt', '0001193125-04-189841': 'https://www.sec.gov/Archives/edgar/data/0000789019/000119312504189841/0001193125-04-189841.txt', '0001193125-04-150689': 'https://www.sec.gov/Archives/edgar/data/0000789019/000119312504150689/0001193125-04-150689.txt', '0001193125-04-076795': 'https://www.sec.gov/Archives/edgar/data/0000789019/000119312504076795/0001193125-04-076795.txt', '0001193125-04-016249': 'https://www.sec.gov/Archives/edgar/data/0000789019/000119312504016249/0001193125-04-016249.txt', '0001193125-03-080353': 'https://www.sec.gov/Archives/edgar/data/0000789019/000119312503080353/0001193125-03-080353.txt', '0001193125-03-045632': 'https://www.sec.gov/Archives/edgar/data/0000789019/000119312503045632/0001193125-03-045632.txt', '0001032210-03-000809': 'https://www.sec.gov/Archives/edgar/data/0000789019/000103221003000809/0001032210-03-000809.txt', '0001032210-03-000121': 'https://www.sec.gov/Archives/edgar/data/0000789019/000103221003000121/0001032210-03-000121.txt', '0001032210-02-001614': 'https://www.sec.gov/Archives/edgar/data/0000789019/000103221002001614/0001032210-02-001614.txt', '0001032210-02-001351': 'https://www.sec.gov/Archives/edgar/data/0000789019/000103221002001351/0001032210-02-001351.txt', '0001032210-02-000709': 'https://www.sec.gov/Archives/edgar/data/0000789019/000103221002000709/0001032210-02-000709.txt', '0001032210-02-000453': 'https://www.sec.gov/Archives/edgar/data/0000789019/000103221002000453/0001032210-02-000453.txt', '0001032210-02-000454': 'https://www.sec.gov/Archives/edgar/data/0000789019/000103221002000454/0001032210-02-000454.txt', '0001032210-02-000132': 'https://www.sec.gov/Archives/edgar/data/0000789019/000103221002000132/0001032210-02-000132.txt', '0001032210-01-501233': 'https://www.sec.gov/Archives/edgar/data/0000789019/000103221001501233/0001032210-01-501233.txt', '0001032210-01-501099': 'https://www.sec.gov/Archives/edgar/data/0000789019/000103221001501099/0001032210-01-501099.txt', '0001032210-01-500604': 'https://www.sec.gov/Archives/edgar/data/0000789019/000103221001500604/0001032210-01-500604.txt', '0001032210-01-000273': 'https://www.sec.gov/Archives/edgar/data/0000789019/000103221001000273/0001032210-01-000273.txt', '0001032210-00-500038': 'https://www.sec.gov/Archives/edgar/data/0000789019/000103221000500038/0001032210-00-500038.txt', '0001032210-00-001961': 'https://www.sec.gov/Archives/edgar/data/0000789019/000103221000001961/0001032210-00-001961.txt', '0001032210-00-001019': 'https://www.sec.gov/Archives/edgar/data/0000789019/000103221000001019/0001032210-00-001019.txt', '0001032210-00-000218': 'https://www.sec.gov/Archives/edgar/data/0000789019/000103221000000218/0001032210-00-000218.txt', '0001032210-99-001526': 'https://www.sec.gov/Archives/edgar/data/0000789019/000103221099001526/0001032210-99-001526.txt', '0001032210-99-001375': 'https://www.sec.gov/Archives/edgar/data/0000789019/000103221099001375/0001032210-99-001375.txt', '0001032210-99-000791': 'https://www.sec.gov/Archives/edgar/data/0000789019/000103221099000791/0001032210-99-000791.txt', '0001032210-99-000191': 'https://www.sec.gov/Archives/edgar/data/0000789019/000103221099000191/0001032210-99-000191.txt', '0001032210-98-001218': 'https://www.sec.gov/Archives/edgar/data/0000789019/000103221098001218/0001032210-98-001218.txt', '0001032210-98-001067': 'https://www.sec.gov/Archives/edgar/data/0000789019/000103221098001067/0001032210-98-001067.txt', '0001032210-98-000581': 'https://www.sec.gov/Archives/edgar/data/0000789019/000103221098000581/0001032210-98-000581.txt', '0001032210-98-000519': 'https://www.sec.gov/Archives/edgar/data/0000789019/000103221098000519/0001032210-98-000519.txt', '0001032210-98-000171': 'https://www.sec.gov/Archives/edgar/data/0000789019/000103221098000171/0001032210-98-000171.txt', '0000898430-97-004575': 'https://www.sec.gov/Archives/edgar/data/0000789019/000089843097004575/0000898430-97-004575.txt', '0001017062-97-001764': 'https://www.sec.gov/Archives/edgar/data/0000789019/000101706297001764/0001017062-97-001764.txt', '0000891020-97-000879': 'https://www.sec.gov/Archives/edgar/data/0000789019/000089102097000879/0000891020-97-000879.txt', '0000891020-97-000207': 'https://www.sec.gov/Archives/edgar/data/0000789019/000089102097000207/0000891020-97-000207.txt', '0000891020-96-001463': 'https://www.sec.gov/Archives/edgar/data/0000789019/000089102096001463/0000891020-96-001463.txt'}\n"
     ]
    }
   ],
=======
   "metadata": {},
   "outputs": [],
>>>>>>> Universal_Tesla
   "source": [
    "# Dict of Companies -> CIK\n",
    "for name, CIK_list in name_CIK.items():\n",
    "    \n",
    "    for CIK_position, CIK in enumerate(CIK_list):\n",
    "        \n",
    "        # CIK -> A_N \n",
    "        new_dir_url = dir_url.format( CIK )\n",
    "\n",
    "        new_doc_url = doc_url.format(CIKx = CIK, xx='{xx}', yy='{yy}' )\n",
    "\n",
    "        response = requests.get( new_dir_url )\n",
    "        soup = BeautifulSoup( response.content, 'lxml' )\n",
    "        text = soup.get_text( strip=True )\n",
    "\n",
    "        cleaned_text = re.findall( 'Acc-no: \\d+-\\d+-\\d+' , text )\n",
    "\n",
    "        accession_number = [ n.replace('Acc-no: ', '') for n in cleaned_text ]\n",
    "        accessionnumber = [ num.replace('-', '') for num in accession_number ]\n",
    "        \n",
    "        accession_numbers = zip(accessionnumber, accession_number)\n",
    "\n",
    "        for a,b in accession_numbers: \n",
    "            \n",
    "            file_url_list = new_doc_url.format(xx = a, yy = b)\n",
    "\n",
    "            Accession_Number_URL.update({ b : file_url_list})\n",
    "            \n"
   ]
  },
  {
   "cell_type": "code",
   "execution_count": 4,
   "metadata": {
    "scrolled": true
   },
   "outputs": [
    {
     "name": "stdout",
     "output_type": "stream",
     "text": [
      "Accession_Number_URL -  \n",
      " {'0001564590-20-019706': 'https://www.sec.gov/Archives/edgar/data/0000789019/000156459020019706/0001564590-20-019706.txt', '0001564590-20-002450': 'https://www.sec.gov/Archives/edgar/data/0000789019/000156459020002450/0001564590-20-002450.txt', '0001564590-19-037549': 'https://www.sec.gov/Archives/edgar/data/0000789019/000156459019037549/0001564590-19-037549.txt', '0001564590-19-027952': 'https://www.sec.gov/Archives/edgar/data/0000789019/000156459019027952/0001564590-19-027952.txt', '0001564590-19-012709': 'https://www.sec.gov/Archives/edgar/data/0000789019/000156459019012709/0001564590-19-012709.txt', '0001564590-19-001392': 'https://www.sec.gov/Archives/edgar/data/0000789019/000156459019001392/0001564590-19-001392.txt', '0001564590-18-024893': 'https://www.sec.gov/Archives/edgar/data/0000789019/000156459018024893/0001564590-18-024893.txt', '0001564590-18-019062': 'https://www.sec.gov/Archives/edgar/data/0000789019/000156459018019062/0001564590-18-019062.txt', '0001564590-18-009307': 'https://www.sec.gov/Archives/edgar/data/0000789019/000156459018009307/0001564590-18-009307.txt', '0001564590-18-001129': 'https://www.sec.gov/Archives/edgar/data/0000789019/000156459018001129/0001564590-18-001129.txt', '0001564590-17-020171': 'https://www.sec.gov/Archives/edgar/data/0000789019/000156459017020171/0001564590-17-020171.txt', '0001564590-17-014900': 'https://www.sec.gov/Archives/edgar/data/0000789019/000156459017014900/0001564590-17-014900.txt', '0001564590-17-007547': 'https://www.sec.gov/Archives/edgar/data/0000789019/000156459017007547/0001564590-17-007547.txt', '0001564590-17-000654': 'https://www.sec.gov/Archives/edgar/data/0000789019/000156459017000654/0001564590-17-000654.txt', '0001193125-16-742796': 'https://www.sec.gov/Archives/edgar/data/0000789019/000119312516742796/0001193125-16-742796.txt', '0001193125-16-662209': 'https://www.sec.gov/Archives/edgar/data/0000789019/000119312516662209/0001193125-16-662209.txt', '0001193125-16-550254': 'https://www.sec.gov/Archives/edgar/data/0000789019/000119312516550254/0001193125-16-550254.txt', '0001193125-16-441821': 'https://www.sec.gov/Archives/edgar/data/0000789019/000119312516441821/0001193125-16-441821.txt', '0001193125-15-350718': 'https://www.sec.gov/Archives/edgar/data/0000789019/000119312515350718/0001193125-15-350718.txt', '0001193125-15-272806': 'https://www.sec.gov/Archives/edgar/data/0000789019/000119312515272806/0001193125-15-272806.txt', '0001193125-15-144151': 'https://www.sec.gov/Archives/edgar/data/0000789019/000119312515144151/0001193125-15-144151.txt', '0001193125-15-020351': 'https://www.sec.gov/Archives/edgar/data/0000789019/000119312515020351/0001193125-15-020351.txt', '0001193125-14-380252': 'https://www.sec.gov/Archives/edgar/data/0000789019/000119312514380252/0001193125-14-380252.txt', '0001193125-14-289961': 'https://www.sec.gov/Archives/edgar/data/0000789019/000119312514289961/0001193125-14-289961.txt', '0001193125-14-157088': 'https://www.sec.gov/Archives/edgar/data/0000789019/000119312514157088/0001193125-14-157088.txt', '0001193125-14-018634': 'https://www.sec.gov/Archives/edgar/data/0000789019/000119312514018634/0001193125-14-018634.txt', '0001193125-13-409855': 'https://www.sec.gov/Archives/edgar/data/0000789019/000119312513409855/0001193125-13-409855.txt', '0001193125-13-310206': 'https://www.sec.gov/Archives/edgar/data/0000789019/000119312513310206/0001193125-13-310206.txt', '0001193125-13-160748': 'https://www.sec.gov/Archives/edgar/data/0000789019/000119312513160748/0001193125-13-160748.txt', '0001193125-13-022207': 'https://www.sec.gov/Archives/edgar/data/0000789019/000119312513022207/0001193125-13-022207.txt', '0001193125-12-427209': 'https://www.sec.gov/Archives/edgar/data/0000789019/000119312512427209/0001193125-12-427209.txt', '0001193125-12-316848': 'https://www.sec.gov/Archives/edgar/data/0000789019/000119312512316848/0001193125-12-316848.txt', '0001193125-12-170665': 'https://www.sec.gov/Archives/edgar/data/0000789019/000119312512170665/0001193125-12-170665.txt', '0001193125-12-026864': 'https://www.sec.gov/Archives/edgar/data/0000789019/000119312512026864/0001193125-12-026864.txt', '0001193125-12-017029': 'https://www.sec.gov/Archives/edgar/data/0000789019/000119312512017029/0001193125-12-017029.txt', '0001193125-11-276022': 'https://www.sec.gov/Archives/edgar/data/0000789019/000119312511276022/0001193125-11-276022.txt', '0001193125-11-200680': 'https://www.sec.gov/Archives/edgar/data/0000789019/000119312511200680/0001193125-11-200680.txt', '0001193125-11-115186': 'https://www.sec.gov/Archives/edgar/data/0000789019/000119312511115186/0001193125-11-115186.txt', '0001193125-11-015947': 'https://www.sec.gov/Archives/edgar/data/0000789019/000119312511015947/0001193125-11-015947.txt', '0001193125-10-239825': 'https://www.sec.gov/Archives/edgar/data/0000789019/000119312510239825/0001193125-10-239825.txt', '0001193125-10-171791': 'https://www.sec.gov/Archives/edgar/data/0000789019/000119312510171791/0001193125-10-171791.txt', '0001193125-10-090116': 'https://www.sec.gov/Archives/edgar/data/0000789019/000119312510090116/0001193125-10-090116.txt', '0001193125-10-015598': 'https://www.sec.gov/Archives/edgar/data/0000789019/000119312510015598/0001193125-10-015598.txt', '0001193125-09-212454': 'https://www.sec.gov/Archives/edgar/data/0000789019/000119312509212454/0001193125-09-212454.txt', '0001193125-09-158735': 'https://www.sec.gov/Archives/edgar/data/0000789019/000119312509158735/0001193125-09-158735.txt', '0001193125-09-085779': 'https://www.sec.gov/Archives/edgar/data/0000789019/000119312509085779/0001193125-09-085779.txt', '0001193125-09-009386': 'https://www.sec.gov/Archives/edgar/data/0000789019/000119312509009386/0001193125-09-009386.txt', '0001193125-08-215207': 'https://www.sec.gov/Archives/edgar/data/0000789019/000119312508215207/0001193125-08-215207.txt', '0001193125-08-162768': 'https://www.sec.gov/Archives/edgar/data/0000789019/000119312508162768/0001193125-08-162768.txt', '0001193125-08-089362': 'https://www.sec.gov/Archives/edgar/data/0000789019/000119312508089362/0001193125-08-089362.txt', '0001193125-08-011476': 'https://www.sec.gov/Archives/edgar/data/0000789019/000119312508011476/0001193125-08-011476.txt', '0001193125-07-225854': 'https://www.sec.gov/Archives/edgar/data/0000789019/000119312507225854/0001193125-07-225854.txt', '0001193125-07-170817': 'https://www.sec.gov/Archives/edgar/data/0000789019/000119312507170817/0001193125-07-170817.txt', '0001193125-07-091808': 'https://www.sec.gov/Archives/edgar/data/0000789019/000119312507091808/0001193125-07-091808.txt', '0001193125-07-013034': 'https://www.sec.gov/Archives/edgar/data/0000789019/000119312507013034/0001193125-07-013034.txt', '0001193125-06-215912': 'https://www.sec.gov/Archives/edgar/data/0000789019/000119312506215912/0001193125-06-215912.txt', '0001193125-06-180008': 'https://www.sec.gov/Archives/edgar/data/0000789019/000119312506180008/0001193125-06-180008.txt', '0001193125-06-091033': 'https://www.sec.gov/Archives/edgar/data/0000789019/000119312506091033/0001193125-06-091033.txt', '0001193125-06-045107': 'https://www.sec.gov/Archives/edgar/data/0000789019/000119312506045107/0001193125-06-045107.txt', '0001193125-06-012779': 'https://www.sec.gov/Archives/edgar/data/0000789019/000119312506012779/0001193125-06-012779.txt', '0001193125-05-209978': 'https://www.sec.gov/Archives/edgar/data/0000789019/000119312505209978/0001193125-05-209978.txt', '0001193125-05-174825': 'https://www.sec.gov/Archives/edgar/data/0000789019/000119312505174825/0001193125-05-174825.txt', '0001193125-05-088562': 'https://www.sec.gov/Archives/edgar/data/0000789019/000119312505088562/0001193125-05-088562.txt', '0001193125-05-013133': 'https://www.sec.gov/Archives/edgar/data/0000789019/000119312505013133/0001193125-05-013133.txt', '0001193125-04-189841': 'https://www.sec.gov/Archives/edgar/data/0000789019/000119312504189841/0001193125-04-189841.txt', '0001193125-04-150689': 'https://www.sec.gov/Archives/edgar/data/0000789019/000119312504150689/0001193125-04-150689.txt', '0001193125-04-076795': 'https://www.sec.gov/Archives/edgar/data/0000789019/000119312504076795/0001193125-04-076795.txt', '0001193125-04-016249': 'https://www.sec.gov/Archives/edgar/data/0000789019/000119312504016249/0001193125-04-016249.txt', '0001193125-03-080353': 'https://www.sec.gov/Archives/edgar/data/0000789019/000119312503080353/0001193125-03-080353.txt', '0001193125-03-045632': 'https://www.sec.gov/Archives/edgar/data/0000789019/000119312503045632/0001193125-03-045632.txt', '0001032210-03-000809': 'https://www.sec.gov/Archives/edgar/data/0000789019/000103221003000809/0001032210-03-000809.txt', '0001032210-03-000121': 'https://www.sec.gov/Archives/edgar/data/0000789019/000103221003000121/0001032210-03-000121.txt', '0001032210-02-001614': 'https://www.sec.gov/Archives/edgar/data/0000789019/000103221002001614/0001032210-02-001614.txt', '0001032210-02-001351': 'https://www.sec.gov/Archives/edgar/data/0000789019/000103221002001351/0001032210-02-001351.txt', '0001032210-02-000709': 'https://www.sec.gov/Archives/edgar/data/0000789019/000103221002000709/0001032210-02-000709.txt', '0001032210-02-000453': 'https://www.sec.gov/Archives/edgar/data/0000789019/000103221002000453/0001032210-02-000453.txt', '0001032210-02-000454': 'https://www.sec.gov/Archives/edgar/data/0000789019/000103221002000454/0001032210-02-000454.txt', '0001032210-02-000132': 'https://www.sec.gov/Archives/edgar/data/0000789019/000103221002000132/0001032210-02-000132.txt', '0001032210-01-501233': 'https://www.sec.gov/Archives/edgar/data/0000789019/000103221001501233/0001032210-01-501233.txt', '0001032210-01-501099': 'https://www.sec.gov/Archives/edgar/data/0000789019/000103221001501099/0001032210-01-501099.txt', '0001032210-01-500604': 'https://www.sec.gov/Archives/edgar/data/0000789019/000103221001500604/0001032210-01-500604.txt', '0001032210-01-000273': 'https://www.sec.gov/Archives/edgar/data/0000789019/000103221001000273/0001032210-01-000273.txt', '0001032210-00-500038': 'https://www.sec.gov/Archives/edgar/data/0000789019/000103221000500038/0001032210-00-500038.txt', '0001032210-00-001961': 'https://www.sec.gov/Archives/edgar/data/0000789019/000103221000001961/0001032210-00-001961.txt', '0001032210-00-001019': 'https://www.sec.gov/Archives/edgar/data/0000789019/000103221000001019/0001032210-00-001019.txt', '0001032210-00-000218': 'https://www.sec.gov/Archives/edgar/data/0000789019/000103221000000218/0001032210-00-000218.txt', '0001032210-99-001526': 'https://www.sec.gov/Archives/edgar/data/0000789019/000103221099001526/0001032210-99-001526.txt', '0001032210-99-001375': 'https://www.sec.gov/Archives/edgar/data/0000789019/000103221099001375/0001032210-99-001375.txt', '0001032210-99-000791': 'https://www.sec.gov/Archives/edgar/data/0000789019/000103221099000791/0001032210-99-000791.txt', '0001032210-99-000191': 'https://www.sec.gov/Archives/edgar/data/0000789019/000103221099000191/0001032210-99-000191.txt', '0001032210-98-001218': 'https://www.sec.gov/Archives/edgar/data/0000789019/000103221098001218/0001032210-98-001218.txt', '0001032210-98-001067': 'https://www.sec.gov/Archives/edgar/data/0000789019/000103221098001067/0001032210-98-001067.txt', '0001032210-98-000581': 'https://www.sec.gov/Archives/edgar/data/0000789019/000103221098000581/0001032210-98-000581.txt', '0001032210-98-000519': 'https://www.sec.gov/Archives/edgar/data/0000789019/000103221098000519/0001032210-98-000519.txt', '0001032210-98-000171': 'https://www.sec.gov/Archives/edgar/data/0000789019/000103221098000171/0001032210-98-000171.txt', '0000898430-97-004575': 'https://www.sec.gov/Archives/edgar/data/0000789019/000089843097004575/0000898430-97-004575.txt', '0001017062-97-001764': 'https://www.sec.gov/Archives/edgar/data/0000789019/000101706297001764/0001017062-97-001764.txt', '0000891020-97-000879': 'https://www.sec.gov/Archives/edgar/data/0000789019/000089102097000879/0000891020-97-000879.txt', '0000891020-97-000207': 'https://www.sec.gov/Archives/edgar/data/0000789019/000089102097000207/0000891020-97-000207.txt', '0000891020-96-001463': 'https://www.sec.gov/Archives/edgar/data/0000789019/000089102096001463/0000891020-96-001463.txt'}\n"
     ]
    }
   ],
   "source": [
    "print('Accession_Number_URL - ', '\\n', Accession_Number_URL)"
   ]
  },
  {
   "cell_type": "code",
<<<<<<< HEAD
   "execution_count": 15,
   "metadata": {},
=======
   "execution_count": null,
   "metadata": {
    "scrolled": true
   },
>>>>>>> Universal_Tesla
   "outputs": [
    {
     "name": "stdout",
     "output_type": "stream",
     "text": [
      "~~~~~~~~~~~~~~~~~~~~~~~~~~~~~~~~~~~~~~~~~~~~~~~~~~~~~~~~~~~~~~~~~~~~~~~~~~~\n",
<<<<<<< HEAD
=======
      "url -  https://www.sec.gov/Archives/edgar/data/0000789019/000156459020019706/0001564590-20-019706.txt\n",
      "document_id -  10-Q\n",
>>>>>>> Universal_Tesla
      "filename -  msft-10q_20200331.htm \n",
      "\n",
      "page_key -  #BALANCE_SHEETS \n",
      "\n",
<<<<<<< HEAD
      "active_url -  https://www.sec.gov/Archives/edgar/data/0000789019/000156459020019706/msft-10q_20200331.htm#BALANCE_SHEETS\n",
      "~~~~~~~~~~~~~~~~~~~~~~~~~~~~~~~~~~~~~~~~~~~~~~~~~~~~~~~~~~~~~~~~~~~~~~~~~~~\n",
=======
      "~~~~~~~~~~~~~~~~~~~~~~~~~~~~~~~~~~~~~~~~~~~~~~~~~~~~~~~~~~~~~~~~~~~~~~~~~~~\n",
      "url -  https://www.sec.gov/Archives/edgar/data/0000789019/000156459020002450/0001564590-20-002450.txt\n",
      "document_id -  10-Q\n",
>>>>>>> Universal_Tesla
      "filename -  msft-10q_20191231.htm \n",
      "\n",
      "page_key -  #BALANCE_SHEETS \n",
      "\n",
<<<<<<< HEAD
      "active_url -  https://www.sec.gov/Archives/edgar/data/0000789019/000156459020002450/msft-10q_20191231.htm#BALANCE_SHEETS\n",
      "~~~~~~~~~~~~~~~~~~~~~~~~~~~~~~~~~~~~~~~~~~~~~~~~~~~~~~~~~~~~~~~~~~~~~~~~~~~\n",
=======
      "~~~~~~~~~~~~~~~~~~~~~~~~~~~~~~~~~~~~~~~~~~~~~~~~~~~~~~~~~~~~~~~~~~~~~~~~~~~\n",
      "url -  https://www.sec.gov/Archives/edgar/data/0000789019/000156459019037549/0001564590-19-037549.txt\n",
      "document_id -  10-Q\n",
>>>>>>> Universal_Tesla
      "filename -  msft-10q_20190930.htm \n",
      "\n",
      "page_key -  #BALANCE_SHEETS \n",
      "\n",
<<<<<<< HEAD
      "active_url -  https://www.sec.gov/Archives/edgar/data/0000789019/000156459019037549/msft-10q_20190930.htm#BALANCE_SHEETS\n",
      "~~~~~~~~~~~~~~~~~~~~~~~~~~~~~~~~~~~~~~~~~~~~~~~~~~~~~~~~~~~~~~~~~~~~~~~~~~~\n",
=======
      "~~~~~~~~~~~~~~~~~~~~~~~~~~~~~~~~~~~~~~~~~~~~~~~~~~~~~~~~~~~~~~~~~~~~~~~~~~~\n",
      "url -  https://www.sec.gov/Archives/edgar/data/0000789019/000156459019027952/0001564590-19-027952.txt\n",
      "document_id -  10-K\n",
>>>>>>> Universal_Tesla
      "filename -  msft-10k_20190630.htm \n",
      "\n",
      "page_key -  #BALANCE_SHEETS \n",
      "\n",
<<<<<<< HEAD
      "active_url -  https://www.sec.gov/Archives/edgar/data/0000789019/000156459019027952/msft-10k_20190630.htm#BALANCE_SHEETS\n",
      "~~~~~~~~~~~~~~~~~~~~~~~~~~~~~~~~~~~~~~~~~~~~~~~~~~~~~~~~~~~~~~~~~~~~~~~~~~~\n",
=======
      "~~~~~~~~~~~~~~~~~~~~~~~~~~~~~~~~~~~~~~~~~~~~~~~~~~~~~~~~~~~~~~~~~~~~~~~~~~~\n",
      "url -  https://www.sec.gov/Archives/edgar/data/0000789019/000156459019012709/0001564590-19-012709.txt\n",
      "document_id -  10-Q\n",
>>>>>>> Universal_Tesla
      "filename -  msft-10q_20190331.htm \n",
      "\n",
      "page_key -  #BALANCE_SHEETS \n",
      "\n",
<<<<<<< HEAD
      "active_url -  https://www.sec.gov/Archives/edgar/data/0000789019/000156459019012709/msft-10q_20190331.htm#BALANCE_SHEETS\n",
      "~~~~~~~~~~~~~~~~~~~~~~~~~~~~~~~~~~~~~~~~~~~~~~~~~~~~~~~~~~~~~~~~~~~~~~~~~~~\n",
=======
      "~~~~~~~~~~~~~~~~~~~~~~~~~~~~~~~~~~~~~~~~~~~~~~~~~~~~~~~~~~~~~~~~~~~~~~~~~~~\n",
      "url -  https://www.sec.gov/Archives/edgar/data/0000789019/000156459019001392/0001564590-19-001392.txt\n",
      "document_id -  10-Q\n",
>>>>>>> Universal_Tesla
      "filename -  msft-10q_20181231.htm \n",
      "\n",
      "page_key -  #BALANCE_SHEETS \n",
      "\n",
<<<<<<< HEAD
      "active_url -  https://www.sec.gov/Archives/edgar/data/0000789019/000156459019001392/msft-10q_20181231.htm#BALANCE_SHEETS\n",
      "~~~~~~~~~~~~~~~~~~~~~~~~~~~~~~~~~~~~~~~~~~~~~~~~~~~~~~~~~~~~~~~~~~~~~~~~~~~\n",
=======
      "~~~~~~~~~~~~~~~~~~~~~~~~~~~~~~~~~~~~~~~~~~~~~~~~~~~~~~~~~~~~~~~~~~~~~~~~~~~\n",
      "url -  https://www.sec.gov/Archives/edgar/data/0000789019/000156459018024893/0001564590-18-024893.txt\n",
      "document_id -  10-Q\n",
>>>>>>> Universal_Tesla
      "filename -  msft-10q_20180930.htm \n",
      "\n",
      "page_key -  #BALANCE_SHEETS \n",
      "\n",
<<<<<<< HEAD
      "active_url -  https://www.sec.gov/Archives/edgar/data/0000789019/000156459018024893/msft-10q_20180930.htm#BALANCE_SHEETS\n",
      "~~~~~~~~~~~~~~~~~~~~~~~~~~~~~~~~~~~~~~~~~~~~~~~~~~~~~~~~~~~~~~~~~~~~~~~~~~~\n",
=======
      "~~~~~~~~~~~~~~~~~~~~~~~~~~~~~~~~~~~~~~~~~~~~~~~~~~~~~~~~~~~~~~~~~~~~~~~~~~~\n",
      "url -  https://www.sec.gov/Archives/edgar/data/0000789019/000156459018019062/0001564590-18-019062.txt\n",
      "document_id -  10-K\n",
>>>>>>> Universal_Tesla
      "filename -  msft-10k_20180630.htm \n",
      "\n",
      "page_key -  #BALANCE_SHEETS \n",
      "\n",
<<<<<<< HEAD
      "active_url -  https://www.sec.gov/Archives/edgar/data/0000789019/000156459018019062/msft-10k_20180630.htm#BALANCE_SHEETS\n",
      "~~~~~~~~~~~~~~~~~~~~~~~~~~~~~~~~~~~~~~~~~~~~~~~~~~~~~~~~~~~~~~~~~~~~~~~~~~~\n",
=======
      "~~~~~~~~~~~~~~~~~~~~~~~~~~~~~~~~~~~~~~~~~~~~~~~~~~~~~~~~~~~~~~~~~~~~~~~~~~~\n",
      "url -  https://www.sec.gov/Archives/edgar/data/0000789019/000156459018009307/0001564590-18-009307.txt\n",
      "document_id -  10-Q\n",
>>>>>>> Universal_Tesla
      "filename -  msft-10q_20180331.htm \n",
      "\n",
      "page_key -  #BALANCE_SHEETS \n",
      "\n",
<<<<<<< HEAD
      "active_url -  https://www.sec.gov/Archives/edgar/data/0000789019/000156459018009307/msft-10q_20180331.htm#BALANCE_SHEETS\n",
      "~~~~~~~~~~~~~~~~~~~~~~~~~~~~~~~~~~~~~~~~~~~~~~~~~~~~~~~~~~~~~~~~~~~~~~~~~~~\n",
=======
      "~~~~~~~~~~~~~~~~~~~~~~~~~~~~~~~~~~~~~~~~~~~~~~~~~~~~~~~~~~~~~~~~~~~~~~~~~~~\n",
      "url -  https://www.sec.gov/Archives/edgar/data/0000789019/000156459018001129/0001564590-18-001129.txt\n",
      "document_id -  10-Q\n",
>>>>>>> Universal_Tesla
      "filename -  msft-10q_20171231.htm \n",
      "\n",
      "page_key -  #BALANCE_SHEETS \n",
      "\n",
<<<<<<< HEAD
      "active_url -  https://www.sec.gov/Archives/edgar/data/0000789019/000156459018001129/msft-10q_20171231.htm#BALANCE_SHEETS\n",
      "~~~~~~~~~~~~~~~~~~~~~~~~~~~~~~~~~~~~~~~~~~~~~~~~~~~~~~~~~~~~~~~~~~~~~~~~~~~\n",
=======
      "~~~~~~~~~~~~~~~~~~~~~~~~~~~~~~~~~~~~~~~~~~~~~~~~~~~~~~~~~~~~~~~~~~~~~~~~~~~\n",
      "url -  https://www.sec.gov/Archives/edgar/data/0000789019/000156459017020171/0001564590-17-020171.txt\n",
      "document_id -  10-Q\n",
>>>>>>> Universal_Tesla
      "filename -  msft-10q_20170930.htm \n",
      "\n",
      "page_key -  #BALANCE_SHEETS \n",
      "\n",
<<<<<<< HEAD
      "active_url -  https://www.sec.gov/Archives/edgar/data/0000789019/000156459017020171/msft-10q_20170930.htm#BALANCE_SHEETS\n",
      "~~~~~~~~~~~~~~~~~~~~~~~~~~~~~~~~~~~~~~~~~~~~~~~~~~~~~~~~~~~~~~~~~~~~~~~~~~~\n",
=======
      "~~~~~~~~~~~~~~~~~~~~~~~~~~~~~~~~~~~~~~~~~~~~~~~~~~~~~~~~~~~~~~~~~~~~~~~~~~~\n",
      "url -  https://www.sec.gov/Archives/edgar/data/0000789019/000156459017014900/0001564590-17-014900.txt\n",
      "document_id -  10-K\n",
>>>>>>> Universal_Tesla
      "filename -  msft-10k_20170630.htm \n",
      "\n",
      "page_key -  #BALANCE_SHEETS \n",
      "\n",
<<<<<<< HEAD
      "active_url -  https://www.sec.gov/Archives/edgar/data/0000789019/000156459017014900/msft-10k_20170630.htm#BALANCE_SHEETS\n",
      "~~~~~~~~~~~~~~~~~~~~~~~~~~~~~~~~~~~~~~~~~~~~~~~~~~~~~~~~~~~~~~~~~~~~~~~~~~~\n",
=======
      "~~~~~~~~~~~~~~~~~~~~~~~~~~~~~~~~~~~~~~~~~~~~~~~~~~~~~~~~~~~~~~~~~~~~~~~~~~~\n",
      "url -  https://www.sec.gov/Archives/edgar/data/0000789019/000156459017007547/0001564590-17-007547.txt\n",
      "document_id -  10-Q\n",
>>>>>>> Universal_Tesla
      "filename -  msft-10q_20170331.htm \n",
      "\n",
      "page_key -  #BALANCE_SHEETS \n",
      "\n",
<<<<<<< HEAD
      "active_url -  https://www.sec.gov/Archives/edgar/data/0000789019/000156459017007547/msft-10q_20170331.htm#BALANCE_SHEETS\n",
      "~~~~~~~~~~~~~~~~~~~~~~~~~~~~~~~~~~~~~~~~~~~~~~~~~~~~~~~~~~~~~~~~~~~~~~~~~~~\n",
=======
      "~~~~~~~~~~~~~~~~~~~~~~~~~~~~~~~~~~~~~~~~~~~~~~~~~~~~~~~~~~~~~~~~~~~~~~~~~~~\n",
      "url -  https://www.sec.gov/Archives/edgar/data/0000789019/000156459017000654/0001564590-17-000654.txt\n",
      "document_id -  10-Q\n",
>>>>>>> Universal_Tesla
      "filename -  msft-10q_20161231.htm \n",
      "\n",
      "page_key -  #BALANCE_SHEETS \n",
      "\n",
<<<<<<< HEAD
      "active_url -  https://www.sec.gov/Archives/edgar/data/0000789019/000156459017000654/msft-10q_20161231.htm#BALANCE_SHEETS\n",
      "~~~~~~~~~~~~~~~~~~~~~~~~~~~~~~~~~~~~~~~~~~~~~~~~~~~~~~~~~~~~~~~~~~~~~~~~~~~\n",
=======
      "~~~~~~~~~~~~~~~~~~~~~~~~~~~~~~~~~~~~~~~~~~~~~~~~~~~~~~~~~~~~~~~~~~~~~~~~~~~\n",
      "url -  https://www.sec.gov/Archives/edgar/data/0000789019/000119312516742796/0001193125-16-742796.txt\n",
      "document_id -  10-Q\n",
>>>>>>> Universal_Tesla
      "filename -  d245252d10q.htm \n",
      "\n",
      "page_key -  #tx245252_5 \n",
      "\n",
<<<<<<< HEAD
      "active_url -  https://www.sec.gov/Archives/edgar/data/0000789019/000119312516742796/d245252d10q.htm#tx245252_5\n",
      "~~~~~~~~~~~~~~~~~~~~~~~~~~~~~~~~~~~~~~~~~~~~~~~~~~~~~~~~~~~~~~~~~~~~~~~~~~~\n",
=======
      "~~~~~~~~~~~~~~~~~~~~~~~~~~~~~~~~~~~~~~~~~~~~~~~~~~~~~~~~~~~~~~~~~~~~~~~~~~~\n",
      "url -  https://www.sec.gov/Archives/edgar/data/0000789019/000119312516662209/0001193125-16-662209.txt\n",
      "document_id -  10-K\n",
>>>>>>> Universal_Tesla
      "filename -  d187868d10k.htm \n",
      "\n",
      "page_key -  #tx187868_27 \n",
      "\n",
<<<<<<< HEAD
      "active_url -  https://www.sec.gov/Archives/edgar/data/0000789019/000119312516662209/d187868d10k.htm#tx187868_27\n",
      "~~~~~~~~~~~~~~~~~~~~~~~~~~~~~~~~~~~~~~~~~~~~~~~~~~~~~~~~~~~~~~~~~~~~~~~~~~~\n",
=======
      "~~~~~~~~~~~~~~~~~~~~~~~~~~~~~~~~~~~~~~~~~~~~~~~~~~~~~~~~~~~~~~~~~~~~~~~~~~~\n",
      "url -  https://www.sec.gov/Archives/edgar/data/0000789019/000119312516550254/0001193125-16-550254.txt\n",
      "document_id -  10-Q\n",
>>>>>>> Universal_Tesla
      "filename -  d256147d10q.htm \n",
      "\n",
      "page_key -  #tx256147_5 \n",
      "\n",
<<<<<<< HEAD
      "active_url -  https://www.sec.gov/Archives/edgar/data/0000789019/000119312516550254/d256147d10q.htm#tx256147_5\n",
      "~~~~~~~~~~~~~~~~~~~~~~~~~~~~~~~~~~~~~~~~~~~~~~~~~~~~~~~~~~~~~~~~~~~~~~~~~~~\n",
=======
      "~~~~~~~~~~~~~~~~~~~~~~~~~~~~~~~~~~~~~~~~~~~~~~~~~~~~~~~~~~~~~~~~~~~~~~~~~~~\n",
      "url -  https://www.sec.gov/Archives/edgar/data/0000789019/000119312516441821/0001193125-16-441821.txt\n",
      "document_id -  10-Q\n",
>>>>>>> Universal_Tesla
      "filename -  d15167d10q.htm \n",
      "\n",
      "page_key -  #tx15167_5 \n",
      "\n",
<<<<<<< HEAD
      "active_url -  https://www.sec.gov/Archives/edgar/data/0000789019/000119312516441821/d15167d10q.htm#tx15167_5\n",
      "~~~~~~~~~~~~~~~~~~~~~~~~~~~~~~~~~~~~~~~~~~~~~~~~~~~~~~~~~~~~~~~~~~~~~~~~~~~\n",
=======
      "~~~~~~~~~~~~~~~~~~~~~~~~~~~~~~~~~~~~~~~~~~~~~~~~~~~~~~~~~~~~~~~~~~~~~~~~~~~\n",
      "url -  https://www.sec.gov/Archives/edgar/data/0000789019/000119312515350718/0001193125-15-350718.txt\n",
      "document_id -  10-Q\n",
>>>>>>> Universal_Tesla
      "filename -  d83804d10q.htm \n",
      "\n",
      "page_key -  #tx83804_5 \n",
      "\n",
<<<<<<< HEAD
      "active_url -  https://www.sec.gov/Archives/edgar/data/0000789019/000119312515350718/d83804d10q.htm#tx83804_5\n",
      "~~~~~~~~~~~~~~~~~~~~~~~~~~~~~~~~~~~~~~~~~~~~~~~~~~~~~~~~~~~~~~~~~~~~~~~~~~~\n",
=======
      "~~~~~~~~~~~~~~~~~~~~~~~~~~~~~~~~~~~~~~~~~~~~~~~~~~~~~~~~~~~~~~~~~~~~~~~~~~~\n",
      "url -  https://www.sec.gov/Archives/edgar/data/0000789019/000119312515272806/0001193125-15-272806.txt\n",
      "document_id -  10-K\n",
>>>>>>> Universal_Tesla
      "filename -  d918813d10k.htm \n",
      "\n",
      "page_key -  #tx918813_32 \n",
      "\n",
<<<<<<< HEAD
      "active_url -  https://www.sec.gov/Archives/edgar/data/0000789019/000119312515272806/d918813d10k.htm#tx918813_32\n",
      "~~~~~~~~~~~~~~~~~~~~~~~~~~~~~~~~~~~~~~~~~~~~~~~~~~~~~~~~~~~~~~~~~~~~~~~~~~~\n",
=======
      "~~~~~~~~~~~~~~~~~~~~~~~~~~~~~~~~~~~~~~~~~~~~~~~~~~~~~~~~~~~~~~~~~~~~~~~~~~~\n",
      "url -  https://www.sec.gov/Archives/edgar/data/0000789019/000119312515144151/0001193125-15-144151.txt\n",
      "document_id -  10-Q\n",
>>>>>>> Universal_Tesla
      "filename -  d860721d10q.htm \n",
      "\n",
      "page_key -  #tx860721_5 \n",
      "\n",
<<<<<<< HEAD
      "active_url -  https://www.sec.gov/Archives/edgar/data/0000789019/000119312515144151/d860721d10q.htm#tx860721_5\n",
      "~~~~~~~~~~~~~~~~~~~~~~~~~~~~~~~~~~~~~~~~~~~~~~~~~~~~~~~~~~~~~~~~~~~~~~~~~~~\n",
=======
      "~~~~~~~~~~~~~~~~~~~~~~~~~~~~~~~~~~~~~~~~~~~~~~~~~~~~~~~~~~~~~~~~~~~~~~~~~~~\n",
      "url -  https://www.sec.gov/Archives/edgar/data/0000789019/000119312515020351/0001193125-15-020351.txt\n",
      "document_id -  10-Q\n",
>>>>>>> Universal_Tesla
      "filename -  d827041d10q.htm \n",
      "\n",
      "page_key -  #tx827041_5 \n",
      "\n",
<<<<<<< HEAD
      "active_url -  https://www.sec.gov/Archives/edgar/data/0000789019/000119312515020351/d827041d10q.htm#tx827041_5\n",
      "~~~~~~~~~~~~~~~~~~~~~~~~~~~~~~~~~~~~~~~~~~~~~~~~~~~~~~~~~~~~~~~~~~~~~~~~~~~\n",
=======
      "~~~~~~~~~~~~~~~~~~~~~~~~~~~~~~~~~~~~~~~~~~~~~~~~~~~~~~~~~~~~~~~~~~~~~~~~~~~\n",
      "url -  https://www.sec.gov/Archives/edgar/data/0000789019/000119312514380252/0001193125-14-380252.txt\n",
      "document_id -  10-Q\n",
>>>>>>> Universal_Tesla
      "filename -  d770268d10q.htm \n",
      "\n",
      "page_key -  #tx770268_5 \n",
      "\n",
<<<<<<< HEAD
      "active_url -  https://www.sec.gov/Archives/edgar/data/0000789019/000119312514380252/d770268d10q.htm#tx770268_5\n",
      "~~~~~~~~~~~~~~~~~~~~~~~~~~~~~~~~~~~~~~~~~~~~~~~~~~~~~~~~~~~~~~~~~~~~~~~~~~~\n",
=======
      "~~~~~~~~~~~~~~~~~~~~~~~~~~~~~~~~~~~~~~~~~~~~~~~~~~~~~~~~~~~~~~~~~~~~~~~~~~~\n",
      "url -  https://www.sec.gov/Archives/edgar/data/0000789019/000119312514289961/0001193125-14-289961.txt\n",
      "document_id -  10-K\n",
>>>>>>> Universal_Tesla
      "filename -  d722626d10k.htm \n",
      "\n",
      "page_key -  #tx722626_27 \n",
      "\n",
<<<<<<< HEAD
      "active_url -  https://www.sec.gov/Archives/edgar/data/0000789019/000119312514289961/d722626d10k.htm#tx722626_27\n",
      "~~~~~~~~~~~~~~~~~~~~~~~~~~~~~~~~~~~~~~~~~~~~~~~~~~~~~~~~~~~~~~~~~~~~~~~~~~~\n",
=======
      "~~~~~~~~~~~~~~~~~~~~~~~~~~~~~~~~~~~~~~~~~~~~~~~~~~~~~~~~~~~~~~~~~~~~~~~~~~~\n",
      "url -  https://www.sec.gov/Archives/edgar/data/0000789019/000119312514157088/0001193125-14-157088.txt\n",
      "document_id -  10-Q\n",
>>>>>>> Universal_Tesla
      "filename -  d695543d10q.htm \n",
      "\n",
      "page_key -  #tx695543_5 \n",
      "\n",
<<<<<<< HEAD
      "active_url -  https://www.sec.gov/Archives/edgar/data/0000789019/000119312514157088/d695543d10q.htm#tx695543_5\n",
      "~~~~~~~~~~~~~~~~~~~~~~~~~~~~~~~~~~~~~~~~~~~~~~~~~~~~~~~~~~~~~~~~~~~~~~~~~~~\n",
      "filename -  d635047d10q.htm \n",
      "\n",
      "page_key -  #tx635047_5 \n",
      "\n",
      "active_url -  https://www.sec.gov/Archives/edgar/data/0000789019/000119312514018634/d635047d10q.htm#tx635047_5\n",
      "~~~~~~~~~~~~~~~~~~~~~~~~~~~~~~~~~~~~~~~~~~~~~~~~~~~~~~~~~~~~~~~~~~~~~~~~~~~\n",
=======
      "~~~~~~~~~~~~~~~~~~~~~~~~~~~~~~~~~~~~~~~~~~~~~~~~~~~~~~~~~~~~~~~~~~~~~~~~~~~\n",
      "url -  https://www.sec.gov/Archives/edgar/data/0000789019/000119312514018634/0001193125-14-018634.txt\n",
      "Look at: \n",
      "0001193125-14-018634 - https://www.sec.gov/Archives/edgar/data/0000789019/000119312514018634/0001193125-14-018634.txt\n",
      "document_id -  10-Q\n",
      "filename -  d695543d10q.htm \n",
      "\n",
      "page_key -  #tx695543_5 \n",
      "\n",
      "~~~~~~~~~~~~~~~~~~~~~~~~~~~~~~~~~~~~~~~~~~~~~~~~~~~~~~~~~~~~~~~~~~~~~~~~~~~\n",
      "url -  https://www.sec.gov/Archives/edgar/data/0000789019/000119312513409855/0001193125-13-409855.txt\n",
      "document_id -  10-Q\n",
>>>>>>> Universal_Tesla
      "filename -  d594455d10q.htm \n",
      "\n",
      "page_key -  #tx594455_5 \n",
      "\n",
<<<<<<< HEAD
      "active_url -  https://www.sec.gov/Archives/edgar/data/0000789019/000119312513409855/d594455d10q.htm#tx594455_5\n",
      "~~~~~~~~~~~~~~~~~~~~~~~~~~~~~~~~~~~~~~~~~~~~~~~~~~~~~~~~~~~~~~~~~~~~~~~~~~~\n",
=======
      "~~~~~~~~~~~~~~~~~~~~~~~~~~~~~~~~~~~~~~~~~~~~~~~~~~~~~~~~~~~~~~~~~~~~~~~~~~~\n",
      "url -  https://www.sec.gov/Archives/edgar/data/0000789019/000119312513310206/0001193125-13-310206.txt\n",
      "document_id -  10-K\n",
>>>>>>> Universal_Tesla
      "filename -  d527745d10k.htm \n",
      "\n",
      "page_key -  #tx527745_102 \n",
      "\n",
<<<<<<< HEAD
      "active_url -  https://www.sec.gov/Archives/edgar/data/0000789019/000119312513310206/d527745d10k.htm#tx527745_102\n",
      "~~~~~~~~~~~~~~~~~~~~~~~~~~~~~~~~~~~~~~~~~~~~~~~~~~~~~~~~~~~~~~~~~~~~~~~~~~~\n",
=======
      "~~~~~~~~~~~~~~~~~~~~~~~~~~~~~~~~~~~~~~~~~~~~~~~~~~~~~~~~~~~~~~~~~~~~~~~~~~~\n",
      "url -  https://www.sec.gov/Archives/edgar/data/0000789019/000119312513160748/0001193125-13-160748.txt\n",
      "document_id -  10-Q\n",
>>>>>>> Universal_Tesla
      "filename -  d497226d10q.htm \n",
      "\n",
      "page_key -  #tx497226_5 \n",
      "\n",
<<<<<<< HEAD
      "active_url -  https://www.sec.gov/Archives/edgar/data/0000789019/000119312513160748/d497226d10q.htm#tx497226_5\n",
      "~~~~~~~~~~~~~~~~~~~~~~~~~~~~~~~~~~~~~~~~~~~~~~~~~~~~~~~~~~~~~~~~~~~~~~~~~~~\n",
=======
      "~~~~~~~~~~~~~~~~~~~~~~~~~~~~~~~~~~~~~~~~~~~~~~~~~~~~~~~~~~~~~~~~~~~~~~~~~~~\n",
      "url -  https://www.sec.gov/Archives/edgar/data/0000789019/000119312513022207/0001193125-13-022207.txt\n",
      "document_id -  10-Q\n",
>>>>>>> Universal_Tesla
      "filename -  d453668d10q.htm \n",
      "\n",
      "page_key -  #tx453668_5 \n",
      "\n",
<<<<<<< HEAD
      "active_url -  https://www.sec.gov/Archives/edgar/data/0000789019/000119312513022207/d453668d10q.htm#tx453668_5\n"
=======
      "~~~~~~~~~~~~~~~~~~~~~~~~~~~~~~~~~~~~~~~~~~~~~~~~~~~~~~~~~~~~~~~~~~~~~~~~~~~\n",
      "url -  https://www.sec.gov/Archives/edgar/data/0000789019/000119312512427209/0001193125-12-427209.txt\n",
      "document_id -  10-Q\n",
      "filename -  d406056d10q.htm \n",
      "\n",
      "page_key -  #tx406056_5 \n",
      "\n",
      "~~~~~~~~~~~~~~~~~~~~~~~~~~~~~~~~~~~~~~~~~~~~~~~~~~~~~~~~~~~~~~~~~~~~~~~~~~~\n",
      "url -  https://www.sec.gov/Archives/edgar/data/0000789019/000119312512316848/0001193125-12-316848.txt\n"
     ]
    },
    {
     "name": "stdout",
     "output_type": "stream",
     "text": [
      "document_id -  10-K\n",
      "filename -  d347676d10k.htm \n",
      "\n",
      "page_key -  #tx347676_27 \n",
      "\n",
      "~~~~~~~~~~~~~~~~~~~~~~~~~~~~~~~~~~~~~~~~~~~~~~~~~~~~~~~~~~~~~~~~~~~~~~~~~~~\n",
      "url -  https://www.sec.gov/Archives/edgar/data/0000789019/000119312512170665/0001193125-12-170665.txt\n",
      "document_id -  10-Q\n",
      "filename -  d313493d10q.htm \n",
      "\n",
      "page_key -  #tx313493_4 \n",
      "\n",
      "~~~~~~~~~~~~~~~~~~~~~~~~~~~~~~~~~~~~~~~~~~~~~~~~~~~~~~~~~~~~~~~~~~~~~~~~~~~\n",
      "url -  https://www.sec.gov/Archives/edgar/data/0000789019/000119312512026864/0001193125-12-026864.txt\n",
      "document_id -  10-Q/A\n",
      "~~~~~~~~~~~~~~~~~~~~~~~~~~~~~~~~~~~~~~~~~~~~~~~~~~~~~~~~~~~~~~~~~~~~~~~~~~~\n",
      "url -  https://www.sec.gov/Archives/edgar/data/0000789019/000119312512017029/0001193125-12-017029.txt\n",
      "document_id -  10-Q\n",
      "filename -  d266753d10q.htm \n",
      "\n",
      "page_key -  #tx266753_2 \n",
      "\n",
      "~~~~~~~~~~~~~~~~~~~~~~~~~~~~~~~~~~~~~~~~~~~~~~~~~~~~~~~~~~~~~~~~~~~~~~~~~~~\n",
      "url -  https://www.sec.gov/Archives/edgar/data/0000789019/000119312511276022/0001193125-11-276022.txt\n",
      "document_id -  10-Q\n",
      "filename -  d230161d10q.htm \n",
      "\n",
      "page_key -  #tx230161_4 \n",
      "\n",
      "~~~~~~~~~~~~~~~~~~~~~~~~~~~~~~~~~~~~~~~~~~~~~~~~~~~~~~~~~~~~~~~~~~~~~~~~~~~\n",
      "url -  https://www.sec.gov/Archives/edgar/data/0000789019/000119312511200680/0001193125-11-200680.txt\n"
>>>>>>> Universal_Tesla
     ]
    }
   ],
   "source": [
    "AN_Active = {}\n",
<<<<<<< HEAD
    "# Get filename, method 3, use htm.# anchor to jump to Balnce sheet.\n",
    "for AN, url in Accession_Number_URL.items():\n",
    "    \n",
    "    # Break is needed to limit lower bound, either \n",
    "    # pre-2016 = 0001193125-12-170665 (if excludes -12-170665 ) or \n",
    "    # post-16 = 0001193125-16-742796 (x > 16, excludes 16)\n",
    "    \n",
    "    # if statement takes in Acc-Num format: xx-xxx-xx\n",
    "    if AN == '0001193125-12-170665':\n",
    "        break\n",
    "        \n",
    "    if int( AN.split( sep='-' )[1] ) > 12:\n",
    "        print('~'*75)\n",
    "        r = requests.get(url)\n",
    "        \n",
    "        try: \n",
    "            soup = BeautifulSoup(r.content, \"html\")\n",
    "            \n",
    "        except:\n",
    "            print('Look at: ')\n",
    "            print( '{} - {}'.format(AN, url))\n",
    "            \n",
    "        # 1.0\n",
    "        AccessionNumber = AN.replace('-', '')\n",
    "        \n",
    "        # 2.1 part of table website.\n",
    "        filename = str(soup.find('filename').contents[0]).replace('\\n', '')\n",
    "        print('filename - ', filename, '\\n')\n",
    "        \n",
    "        # 2.2 Anchor page_key.\n",
    "        hr_tag = soup.findAll('a', href=True)\n",
    "        page_key = str( [table.get('href') for table in hr_tag if 'Balance Sheets' in table.get_text()][0])\n",
    "        print('page_key - ', page_key, '\\n')\n",
    "        \n",
    "        KEY = filename + page_key\n",
    "        \n",
    "        active_url = new_doc_url.format( xx = AccessionNumber, yy = KEY ).replace('.txt', '')\n",
    "\n",
    "        print('active_url - ', active_url)\n",
    "        \n",
    "        # Key for 2016 onwards is the same, will overwrite the keys() in AN_Active. \n",
    "        AN_Active.update({ AN : [ page_key , active_url ] } )\n",
    "\n",
    "    else:\n",
    "        continue\n",
    "    "
=======
    "\n",
    "# Get filename, method 3, use htm.# anchor to jump to Balnce sheet.\n",
    "for AN, url in Accession_Number_URL.items():\n",
    "    \n",
    "    year = int( AN.split( sep='-' )[1] )\n",
    "    \n",
    "    # Setting limits.\n",
    "    lower_limit = 8\n",
    "    upper_limit = 21\n",
    "    if lower_limit < year < upper_limit:\n",
    "        print('~'*75)\n",
    "        print('url - ', url)\n",
    "        \n",
    "        r = requests.get(url)\n",
    "\n",
    "        try: \n",
    "            soup = BeautifulSoup(r.content, \"html\")\n",
    "\n",
    "        except:\n",
    "            print('Look at: ')\n",
    "            print( '{} - {}'.format(AN, url))\n",
    "\n",
    "        filing_document = soup.find('document')\n",
    "        document_id = filing_document.type.find(text=True, recursive=False).strip()\n",
    "        print('document_id - ', document_id)\n",
    "\n",
    "        if document_id == '10-Q' or document_id == '10-K':\n",
    "\n",
    "            # 1.0\n",
    "            AccessionNumber = AN.replace('-', '')\n",
    "\n",
    "            # 2.1 part of table website.\n",
    "            filename = str(soup.find('filename').contents[0]).replace('\\n', '')\n",
    "            print('filename - ', filename, '\\n')\n",
    "\n",
    "            # 2.2 Anchor page_key.\n",
    "            hr_tag = soup.findAll('a', href=True)\n",
    "            page_key = str( [table.get('href') for table in hr_tag if 'Balance' in table.get_text()][0])\n",
    "            print('page_key - ', page_key, '\\n')\n",
    "\n",
    "            KEY = filename + page_key\n",
    "\n",
    "            active_url = new_doc_url.format( xx = AccessionNumber, yy = KEY ).replace('.txt', '')\n",
    "\n",
    "    #         print('active_url - ', active_url)\n",
    "\n",
    "            # Key for 2016 onwards is the same, will overwrite the keys() in AN_Active. \n",
    "            AN_Active.update({ AN : [ page_key , url ] } )\n",
    "\n",
    "        else:\n",
    "            continue"
   ]
  },
  {
   "cell_type": "code",
   "execution_count": 6,
   "metadata": {
    "scrolled": true
   },
   "outputs": [
    {
     "name": "stdout",
     "output_type": "stream",
     "text": [
      "number of files not caputured: 54\n",
      "\n",
      "problem_files: \n",
      " ['0001193125-12-026864'] \n",
      "\n"
     ]
    }
   ],
   "source": [
    "remaining_files_num  = len(Accession_Number_URL) - len(AN_Active)\n",
    "print(f'number of files not caputured: {remaining_files_num}\\n')\n",
    "\n",
    "today = datetime.datetime.today()\n",
    "next_year = int(today.strftime('%y'))+1\n",
    "\n",
    "problem_files = list((set([AN for AN in Accession_Number_URL.keys() if  10 < int(AN.split(sep= '-')[1]) < next_year]) - set(AN_Active.keys()) ))\n",
    "print('problem_files: \\n', problem_files,'\\n')"
>>>>>>> Universal_Tesla
   ]
  },
  {
   "cell_type": "markdown",
   "metadata": {},
   "source": [
    "## Cleaning Column Names "
   ]
  },
  {
   "cell_type": "code",
<<<<<<< HEAD
   "execution_count": 4,
=======
   "execution_count": 7,
>>>>>>> Universal_Tesla
   "metadata": {},
   "outputs": [],
   "source": [
    "month_dict = {'December' : 'Q4',\n",
    "              'November' : 'Q4',\n",
    "             'October' : 'Q4',\n",
    "             'September' : 'Q3',\n",
    "             'August': 'Q3',\n",
    "             'July' : 'Q3',\n",
    "             'June' : 'Q2',\n",
    "             'May' : 'Q2',\n",
    "             'April' : 'Q2',\n",
    "             'March' : 'Q1',\n",
    "             'Feburary' : 'Q1',\n",
    "             'January' : 'Q1'}"
   ]
  },
  {
   "cell_type": "code",
<<<<<<< HEAD
   "execution_count": 5,
=======
   "execution_count": 8,
>>>>>>> Universal_Tesla
   "metadata": {},
   "outputs": [],
   "source": [
    "col_name_variants = {\n",
    "    'Inventor' : 'Inventory',\n",
    "    'Total liabilities and' : 'Total liabilities and equity',\n",
    "    'Common stock.*' : 'Common Stock',\n",
    "    'Preferred stock.*': 'Preferred Stock',\n",
    "    'Accounts receivable.*' : 'Accounts Receivable',\n",
    "    'Accrued liabilities.*' : 'Accrued Liabilities',\n",
    "    'Deferred revenue.*' : 'Deferred Revenue',\n",
    "    'Redeemable noncontrolling interests in subsidiaries.*' : 'Noncontrolling interests in subsidiaries',\n",
    "    'Short term investments.*' : 'Short term investments', \n",
    "    'Property|equipment.' : 'Property and Equipment',\n",
    "    'Retained earnings.*' : 'Retained Earnings',\n",
    "    'stockholders.*' : 'Shareholder Equity',\n",
    "    '^Cash.*' : 'Cash',\n",
    "    'Convertible senior notes.*' : 'Convertible Senior Notes'\n",
    "}"
   ]
  },
  {
   "cell_type": "code",
<<<<<<< HEAD
   "execution_count": 6,
=======
   "execution_count": 9,
>>>>>>> Universal_Tesla
   "metadata": {},
   "outputs": [],
   "source": [
    "def clean_col_name( name ):\n",
    "    \n",
    "    for detect, replacement in col_name_variants.items():\n",
    "\n",
    "        if re.findall(detect, name, flags=re.I):\n",
    "\n",
    "            n_column = name.replace(name, replacement) \n",
    "\n",
    "            return n_column \n",
    "            \n",
    "    return name"
   ]
  },
  {
   "cell_type": "markdown",
   "metadata": {},
   "source": [
    "## Cleaning Data in Table"
   ]
  },
  {
   "cell_type": "code",
<<<<<<< HEAD
   "execution_count": 7,
=======
   "execution_count": 10,
>>>>>>> Universal_Tesla
   "metadata": {},
   "outputs": [],
   "source": [
    "# Throw column list-like object into cleaning function. \n",
    "def cleaning_column(r_column, m):\n",
    "     \n",
    "    column_list = []\n",
    "    column_name = []\n",
    "    \n",
    "    for element_post, element in enumerate(r_column):\n",
    "        \n",
    "        # Handling the first \"row\" in the table i.e. column name.\n",
    "        if element_post == 0:\n",
    "#             print(element)\n",
    "            ele_norm = unicodedata.normalize('NFKD', element)\n",
    "            \n",
    "            ele_norm = ele_norm.replace('net', '')\n",
    "            \n",
    "            ele_norm = ele_norm.replace( '-', ' ')\n",
    "            \n",
    "            s_ele_norm = re.sub(r\"^\\s+|\\s+$\", \"\", ele_norm)\n",
    "            \n",
    "            name = re.sub(r'(?=,|:|\\.|\\(){1}.*', repl='', string= s_ele_norm, flags=re.I)\n",
    "            \n",
    "            # clean_col_name function Choose old_if or new_dict\n",
    "            clean_name = clean_col_name( name )\n",
    "            ###\n",
    "            column_name.append(clean_name)\n",
    "            ###\n",
    "            column_list.append(clean_name)\n",
    "        \n",
    "        # Handling the all the remaining \"rows\" in the table i.e. data/numbers.\n",
    "        elif element not in ['\\n$', '\\n\\xa0', '\\n']:\n",
    "                        \n",
    "            n_element = element.replace( ',', '' )\n",
    "\n",
    "            pattern = re.compile(r'[\\d]+,[\\d]+|[\\d]+')\n",
    "\n",
    "            res = pattern.findall(n_element)\n",
    "\n",
    "            res = [int(ele) * m for ele in res]\n",
    "\n",
    "            column_list.extend(res)\n",
    "\n",
    "    return column_list\n",
    "    "
   ]
  },
  {
   "cell_type": "code",
<<<<<<< HEAD
   "execution_count": 8,
=======
   "execution_count": 11,
>>>>>>> Universal_Tesla
   "metadata": {},
   "outputs": [],
   "source": [
    "# New and imporved.\n",
    "def Quarter( column ):\n",
    "    \n",
    "#     print('column used for quarter', column)\n",
    "    \n",
    "    multi_list = [element.split() for element in column if element.split() != []]\n",
    "#     print('multi_list', multi_list)\n",
    "    new_column = [item for sublist in multi_list for item in sublist]\n",
    "#     print('new_column used for year', new_column)\n",
    "    \n",
    "    Q = []\n",
    "    Y = []\n",
    "    \n",
    "    for letter in column:\n",
    "#         print('letter', letter)\n",
    "        try:\n",
    "            month = re.findall(r'\\w{}+'.format(list(month_dict.keys())), letter.replace(' ',  '') )[0]\n",
    "            \n",
    "            Q_num = month_dict[month] \n",
    "    #         print('Q_num' , Q_num)\n",
    "    \n",
    "            if Q_num != []:\n",
    "                Q.append(Q_num)\n",
    "                \n",
    "        except:\n",
    "            continue\n",
    "    #         print('~'*20)\n",
    "        \n",
    "#     print('Q' , Q) \n",
    "#     Q_final = Q[0] \n",
    "#     print('Q_final' , Q_final)\n",
    "    \n",
    "    Q_final =['Quarter'] + Q[:1]\n",
    "    \n",
    "    \n",
    "    for letter in new_column:   \n",
    "        \n",
    "        #print( letter.split(',') )\n",
    "        \n",
    "        Year = [re.compile(r'^[0-9]{4}$').findall(p_s_ele_norm) for p_s_ele_norm in letter.split(',') if re.compile(r'^[0-9]{4}$').findall(p_s_ele_norm) != []]\n",
    "        Y.append(Year)\n",
    "#     print(f'Y - {Y}')\n",
    "    Y = [item for sublist in Y for item in sublist][0]\n",
    "    \n",
    "    Y.insert(0, 'Year')\n",
    "    #Y.insert(1, 0)\n",
    "    #Y.insert(1, 0)\n",
    "    return Q_final, Y\n",
    "    print( '\\n', 'Q_final', Q_final, 'Y', Y)"
   ]
  },
  {
   "cell_type": "markdown",
   "metadata": {},
   "source": [
    "# Recursive solution to finding tables and specific text in HTML."
   ]
  },
  {
   "cell_type": "markdown",
   "metadata": {},
   "source": [
    "## Looking for \"millions\" or \"thousands\", ie multiplier"
   ]
  },
  {
   "cell_type": "code",
<<<<<<< HEAD
   "execution_count": 9,
=======
   "execution_count": 12,
>>>>>>> Universal_Tesla
   "metadata": {},
   "outputs": [],
   "source": [
    "# Multiplier finder.\n",
    "def finding_m(current_sibling, nex_sibling=0):\n",
    "    \n",
    "    global multiplier\n",
    "#     print(f'current_sibling - {current_sibling}')\n",
    "\n",
    "    \n",
    "    # Base Case\n",
    "    if search(r'thousand', current_sibling.text, flags=re.I):\n",
    "        multiplier = 10**3\n",
    "#         print(f'current_sibling - {current_sibling.text}')\n",
    "        return multiplier\n",
    "    \n",
    "    if search(r'Million', current_sibling.text, flags=re.I):\n",
    "        multiplier = 10**6\n",
    "#         print(f'current_sibling - {current_sibling.text}')\n",
    "        return multiplier\n",
    "\n",
    "    \n",
    "    else:\n",
    "        return finding_m(nex_sibling, nex_sibling.next_sibling)\n"
   ]
  },
  {
   "cell_type": "code",
<<<<<<< HEAD
   "execution_count": 10,
=======
   "execution_count": 13,
>>>>>>> Universal_Tesla
   "metadata": {},
   "outputs": [],
   "source": [
    "table = None\n",
    "def getting_m(page, n):\n",
    "    \n",
    "#     print('page{}'.format('.parent'*n))\n",
    "\n",
    "    #Setting base case. \n",
    "    recursive_limit = 5\n",
    "    \n",
    "    while n<recursive_limit:\n",
    "        \n",
    "        try: #try the current tag level.\n",
    "                \n",
    "            return finding_m(page, page.next_sibling)\n",
    "        \n",
    "        except AttributeError: # Handling None type object has no 'next_sibling' exception. \n",
    "\n",
    "#             print('\\n --- Trying the next parent --- \\n')\n",
    "            n += 1\n",
    "            getting_m(page.parent, n) # try the same function again, this time use the parent-tag."
   ]
  },
  {
   "cell_type": "markdown",
   "metadata": {},
   "source": [
    "## Conceptually: Returns Immediate Table after \"key-tag\" anchor. "
   ]
  },
  {
   "cell_type": "code",
<<<<<<< HEAD
   "execution_count": 11,
=======
   "execution_count": 24,
   "metadata": {},
   "outputs": [],
   "source": [
    "# Working next_sibling finder.\n",
    "def next_content(current_sibling, next_cont):\n",
    "    \n",
    "    # Base Case\n",
    "    if (current_sibling == 'table'): #or current_sibling.name =='div'):\n",
    "        table = current_sibling\n",
    "#         print(f'inner current_sibling - {current_sibling.text}')\n",
    "        return current_sibling\n",
    "    \n",
    "    else:\n",
    "        return next_content(current_sibling, current_sibling.contents[0])\n"
   ]
  },
  {
   "cell_type": "code",
   "execution_count": 37,
>>>>>>> Universal_Tesla
   "metadata": {},
   "outputs": [],
   "source": [
    "# Working next_sibling finder.\n",
    "def nextS(current_sibling, nex_sibling):\n",
    "    \n",
    "    global table\n",
    "#     print(f'nextSOutercurrent_sibling - {current_sibling}')\n",
    "    \n",
    "    # Base Case\n",
    "    try:\n",
    "        (current_sibling.name == 'tbody') #or current_sibling.name =='div'):\n",
    "        table = current_sibling\n",
    "#         print(f'nextSInnercurrent_sibling - {current_sibling.text}')\n",
    "        return current_sibling\n",
    "    \n",
    "    except:\n",
    "        table = next_content(current_sibling, current_sibling.contents[0])\n",
    "        \n",
    "    else:\n",
    "        return nextS(nex_sibling, nex_sibling.next_sibling)\n"
   ]
  },
  {
   "cell_type": "code",
<<<<<<< HEAD
   "execution_count": 12,
=======
   "execution_count": 31,
>>>>>>> Universal_Tesla
   "metadata": {},
   "outputs": [],
   "source": [
    "table = None\n",
    "def Table_Creator(page, n):\n",
    "    \n",
    "    print('page{}'.format('.parent'*n))\n",
    "    \n",
    "    while n<4:\n",
    "        \n",
    "        try: #try the current tag level.\n",
    "                \n",
    "            return nextS(page, page.next_sibling)\n",
    "        \n",
    "        except AttributeError: # Handling None type object has no 'next_sibling' exception. \n",
    "\n",
    "            print('\\n --- Trying the next parent --- \\n')\n",
    "            n += 1\n",
    "            Table_Creator(page.parent, n) # try the same function again, this time use the parent-tag."
   ]
  },
  {
   "cell_type": "markdown",
   "metadata": {},
   "source": [
    "# Actual Executed Code "
   ]
  },
  {
   "cell_type": "code",
<<<<<<< HEAD
   "execution_count": 13,
=======
   "execution_count": 38,
>>>>>>> Universal_Tesla
   "metadata": {
    "scrolled": false
   },
   "outputs": [
    {
     "name": "stdout",
     "output_type": "stream",
     "text": [
<<<<<<< HEAD
      "\n",
      "Everything went well.\n",
      "\n"
=======
      "~~~~~~~~~~~~~~~~~~~~~~~~~~~~~~~~~~~~~~~~~~~~~~~~~~~~~~~~~~~~~~~~~~~~~~~~~~~\n",
      "Accession Number - 0001564590-20-019706\n",
      "\n",
      "key - BALANCE_SHEETS\n",
      "\n",
      "Active URL - https://www.sec.gov/Archives/edgar/data/0000789019/000156459020019706/0001564590-20-019706.txt\n",
      "\n",
      "document_id - 10-Q\n",
      "\n",
      "page_key id - <p id=\"BALANCE_SHEETS\" style=\"text-align:center;margin-bottom:0pt;margin-top:0pt;text-indent:0%;font-weight:bold;font-size:10pt;font-family:Arial;font-style:normal;text-transform:none;font-variant: normal;\">BALANCE SHEETS </p>\n",
      "\n",
      "page\n",
      "nextSOutercurrent_sibling - <p id=\"BALANCE_SHEETS\" style=\"text-align:center;margin-bottom:0pt;margin-top:0pt;text-indent:0%;font-weight:bold;font-size:10pt;font-family:Arial;font-style:normal;text-transform:none;font-variant: normal;\">BALANCE SHEETS </p>\n",
      "nextSInnercurrent_sibling - BALANCE SHEETS \n"
     ]
    },
    {
     "ename": "IndexError",
     "evalue": "list index out of range",
     "output_type": "error",
     "traceback": [
      "\u001b[1;31m---------------------------------------------------------------------------\u001b[0m",
      "\u001b[1;31mIndexError\u001b[0m                                Traceback (most recent call last)",
      "\u001b[1;32m<ipython-input-38-7e348f3e8d84>\u001b[0m in \u001b[0;36m<module>\u001b[1;34m\u001b[0m\n\u001b[0;32m     84\u001b[0m \u001b[1;31m#         print(col_list)\u001b[0m\u001b[1;33m\u001b[0m\u001b[1;33m\u001b[0m\u001b[1;33m\u001b[0m\u001b[0m\n\u001b[0;32m     85\u001b[0m         \u001b[1;31m# Tesla Date is split to Q[0] and Y[1].\u001b[0m\u001b[1;33m\u001b[0m\u001b[1;33m\u001b[0m\u001b[1;33m\u001b[0m\u001b[0m\n\u001b[1;32m---> 86\u001b[1;33m         \u001b[0mcol_list\u001b[0m\u001b[1;33m[\u001b[0m\u001b[1;36m0\u001b[0m\u001b[1;33m]\u001b[0m \u001b[1;33m=\u001b[0m \u001b[0mcol_list\u001b[0m\u001b[1;33m[\u001b[0m\u001b[1;36m0\u001b[0m\u001b[1;33m]\u001b[0m \u001b[1;33m+\u001b[0m \u001b[0mcol_list\u001b[0m\u001b[1;33m[\u001b[0m\u001b[1;36m1\u001b[0m\u001b[1;33m]\u001b[0m\u001b[1;33m\u001b[0m\u001b[1;33m\u001b[0m\u001b[0m\n\u001b[0m\u001b[0;32m     87\u001b[0m         \u001b[0mcol_list\u001b[0m\u001b[1;33m.\u001b[0m\u001b[0mpop\u001b[0m\u001b[1;33m(\u001b[0m\u001b[1;36m1\u001b[0m\u001b[1;33m)\u001b[0m\u001b[1;33m\u001b[0m\u001b[1;33m\u001b[0m\u001b[0m\n\u001b[0;32m     88\u001b[0m \u001b[1;33m\u001b[0m\u001b[0m\n",
      "\u001b[1;31mIndexError\u001b[0m: list index out of range"
>>>>>>> Universal_Tesla
     ]
    }
   ],
   "source": [
    "Checklist ={}\n",
    "\n",
    "for AN, key_url in AN_Active.items():\n",
    "    \n",
    "    year = int( AN.split( sep='-' )[1] )\n",
    "    print('~'*75)\n",
    "    # Setting limits.\n",
    "    lower_limit = 10\n",
    "    upper_limit = 21\n",
    "    if lower_limit < year < upper_limit:\n",
    "    \n",
    "        print(f'Accession Number - {AN}\\n')\n",
    "        key = key_url[0].replace('#', '')\n",
    "        print(f'key - {key}\\n')\n",
    "        act_url = key_url[1]\n",
    "        print(f'Active URL - {key_url[1]}\\n')\n",
    "\n",
    "        r = requests.get(act_url)\n",
    "\n",
    "        # Not choosing r.encoding to easier modify \n",
    "    #         r.encoding = 'utf-8'\n",
    "\n",
    "        soup = BeautifulSoup(r.content, \"lxml\")\n",
    "\n",
    "        filing_document = soup.find('document')\n",
    "        document_id = filing_document.type.find(text=True, recursive=False).strip()\n",
    "        print(f'document_id - {document_id}\\n' )\n",
    "\n",
    "        table = None\n",
    "        multiplier = None\n",
    "    # *********************\n",
    "        page_key = soup.find(attrs={\"name\": key} )\n",
    "\n",
    "        if (page_key != None):\n",
    "            print(f'First try - {page_key}')\n",
    "\n",
    "        else: \n",
    "            page_key = soup.find(attrs={\"id\": key} )\n",
    "            print(f'page_key id - {page_key}\\n' )\n",
    "\n",
    "        if (page_key == None):          \n",
    "            print(f'page_key is missing in the document.\\n Checklist is updated. \\n' )\n",
    "            Checklist.update({document_id: AN})\n",
    "            continue        \n",
    "    # ********************        \n",
    "\n",
    "        getting_m(page_key, n=0)\n",
    "        \n",
    "        Table_Creator(page_key, n=0)\n",
    "#         print(table)\n",
    "        if multiplier == None:\n",
    "            finding_m(table)\n",
    "#         table = page_key.next_sibling.next_sibling.next_sibling.next_sibling.contents[0]\n",
    "        target = table.findAll('tr')\n",
    "#         print(f'target - {target[0]}\\n')\n",
    "\n",
    "        row_list = [ row for row in target if row.get_text(strip=True, separator=',') != '']\n",
    "#         print(f'row_list - {row_list[0]}\\n')\n",
    "\n",
    "        col_list = []\n",
    "\n",
    "        for row in row_list:\n",
    "            col = row.find_all('td')\n",
    "    #             print(f'col - {col}')\n",
    "            column = []\n",
    "            for tr in col:\n",
    "    #                 print(f'tr - {tr}')\n",
    "                ele = tr.text\n",
    "#                 print(f'ele - {ele}')\n",
    "                try:\n",
    "                    ele= ele.encode('cp1252').decode(\"utf-8\", \"ignore\")\n",
    "    #                     print(f'cp1252 encode')\n",
    "                except:\n",
    "                    ele= ele.encode('latin1').decode(\"utf-8\", \"ignore\")\n",
    "    #                     print(f'latin1 encode')\n",
    "                column.append(ele)\n",
    "#                 print(f'column - {column}')\n",
    "            col_list.append(column)\n",
    "\n",
    "    #         col_list.pop(0)\n",
    "\n",
    "        new_col_list = []\n",
    "\n",
    "#         print(col_list)\n",
    "        # Tesla Date is split to Q[0] and Y[1].\n",
    "        col_list[0] = col_list[0] + col_list[1]\n",
    "        col_list.pop(1)\n",
    "\n",
    "        for col_num, column in enumerate(col_list): \n",
    "\n",
    "            if col_num == 0:\n",
    "    #                 print('raw column - ', column)\n",
    "                Q, Y = Quarter(column)\n",
    "                print(Q, Y)\n",
    "                new_col_list.append(Q)\n",
    "                new_col_list.append(Y)\n",
    "\n",
    "            else:\n",
    "                column.pop(1)\n",
    "                column.pop(1)\n",
    "    #                 print(f'column - {column}')\n",
    "                new_col_list.append(cleaning_column( column, multiplier ))\n",
    "\n",
    "        df = pd.DataFrame(new_col_list)\n",
    "        df = df.T.reset_index(drop=True)\n",
    "        df.columns = df.iloc[0]\n",
    "        df = df.drop([row for row in range(df.shape[0]) if row != 1], axis=0).reset_index(drop=True)\n",
    "        ICD.display(df)\n",
    "\n",
    "        with open('{}-{}.csv'.format(AN, document_id), \"wb\") as fp:   # Pickling\n",
    "            pickle.dump(df, fp)\n",
    "\n",
    "        # display a status to the user.\n",
    "        print('All the pages from {} document {} have been tableized and saved.'.format(AN, document_id))    \n",
    "        print('-'*80) \n",
    "\n",
    "if Checklist == {}:\n",
    "    print('\\nEverything went well.\\n')\n",
    "\n",
    "else: \n",
    "    print('\\n******************These files have a problem.******************\\n', Checklist)"
   ]
  },
  {
   "cell_type": "code",
<<<<<<< HEAD
=======
   "execution_count": 28,
   "metadata": {},
   "outputs": [
    {
     "ename": "AttributeError",
     "evalue": "'NoneType' object has no attribute 'next_sibling'",
     "output_type": "error",
     "traceback": [
      "\u001b[1;31m---------------------------------------------------------------------------\u001b[0m",
      "\u001b[1;31mAttributeError\u001b[0m                            Traceback (most recent call last)",
      "\u001b[1;32m<ipython-input-28-bc307279b9d4>\u001b[0m in \u001b[0;36m<module>\u001b[1;34m\u001b[0m\n\u001b[1;32m----> 1\u001b[1;33m \u001b[0mtable\u001b[0m \u001b[1;33m=\u001b[0m \u001b[0mpage_key\u001b[0m\u001b[1;33m.\u001b[0m\u001b[0mparent\u001b[0m\u001b[1;33m.\u001b[0m\u001b[0mnext_sibling\u001b[0m\u001b[1;33m.\u001b[0m\u001b[0mnext_sibling\u001b[0m\u001b[1;33m.\u001b[0m\u001b[0mnext_sibling\u001b[0m\u001b[1;33m.\u001b[0m\u001b[0mnext_sibling\u001b[0m\u001b[1;33m.\u001b[0m\u001b[0mnext_sibling\u001b[0m\u001b[1;33m.\u001b[0m\u001b[0mnext_sibling\u001b[0m\u001b[1;33m.\u001b[0m\u001b[0mcontents\u001b[0m\u001b[1;33m[\u001b[0m\u001b[1;36m0\u001b[0m\u001b[1;33m]\u001b[0m\u001b[1;33m.\u001b[0m\u001b[0mcontents\u001b[0m\u001b[1;33m[\u001b[0m\u001b[1;36m0\u001b[0m\u001b[1;33m]\u001b[0m\u001b[1;33m\u001b[0m\u001b[1;33m\u001b[0m\u001b[0m\n\u001b[0m\u001b[0;32m      2\u001b[0m \u001b[0mprint\u001b[0m\u001b[1;33m(\u001b[0m\u001b[0mtable\u001b[0m\u001b[1;33m)\u001b[0m\u001b[1;33m\u001b[0m\u001b[1;33m\u001b[0m\u001b[0m\n",
      "\u001b[1;31mAttributeError\u001b[0m: 'NoneType' object has no attribute 'next_sibling'"
     ]
    }
   ],
   "source": [
    "table = page_key.parent.next_sibling.next_sibling.next_sibling.next_sibling.next_sibling.next_sibling.contents[0].contents[0]\n",
    "print(table)"
   ]
  },
  {
   "cell_type": "code",
   "execution_count": null,
   "metadata": {},
   "outputs": [],
   "source": [
    "target = table.findAll('tr')"
   ]
  },
  {
   "cell_type": "code",
   "execution_count": 36,
   "metadata": {},
   "outputs": [
    {
     "data": {
      "text/plain": [
       "<p id=\"BALANCE_SHEETS\" style=\"text-align:center;margin-bottom:0pt;margin-top:0pt;text-indent:0%;font-weight:bold;font-size:10pt;font-family:Arial;font-style:normal;text-transform:none;font-variant: normal;\">BALANCE SHEETS </p>"
      ]
     },
     "execution_count": 36,
     "metadata": {},
     "output_type": "execute_result"
    }
   ],
   "source": [
    "table"
   ]
  },
  {
   "cell_type": "code",
   "execution_count": null,
   "metadata": {},
   "outputs": [],
   "source": [
    "from IPython.display import display_html\n",
    "\n",
    "table_rows = str(soup.find('table')) # convert soup back to html\n",
    "display_html(table_rows, raw=True) \n",
    "\n",
    "df = pd.read_html(table_rows)[0] # Read the first element in read_html list \n",
    "ICD.display(df.T)"
   ]
  },
  {
   "cell_type": "code",
   "execution_count": 22,
   "metadata": {},
   "outputs": [],
   "source": [
    "QorK = {'10-Q': ['0001564590-20-019706',\n",
    "  '0001564590-20-002450',\n",
    "  '0001564590-19-037549',\n",
    "  '0001564590-19-012709',\n",
    "  '0001564590-19-001392',\n",
    "  '0001564590-18-024893',\n",
    "  '0001564590-18-009307',\n",
    "  '0001564590-18-001129',\n",
    "  '0001564590-17-020171',\n",
    "  '0001564590-17-007547',\n",
    "  '0001564590-17-000654',\n",
    "  '0001193125-16-742796',\n",
    "  '0001193125-16-550254',\n",
    "  '0001193125-16-441821',\n",
    "  '0001193125-15-350718',\n",
    "  '0001193125-15-144151',\n",
    "  '0001193125-15-020351',\n",
    "  '0001193125-14-380252',\n",
    "  '0001193125-14-157088',\n",
    "  '0001193125-14-018634',\n",
    "  '0001193125-13-409855',\n",
    "  '0001193125-13-160748',\n",
    "  '0001193125-13-022207',\n",
    "  '0001193125-12-427209'],\n",
    " '10-K': ['0001564590-19-027952',\n",
    "  '0001564590-18-019062',\n",
    "  '0001564590-17-014900',\n",
    "  '0001193125-16-662209',\n",
    "  '0001193125-15-272806',\n",
    "  '0001193125-14-289961',\n",
    "  '0001193125-13-310206',\n",
    "  '0001193125-12-316848']}\n"
   ]
  },
  {
   "cell_type": "code",
>>>>>>> Universal_Tesla
   "execution_count": null,
   "metadata": {},
   "outputs": [],
   "source": []
  }
 ],
 "metadata": {
  "anaconda-cloud": {},
  "kernelspec": {
   "display_name": "Python 3",
   "language": "python",
   "name": "python3"
  },
  "language_info": {
   "codemirror_mode": {
    "name": "ipython",
    "version": 3
   },
   "file_extension": ".py",
   "mimetype": "text/x-python",
   "name": "python",
   "nbconvert_exporter": "python",
   "pygments_lexer": "ipython3",
   "version": "3.7.4"
  }
 },
 "nbformat": 4,
 "nbformat_minor": 1
}
