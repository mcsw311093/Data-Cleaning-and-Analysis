{
 "cells": [
  {
   "cell_type": "markdown",
   "metadata": {},
   "source": [
    "Open this notebook in nbviewer to use the links. http://jiffyclub.github.io/open-in-nbviewer/"
   ]
  },
  {
   "cell_type": "markdown",
   "metadata": {},
   "source": [
    "# Abstract\n",
    "Electric vehicle (EV) manufacturer, Tesla, has been seen as a disruptive force in the auto-industry<sup>1</sup>. \n",
    "Indeed such growth is likened to the tech industry or even comparable to an entirely new industry<sup>2</sup>.<br/>  \n",
    "By comparing quarterly balance sheets from US-based auto and tech companies over the past thirteen years, we explore if there is evidence from an asset-and-liabilities perspective to support such claims. <br/> \n",
    "\n",
    "This 2-part study will first attempt to validate the assumption that tech and auto industries are different with respect to their balance sheet and if the assumptions hold the second part will explore non-directional supporting evidence for the classification of Tesla into either Tech or Auto also only with regards to the balance sheet.<br/>\n",
    "\n",
    "<br/>"
   ]
  },
  {
   "cell_type": "markdown",
   "metadata": {},
   "source": [
    "## Data \n",
    "Data was manually **web scraped** from the SEC website.<br />\n",
    "- See my [web_scraping_sec](https://github.com/mcsw311093/web_scraping_sec) repo for web-scraping with BeautifulSoup4 (BS4).\n",
    "\n",
    "\n",
    "The whole process of **data-cleaning** can be found in [Data-Cleaning.ipynb](https://github.com/mcsw311093/Data-Cleaning-and-Analysis/blob/master/Data-Cleaning.ipynb) of the current repo.\n"
   ]
  },
  {
   "cell_type": "markdown",
   "metadata": {},
   "source": [
    "# Aim and Motivation (Introduction)\n",
    "##### Background\n",
    "Finance Background \n",
    "Valuating a company is a difficult task.  Especially during these times of new companies disrupting different  industry. \n",
    "\n",
    "\t- Classification role in Valuation\n",
    "\tClassification effects analyst and general public's perception of company value, internally (Assets) and externally (Sentiments, brand-loyalty)\n",
    "\n",
    "\t- Balance Sheet: an internal view of monetary value \n",
    "\tTherefore, this study will focus on the effects of internal value on sector  classification, where internal value is represented by constituents of the balance sheet. \n",
    "\n",
    "Data Science background\n",
    "\n",
    "    - Traditional means of analysis using machine learning have focused on  a particular distribution of data viz. Independent and identically distributed random variables.\n",
    "    \n",
    "    - Recent interest incorporating the time component of data has been seen (reference) with the development of  sktime API in sklearn, tsCV and tseries package in R. \n",
    "    \n",
    "    - This study will compare the results of statistics methods and machine learning models. \n",
    "\n",
    "Therefore, this study will first address concerns that the difference in industry sectors is sufficiently represented in the quarterly and annual balance sheets.\n",
    "\n",
    "If the above assumption holds, we will continue exploring the relationship between our target company (Tesla) and each industry. \n",
    "\n",
    "Finally, we will end our analysis with post-hoc analysis of the relationship of our chosen IVs and DVs. \n",
    "\n",
    "<br/>\n"
   ]
  },
  {
   "cell_type": "markdown",
   "metadata": {},
   "source": [
    "##### Research Question\n",
    "*Limitation: All comparisons and classifications are  **exclusively** based on shared data found in balance sheets of each company.<br/>*\n",
    "\n",
    "ML and Statistics approach to solve 2 problems:\n",
    "1) Testing our assumption distinct industries (population) can be inferred from the difference in variance within the balance sheet (sample).\n",
    "Test Assumption: Distinct Industries on gernalized 'Balance Sheet' construct \n",
    "(Auto-industry != Tech-industry)\n",
    "\n",
    "2) Explore\n",
    "Can Tesla be classified into either one? Or neither? Or what percentage of Tesla's Assets and Liabilites resembles either industries.\n",
    "\n",
    "To find support that the differences in industries are reflected in the balance sheet,\n",
    "\n",
    "we will use multiple independent t-tests for each feature to see if there is any statistically significant difference in the pattern of each DV."
   ]
  },
  {
   "cell_type": "markdown",
   "metadata": {},
   "source": [
    "#### Approach & Experimental Set-up\n",
    "###### **Part 1**\n",
    "Exploratory data analysis, data pre-processing and significance testing will be conducted to explore the **difference between the target industries.** <br/>\n",
    "\n",
    "- Ha1: The observed variables structure suggests a dichotomous latent variable(industry type). <br/>\n",
    "H01: Observed variables do not suggest a two factor distinction. <br/>\n",
    "Method: (1) ML - Clustering <br/>\n",
    "\n",
    "- Ha2: The industry (sample means) are different. <br/>\n",
    "H02: The industries are the same. (Reject?) <br/>\n",
    "Method: (2) Statistics - Profile Analysis (Focus between groups)<br/>\n",
    "\n",
    "\n",
    "###### **Part 2**\n",
    "The percentage of **Tesla's balance sheet resembles** either one of our target industries' balance sheet. <br/>\n",
    "- Ha1: Explore how much of Tesla is similar to Tech in comparison to Auto.<br/>\n",
    "H01: Not applicable<br/>\n",
    "Method: Logistic Regression & AUROC score, where the postive class is Auto <br/>\n",
    "\n",
    "- Ha2: Explore how much of Tesla is similar to Auto in comparison to Tech.<br/>\n",
    "H02: Not applicable<br/>\n",
    "Method: Logistic Regression & AUROC score, where the postive class is Tech\n",
    "\n",
    "\n",
    "###### **Post-hoc analysis**: **Interaction and main effects** between industries over time while controlling for Total Assets covariate.\n",
    "- Ha: Industry dichotomy effects and interaction affect the balance sheet, if we control for Total_Assets.<br/>\n",
    "H0: Regarding industry specific interactions and main effects, none detected on the balance sheet while controlling for Total_Assets. <br/>\n",
    "Method: (1) MANCOVA (Focus on DV construct) OR (2) Generalized linear model OR (2) Statistics - (Exploratory) Factor Analysis\n",
    "https://www.ibm.com/support/knowledgecenter/de/SSLVMB_24.0.0/spss/advanced/idh_idd_genlin_typeofmodel.html#idh_idd_genlin_typeofmodel\n",
    "<br/>\n",
    "\n",
    "###### **Post-hoc hypothesis**: \n",
    "<br/>\n",
    "<br/>\n",
    "<sup>1</sup>https://www.businessinsider.com/tesla-stock-value-compared-ford-gm-fca-car-production-charts-2020-7<br />\n",
    "<sup>2</sup>https://www.investopedia.com/news/tesla-tech-company-or-car-company/"
   ]
  },
  {
   "cell_type": "markdown",
   "metadata": {},
   "source": [
    "## Table of Contents"
   ]
  },
  {
   "cell_type": "markdown",
   "metadata": {},
   "source": [
    "---\n",
    "\n",
    "RFECV<a id='top'><a/>\n",
    "\n",
    "    \n",
    "## [Methodology Overview](#mo)\n",
    "\n",
    "## Part 1\n",
    "    \n",
    "### 1.1 [Exploratory Data Analysis](#eda) \n",
    "    \n",
    "### 1.2 [Data Pre-processing](#dpp)\n",
    "\n",
    "### 1.3 [Machine Learning - Clustering](#ml-c)\n",
    "    \n",
    "### 1.4 [Statistical Modelling - Profile Analysis](#profile)\n",
    "    \n",
    "    \n",
    "<br/>\n",
    "    \n",
    "## Part 2\n",
    "\n",
    "### 2.1 [Overview](#overview)\n",
    "    \n",
    "### 2.2.1 [Classification](#class)\n",
    "    \n",
    "### 2.2.2 [Multivariate Multiple Regression](#mmr)\n",
    "    \n",
    "<br/>\n",
    "    \n",
    "### [Post-hoc Analysis](#post)\n",
    "    \n",
    "- #### [Statistical Modelling - Exploratory Factor Analysis](#factor)\n",
    "    \n",
    "### [Discussion](#discuss)\n",
    "    \n",
    "### [Conclusion](#conclude)\n",
    "    \n",
    "    \n",
    "    \n",
    "<br/><br/><br/>\n",
    "#### 1) Transforming time series data into de-trended, scaled and normalised format (i.i.d.) for tabular classification. \n",
    "    \n",
    "   [Experiment 1.1 - grouping all companies as a whole for one transformation.](#expt1.1)\n",
    "    \n",
    "   [Pipeline and Hyperparameter Tuning](#pipe&Hyper)\n",
    "    \n",
    "   [Experiment 2.2 - individually transforming within companies across the same time-frame](#expt1.2)\n",
    "\n",
    "#### 2) Use Statistics \n",
    "   [Experiment 2.1 - MANOVA](#expt2.1)\n",
    "    \n",
    "#### 3) Use Cluster Analysis \n",
    "   [Experiment 3.1 - k-means](#expt3.1)\n",
    "    \n",
    "#### 4) Use Sktime\n",
    "   [Experiment 4.1 - ML Time Series Analysis](#expt4.1)\n",
    "\n",
    "   [Appendix](#appendix)\n",
    "    \n",
    "---"
   ]
  },
  {
   "cell_type": "code",
   "execution_count": 2,
   "metadata": {},
   "outputs": [
    {
     "name": "stderr",
     "output_type": "stream",
     "text": [
      "\n",
      "Bad key \"text.kerning_factor\" on line 4 in\n",
      "C:\\Users\\Matthew\\Anaconda3\\lib\\site-packages\\matplotlib\\mpl-data\\stylelib\\_classic_test_patch.mplstyle.\n",
      "You probably need to get an updated matplotlibrc file from\n",
      "https://github.com/matplotlib/matplotlib/blob/v3.1.2/matplotlibrc.template\n",
      "or from the matplotlib source distribution\n"
     ]
    }
   ],
   "source": [
    "# import dataframe and libraries\n",
    "import pandas as pd\n",
    "import numpy as np\n",
    "\n",
    "from matplotlib import pyplot as plt\n",
    "%matplotlib inline\n",
    "\n",
    "# Function for creating model pipelines\n",
    "from sklearn.pipeline import make_pipeline\n",
    "\n",
    "# Import Logistic Regression\n",
    "from sklearn.linear_model import LogisticRegression\n",
    "\n",
    "# Import RandomForestClassifier and GradientBoostingClassifer\n",
    "from sklearn.ensemble import RandomForestClassifier, GradientBoostingClassifier\n",
    "\n",
    "# Function for splitting training and test set\n",
    "from sklearn.model_selection import train_test_split\n",
    "\n",
    "# Classification metrics\n",
    "from sklearn.metrics import confusion_matrix\n",
    "from sklearn.metrics import roc_curve, roc_auc_score\n",
    "\n",
    "# GridSearchCV\n",
    "from sklearn.model_selection import GridSearchCV\n",
    "import seaborn as sns \n",
    "sns.set_style('darkgrid')\n",
    "import altair as alt\n",
    "\n",
    "import warnings\n",
    "warnings.simplefilter(action='ignore', category=FutureWarning)\n",
    "pd.set_option('display.max_columns', 100)\n",
    "pd.set_option('display.max_rows', None)\n",
    "\n",
    "from IPython.display import display\n",
    "from IPython.core import display as ICD"
   ]
  },
  {
   "cell_type": "code",
   "execution_count": 3,
   "metadata": {},
   "outputs": [],
   "source": [
    "# Power Transform\n",
    "from sklearn.preprocessing import power_transform\n",
    "\n",
    "from scipy.stats import boxcox\n",
    "from scipy.stats import yeojohnson\n",
    "\n",
    "# Difference computation function\n",
    "def difference(data, interval):\n",
    "    return [data[i] - data[i - interval] for i in range(interval, len(data))]\n",
    "\n",
    "# StandardScaler\n",
    "from sklearn.preprocessing import StandardScaler\n",
    "\n",
    "# Normalization\n",
    "from sklearn.preprocessing import MinMaxScaler"
   ]
  },
  {
   "cell_type": "markdown",
   "metadata": {},
   "source": [
    "<a id='mo'></a>"
   ]
  },
  {
   "cell_type": "code",
   "execution_count": 4,
   "metadata": {},
   "outputs": [],
   "source": [
    "main_df = pd.read_csv('abt.csv')"
   ]
  },
  {
   "cell_type": "markdown",
   "metadata": {},
   "source": [
    "## Methodology Overview\n",
    "<a href='#top'>Top of Page</a>"
   ]
  },
  {
   "cell_type": "markdown",
   "metadata": {},
   "source": [
    "Previously we have handled missing data and feature engineering in another file therefore we will not re-do that here; we will start by exploring the data by looking at the correlations between the predictor variables (denoted as X) to reduce multicollinearity. \n",
    "\n",
    "Then we will will perform data transformations to satisfy specific assumptions required by statiscal methods and models. For example, normality will be required for MANCOVA/Profile Analysis, stationatrity will be required for time series analysis. \n",
    "\n",
    "Finally we will run our experiments, analyse our data and report our findings.\n"
   ]
  },
  {
   "cell_type": "markdown",
   "metadata": {},
   "source": [
    "<a id='eda'></a>"
   ]
  },
  {
   "cell_type": "markdown",
   "metadata": {},
   "source": [
    "## Part 1"
   ]
  },
  {
   "cell_type": "markdown",
   "metadata": {},
   "source": [
    "## Exploratory Data Analysis\n",
    "<a href='#top'>Top of Page</a>"
   ]
  },
  {
   "cell_type": "code",
   "execution_count": 5,
   "metadata": {
    "scrolled": true,
    "slideshow": {
     "slide_type": "slide"
    }
   },
   "outputs": [
    {
     "data": {
      "text/html": [
       "<div>\n",
       "<style scoped>\n",
       "    .dataframe tbody tr th:only-of-type {\n",
       "        vertical-align: middle;\n",
       "    }\n",
       "\n",
       "    .dataframe tbody tr th {\n",
       "        vertical-align: top;\n",
       "    }\n",
       "\n",
       "    .dataframe thead th {\n",
       "        text-align: right;\n",
       "    }\n",
       "</style>\n",
       "<table border=\"1\" class=\"dataframe\">\n",
       "  <thead>\n",
       "    <tr style=\"text-align: right;\">\n",
       "      <th></th>\n",
       "      <th>Year</th>\n",
       "      <th>Accounts Receivable</th>\n",
       "      <th>Inventory</th>\n",
       "      <th>Total current assets</th>\n",
       "      <th>Total current liabilities</th>\n",
       "      <th>Total liabilities</th>\n",
       "      <th>Common Stock</th>\n",
       "      <th>Total liabilities and equity</th>\n",
       "      <th>New Deferred Revenue</th>\n",
       "      <th>New Property and Equipment</th>\n",
       "      <th>Total Non-Current Assets</th>\n",
       "      <th>Total_Assets</th>\n",
       "      <th>Non-Current Liabilities</th>\n",
       "      <th>Total Shareholder's Equity</th>\n",
       "      <th>Accounts Payables</th>\n",
       "      <th>Retained Earning</th>\n",
       "      <th>OCI</th>\n",
       "      <th>Accounts_Receivable_missing</th>\n",
       "      <th>Common_Stock_missing</th>\n",
       "      <th>Short_term_investments</th>\n",
       "      <th>Short_term_investments_missing</th>\n",
       "      <th>Inventory_missing</th>\n",
       "      <th>current_ratio</th>\n",
       "      <th>quick_ratio</th>\n",
       "      <th>debt_ratio</th>\n",
       "      <th>debt_to_equity_ratio</th>\n",
       "      <th>equity_multiplier</th>\n",
       "      <th>industry</th>\n",
       "    </tr>\n",
       "    <tr>\n",
       "      <th>company_name</th>\n",
       "      <th></th>\n",
       "      <th></th>\n",
       "      <th></th>\n",
       "      <th></th>\n",
       "      <th></th>\n",
       "      <th></th>\n",
       "      <th></th>\n",
       "      <th></th>\n",
       "      <th></th>\n",
       "      <th></th>\n",
       "      <th></th>\n",
       "      <th></th>\n",
       "      <th></th>\n",
       "      <th></th>\n",
       "      <th></th>\n",
       "      <th></th>\n",
       "      <th></th>\n",
       "      <th></th>\n",
       "      <th></th>\n",
       "      <th></th>\n",
       "      <th></th>\n",
       "      <th></th>\n",
       "      <th></th>\n",
       "      <th></th>\n",
       "      <th></th>\n",
       "      <th></th>\n",
       "      <th></th>\n",
       "      <th></th>\n",
       "    </tr>\n",
       "  </thead>\n",
       "  <tbody>\n",
       "    <tr>\n",
       "      <th>Amazon</th>\n",
       "      <td>100675</td>\n",
       "      <td>2.829430e+11</td>\n",
       "      <td>3.825570e+11</td>\n",
       "      <td>1.428235e+12</td>\n",
       "      <td>1.301270e+12</td>\n",
       "      <td>2.219730e+12</td>\n",
       "      <td>2.410000e+08</td>\n",
       "      <td>3044300000000</td>\n",
       "      <td>1.271290e+11</td>\n",
       "      <td>1.046805e+12</td>\n",
       "      <td>2.108220e+11</td>\n",
       "      <td>3.044300e+12</td>\n",
       "      <td>9.184600e+11</td>\n",
       "      <td>8.245700e+11</td>\n",
       "      <td>7.327650e+11</td>\n",
       "      <td>2.964710e+11</td>\n",
       "      <td>2.222100e+10</td>\n",
       "      <td>0</td>\n",
       "      <td>0</td>\n",
       "      <td>2.756270e+11</td>\n",
       "      <td>0</td>\n",
       "      <td>0</td>\n",
       "      <td>59.065070</td>\n",
       "      <td>42.640448</td>\n",
       "      <td>34.963018</td>\n",
       "      <td>130.548865</td>\n",
       "      <td>180.548865</td>\n",
       "      <td>50.0</td>\n",
       "    </tr>\n",
       "    <tr>\n",
       "      <th>Apple</th>\n",
       "      <td>52429</td>\n",
       "      <td>3.975220e+11</td>\n",
       "      <td>8.578300e+10</td>\n",
       "      <td>2.800189e+12</td>\n",
       "      <td>2.125556e+12</td>\n",
       "      <td>5.016973e+12</td>\n",
       "      <td>8.655780e+11</td>\n",
       "      <td>8110972000000</td>\n",
       "      <td>2.627400e+11</td>\n",
       "      <td>7.421370e+11</td>\n",
       "      <td>1.740391e+12</td>\n",
       "      <td>8.110972e+12</td>\n",
       "      <td>2.184731e+12</td>\n",
       "      <td>3.093999e+12</td>\n",
       "      <td>9.117180e+11</td>\n",
       "      <td>2.245244e+12</td>\n",
       "      <td>3.245900e+10</td>\n",
       "      <td>0</td>\n",
       "      <td>0</td>\n",
       "      <td>3.774262e+12</td>\n",
       "      <td>7</td>\n",
       "      <td>0</td>\n",
       "      <td>34.278200</td>\n",
       "      <td>33.245377</td>\n",
       "      <td>15.750090</td>\n",
       "      <td>43.698300</td>\n",
       "      <td>69.698300</td>\n",
       "      <td>26.0</td>\n",
       "    </tr>\n",
       "    <tr>\n",
       "      <th>Facebook</th>\n",
       "      <td>44374</td>\n",
       "      <td>1.021680e+11</td>\n",
       "      <td>0.000000e+00</td>\n",
       "      <td>8.812530e+11</td>\n",
       "      <td>1.201380e+11</td>\n",
       "      <td>2.715360e+11</td>\n",
       "      <td>0.000000e+00</td>\n",
       "      <td>1752395000000</td>\n",
       "      <td>2.474000e+09</td>\n",
       "      <td>3.430340e+11</td>\n",
       "      <td>8.617100e+10</td>\n",
       "      <td>1.752395e+12</td>\n",
       "      <td>1.097640e+11</td>\n",
       "      <td>2.789311e+12</td>\n",
       "      <td>9.619000e+09</td>\n",
       "      <td>6.261750e+11</td>\n",
       "      <td>1.067900e+10</td>\n",
       "      <td>0</td>\n",
       "      <td>22</td>\n",
       "      <td>5.449710e+11</td>\n",
       "      <td>0</td>\n",
       "      <td>22</td>\n",
       "      <td>209.655930</td>\n",
       "      <td>209.655930</td>\n",
       "      <td>3.006712</td>\n",
       "      <td>1.913864</td>\n",
       "      <td>13.727506</td>\n",
       "      <td>22.0</td>\n",
       "    </tr>\n",
       "    <tr>\n",
       "      <th>Ford</th>\n",
       "      <td>60480</td>\n",
       "      <td>4.271477e+12</td>\n",
       "      <td>3.004110e+11</td>\n",
       "      <td>3.144905e+12</td>\n",
       "      <td>2.622717e+12</td>\n",
       "      <td>6.070087e+12</td>\n",
       "      <td>1.188000e+09</td>\n",
       "      <td>6941199000000</td>\n",
       "      <td>1.209010e+12</td>\n",
       "      <td>9.493500e+11</td>\n",
       "      <td>3.796294e+12</td>\n",
       "      <td>6.941199e+12</td>\n",
       "      <td>1.301248e+12</td>\n",
       "      <td>8.665520e+11</td>\n",
       "      <td>6.549910e+11</td>\n",
       "      <td>6.151340e+11</td>\n",
       "      <td>3.666120e+11</td>\n",
       "      <td>0</td>\n",
       "      <td>0</td>\n",
       "      <td>6.122080e+11</td>\n",
       "      <td>0</td>\n",
       "      <td>0</td>\n",
       "      <td>35.919542</td>\n",
       "      <td>32.394452</td>\n",
       "      <td>26.276471</td>\n",
       "      <td>217.926688</td>\n",
       "      <td>248.112358</td>\n",
       "      <td>0.0</td>\n",
       "    </tr>\n",
       "    <tr>\n",
       "      <th>GM</th>\n",
       "      <td>86618</td>\n",
       "      <td>1.644996e+12</td>\n",
       "      <td>5.700550e+11</td>\n",
       "      <td>3.200108e+12</td>\n",
       "      <td>2.963690e+12</td>\n",
       "      <td>6.241944e+12</td>\n",
       "      <td>5.930000e+08</td>\n",
       "      <td>7959308000000</td>\n",
       "      <td>1.268860e+12</td>\n",
       "      <td>2.115283e+12</td>\n",
       "      <td>4.846485e+12</td>\n",
       "      <td>7.959308e+12</td>\n",
       "      <td>3.278254e+12</td>\n",
       "      <td>1.627338e+12</td>\n",
       "      <td>1.051662e+12</td>\n",
       "      <td>6.460360e+11</td>\n",
       "      <td>2.701340e+11</td>\n",
       "      <td>0</td>\n",
       "      <td>2</td>\n",
       "      <td>3.161520e+11</td>\n",
       "      <td>3</td>\n",
       "      <td>0</td>\n",
       "      <td>47.476217</td>\n",
       "      <td>38.794746</td>\n",
       "      <td>33.521496</td>\n",
       "      <td>168.980508</td>\n",
       "      <td>214.518253</td>\n",
       "      <td>0.0</td>\n",
       "    </tr>\n",
       "    <tr>\n",
       "      <th>Google</th>\n",
       "      <td>38330</td>\n",
       "      <td>3.111810e+11</td>\n",
       "      <td>1.197800e+10</td>\n",
       "      <td>2.279091e+12</td>\n",
       "      <td>5.004500e+11</td>\n",
       "      <td>8.594560e+11</td>\n",
       "      <td>7.801800e+11</td>\n",
       "      <td>3849115000000</td>\n",
       "      <td>3.170500e+10</td>\n",
       "      <td>9.026310e+11</td>\n",
       "      <td>5.296800e+10</td>\n",
       "      <td>3.849115e+12</td>\n",
       "      <td>6.940200e+10</td>\n",
       "      <td>3.010023e+12</td>\n",
       "      <td>5.818300e+10</td>\n",
       "      <td>2.257396e+12</td>\n",
       "      <td>2.755300e+10</td>\n",
       "      <td>0</td>\n",
       "      <td>0</td>\n",
       "      <td>1.583755e+12</td>\n",
       "      <td>0</td>\n",
       "      <td>4</td>\n",
       "      <td>93.089222</td>\n",
       "      <td>92.671373</td>\n",
       "      <td>4.140259</td>\n",
       "      <td>5.295098</td>\n",
       "      <td>24.123270</td>\n",
       "      <td>19.0</td>\n",
       "    </tr>\n",
       "    <tr>\n",
       "      <th>Microsoft</th>\n",
       "      <td>64504</td>\n",
       "      <td>5.313600e+11</td>\n",
       "      <td>7.394500e+10</td>\n",
       "      <td>4.296721e+12</td>\n",
       "      <td>1.558512e+12</td>\n",
       "      <td>3.847046e+12</td>\n",
       "      <td>2.248386e+12</td>\n",
       "      <td>6524922000000</td>\n",
       "      <td>8.558170e+11</td>\n",
       "      <td>6.628030e+11</td>\n",
       "      <td>3.780890e+11</td>\n",
       "      <td>6.524922e+12</td>\n",
       "      <td>1.406331e+12</td>\n",
       "      <td>2.677876e+12</td>\n",
       "      <td>2.150510e+11</td>\n",
       "      <td>3.924650e+11</td>\n",
       "      <td>5.902300e+10</td>\n",
       "      <td>0</td>\n",
       "      <td>0</td>\n",
       "      <td>3.214832e+12</td>\n",
       "      <td>0</td>\n",
       "      <td>0</td>\n",
       "      <td>88.989467</td>\n",
       "      <td>87.415692</td>\n",
       "      <td>18.176794</td>\n",
       "      <td>46.010661</td>\n",
       "      <td>78.010661</td>\n",
       "      <td>32.0</td>\n",
       "    </tr>\n",
       "    <tr>\n",
       "      <th>Netflix</th>\n",
       "      <td>96672</td>\n",
       "      <td>0.000000e+00</td>\n",
       "      <td>8.930012e+13</td>\n",
       "      <td>4.731783e+13</td>\n",
       "      <td>3.558797e+13</td>\n",
       "      <td>9.812288e+13</td>\n",
       "      <td>9.938387e+12</td>\n",
       "      <td>124929670160000</td>\n",
       "      <td>4.226629e+12</td>\n",
       "      <td>2.671635e+12</td>\n",
       "      <td>5.674708e+12</td>\n",
       "      <td>1.249297e+14</td>\n",
       "      <td>2.205699e+12</td>\n",
       "      <td>2.680679e+13</td>\n",
       "      <td>2.984036e+12</td>\n",
       "      <td>1.438237e+13</td>\n",
       "      <td>1.688469e+11</td>\n",
       "      <td>48</td>\n",
       "      <td>0</td>\n",
       "      <td>3.380962e+12</td>\n",
       "      <td>10</td>\n",
       "      <td>1</td>\n",
       "      <td>66.778027</td>\n",
       "      <td>-5.657607</td>\n",
       "      <td>35.801000</td>\n",
       "      <td>158.649349</td>\n",
       "      <td>206.649349</td>\n",
       "      <td>48.0</td>\n",
       "    </tr>\n",
       "    <tr>\n",
       "      <th>Tesla</th>\n",
       "      <td>44374</td>\n",
       "      <td>1.344071e+10</td>\n",
       "      <td>5.293356e+10</td>\n",
       "      <td>1.465474e+11</td>\n",
       "      <td>1.450426e+11</td>\n",
       "      <td>3.730633e+11</td>\n",
       "      <td>2.932000e+06</td>\n",
       "      <td>477577304000</td>\n",
       "      <td>3.292231e+10</td>\n",
       "      <td>1.611449e+11</td>\n",
       "      <td>1.146351e+10</td>\n",
       "      <td>4.775773e+11</td>\n",
       "      <td>1.749331e+11</td>\n",
       "      <td>8.476468e+10</td>\n",
       "      <td>4.905543e+10</td>\n",
       "      <td>8.901459e+10</td>\n",
       "      <td>9.630870e+08</td>\n",
       "      <td>0</td>\n",
       "      <td>3</td>\n",
       "      <td>1.792980e+08</td>\n",
       "      <td>14</td>\n",
       "      <td>0</td>\n",
       "      <td>23.363573</td>\n",
       "      <td>14.832870</td>\n",
       "      <td>17.539468</td>\n",
       "      <td>108.706417</td>\n",
       "      <td>134.864269</td>\n",
       "      <td>0.0</td>\n",
       "    </tr>\n",
       "  </tbody>\n",
       "</table>\n",
       "</div>"
      ],
      "text/plain": [
       "                Year  Accounts Receivable     Inventory  Total current assets  \\\n",
       "company_name                                                                    \n",
       "Amazon        100675         2.829430e+11  3.825570e+11          1.428235e+12   \n",
       "Apple          52429         3.975220e+11  8.578300e+10          2.800189e+12   \n",
       "Facebook       44374         1.021680e+11  0.000000e+00          8.812530e+11   \n",
       "Ford           60480         4.271477e+12  3.004110e+11          3.144905e+12   \n",
       "GM             86618         1.644996e+12  5.700550e+11          3.200108e+12   \n",
       "Google         38330         3.111810e+11  1.197800e+10          2.279091e+12   \n",
       "Microsoft      64504         5.313600e+11  7.394500e+10          4.296721e+12   \n",
       "Netflix        96672         0.000000e+00  8.930012e+13          4.731783e+13   \n",
       "Tesla          44374         1.344071e+10  5.293356e+10          1.465474e+11   \n",
       "\n",
       "              Total current liabilities  Total liabilities  Common Stock  \\\n",
       "company_name                                                               \n",
       "Amazon                     1.301270e+12       2.219730e+12  2.410000e+08   \n",
       "Apple                      2.125556e+12       5.016973e+12  8.655780e+11   \n",
       "Facebook                   1.201380e+11       2.715360e+11  0.000000e+00   \n",
       "Ford                       2.622717e+12       6.070087e+12  1.188000e+09   \n",
       "GM                         2.963690e+12       6.241944e+12  5.930000e+08   \n",
       "Google                     5.004500e+11       8.594560e+11  7.801800e+11   \n",
       "Microsoft                  1.558512e+12       3.847046e+12  2.248386e+12   \n",
       "Netflix                    3.558797e+13       9.812288e+13  9.938387e+12   \n",
       "Tesla                      1.450426e+11       3.730633e+11  2.932000e+06   \n",
       "\n",
       "              Total liabilities and equity  New Deferred Revenue  \\\n",
       "company_name                                                       \n",
       "Amazon                       3044300000000          1.271290e+11   \n",
       "Apple                        8110972000000          2.627400e+11   \n",
       "Facebook                     1752395000000          2.474000e+09   \n",
       "Ford                         6941199000000          1.209010e+12   \n",
       "GM                           7959308000000          1.268860e+12   \n",
       "Google                       3849115000000          3.170500e+10   \n",
       "Microsoft                    6524922000000          8.558170e+11   \n",
       "Netflix                    124929670160000          4.226629e+12   \n",
       "Tesla                         477577304000          3.292231e+10   \n",
       "\n",
       "              New Property and Equipment  Total Non-Current Assets  \\\n",
       "company_name                                                         \n",
       "Amazon                      1.046805e+12              2.108220e+11   \n",
       "Apple                       7.421370e+11              1.740391e+12   \n",
       "Facebook                    3.430340e+11              8.617100e+10   \n",
       "Ford                        9.493500e+11              3.796294e+12   \n",
       "GM                          2.115283e+12              4.846485e+12   \n",
       "Google                      9.026310e+11              5.296800e+10   \n",
       "Microsoft                   6.628030e+11              3.780890e+11   \n",
       "Netflix                     2.671635e+12              5.674708e+12   \n",
       "Tesla                       1.611449e+11              1.146351e+10   \n",
       "\n",
       "              Total_Assets  Non-Current Liabilities  \\\n",
       "company_name                                          \n",
       "Amazon        3.044300e+12             9.184600e+11   \n",
       "Apple         8.110972e+12             2.184731e+12   \n",
       "Facebook      1.752395e+12             1.097640e+11   \n",
       "Ford          6.941199e+12             1.301248e+12   \n",
       "GM            7.959308e+12             3.278254e+12   \n",
       "Google        3.849115e+12             6.940200e+10   \n",
       "Microsoft     6.524922e+12             1.406331e+12   \n",
       "Netflix       1.249297e+14             2.205699e+12   \n",
       "Tesla         4.775773e+11             1.749331e+11   \n",
       "\n",
       "              Total Shareholder's Equity  Accounts Payables  Retained Earning  \\\n",
       "company_name                                                                    \n",
       "Amazon                      8.245700e+11       7.327650e+11      2.964710e+11   \n",
       "Apple                       3.093999e+12       9.117180e+11      2.245244e+12   \n",
       "Facebook                    2.789311e+12       9.619000e+09      6.261750e+11   \n",
       "Ford                        8.665520e+11       6.549910e+11      6.151340e+11   \n",
       "GM                          1.627338e+12       1.051662e+12      6.460360e+11   \n",
       "Google                      3.010023e+12       5.818300e+10      2.257396e+12   \n",
       "Microsoft                   2.677876e+12       2.150510e+11      3.924650e+11   \n",
       "Netflix                     2.680679e+13       2.984036e+12      1.438237e+13   \n",
       "Tesla                       8.476468e+10       4.905543e+10      8.901459e+10   \n",
       "\n",
       "                       OCI  Accounts_Receivable_missing  Common_Stock_missing  \\\n",
       "company_name                                                                    \n",
       "Amazon        2.222100e+10                            0                     0   \n",
       "Apple         3.245900e+10                            0                     0   \n",
       "Facebook      1.067900e+10                            0                    22   \n",
       "Ford          3.666120e+11                            0                     0   \n",
       "GM            2.701340e+11                            0                     2   \n",
       "Google        2.755300e+10                            0                     0   \n",
       "Microsoft     5.902300e+10                            0                     0   \n",
       "Netflix       1.688469e+11                           48                     0   \n",
       "Tesla         9.630870e+08                            0                     3   \n",
       "\n",
       "              Short_term_investments  Short_term_investments_missing  \\\n",
       "company_name                                                           \n",
       "Amazon                  2.756270e+11                               0   \n",
       "Apple                   3.774262e+12                               7   \n",
       "Facebook                5.449710e+11                               0   \n",
       "Ford                    6.122080e+11                               0   \n",
       "GM                      3.161520e+11                               3   \n",
       "Google                  1.583755e+12                               0   \n",
       "Microsoft               3.214832e+12                               0   \n",
       "Netflix                 3.380962e+12                              10   \n",
       "Tesla                   1.792980e+08                              14   \n",
       "\n",
       "              Inventory_missing  current_ratio  quick_ratio  debt_ratio  \\\n",
       "company_name                                                              \n",
       "Amazon                        0      59.065070    42.640448   34.963018   \n",
       "Apple                         0      34.278200    33.245377   15.750090   \n",
       "Facebook                     22     209.655930   209.655930    3.006712   \n",
       "Ford                          0      35.919542    32.394452   26.276471   \n",
       "GM                            0      47.476217    38.794746   33.521496   \n",
       "Google                        4      93.089222    92.671373    4.140259   \n",
       "Microsoft                     0      88.989467    87.415692   18.176794   \n",
       "Netflix                       1      66.778027    -5.657607   35.801000   \n",
       "Tesla                         0      23.363573    14.832870   17.539468   \n",
       "\n",
       "              debt_to_equity_ratio  equity_multiplier  industry  \n",
       "company_name                                                     \n",
       "Amazon                  130.548865         180.548865      50.0  \n",
       "Apple                    43.698300          69.698300      26.0  \n",
       "Facebook                  1.913864          13.727506      22.0  \n",
       "Ford                    217.926688         248.112358       0.0  \n",
       "GM                      168.980508         214.518253       0.0  \n",
       "Google                    5.295098          24.123270      19.0  \n",
       "Microsoft                46.010661          78.010661      32.0  \n",
       "Netflix                 158.649349         206.649349      48.0  \n",
       "Tesla                   108.706417         134.864269       0.0  "
      ]
     },
     "execution_count": 5,
     "metadata": {},
     "output_type": "execute_result"
    }
   ],
   "source": [
    "main_df.groupby(main_df['company_name'], sort=True).sum()"
   ]
  },
  {
   "cell_type": "code",
   "execution_count": 6,
   "metadata": {},
   "outputs": [
    {
     "data": {
      "text/plain": [
       "(292, 30)"
      ]
     },
     "execution_count": 6,
     "metadata": {},
     "output_type": "execute_result"
    }
   ],
   "source": [
    "main_df.shape"
   ]
  },
  {
   "cell_type": "code",
   "execution_count": 7,
   "metadata": {},
   "outputs": [],
   "source": [
    "tesla_df = main_df.loc[main_df['company_name']=='Tesla']"
   ]
  },
  {
   "cell_type": "code",
   "execution_count": 8,
   "metadata": {},
   "outputs": [],
   "source": [
    "tsla_index = main_df.loc[main_df['company_name']=='Tesla'].index"
   ]
  },
  {
   "cell_type": "code",
   "execution_count": 9,
   "metadata": {},
   "outputs": [
    {
     "data": {
      "text/plain": [
       "Int64Index([0, 1, 2, 3, 4, 5, 6, 7, 8, 9, 10, 11, 12, 13, 14, 15, 16, 17, 18,\n",
       "            19, 20, 21],\n",
       "           dtype='int64')"
      ]
     },
     "execution_count": 9,
     "metadata": {},
     "output_type": "execute_result"
    }
   ],
   "source": [
    "tsla_index"
   ]
  },
  {
   "cell_type": "code",
   "execution_count": 10,
   "metadata": {},
   "outputs": [],
   "source": [
    "main_df.drop(index= tsla_index, inplace=True)"
   ]
  },
  {
   "cell_type": "code",
   "execution_count": 11,
   "metadata": {},
   "outputs": [
    {
     "data": {
      "text/plain": [
       "(270, 30)"
      ]
     },
     "execution_count": 11,
     "metadata": {},
     "output_type": "execute_result"
    }
   ],
   "source": [
    "main_df.shape"
   ]
  },
  {
   "cell_type": "markdown",
   "metadata": {},
   "source": [
    "#### Correlations\n",
    "Do not look into normality at this stage. "
   ]
  },
  {
   "cell_type": "code",
   "execution_count": 12,
   "metadata": {},
   "outputs": [
    {
     "name": "stdout",
     "output_type": "stream",
     "text": [
      "[1. 0.]\n"
     ]
    },
    {
     "data": {
      "text/plain": [
       "<matplotlib.axes._subplots.AxesSubplot at 0x20f1f735f08>"
      ]
     },
     "execution_count": 12,
     "metadata": {},
     "output_type": "execute_result"
    },
    {
     "data": {
      "image/png": "[encoded data removed]",
      "text/plain": [
       "<Figure size 432x288 with 1 Axes>"
      ]
     },
     "metadata": {},
     "output_type": "display_data"
    }
   ],
   "source": [
    "# Target variable is binanry in nature. \n",
    "print(main_df['industry'].unique())\n",
    "sns.distplot(main_df['industry'])"
   ]
  },
  {
   "cell_type": "code",
   "execution_count": 13,
   "metadata": {},
   "outputs": [
    {
     "data": {
      "text/plain": [
       "Index(['Year', 'Quarter', 'Accounts Receivable', 'Inventory',\n",
       "       'Total current assets', 'Total current liabilities',\n",
       "       'Total liabilities', 'Common Stock', 'Total liabilities and equity',\n",
       "       'company_name', 'New Deferred Revenue', 'New Property and Equipment',\n",
       "       'Total Non-Current Assets', 'Total_Assets', 'Non-Current Liabilities',\n",
       "       'Total Shareholder's Equity', 'Accounts Payables', 'Retained Earning',\n",
       "       'OCI', 'Accounts_Receivable_missing', 'Common_Stock_missing',\n",
       "       'Short_term_investments', 'Short_term_investments_missing',\n",
       "       'Inventory_missing', 'current_ratio', 'quick_ratio', 'debt_ratio',\n",
       "       'debt_to_equity_ratio', 'equity_multiplier', 'industry'],\n",
       "      dtype='object')"
      ]
     },
     "execution_count": 13,
     "metadata": {},
     "output_type": "execute_result"
    }
   ],
   "source": [
    "main_df.columns"
   ]
  },
  {
   "cell_type": "code",
   "execution_count": 14,
   "metadata": {},
   "outputs": [],
   "source": [
    "company_list = main_df.company_name.unique().tolist()"
   ]
  },
  {
   "cell_type": "code",
   "execution_count": 15,
   "metadata": {},
   "outputs": [],
   "source": [
    "main_df.set_index(['Year', 'Quarter'], drop=True, inplace=True)\n",
    "main_df.sort_index(ascending=True, sort_remaining= True, inplace=True)"
   ]
  },
  {
   "cell_type": "code",
   "execution_count": 16,
   "metadata": {},
   "outputs": [
    {
     "name": "stdout",
     "output_type": "stream",
     "text": [
      "Microsoft\n"
     ]
    },
    {
     "data": {
      "image/png": "[encoded data removed]",
      "text/plain": [
       "<Figure size 432x288 with 1 Axes>"
      ]
     },
     "metadata": {},
     "output_type": "display_data"
    },
    {
     "name": "stdout",
     "output_type": "stream",
     "text": [
      "Apple\n"
     ]
    },
    {
     "data": {
      "image/png": "[encoded data removed]",
      "text/plain": [
       "<Figure size 432x288 with 1 Axes>"
      ]
     },
     "metadata": {},
     "output_type": "display_data"
    },
    {
     "name": "stdout",
     "output_type": "stream",
     "text": [
      "Netflix\n"
     ]
    },
    {
     "data": {
      "image/png": "[encoded data removed]",
      "text/plain": [
       "<Figure size 432x288 with 1 Axes>"
      ]
     },
     "metadata": {},
     "output_type": "display_data"
    },
    {
     "name": "stdout",
     "output_type": "stream",
     "text": [
      "Facebook\n"
     ]
    },
    {
     "data": {
      "image/png": "[encoded data removed]",
      "text/plain": [
       "<Figure size 432x288 with 1 Axes>"
      ]
     },
     "metadata": {},
     "output_type": "display_data"
    },
    {
     "name": "stdout",
     "output_type": "stream",
     "text": [
      "Google\n"
     ]
    },
    {
     "data": {
      "image/png": "[encoded data removed]",
      "text/plain": [
       "<Figure size 432x288 with 1 Axes>"
      ]
     },
     "metadata": {},
     "output_type": "display_data"
    },
    {
     "name": "stdout",
     "output_type": "stream",
     "text": [
      "Ford\n"
     ]
    },
    {
     "data": {
      "image/png": "[encoded data removed]",
      "text/plain": [
       "<Figure size 432x288 with 1 Axes>"
      ]
     },
     "metadata": {},
     "output_type": "display_data"
    },
    {
     "name": "stdout",
     "output_type": "stream",
     "text": [
      "Amazon\n"
     ]
    },
    {
     "data": {
      "image/png": "[encoded data removed]",
      "text/plain": [
       "<Figure size 432x288 with 1 Axes>"
      ]
     },
     "metadata": {},
     "output_type": "display_data"
    },
    {
     "name": "stdout",
     "output_type": "stream",
     "text": [
      "GM\n"
     ]
    },
    {
     "data": {
      "image/png": "[encoded data removed]",
      "text/plain": [
       "<Figure size 432x288 with 1 Axes>"
      ]
     },
     "metadata": {},
     "output_type": "display_data"
    }
   ],
   "source": [
    "# Assets should increase by time in each company\n",
    "for company in company_list:\n",
    "    print(company)\n",
    "    data = main_df.loc[main_df.company_name == company, 'Total_Assets']\n",
    "    data.plot()\n",
    "    plt.show()\n",
    "\n",
    "# Netflix needs further cleaning?\n",
    "# main_df.loc[main_df.company_name=='Netflix', 'Total_Assets']"
   ]
  },
  {
   "cell_type": "code",
   "execution_count": 17,
   "metadata": {},
   "outputs": [
    {
     "data": {
      "text/plain": [
       "False"
      ]
     },
     "execution_count": 17,
     "metadata": {},
     "output_type": "execute_result"
    }
   ],
   "source": [
    "any(main_df['Total liabilities and equity'] == main_df['Total_Assets']) == False"
   ]
  },
  {
   "cell_type": "code",
   "execution_count": 18,
   "metadata": {},
   "outputs": [
    {
     "data": {
      "text/plain": [
       "<matplotlib.axes._subplots.AxesSubplot at 0x20f21bbdf48>"
      ]
     },
     "execution_count": 18,
     "metadata": {},
     "output_type": "execute_result"
    },
    {
     "data": {
      "image/png": "[encoded data removed]",
      "text/plain": [
       "<Figure size 432x288 with 1 Axes>"
      ]
     },
     "metadata": {},
     "output_type": "display_data"
    }
   ],
   "source": [
    "x = main_df['Total_Assets']\n",
    "y = main_df['Total liabilities and equity']\n",
    "sns.scatterplot(x, y)"
   ]
  },
  {
   "cell_type": "code",
   "execution_count": 19,
   "metadata": {},
   "outputs": [],
   "source": [
    "# main_df.loc[main_df.company_name=='Netflix', 'Total_Assets']"
   ]
  },
  {
   "cell_type": "code",
   "execution_count": 20,
   "metadata": {},
   "outputs": [
    {
     "data": {
      "text/plain": [
       "Accounts Receivable               float64\n",
       "Inventory                         float64\n",
       "Total current assets              float64\n",
       "Total current liabilities         float64\n",
       "Total liabilities                 float64\n",
       "Common Stock                      float64\n",
       "Total liabilities and equity        int64\n",
       "company_name                       object\n",
       "New Deferred Revenue              float64\n",
       "New Property and Equipment        float64\n",
       "Total Non-Current Assets          float64\n",
       "Total_Assets                      float64\n",
       "Non-Current Liabilities           float64\n",
       "Total Shareholder's Equity        float64\n",
       "Accounts Payables                 float64\n",
       "Retained Earning                  float64\n",
       "OCI                               float64\n",
       "Accounts_Receivable_missing         int64\n",
       "Common_Stock_missing                int64\n",
       "Short_term_investments            float64\n",
       "Short_term_investments_missing      int64\n",
       "Inventory_missing                   int64\n",
       "current_ratio                     float64\n",
       "quick_ratio                       float64\n",
       "debt_ratio                        float64\n",
       "debt_to_equity_ratio              float64\n",
       "equity_multiplier                 float64\n",
       "industry                          float64\n",
       "dtype: object"
      ]
     },
     "execution_count": 20,
     "metadata": {},
     "output_type": "execute_result"
    }
   ],
   "source": [
    "# non-integer-and-float data types will be dropped from the dataframe.\n",
    "main_df.dtypes"
   ]
  },
  {
   "cell_type": "code",
   "execution_count": 21,
   "metadata": {},
   "outputs": [],
   "source": [
    "# Take out the categoriacal variables. \n",
    "no_cat_list = [name for name in main_df.columns.tolist() if main_df[name].dtypes != object]"
   ]
  },
  {
   "cell_type": "code",
   "execution_count": 22,
   "metadata": {},
   "outputs": [],
   "source": [
    "no_cat_df = main_df[no_cat_list]"
   ]
  },
  {
   "cell_type": "code",
   "execution_count": 23,
   "metadata": {},
   "outputs": [],
   "source": [
    "# Take out the indicator variables. \n",
    "filtered_list = [name for name in no_cat_df.columns.tolist() if 'missing' not in name]"
   ]
  },
  {
   "cell_type": "code",
   "execution_count": 24,
   "metadata": {},
   "outputs": [],
   "source": [
    "filtered_df = no_cat_df[filtered_list]"
   ]
  },
  {
   "cell_type": "code",
   "execution_count": 25,
   "metadata": {},
   "outputs": [
    {
     "data": {
      "text/html": [
       "<div>\n",
       "<style scoped>\n",
       "    .dataframe tbody tr th:only-of-type {\n",
       "        vertical-align: middle;\n",
       "    }\n",
       "\n",
       "    .dataframe tbody tr th {\n",
       "        vertical-align: top;\n",
       "    }\n",
       "\n",
       "    .dataframe thead th {\n",
       "        text-align: right;\n",
       "    }\n",
       "</style>\n",
       "<table border=\"1\" class=\"dataframe\">\n",
       "  <thead>\n",
       "    <tr style=\"text-align: right;\">\n",
       "      <th></th>\n",
       "      <th></th>\n",
       "      <th>Accounts Receivable</th>\n",
       "      <th>Inventory</th>\n",
       "      <th>Total current assets</th>\n",
       "      <th>Total current liabilities</th>\n",
       "      <th>Total liabilities</th>\n",
       "      <th>Common Stock</th>\n",
       "      <th>Total liabilities and equity</th>\n",
       "      <th>New Deferred Revenue</th>\n",
       "      <th>New Property and Equipment</th>\n",
       "      <th>Total Non-Current Assets</th>\n",
       "      <th>Total_Assets</th>\n",
       "      <th>Non-Current Liabilities</th>\n",
       "      <th>Total Shareholder's Equity</th>\n",
       "      <th>Accounts Payables</th>\n",
       "      <th>Retained Earning</th>\n",
       "      <th>OCI</th>\n",
       "      <th>Short_term_investments</th>\n",
       "      <th>current_ratio</th>\n",
       "      <th>quick_ratio</th>\n",
       "      <th>debt_ratio</th>\n",
       "      <th>debt_to_equity_ratio</th>\n",
       "      <th>equity_multiplier</th>\n",
       "      <th>industry</th>\n",
       "    </tr>\n",
       "    <tr>\n",
       "      <th>Year</th>\n",
       "      <th>Quarter</th>\n",
       "      <th></th>\n",
       "      <th></th>\n",
       "      <th></th>\n",
       "      <th></th>\n",
       "      <th></th>\n",
       "      <th></th>\n",
       "      <th></th>\n",
       "      <th></th>\n",
       "      <th></th>\n",
       "      <th></th>\n",
       "      <th></th>\n",
       "      <th></th>\n",
       "      <th></th>\n",
       "      <th></th>\n",
       "      <th></th>\n",
       "      <th></th>\n",
       "      <th></th>\n",
       "      <th></th>\n",
       "      <th></th>\n",
       "      <th></th>\n",
       "      <th></th>\n",
       "      <th></th>\n",
       "      <th></th>\n",
       "    </tr>\n",
       "  </thead>\n",
       "  <tbody>\n",
       "    <tr>\n",
       "      <th>2007</th>\n",
       "      <th>Q4</th>\n",
       "      <td>399000000.0</td>\n",
       "      <td>8.770000e+08</td>\n",
       "      <td>3.373000e+09</td>\n",
       "      <td>2.532000e+09</td>\n",
       "      <td>3.932000e+09</td>\n",
       "      <td>4000000.0</td>\n",
       "      <td>4363000000</td>\n",
       "      <td>277000000.0</td>\n",
       "      <td>457000000.0</td>\n",
       "      <td>139000000.0</td>\n",
       "      <td>4.363000e+09</td>\n",
       "      <td>1.400000e+09</td>\n",
       "      <td>4.310000e+08</td>\n",
       "      <td>1.816000e+09</td>\n",
       "      <td>1.837000e+09</td>\n",
       "      <td>1000000.0</td>\n",
       "      <td>997000000.0</td>\n",
       "      <td>1.332148</td>\n",
       "      <td>0.985782</td>\n",
       "      <td>0.901215</td>\n",
       "      <td>9.122970</td>\n",
       "      <td>10.122970</td>\n",
       "      <td>1.0</td>\n",
       "    </tr>\n",
       "    <tr>\n",
       "      <th>2008</th>\n",
       "      <th>Q1</th>\n",
       "      <td>581000000.0</td>\n",
       "      <td>1.077000e+09</td>\n",
       "      <td>3.965000e+09</td>\n",
       "      <td>3.551000e+09</td>\n",
       "      <td>4.413000e+09</td>\n",
       "      <td>4000000.0</td>\n",
       "      <td>5883000000</td>\n",
       "      <td>436000000.0</td>\n",
       "      <td>594000000.0</td>\n",
       "      <td>652000000.0</td>\n",
       "      <td>5.883000e+09</td>\n",
       "      <td>8.620000e+08</td>\n",
       "      <td>1.470000e+09</td>\n",
       "      <td>1.864000e+09</td>\n",
       "      <td>1.232000e+09</td>\n",
       "      <td>7000000.0</td>\n",
       "      <td>655000000.0</td>\n",
       "      <td>1.116587</td>\n",
       "      <td>0.813292</td>\n",
       "      <td>0.750127</td>\n",
       "      <td>3.002041</td>\n",
       "      <td>4.002041</td>\n",
       "      <td>1.0</td>\n",
       "    </tr>\n",
       "  </tbody>\n",
       "</table>\n",
       "</div>"
      ],
      "text/plain": [
       "              Accounts Receivable     Inventory  Total current assets  \\\n",
       "Year Quarter                                                            \n",
       "2007 Q4               399000000.0  8.770000e+08          3.373000e+09   \n",
       "2008 Q1               581000000.0  1.077000e+09          3.965000e+09   \n",
       "\n",
       "              Total current liabilities  Total liabilities  Common Stock  \\\n",
       "Year Quarter                                                               \n",
       "2007 Q4                    2.532000e+09       3.932000e+09     4000000.0   \n",
       "2008 Q1                    3.551000e+09       4.413000e+09     4000000.0   \n",
       "\n",
       "              Total liabilities and equity  New Deferred Revenue  \\\n",
       "Year Quarter                                                       \n",
       "2007 Q4                         4363000000           277000000.0   \n",
       "2008 Q1                         5883000000           436000000.0   \n",
       "\n",
       "              New Property and Equipment  Total Non-Current Assets  \\\n",
       "Year Quarter                                                         \n",
       "2007 Q4                      457000000.0               139000000.0   \n",
       "2008 Q1                      594000000.0               652000000.0   \n",
       "\n",
       "              Total_Assets  Non-Current Liabilities  \\\n",
       "Year Quarter                                          \n",
       "2007 Q4       4.363000e+09             1.400000e+09   \n",
       "2008 Q1       5.883000e+09             8.620000e+08   \n",
       "\n",
       "              Total Shareholder's Equity  Accounts Payables  Retained Earning  \\\n",
       "Year Quarter                                                                    \n",
       "2007 Q4                     4.310000e+08       1.816000e+09      1.837000e+09   \n",
       "2008 Q1                     1.470000e+09       1.864000e+09      1.232000e+09   \n",
       "\n",
       "                    OCI  Short_term_investments  current_ratio  quick_ratio  \\\n",
       "Year Quarter                                                                  \n",
       "2007 Q4       1000000.0             997000000.0       1.332148     0.985782   \n",
       "2008 Q1       7000000.0             655000000.0       1.116587     0.813292   \n",
       "\n",
       "              debt_ratio  debt_to_equity_ratio  equity_multiplier  industry  \n",
       "Year Quarter                                                                 \n",
       "2007 Q4         0.901215              9.122970          10.122970       1.0  \n",
       "2008 Q1         0.750127              3.002041           4.002041       1.0  "
      ]
     },
     "execution_count": 25,
     "metadata": {},
     "output_type": "execute_result"
    }
   ],
   "source": [
    "filtered_df.head(2)"
   ]
  },
  {
   "cell_type": "code",
   "execution_count": 26,
   "metadata": {},
   "outputs": [
    {
     "data": {
      "text/plain": [
       "<matplotlib.axes._subplots.AxesSubplot at 0x20f1ff19308>"
      ]
     },
     "execution_count": 26,
     "metadata": {},
     "output_type": "execute_result"
    },
    {
     "data": {
      "image/png": "[encoded data removed]",
      "text/plain": [
       "<Figure size 864x648 with 2 Axes>"
      ]
     },
     "metadata": {},
     "output_type": "display_data"
    }
   ],
   "source": [
    "# Heatmap to show correlation among the continuous variable. \n",
    "corrmat = filtered_df.corr()\n",
    "f, ax = plt.subplots(figsize=(12,9))\n",
    "\n",
    "# Aim: see who is related to who, to increase predicatability and control over-inflated statistical significance. \n",
    "sns.heatmap(corrmat, vmax=.8, square=True, center=0)"
   ]
  },
  {
   "cell_type": "code",
   "execution_count": 2,
   "metadata": {},
   "outputs": [
    {
     "ename": "NameError",
     "evalue": "name 'corrmat' is not defined",
     "output_type": "error",
     "traceback": [
      "\u001b[1;31m---------------------------------------------------------------------------\u001b[0m",
      "\u001b[1;31mNameError\u001b[0m                                 Traceback (most recent call last)",
      "\u001b[1;32m<ipython-input-2-fc5f38c979bf>\u001b[0m in \u001b[0;36m<module>\u001b[1;34m\u001b[0m\n\u001b[0;32m      2\u001b[0m \u001b[1;31m# Aim: find multicollinearity copies\u001b[0m\u001b[1;33m\u001b[0m\u001b[1;33m\u001b[0m\u001b[1;33m\u001b[0m\u001b[0m\n\u001b[0;32m      3\u001b[0m \u001b[0mnum_of_var\u001b[0m \u001b[1;33m=\u001b[0m \u001b[1;36m10\u001b[0m \u001b[1;31m# number of var for heatmap\u001b[0m\u001b[1;33m\u001b[0m\u001b[1;33m\u001b[0m\u001b[0m\n\u001b[1;32m----> 4\u001b[1;33m \u001b[0mcols\u001b[0m \u001b[1;33m=\u001b[0m \u001b[0mcorrmat\u001b[0m\u001b[1;33m.\u001b[0m\u001b[0mnlargest\u001b[0m\u001b[1;33m(\u001b[0m\u001b[0mnum_of_var\u001b[0m\u001b[1;33m,\u001b[0m \u001b[1;34m'industry'\u001b[0m\u001b[1;33m)\u001b[0m\u001b[1;33m[\u001b[0m\u001b[1;34m'industry'\u001b[0m\u001b[1;33m]\u001b[0m\u001b[1;33m.\u001b[0m\u001b[0mindex\u001b[0m\u001b[1;33m\u001b[0m\u001b[1;33m\u001b[0m\u001b[0m\n\u001b[0m\u001b[0;32m      5\u001b[0m \u001b[0mcm\u001b[0m \u001b[1;33m=\u001b[0m \u001b[0mnp\u001b[0m\u001b[1;33m.\u001b[0m\u001b[0mcorrcoef\u001b[0m\u001b[1;33m(\u001b[0m\u001b[0mmain_df\u001b[0m\u001b[1;33m[\u001b[0m\u001b[0mcols\u001b[0m\u001b[1;33m]\u001b[0m\u001b[1;33m.\u001b[0m\u001b[0mvalues\u001b[0m\u001b[1;33m.\u001b[0m\u001b[0mT\u001b[0m\u001b[1;33m)\u001b[0m\u001b[1;33m\u001b[0m\u001b[1;33m\u001b[0m\u001b[0m\n\u001b[0;32m      6\u001b[0m \u001b[0msns\u001b[0m\u001b[1;33m.\u001b[0m\u001b[0mset\u001b[0m\u001b[1;33m(\u001b[0m\u001b[0mfont_scale\u001b[0m\u001b[1;33m=\u001b[0m\u001b[1;36m1.2\u001b[0m\u001b[1;33m)\u001b[0m\u001b[1;33m\u001b[0m\u001b[1;33m\u001b[0m\u001b[0m\n",
      "\u001b[1;31mNameError\u001b[0m: name 'corrmat' is not defined"
     ]
    }
   ],
   "source": [
    "# Zoomed heatmap on highest correlations\n",
    "# Aim: find multicollinearity copies\n",
    "num_of_var = 10 # number of var for heatmap\n",
    "cols = corrmat.nlargest(num_of_var, 'industry')['industry'].index\n",
    "cm = np.corrcoef(main_df[cols].values.T)\n",
    "sns.set(font_scale=1.2)\n",
    "\n",
    "mask = np.zeros_like(cm)\n",
    "mask[np.triu_indices_from(mask)] = True\n",
    "\n",
    "with sns.axes_style('white'):\n",
    "    f, ax = plt.subplots(figsize=(11,11))\n",
    "    ax = sns.heatmap(data=cm, \n",
    "                 cbar=True, \n",
    "                 annot=True, \n",
    "                 square=True, \n",
    "                 fmt='.2f', \n",
    "#                  cmap='YlGn',\n",
    "                 center=0.5,\n",
    "                 mask=mask,\n",
    "                 annot_kws={'size':10}, \n",
    "                 yticklabels=cols.values, \n",
    "                 xticklabels=cols.values)\n",
    "plt.show()\n"
   ]
  },
  {
   "cell_type": "markdown",
   "metadata": {},
   "source": [
    "According to the heatmap, these are the variables most correlated with 'industry' is current ratio, this is a Point-Biserial Correlation but still in\n",
    "\n",
    "- Missing features 'Inventory_missing' & 'Common_Stock_missing' have high correlations with current_ratio and quick_ratio, which is understandable given these ratio calculations are based on inventory but not immediately apprant for missing_values for common stock. This maybe due to the same companies missing common stock data are the same companies with a higher current ratio.\n",
    "\n",
    "Not surprisingly Common Stock and Retained Earnings are highly correlated with Total Shareholders's Equity.\n",
    "\n",
    "Now we will zoom in to see the spread of data for associations with low correlations only; thereby avoiding multicollinearity (we will achieve this by only displaying of the variables with high correlation (0.8).) and will reduce clutter. "
   ]
  },
  {
   "cell_type": "code",
   "execution_count": 28,
   "metadata": {},
   "outputs": [
    {
     "name": "stderr",
     "output_type": "stream",
     "text": [
      "C:\\Users\\Matthew\\Anaconda3\\lib\\site-packages\\seaborn\\axisgrid.py:2071: UserWarning: The `size` parameter has been renamed to `height`; please update your code.\n",
      "  warnings.warn(msg, UserWarning)\n"
     ]
    },
    {
     "data": {
      "image/png": "[encoded data removed]",
      "text/plain": [
       "<Figure size 1440x1440 with 72 Axes>"
      ]
     },
     "metadata": {},
     "output_type": "display_data"
    }
   ],
   "source": [
    "# Scatterplot on non-violating multicollinearity features.\n",
    "# Aim: Find outliers in the predictors and assure linearity between predictors.\n",
    "sns.set()\n",
    "cols = ['industry', 'current_ratio', 'Accounts_Receivable_missing',\n",
    "       'Short_term_investments', 'Inventory_missing',\n",
    "       'Common_Stock_missing',  'Common Stock',\n",
    "       'Retained Earning']\n",
    "\n",
    "sns.pairplot(main_df[cols], size = 2.5)\n",
    "plt.show()"
   ]
  },
  {
   "cell_type": "markdown",
   "metadata": {},
   "source": [
    "Unfortunately our statistical power is too small and maybe limited by the research questions itself to show the typical bloom of insights provided by scatterplots. <br/>\n",
    "Or the relationships cannot be visually determined by scatterplots. <br/>\n",
    "However we do see interesting 'exponential-like' relationships between (current-ratio & Short_term_investments)\n"
   ]
  },
  {
   "cell_type": "markdown",
   "metadata": {},
   "source": [
    "## Data Preprocessing\n",
    "<a href='#top'>Top of Page</a>"
   ]
  },
  {
   "cell_type": "markdown",
   "metadata": {},
   "source": [
    "### Feature Transformation"
   ]
  },
  {
   "cell_type": "code",
   "execution_count": null,
   "metadata": {},
   "outputs": [],
   "source": [
    "#  Delete columns that will not be needed in Experiment 1.1.\n",
    "main_df_1_1 = main_df.copy()\n",
    "main_df_1_1.drop('Filing/Acc.No.', axis=1, inplace=True)\n",
    "main_df_1_1.drop('company_name', axis=1, inplace=True)"
   ]
  },
  {
   "cell_type": "code",
   "execution_count": null,
   "metadata": {},
   "outputs": [],
   "source": [
    "#  Delete columns that will not be needed in Experiment 1.2.\n",
    "main_df_1_2 = main_df.copy()\n",
    "main_df_1_2.drop('Filing/Acc.No.', axis=1, inplace=True)"
   ]
  },
  {
   "cell_type": "code",
   "execution_count": null,
   "metadata": {
    "scrolled": true
   },
   "outputs": [],
   "source": [
    "print(main_df.shape)\n",
    "print(main_df_1_1.dtypes)\n",
    "print(main_df_1_2.shape)"
   ]
  },
  {
   "cell_type": "markdown",
   "metadata": {},
   "source": [
    "A comparison of results between Scikit-Learn built-in preprocessing methods and Brown's transformation on Tesla_dataframe is provided in the appendix. Scikit-Learns methodology proved to "
   ]
  },
  {
   "cell_type": "markdown",
   "metadata": {},
   "source": [
    "#### Normalization\n",
    "Normality need not to be assumed, let's see how the model performs first. We will try this if the unknown pattern cannot be mapped under the current parameter settings."
   ]
  },
  {
   "cell_type": "markdown",
   "metadata": {},
   "source": [
    "##### Normality testing \n",
    "###### Histogram "
   ]
  },
  {
   "cell_type": "code",
   "execution_count": 41,
   "metadata": {
    "collapsed": true,
    "jupyter": {
     "outputs_hidden": true
    }
   },
   "outputs": [
    {
     "name": "stdout",
     "output_type": "stream",
     "text": [
      "Microsoft\n"
     ]
    },
    {
     "data": {
      "image/png": "[encoded data removed]",
      "text/plain": [
       "<Figure size 432x288 with 1 Axes>"
      ]
     },
     "metadata": {},
     "output_type": "display_data"
    },
    {
     "name": "stdout",
     "output_type": "stream",
     "text": [
      "Apple\n"
     ]
    },
    {
     "data": {
      "image/png": "[encoded data removed]",
      "text/plain": [
       "<Figure size 432x288 with 1 Axes>"
      ]
     },
     "metadata": {},
     "output_type": "display_data"
    },
    {
     "name": "stdout",
     "output_type": "stream",
     "text": [
      "Netflix\n"
     ]
    },
    {
     "data": {
      "image/png": "[encoded data removed]",
      "text/plain": [
       "<Figure size 432x288 with 1 Axes>"
      ]
     },
     "metadata": {},
     "output_type": "display_data"
    },
    {
     "name": "stdout",
     "output_type": "stream",
     "text": [
      "Facebook\n"
     ]
    },
    {
     "data": {
      "image/png": "[encoded data removed]",
      "text/plain": [
       "<Figure size 432x288 with 1 Axes>"
      ]
     },
     "metadata": {},
     "output_type": "display_data"
    },
    {
     "name": "stdout",
     "output_type": "stream",
     "text": [
      "Google\n"
     ]
    },
    {
     "data": {
      "image/png": "[encoded data removed]",
      "text/plain": [
       "<Figure size 432x288 with 1 Axes>"
      ]
     },
     "metadata": {},
     "output_type": "display_data"
    },
    {
     "name": "stdout",
     "output_type": "stream",
     "text": [
      "Ford\n"
     ]
    },
    {
     "data": {
      "image/png": "[encoded data removed]",
      "text/plain": [
       "<Figure size 432x288 with 1 Axes>"
      ]
     },
     "metadata": {},
     "output_type": "display_data"
    },
    {
     "name": "stdout",
     "output_type": "stream",
     "text": [
      "Amazon\n"
     ]
    },
    {
     "data": {
      "image/png": "[encoded data removed]",
      "text/plain": [
       "<Figure size 432x288 with 1 Axes>"
      ]
     },
     "metadata": {},
     "output_type": "display_data"
    },
    {
     "name": "stdout",
     "output_type": "stream",
     "text": [
      "GM\n"
     ]
    },
    {
     "data": {
      "image/png": "[encoded data removed]",
      "text/plain": [
       "<Figure size 432x288 with 1 Axes>"
      ]
     },
     "metadata": {},
     "output_type": "display_data"
    }
   ],
   "source": [
    "# dist. of total_assets_liabities should hv normal dist in each industry (x-axis=frequency, y-axis=Total_assets_liabilities)\n",
    "for company in company_list:\n",
    "    print(company)\n",
    "    data = main_df.loc[main_df.company_name == company, 'Total_Assets']\n",
    "    data.hist()\n",
    "#     plt.show()"
   ]
  },
  {
   "cell_type": "markdown",
   "metadata": {},
   "source": [
    "###### Testing distribution "
   ]
  },
  {
   "cell_type": "code",
   "execution_count": 38,
   "metadata": {},
   "outputs": [],
   "source": [
    "import scipy.stats as st\n",
    "def get_best_distribution(data):\n",
    "    dist_names = [\"norm\", \"exponweib\", \"weibull_max\", \"weibull_min\", \"pareto\", \"genextreme\"]\n",
    "    dist_results = []\n",
    "    params = {}\n",
    "    for dist_name in dist_names:\n",
    "        dist = getattr(st, dist_name)\n",
    "        param = dist.fit(data)\n",
    "\n",
    "        params[dist_name] = param\n",
    "        # Applying the Kolmogorov-Smirnov test\n",
    "        D, p = st.kstest(data, dist_name, args=param)\n",
    "#         print(\"p value for \"+dist_name+\" = \"+str(p))\n",
    "        dist_results.append((dist_name, p))\n",
    "\n",
    "    # select the best fitted distribution\n",
    "    best_dist, best_p = (max(dist_results, key=lambda item: item[1]))\n",
    "    # store the name of the best fit and its p value\n",
    "\n",
    "    print(\"Best fitting distribution: \"+str(best_dist))\n",
    "    print(\"Best p value: \"+ str(best_p))\n",
    "    print(\"Parameters for the best fit: \"+ str(params[best_dist]))\n",
    "\n",
    "    return best_dist, best_p, params[best_dist]"
   ]
  },
  {
   "cell_type": "code",
   "execution_count": 39,
   "metadata": {
    "collapsed": true,
    "jupyter": {
     "outputs_hidden": true
    }
   },
   "outputs": [
    {
     "name": "stdout",
     "output_type": "stream",
     "text": [
      "Microsoft\n"
     ]
    },
    {
     "name": "stderr",
     "output_type": "stream",
     "text": [
      "C:\\Users\\Matthew\\Anaconda3\\lib\\site-packages\\scipy\\stats\\_continuous_distns.py:1678: RuntimeWarning: invalid value encountered in add\n",
      "  negxc + sc.xlogy(c - 1.0, x))\n",
      "C:\\Users\\Matthew\\Anaconda3\\lib\\site-packages\\scipy\\stats\\_distn_infrastructure.py:2429: RuntimeWarning: invalid value encountered in double_scalars\n",
      "  Lhat = muhat - Shat*mu\n"
     ]
    },
    {
     "name": "stdout",
     "output_type": "stream",
     "text": [
      "Best fitting distribution: norm\n",
      "Best p value: 0.33840840831389996\n",
      "Parameters for the best fit: (203903812500.0, 52949141153.58571)\n",
      "\n",
      "Apple\n",
      "Best fitting distribution: genextreme\n",
      "Best p value: 0.9050776585019191\n",
      "Parameters for the best fit: (0.44921635296485074, 297900429340.9983, 55197862250.25093)\n",
      "\n",
      "Netflix\n",
      "Best fitting distribution: pareto\n",
      "Best p value: 0.11302752473245337\n",
      "Parameters for the best fit: (0.242817350071899, -1108680.3019976565, 493239680.3019936)\n",
      "\n",
      "Facebook\n",
      "Best fitting distribution: norm\n",
      "Best p value: 0.9188963860883852\n",
      "Parameters for the best fit: (79654318181.81818, 29906252724.725044)\n",
      "\n",
      "Google\n",
      "Best fitting distribution: norm\n",
      "Best p value: 0.8718978415215498\n",
      "Parameters for the best fit: (202585000000.0, 43825707039.06195)\n",
      "\n",
      "Ford\n",
      "Best fitting distribution: norm\n",
      "Best p value: 0.3824977986064515\n",
      "Parameters for the best fit: (231373300000.0, 26701976403.941837)\n",
      "\n",
      "Amazon\n",
      "Best fitting distribution: weibull_min\n",
      "Best p value: 0.9836372269361477\n",
      "Parameters for the best fit: (0.7947832154543998, 4362999999.999999, 51576408607.46005)\n",
      "\n",
      "GM\n",
      "Best fitting distribution: norm\n",
      "Best p value: 0.30786966796386184\n",
      "Parameters for the best fit: (185100186046.51163, 36020557332.21693)\n",
      "\n"
     ]
    }
   ],
   "source": [
    "for company in company_list:\n",
    "    print(company)\n",
    "    data = main_df.loc[main_df.company_name == company, 'Total_Assets']\n",
    "    get_best_distribution(data) \n",
    "    print()"
   ]
  },
  {
   "cell_type": "markdown",
   "metadata": {},
   "source": [
    "Decided to use Brown's method.\n",
    "\n",
    "Inversion would not make sense in our case since we are not predicting variables as assumed in the Brown article, and we are not comparing a model performance (predictive or classifier or otherwise). \n",
    "\n",
    "***Here transforming acheives only one goal to standardise our different companies, so that reported financials can be compared directly accross companies.***"
   ]
  },
  {
   "cell_type": "markdown",
   "metadata": {},
   "source": [
    "Brown Article on Time-Series Data Transformation for Machine Learning - https://machinelearningmastery.com/remove-trends-seasonality-difference-transform-python/#:~:text=Stationary%20Time%20Series,-The%20observations%20in&text=Time%20series%20are%20stationary%20if,the%20variance%20of%20the%20observations."
   ]
  },
  {
   "cell_type": "code",
   "execution_count": null,
   "metadata": {},
   "outputs": [],
   "source": [
    "def brown_transform(col_name, s, window):\n",
    "    # Create a list to hold parameter information before transformation.\n",
    "    para_list = []\n",
    "    \n",
    "    # Each Series -> variable s\n",
    "    s = df[col_name]\n",
    "\n",
    "    # Power Transform\n",
    "    try:\n",
    "        result, lmbda = boxcox(s)\n",
    "#         print('box_cox')\n",
    "#         print(lmbda)\n",
    "        para_list.append(['B-C', lmbda])\n",
    "        \n",
    "    except ValueError:\n",
    "        result, lmbda = yeojohnson(s.values.reshape(-1,1))\n",
    "#         print('Yeo-Johnson')\n",
    "        \n",
    "        if type(lmbda) == np.float64:\n",
    "            para_list.append(['Y-J', lmbda])\n",
    "            \n",
    "        else:\n",
    "    #         print(f'lambda {lmbda} {type(lmbda)}')\n",
    "            lmbda = lmbda[0]\n",
    "            para_list.append(['Y-J', lmbda])\n",
    "        \n",
    "    # Difference Transform\n",
    "    diff_res = difference(result, window)\n",
    "\n",
    "    # StandardScaler\n",
    "    # Turn 1-D array of lists into a 2-D array \n",
    "    diff_res = np.array(diff_res).reshape(len(diff_res), 1)\n",
    "    \n",
    "    para_list.append(np.mean(diff_res))\n",
    "    para_list.append(np.std(diff_res))\n",
    "    \n",
    "    standard_res = StandardScaler().fit_transform(diff_res)\n",
    "\n",
    "    # Normalization\n",
    "#     para_list.append(min(standard_res)[0])\n",
    "#     para_list.append(max(standard_res)[0])\n",
    "    \n",
    "    norm_res = MinMaxScaler(feature_range=(1,2)).fit_transform(standard_res)\n",
    "    norm_res = [ s[0] for s in norm_res]\n",
    "    trans_para_.update({ col_name : para_list} )\n",
    "    \n",
    "    return norm_res"
   ]
  },
  {
   "cell_type": "markdown",
   "metadata": {},
   "source": [
    "The above preprocessing steps do not require a GridSearch to optimise parameter tuning. \n",
    "\n",
    "**Power Transform:** Boxcox() automates the lambda parameter by maximising  the log likelihood function for non-negative power transformations.\n",
    "\n",
    "Since our data contains negative, zero-values, and postive values. BoxCox limitations in negative numerals is handled by Y-J; while zero values are handled by BoxCox which cannot be handled by Y-J.\n",
    "\n",
    "**Difference Transform** Utilises the value difference between t=0 and t+=interval to smooth out trends and seasonality. Since our data is quarterly based, interval = 4.\n",
    "\n",
    "**StandardScaler** Uses the mean and sd to normalise the data with zero mean and unit variance. \n",
    "\n",
    "**Normalization** Scales the data to fit with a predefined range (usually 0-1) for better comparison. \n",
    "\n",
    "Therefore, parameter tuning for preprocessing steps is unnecessary."
   ]
  },
  {
   "cell_type": "markdown",
   "metadata": {},
   "source": [
    "In order to prevent data leakage we will split the training and testing data first and apply training preprocessing parameters to the test set. [see previous code as reference](#expt1.1) <br/> \n",
    "Transform only skewed data?"
   ]
  },
  {
   "cell_type": "markdown",
   "metadata": {},
   "source": [
    "### Feature Extraction\n",
    "PCA - Dimensionality Reduction "
   ]
  },
  {
   "cell_type": "code",
   "execution_count": null,
   "metadata": {},
   "outputs": [],
   "source": []
  },
  {
   "cell_type": "markdown",
   "metadata": {},
   "source": [
    "### Feature Selection"
   ]
  },
  {
   "cell_type": "markdown",
   "metadata": {},
   "source": [
    "###### Old Tests Feature Selection\n",
    "3 Methods: <br/>\n",
    "**Categorical Feature Selection**<br/>\n",
    "**Numerical Feature Selection — Regression Problem**<br/>\n",
    "**Wrapper** "
   ]
  },
  {
   "cell_type": "markdown",
   "metadata": {},
   "source": [
    "Wrapper Method\n",
    "sklearn.feature_selection.RFECV <br/>\n",
    "https://scikit-learn.org/stable/modules/generated/sklearn.feature_selection.RFECV.html\n",
    "\n",
    "Example<br/>\n",
    "https://towardsdatascience.com/how-to-find-the-best-predictors-for-ml-algorithms-4b28a71a8a80"
   ]
  },
  {
   "cell_type": "markdown",
   "metadata": {},
   "source": [
    "##### Recursive feature elimination with cross-validation\n",
    "sklearn.feature_selection.RFECV"
   ]
  },
  {
   "cell_type": "code",
   "execution_count": 29,
   "metadata": {},
   "outputs": [],
   "source": [
    "from sklearn.feature_selection import RFECV\n",
    "import sklearn.linear_model as lm"
   ]
  },
  {
   "cell_type": "code",
   "execution_count": 30,
   "metadata": {},
   "outputs": [
    {
     "name": "stdout",
     "output_type": "stream",
     "text": [
      "(270, 26)\n"
     ]
    }
   ],
   "source": [
    "X = main_df.drop(axis=1, columns=['company_name','industry'])\n",
    "print(X.shape)\n",
    "y = main_df.industry"
   ]
  },
  {
   "cell_type": "markdown",
   "metadata": {},
   "source": [
    " Let's say we want to shave off bottom three predictors or the 23 most 'helpful' predictors. </br>\n",
    " We can specify this number by assigning a value to min_features_to_select."
   ]
  },
  {
   "cell_type": "code",
   "execution_count": 31,
   "metadata": {},
   "outputs": [
    {
     "name": "stdout",
     "output_type": "stream",
     "text": [
      "[False False  True  True  True  True  True  True  True  True  True  True\n",
      "  True  True  True  True  True  True  True  True  True  True  True False\n",
      "  True  True]\n",
      "23\n"
     ]
    },
    {
     "name": "stderr",
     "output_type": "stream",
     "text": [
      "C:\\Users\\Matthew\\Anaconda3\\lib\\site-packages\\sklearn\\linear_model\\_logistic.py:764: ConvergenceWarning: lbfgs failed to converge (status=2):\n",
      "ABNORMAL_TERMINATION_IN_LNSRCH.\n",
      "\n",
      "Increase the number of iterations (max_iter) or scale the data as shown in:\n",
      "    https://scikit-learn.org/stable/modules/preprocessing.html\n",
      "Please also refer to the documentation for alternative solver options:\n",
      "    https://scikit-learn.org/stable/modules/linear_model.html#logistic-regression\n",
      "  extra_warning_msg=_LOGISTIC_SOLVER_CONVERGENCE_MSG)\n",
      "C:\\Users\\Matthew\\Anaconda3\\lib\\site-packages\\sklearn\\linear_model\\_logistic.py:764: ConvergenceWarning: lbfgs failed to converge (status=2):\n",
      "ABNORMAL_TERMINATION_IN_LNSRCH.\n",
      "\n",
      "Increase the number of iterations (max_iter) or scale the data as shown in:\n",
      "    https://scikit-learn.org/stable/modules/preprocessing.html\n",
      "Please also refer to the documentation for alternative solver options:\n",
      "    https://scikit-learn.org/stable/modules/linear_model.html#logistic-regression\n",
      "  extra_warning_msg=_LOGISTIC_SOLVER_CONVERGENCE_MSG)\n",
      "C:\\Users\\Matthew\\Anaconda3\\lib\\site-packages\\sklearn\\linear_model\\_logistic.py:764: ConvergenceWarning: lbfgs failed to converge (status=2):\n",
      "ABNORMAL_TERMINATION_IN_LNSRCH.\n",
      "\n",
      "Increase the number of iterations (max_iter) or scale the data as shown in:\n",
      "    https://scikit-learn.org/stable/modules/preprocessing.html\n",
      "Please also refer to the documentation for alternative solver options:\n",
      "    https://scikit-learn.org/stable/modules/linear_model.html#logistic-regression\n",
      "  extra_warning_msg=_LOGISTIC_SOLVER_CONVERGENCE_MSG)\n",
      "C:\\Users\\Matthew\\Anaconda3\\lib\\site-packages\\sklearn\\linear_model\\_logistic.py:764: ConvergenceWarning: lbfgs failed to converge (status=2):\n",
      "ABNORMAL_TERMINATION_IN_LNSRCH.\n",
      "\n",
      "Increase the number of iterations (max_iter) or scale the data as shown in:\n",
      "    https://scikit-learn.org/stable/modules/preprocessing.html\n",
      "Please also refer to the documentation for alternative solver options:\n",
      "    https://scikit-learn.org/stable/modules/linear_model.html#logistic-regression\n",
      "  extra_warning_msg=_LOGISTIC_SOLVER_CONVERGENCE_MSG)\n"
     ]
    }
   ],
   "source": [
    "estimator = lm.LogisticRegression()\n",
    "selector = RFECV(estimator,  step=0.1, cv=3, n_jobs=-1, min_features_to_select=23)\n",
    "selector = selector.fit(X,y)\n",
    "print(selector.support_)\n",
    "print(selector.n_features_)"
   ]
  },
  {
   "cell_type": "code",
   "execution_count": 32,
   "metadata": {},
   "outputs": [
    {
     "data": {
      "text/plain": [
       "array([3, 2, 1, 1, 1, 1, 1, 1, 1, 1, 1, 1, 1, 1, 1, 1, 1, 1, 1, 1, 1, 1,\n",
       "       1, 3, 1, 1])"
      ]
     },
     "execution_count": 32,
     "metadata": {},
     "output_type": "execute_result"
    }
   ],
   "source": [
    "selector.ranking_"
   ]
  },
  {
   "cell_type": "code",
   "execution_count": 33,
   "metadata": {},
   "outputs": [
    {
     "data": {
      "text/plain": [
       "{'cv': 3,\n",
       " 'estimator__C': 1.0,\n",
       " 'estimator__class_weight': None,\n",
       " 'estimator__dual': False,\n",
       " 'estimator__fit_intercept': True,\n",
       " 'estimator__intercept_scaling': 1,\n",
       " 'estimator__l1_ratio': None,\n",
       " 'estimator__max_iter': 100,\n",
       " 'estimator__multi_class': 'auto',\n",
       " 'estimator__n_jobs': None,\n",
       " 'estimator__penalty': 'l2',\n",
       " 'estimator__random_state': None,\n",
       " 'estimator__solver': 'lbfgs',\n",
       " 'estimator__tol': 0.0001,\n",
       " 'estimator__verbose': 0,\n",
       " 'estimator__warm_start': False,\n",
       " 'estimator': LogisticRegression(),\n",
       " 'min_features_to_select': 23,\n",
       " 'n_jobs': -1,\n",
       " 'scoring': None,\n",
       " 'step': 0.1,\n",
       " 'verbose': 0}"
      ]
     },
     "execution_count": 33,
     "metadata": {},
     "output_type": "execute_result"
    }
   ],
   "source": [
    "selector.get_params()"
   ]
  },
  {
   "cell_type": "code",
   "execution_count": 34,
   "metadata": {},
   "outputs": [
    {
     "data": {
      "text/plain": [
       "Index(['Accounts Receivable', 'Inventory', 'Total current assets',\n",
       "       'Total current liabilities', 'Total liabilities', 'Common Stock',\n",
       "       'Total liabilities and equity', 'New Deferred Revenue',\n",
       "       'New Property and Equipment', 'Total Non-Current Assets',\n",
       "       'Total_Assets', 'Non-Current Liabilities', 'Total Shareholder's Equity',\n",
       "       'Accounts Payables', 'Retained Earning', 'OCI',\n",
       "       'Accounts_Receivable_missing', 'Common_Stock_missing',\n",
       "       'Short_term_investments', 'Short_term_investments_missing',\n",
       "       'Inventory_missing', 'current_ratio', 'quick_ratio', 'debt_ratio',\n",
       "       'debt_to_equity_ratio', 'equity_multiplier'],\n",
       "      dtype='object')"
      ]
     },
     "execution_count": 34,
     "metadata": {},
     "output_type": "execute_result"
    }
   ],
   "source": [
    "X.columns"
   ]
  },
  {
   "cell_type": "code",
   "execution_count": 35,
   "metadata": {},
   "outputs": [
    {
     "data": {
      "text/plain": [
       "Index(['Total current assets', 'Total current liabilities',\n",
       "       'Total liabilities', 'Common Stock', 'Total liabilities and equity',\n",
       "       'New Deferred Revenue', 'New Property and Equipment',\n",
       "       'Total Non-Current Assets', 'Total_Assets', 'Non-Current Liabilities',\n",
       "       'Total Shareholder's Equity', 'Accounts Payables', 'Retained Earning',\n",
       "       'OCI', 'Accounts_Receivable_missing', 'Common_Stock_missing',\n",
       "       'Short_term_investments', 'Short_term_investments_missing',\n",
       "       'Inventory_missing', 'current_ratio', 'quick_ratio',\n",
       "       'debt_to_equity_ratio', 'equity_multiplier'],\n",
       "      dtype='object')"
      ]
     },
     "execution_count": 35,
     "metadata": {},
     "output_type": "execute_result"
    }
   ],
   "source": [
    "X.columns[selector.get_support()]"
   ]
  },
  {
   "cell_type": "code",
   "execution_count": 36,
   "metadata": {},
   "outputs": [
    {
     "data": {
      "text/plain": [
       "array([False, False,  True,  True,  True,  True,  True,  True,  True,\n",
       "        True,  True,  True,  True,  True,  True,  True,  True,  True,\n",
       "        True,  True,  True,  True,  True, False,  True,  True])"
      ]
     },
     "execution_count": 36,
     "metadata": {},
     "output_type": "execute_result"
    }
   ],
   "source": [
    "selector.get_support()"
   ]
  },
  {
   "cell_type": "markdown",
   "metadata": {},
   "source": [
    "Converesly, if we want to see how well each additional of a predictor contributes to the accuracy of the classification, we can plot a graph that shows the diminishing returns of each additional predictor. "
   ]
  },
  {
   "cell_type": "code",
   "execution_count": 37,
   "metadata": {},
   "outputs": [],
   "source": [
    "from sklearn.model_selection import StratifiedKFold\n",
    "from sklearn.utils.testing import ignore_warnings\n",
    "from sklearn.exceptions import ConvergenceWarning"
   ]
  },
  {
   "cell_type": "code",
   "execution_count": 38,
   "metadata": {
    "collapsed": true,
    "jupyter": {
     "outputs_hidden": true
    }
   },
   "outputs": [
    {
     "name": "stderr",
     "output_type": "stream",
     "text": [
      "C:\\Users\\Matthew\\Anaconda3\\lib\\site-packages\\sklearn\\linear_model\\_logistic.py:764: ConvergenceWarning: lbfgs failed to converge (status=2):\n",
      "ABNORMAL_TERMINATION_IN_LNSRCH.\n",
      "\n",
      "Increase the number of iterations (max_iter) or scale the data as shown in:\n",
      "    https://scikit-learn.org/stable/modules/preprocessing.html\n",
      "Please also refer to the documentation for alternative solver options:\n",
      "    https://scikit-learn.org/stable/modules/linear_model.html#logistic-regression\n",
      "  extra_warning_msg=_LOGISTIC_SOLVER_CONVERGENCE_MSG)\n",
      "C:\\Users\\Matthew\\Anaconda3\\lib\\site-packages\\sklearn\\linear_model\\_logistic.py:764: ConvergenceWarning: lbfgs failed to converge (status=2):\n",
      "ABNORMAL_TERMINATION_IN_LNSRCH.\n",
      "\n",
      "Increase the number of iterations (max_iter) or scale the data as shown in:\n",
      "    https://scikit-learn.org/stable/modules/preprocessing.html\n",
      "Please also refer to the documentation for alternative solver options:\n",
      "    https://scikit-learn.org/stable/modules/linear_model.html#logistic-regression\n",
      "  extra_warning_msg=_LOGISTIC_SOLVER_CONVERGENCE_MSG)\n",
      "C:\\Users\\Matthew\\Anaconda3\\lib\\site-packages\\sklearn\\linear_model\\_logistic.py:764: ConvergenceWarning: lbfgs failed to converge (status=2):\n",
      "ABNORMAL_TERMINATION_IN_LNSRCH.\n",
      "\n",
      "Increase the number of iterations (max_iter) or scale the data as shown in:\n",
      "    https://scikit-learn.org/stable/modules/preprocessing.html\n",
      "Please also refer to the documentation for alternative solver options:\n",
      "    https://scikit-learn.org/stable/modules/linear_model.html#logistic-regression\n",
      "  extra_warning_msg=_LOGISTIC_SOLVER_CONVERGENCE_MSG)\n",
      "C:\\Users\\Matthew\\Anaconda3\\lib\\site-packages\\sklearn\\linear_model\\_logistic.py:764: ConvergenceWarning: lbfgs failed to converge (status=2):\n",
      "ABNORMAL_TERMINATION_IN_LNSRCH.\n",
      "\n",
      "Increase the number of iterations (max_iter) or scale the data as shown in:\n",
      "    https://scikit-learn.org/stable/modules/preprocessing.html\n",
      "Please also refer to the documentation for alternative solver options:\n",
      "    https://scikit-learn.org/stable/modules/linear_model.html#logistic-regression\n",
      "  extra_warning_msg=_LOGISTIC_SOLVER_CONVERGENCE_MSG)\n",
      "C:\\Users\\Matthew\\Anaconda3\\lib\\site-packages\\sklearn\\linear_model\\_logistic.py:764: ConvergenceWarning: lbfgs failed to converge (status=2):\n",
      "ABNORMAL_TERMINATION_IN_LNSRCH.\n",
      "\n",
      "Increase the number of iterations (max_iter) or scale the data as shown in:\n",
      "    https://scikit-learn.org/stable/modules/preprocessing.html\n",
      "Please also refer to the documentation for alternative solver options:\n",
      "    https://scikit-learn.org/stable/modules/linear_model.html#logistic-regression\n",
      "  extra_warning_msg=_LOGISTIC_SOLVER_CONVERGENCE_MSG)\n",
      "C:\\Users\\Matthew\\Anaconda3\\lib\\site-packages\\sklearn\\linear_model\\_logistic.py:764: ConvergenceWarning: lbfgs failed to converge (status=2):\n",
      "ABNORMAL_TERMINATION_IN_LNSRCH.\n",
      "\n",
      "Increase the number of iterations (max_iter) or scale the data as shown in:\n",
      "    https://scikit-learn.org/stable/modules/preprocessing.html\n",
      "Please also refer to the documentation for alternative solver options:\n",
      "    https://scikit-learn.org/stable/modules/linear_model.html#logistic-regression\n",
      "  extra_warning_msg=_LOGISTIC_SOLVER_CONVERGENCE_MSG)\n",
      "C:\\Users\\Matthew\\Anaconda3\\lib\\site-packages\\sklearn\\linear_model\\_logistic.py:764: ConvergenceWarning: lbfgs failed to converge (status=2):\n",
      "ABNORMAL_TERMINATION_IN_LNSRCH.\n",
      "\n",
      "Increase the number of iterations (max_iter) or scale the data as shown in:\n",
      "    https://scikit-learn.org/stable/modules/preprocessing.html\n",
      "Please also refer to the documentation for alternative solver options:\n",
      "    https://scikit-learn.org/stable/modules/linear_model.html#logistic-regression\n",
      "  extra_warning_msg=_LOGISTIC_SOLVER_CONVERGENCE_MSG)\n",
      "C:\\Users\\Matthew\\Anaconda3\\lib\\site-packages\\sklearn\\linear_model\\_logistic.py:764: ConvergenceWarning: lbfgs failed to converge (status=2):\n",
      "ABNORMAL_TERMINATION_IN_LNSRCH.\n",
      "\n",
      "Increase the number of iterations (max_iter) or scale the data as shown in:\n",
      "    https://scikit-learn.org/stable/modules/preprocessing.html\n",
      "Please also refer to the documentation for alternative solver options:\n",
      "    https://scikit-learn.org/stable/modules/linear_model.html#logistic-regression\n",
      "  extra_warning_msg=_LOGISTIC_SOLVER_CONVERGENCE_MSG)\n",
      "C:\\Users\\Matthew\\Anaconda3\\lib\\site-packages\\sklearn\\linear_model\\_logistic.py:764: ConvergenceWarning: lbfgs failed to converge (status=2):\n",
      "ABNORMAL_TERMINATION_IN_LNSRCH.\n",
      "\n",
      "Increase the number of iterations (max_iter) or scale the data as shown in:\n",
      "    https://scikit-learn.org/stable/modules/preprocessing.html\n",
      "Please also refer to the documentation for alternative solver options:\n",
      "    https://scikit-learn.org/stable/modules/linear_model.html#logistic-regression\n",
      "  extra_warning_msg=_LOGISTIC_SOLVER_CONVERGENCE_MSG)\n",
      "C:\\Users\\Matthew\\Anaconda3\\lib\\site-packages\\sklearn\\linear_model\\_logistic.py:764: ConvergenceWarning: lbfgs failed to converge (status=2):\n",
      "ABNORMAL_TERMINATION_IN_LNSRCH.\n",
      "\n",
      "Increase the number of iterations (max_iter) or scale the data as shown in:\n",
      "    https://scikit-learn.org/stable/modules/preprocessing.html\n",
      "Please also refer to the documentation for alternative solver options:\n",
      "    https://scikit-learn.org/stable/modules/linear_model.html#logistic-regression\n",
      "  extra_warning_msg=_LOGISTIC_SOLVER_CONVERGENCE_MSG)\n",
      "C:\\Users\\Matthew\\Anaconda3\\lib\\site-packages\\sklearn\\linear_model\\_logistic.py:764: ConvergenceWarning: lbfgs failed to converge (status=2):\n",
      "ABNORMAL_TERMINATION_IN_LNSRCH.\n",
      "\n",
      "Increase the number of iterations (max_iter) or scale the data as shown in:\n",
      "    https://scikit-learn.org/stable/modules/preprocessing.html\n",
      "Please also refer to the documentation for alternative solver options:\n",
      "    https://scikit-learn.org/stable/modules/linear_model.html#logistic-regression\n",
      "  extra_warning_msg=_LOGISTIC_SOLVER_CONVERGENCE_MSG)\n",
      "C:\\Users\\Matthew\\Anaconda3\\lib\\site-packages\\sklearn\\linear_model\\_logistic.py:764: ConvergenceWarning: lbfgs failed to converge (status=2):\n",
      "ABNORMAL_TERMINATION_IN_LNSRCH.\n",
      "\n",
      "Increase the number of iterations (max_iter) or scale the data as shown in:\n",
      "    https://scikit-learn.org/stable/modules/preprocessing.html\n",
      "Please also refer to the documentation for alternative solver options:\n",
      "    https://scikit-learn.org/stable/modules/linear_model.html#logistic-regression\n",
      "  extra_warning_msg=_LOGISTIC_SOLVER_CONVERGENCE_MSG)\n",
      "C:\\Users\\Matthew\\Anaconda3\\lib\\site-packages\\sklearn\\linear_model\\_logistic.py:764: ConvergenceWarning: lbfgs failed to converge (status=2):\n",
      "ABNORMAL_TERMINATION_IN_LNSRCH.\n",
      "\n",
      "Increase the number of iterations (max_iter) or scale the data as shown in:\n",
      "    https://scikit-learn.org/stable/modules/preprocessing.html\n",
      "Please also refer to the documentation for alternative solver options:\n",
      "    https://scikit-learn.org/stable/modules/linear_model.html#logistic-regression\n",
      "  extra_warning_msg=_LOGISTIC_SOLVER_CONVERGENCE_MSG)\n",
      "C:\\Users\\Matthew\\Anaconda3\\lib\\site-packages\\sklearn\\linear_model\\_logistic.py:764: ConvergenceWarning: lbfgs failed to converge (status=2):\n",
      "ABNORMAL_TERMINATION_IN_LNSRCH.\n",
      "\n",
      "Increase the number of iterations (max_iter) or scale the data as shown in:\n",
      "    https://scikit-learn.org/stable/modules/preprocessing.html\n",
      "Please also refer to the documentation for alternative solver options:\n",
      "    https://scikit-learn.org/stable/modules/linear_model.html#logistic-regression\n",
      "  extra_warning_msg=_LOGISTIC_SOLVER_CONVERGENCE_MSG)\n",
      "C:\\Users\\Matthew\\Anaconda3\\lib\\site-packages\\sklearn\\linear_model\\_logistic.py:764: ConvergenceWarning: lbfgs failed to converge (status=2):\n",
      "ABNORMAL_TERMINATION_IN_LNSRCH.\n",
      "\n",
      "Increase the number of iterations (max_iter) or scale the data as shown in:\n",
      "    https://scikit-learn.org/stable/modules/preprocessing.html\n",
      "Please also refer to the documentation for alternative solver options:\n",
      "    https://scikit-learn.org/stable/modules/linear_model.html#logistic-regression\n",
      "  extra_warning_msg=_LOGISTIC_SOLVER_CONVERGENCE_MSG)\n",
      "C:\\Users\\Matthew\\Anaconda3\\lib\\site-packages\\sklearn\\linear_model\\_logistic.py:764: ConvergenceWarning: lbfgs failed to converge (status=2):\n",
      "ABNORMAL_TERMINATION_IN_LNSRCH.\n",
      "\n",
      "Increase the number of iterations (max_iter) or scale the data as shown in:\n",
      "    https://scikit-learn.org/stable/modules/preprocessing.html\n",
      "Please also refer to the documentation for alternative solver options:\n",
      "    https://scikit-learn.org/stable/modules/linear_model.html#logistic-regression\n",
      "  extra_warning_msg=_LOGISTIC_SOLVER_CONVERGENCE_MSG)\n",
      "C:\\Users\\Matthew\\Anaconda3\\lib\\site-packages\\sklearn\\linear_model\\_logistic.py:764: ConvergenceWarning: lbfgs failed to converge (status=2):\n",
      "ABNORMAL_TERMINATION_IN_LNSRCH.\n",
      "\n",
      "Increase the number of iterations (max_iter) or scale the data as shown in:\n",
      "    https://scikit-learn.org/stable/modules/preprocessing.html\n",
      "Please also refer to the documentation for alternative solver options:\n",
      "    https://scikit-learn.org/stable/modules/linear_model.html#logistic-regression\n",
      "  extra_warning_msg=_LOGISTIC_SOLVER_CONVERGENCE_MSG)\n",
      "C:\\Users\\Matthew\\Anaconda3\\lib\\site-packages\\sklearn\\linear_model\\_logistic.py:764: ConvergenceWarning: lbfgs failed to converge (status=2):\n",
      "ABNORMAL_TERMINATION_IN_LNSRCH.\n",
      "\n",
      "Increase the number of iterations (max_iter) or scale the data as shown in:\n",
      "    https://scikit-learn.org/stable/modules/preprocessing.html\n",
      "Please also refer to the documentation for alternative solver options:\n",
      "    https://scikit-learn.org/stable/modules/linear_model.html#logistic-regression\n",
      "  extra_warning_msg=_LOGISTIC_SOLVER_CONVERGENCE_MSG)\n",
      "C:\\Users\\Matthew\\Anaconda3\\lib\\site-packages\\sklearn\\linear_model\\_logistic.py:764: ConvergenceWarning: lbfgs failed to converge (status=2):\n",
      "ABNORMAL_TERMINATION_IN_LNSRCH.\n",
      "\n",
      "Increase the number of iterations (max_iter) or scale the data as shown in:\n",
      "    https://scikit-learn.org/stable/modules/preprocessing.html\n",
      "Please also refer to the documentation for alternative solver options:\n",
      "    https://scikit-learn.org/stable/modules/linear_model.html#logistic-regression\n",
      "  extra_warning_msg=_LOGISTIC_SOLVER_CONVERGENCE_MSG)\n",
      "C:\\Users\\Matthew\\Anaconda3\\lib\\site-packages\\sklearn\\linear_model\\_logistic.py:764: ConvergenceWarning: lbfgs failed to converge (status=2):\n",
      "ABNORMAL_TERMINATION_IN_LNSRCH.\n",
      "\n",
      "Increase the number of iterations (max_iter) or scale the data as shown in:\n",
      "    https://scikit-learn.org/stable/modules/preprocessing.html\n",
      "Please also refer to the documentation for alternative solver options:\n",
      "    https://scikit-learn.org/stable/modules/linear_model.html#logistic-regression\n",
      "  extra_warning_msg=_LOGISTIC_SOLVER_CONVERGENCE_MSG)\n"
     ]
    },
    {
     "name": "stdout",
     "output_type": "stream",
     "text": [
      "Optimal number of features : 10\n"
     ]
    },
    {
     "data": {
      "image/png": "[encoded data removed]",
      "text/plain": [
       "<Figure size 432x288 with 1 Axes>"
      ]
     },
     "metadata": {},
     "output_type": "display_data"
    }
   ],
   "source": [
    "rfecv = RFECV(estimator=estimator, step=1, cv=StratifiedKFold(2),\n",
    "              scoring='accuracy', min_features_to_select=3)\n",
    "rfecv = rfecv.fit(X, y)\n",
    "\n",
    "print(\"Optimal number of features : %d\" % rfecv.n_features_)\n",
    "\n",
    "# Plot number of features VS. cross-validation scores\n",
    "plt.figure()\n",
    "plt.xlabel(\"Number of features selected\")\n",
    "plt.ylabel(\"Cross validation score \")\n",
    "plt.plot(range(1, len(rfecv.grid_scores_) + 1), rfecv.grid_scores_)\n",
    "plt.show()"
   ]
  },
  {
   "cell_type": "code",
   "execution_count": 42,
   "metadata": {},
   "outputs": [
    {
     "data": {
      "text/plain": [
       "Index(['New Deferred Revenue', 'New Property and Equipment',\n",
       "       'Total Non-Current Assets', 'Total_Assets', 'Non-Current Liabilities',\n",
       "       'Total Shareholder's Equity', 'Accounts Payables', 'Retained Earning',\n",
       "       'OCI', 'Short_term_investments'],\n",
       "      dtype='object')"
      ]
     },
     "execution_count": 42,
     "metadata": {},
     "output_type": "execute_result"
    }
   ],
   "source": [
    "# According to RFECV method the following features only can produce the highest CV scores (highest number of correct classification.)\n",
    "selected_10_col = X.columns[rfecv.get_support()]\n",
    "X.columns[rfecv.get_support()]"
   ]
  },
  {
   "cell_type": "markdown",
   "metadata": {},
   "source": [
    "Although the evidence suggested by RFECV recommends 10 predictors, we will keep this in mind and experiment with having a **full_X_train** set versus a **selected_10_train_set**."
   ]
  },
  {
   "cell_type": "code",
   "execution_count": 43,
   "metadata": {},
   "outputs": [],
   "source": [
    "selected_10_train_set = X[selected_10_col]"
   ]
  },
  {
   "cell_type": "markdown",
   "metadata": {},
   "source": [
    "<a id='ml-c'></a>"
   ]
  },
  {
   "cell_type": "markdown",
   "metadata": {},
   "source": [
    "### Machine Learning - Clustering \n",
    "<a href='#top'>Top of Page</a>"
   ]
  },
  {
   "cell_type": "markdown",
   "metadata": {},
   "source": [
    "NO PCA because dimensionality reduction, but as a reminder PCA requires scaled data. \n",
    "PCA can inform how to select optimal amount of data. \n",
    "1) PCA_X_train <br/>\n",
    "2) selected_10_train_set<br/>\n",
    "3) full_X_train"
   ]
  },
  {
   "cell_type": "code",
   "execution_count": null,
   "metadata": {},
   "outputs": [],
   "source": []
  },
  {
   "cell_type": "markdown",
   "metadata": {},
   "source": [
    "<a id='factor'></a>"
   ]
  },
  {
   "cell_type": "markdown",
   "metadata": {},
   "source": [
    "<a id='profile'></a>"
   ]
  },
  {
   "cell_type": "markdown",
   "metadata": {},
   "source": [
    "### Statistical Modelling - Profile Analysis\n",
    "<a href='#top'>Top of Page</a>"
   ]
  },
  {
   "cell_type": "markdown",
   "metadata": {},
   "source": [
    "It is assumed that the relationships between the factors and the observed variables are linear, and that there are no interactions among the observed variables. https://www.ncbi.nlm.nih.gov/books/NBK268881/"
   ]
  },
  {
   "cell_type": "code",
   "execution_count": null,
   "metadata": {},
   "outputs": [],
   "source": []
  },
  {
   "cell_type": "markdown",
   "metadata": {},
   "source": [
    "<a id='overview'></a>"
   ]
  },
  {
   "cell_type": "markdown",
   "metadata": {},
   "source": [
    "## Part 2"
   ]
  },
  {
   "cell_type": "markdown",
   "metadata": {},
   "source": [
    "### Overview\n",
    "<a href='#top'>Top of Page</a>\n"
   ]
  },
  {
   "cell_type": "code",
   "execution_count": null,
   "metadata": {},
   "outputs": [],
   "source": []
  },
  {
   "cell_type": "code",
   "execution_count": null,
   "metadata": {},
   "outputs": [],
   "source": []
  },
  {
   "cell_type": "markdown",
   "metadata": {},
   "source": [
    "<a id='class'></a>"
   ]
  },
  {
   "cell_type": "markdown",
   "metadata": {},
   "source": [
    "### Classification\n",
    "<a href='#top'>Top of Page</a>"
   ]
  },
  {
   "cell_type": "code",
   "execution_count": null,
   "metadata": {},
   "outputs": [],
   "source": []
  },
  {
   "cell_type": "code",
   "execution_count": null,
   "metadata": {},
   "outputs": [],
   "source": []
  },
  {
   "cell_type": "markdown",
   "metadata": {},
   "source": [
    "<a id='mmr'></a>"
   ]
  },
  {
   "cell_type": "markdown",
   "metadata": {},
   "source": [
    "### Multivariate Multiple Regression\n",
    "<a href='#top'>Top of Page</a>"
   ]
  },
  {
   "cell_type": "code",
   "execution_count": null,
   "metadata": {},
   "outputs": [],
   "source": []
  },
  {
   "cell_type": "code",
   "execution_count": null,
   "metadata": {},
   "outputs": [],
   "source": []
  },
  {
   "cell_type": "markdown",
   "metadata": {},
   "source": [
    "<a id='post'></a>"
   ]
  },
  {
   "cell_type": "markdown",
   "metadata": {},
   "source": [
    "## Post-hoc Analysis\n",
    "<a href='#top'>Top of Page</a>"
   ]
  },
  {
   "cell_type": "code",
   "execution_count": null,
   "metadata": {},
   "outputs": [],
   "source": []
  },
  {
   "cell_type": "markdown",
   "metadata": {},
   "source": [
    "### Statistical Modelling - (Exploratory) Factor Analysis \n",
    "<a href='#top'>Top of Page</a>"
   ]
  },
  {
   "cell_type": "markdown",
   "metadata": {},
   "source": [
    "Explores variables latent groups/classes by 'factoring' common (or shared) variance. \n",
    "\n",
    "Factor Analysis\n",
    "    https://www.researchgate.net/post/What_is_the_concept_of_Total_Variance_Explained_in_Factor_Analysis_and_how_can_it_be_used\n",
    "\n",
    "Exploratory Factor Analysis (Principal Axis Factoring vs. Principal Components Analysis) in SPSS\n",
    "    https://www.youtube.com/watch?v=5KN_CTgviYs&list=PLdlFfrVsmlvD59VY7hwIfxtCjDoELpknK\n",
    "- For EFA likely use Principal Axis Factoring (SPSS) and Varimax Rotation (related)"
   ]
  },
  {
   "cell_type": "code",
   "execution_count": null,
   "metadata": {},
   "outputs": [],
   "source": []
  },
  {
   "cell_type": "code",
   "execution_count": null,
   "metadata": {},
   "outputs": [],
   "source": []
  },
  {
   "cell_type": "code",
   "execution_count": null,
   "metadata": {},
   "outputs": [],
   "source": []
  },
  {
   "cell_type": "markdown",
   "metadata": {},
   "source": [
    "<a id='discuss'></a>"
   ]
  },
  {
   "cell_type": "markdown",
   "metadata": {},
   "source": [
    "## Discussion\n",
    "<a href='#top'>Top of Page</a>"
   ]
  },
  {
   "cell_type": "code",
   "execution_count": null,
   "metadata": {},
   "outputs": [],
   "source": []
  },
  {
   "cell_type": "code",
   "execution_count": null,
   "metadata": {},
   "outputs": [],
   "source": []
  },
  {
   "cell_type": "markdown",
   "metadata": {},
   "source": [
    "<a id='conclude'></a>"
   ]
  },
  {
   "cell_type": "markdown",
   "metadata": {},
   "source": [
    "## Conclusion\n",
    "<a href='#top'>Top of Page</a>"
   ]
  },
  {
   "cell_type": "code",
   "execution_count": null,
   "metadata": {},
   "outputs": [],
   "source": []
  },
  {
   "cell_type": "code",
   "execution_count": null,
   "metadata": {},
   "outputs": [],
   "source": []
  },
  {
   "cell_type": "markdown",
   "metadata": {},
   "source": [
    "#### Assumptions of Hypothesis-testing will be investigated step-wise, ie after each test-result."
   ]
  },
  {
   "cell_type": "markdown",
   "metadata": {},
   "source": [
    "Must click to check assumption testing for regression, how autoregression and Homoscedasticity and multicollinearity are related\n",
    "https://www.analyticsvidhya.com/blog/2016/07/deeper-regression-analysis-assumptions-plots-solutions/#:~:text=An%20additive%20relationship%20suggests%20that,phenomenon%20is%20known%20as%20Autocorrelation.&text=Absence%20of%20this%20phenomenon%20is%20known%20as%20multicollinearity."
   ]
  },
  {
   "cell_type": "markdown",
   "metadata": {},
   "source": [
    "##### H<sub>A</sub> residuals are autocorrelated\n",
    "H<sub>0</sub> Absence of correlation among residual errors</br>\n",
    "ref: https://www.statology.org/durbin-watson-test-python/#:~:text=One%20of%20the%20assumptions%20of,no%20correlation%20between%20the%20residuals.&text=One%20way%20to%20determine%20if,the%20residuals%20of%20a%20regression."
   ]
  },
  {
   "cell_type": "code",
   "execution_count": 2,
   "metadata": {
    "collapsed": true,
    "jupyter": {
     "outputs_hidden": true
    }
   },
   "outputs": [
    {
     "ename": "NameError",
     "evalue": "name 'df' is not defined",
     "output_type": "error",
     "traceback": [
      "\u001b[1;31m---------------------------------------------------------------------------\u001b[0m",
      "\u001b[1;31mNameError\u001b[0m                                 Traceback (most recent call last)",
      "\u001b[1;32m<ipython-input-2-a37f4c2f4ae3>\u001b[0m in \u001b[0;36m<module>\u001b[1;34m\u001b[0m\n\u001b[0;32m      3\u001b[0m \u001b[1;33m\u001b[0m\u001b[0m\n\u001b[0;32m      4\u001b[0m \u001b[1;31m#fit multiple linear regression model\u001b[0m\u001b[1;33m\u001b[0m\u001b[1;33m\u001b[0m\u001b[1;33m\u001b[0m\u001b[0m\n\u001b[1;32m----> 5\u001b[1;33m \u001b[0mmodel\u001b[0m \u001b[1;33m=\u001b[0m \u001b[0mols\u001b[0m\u001b[1;33m(\u001b[0m\u001b[1;34m'rating ~ points + assists + rebounds'\u001b[0m\u001b[1;33m,\u001b[0m \u001b[0mdata\u001b[0m\u001b[1;33m=\u001b[0m\u001b[0mdf\u001b[0m\u001b[1;33m)\u001b[0m\u001b[1;33m.\u001b[0m\u001b[0mfit\u001b[0m\u001b[1;33m(\u001b[0m\u001b[1;33m)\u001b[0m\u001b[1;33m\u001b[0m\u001b[1;33m\u001b[0m\u001b[0m\n\u001b[0m\u001b[0;32m      6\u001b[0m \u001b[1;33m\u001b[0m\u001b[0m\n\u001b[0;32m      7\u001b[0m \u001b[1;31m#view model summary\u001b[0m\u001b[1;33m\u001b[0m\u001b[1;33m\u001b[0m\u001b[1;33m\u001b[0m\u001b[0m\n",
      "\u001b[1;31mNameError\u001b[0m: name 'df' is not defined"
     ]
    }
   ],
   "source": [
    "# Durbin-Watson Test\n",
    "from statsmodels.formula.api import ols\n",
    "\n",
    "#fit multiple linear regression model\n",
    "model = ols('rating ~ points + assists + rebounds', data=df).fit()\n",
    "\n",
    "#view model summary\n",
    "print(model.summary())"
   ]
  },
  {
   "cell_type": "markdown",
   "metadata": {},
   "source": [
    "##### Homoscedasticity\n",
    "###### - equal levels of variance across the range of predictor variable (Scatterplot)\n",
    "\n",
    "-  Departures from an equal dispersion are shown by such shapes as cones (small dispersion at one side of the graph, </br>large dispersion at the opposite side) or diamonds (a large number of points at the center of the distribution).\n",
    "    "
   ]
  },
  {
   "cell_type": "markdown",
   "metadata": {},
   "source": [
    "<a id='dpp'></a>"
   ]
  },
  {
   "cell_type": "markdown",
   "metadata": {},
   "source": [
    "<a id='expt1.1'></a>"
   ]
  },
  {
   "cell_type": "markdown",
   "metadata": {},
   "source": [
    "# Experiment 1.1 - grouping all companies as a whole for one transformation\n",
    "<a href='#top'>Top of Page</a>\n"
   ]
  },
  {
   "cell_type": "markdown",
   "metadata": {},
   "source": [
    "### Isolate Train-model-data (non-Tesla Data) from data of interest (Tesla Data)."
   ]
  },
  {
   "cell_type": "code",
   "execution_count": null,
   "metadata": {},
   "outputs": [],
   "source": [
    "tesla_df_1_1 = main_df_1_1[main_df_1_1['industry'].isna()]\n",
    "tesla_df_1_1.shape"
   ]
  },
  {
   "cell_type": "markdown",
   "metadata": {},
   "source": [
    "#### Train_df"
   ]
  },
  {
   "cell_type": "code",
   "execution_count": null,
   "metadata": {},
   "outputs": [],
   "source": [
    "Train_df_1_1 = main_df_1_1[main_df_1_1['industry'].notna()]\n",
    "Train_df_1_1.shape"
   ]
  },
  {
   "cell_type": "markdown",
   "metadata": {},
   "source": [
    "#### Train_df"
   ]
  },
  {
   "cell_type": "code",
   "execution_count": null,
   "metadata": {},
   "outputs": [],
   "source": [
    "# Create separate object for target variable\n",
    "y = Train_df_1_1.industry\n",
    "\n",
    "# Create separate object for input features\n",
    "X = Train_df_1_1.drop('industry', axis=1)"
   ]
  },
  {
   "cell_type": "code",
   "execution_count": null,
   "metadata": {},
   "outputs": [],
   "source": [
    "# Split X and y into train and test sets\n",
    "X_train, X_test, y_train, y_test = train_test_split(X, y, \n",
    "                                                    test_size=0.2, \n",
    "                                                    random_state=1234,\n",
    "                                                    stratify=Train_df_1_1.industry)\n",
    "\n",
    "# Print number of observations in X_train, X_test, y_train, and y_test\n",
    "print( len(X_train), len(X_test), len(y_train), len(y_test) )"
   ]
  },
  {
   "cell_type": "code",
   "execution_count": null,
   "metadata": {
    "scrolled": true
   },
   "outputs": [],
   "source": [
    "X_test.sort_index(ascending=True, sort_remaining= True, inplace=True)\n",
    "X_test.shape"
   ]
  },
  {
   "cell_type": "code",
   "execution_count": null,
   "metadata": {
    "scrolled": true
   },
   "outputs": [],
   "source": [
    "X_train.sort_index(ascending=True, sort_remaining= True, inplace=True)\n",
    "X_train.shape"
   ]
  },
  {
   "cell_type": "markdown",
   "metadata": {},
   "source": [
    "### 1) Transforming Tech Industry training_dfs"
   ]
  },
  {
   "cell_type": "code",
   "execution_count": null,
   "metadata": {
    "scrolled": true
   },
   "outputs": [],
   "source": [
    "df = X_train\n",
    "# Create dictionary to save the transformation parameters.\n",
    "trans_para_ = {}\n",
    "\n",
    "transformed_df_list = []\n",
    "\n",
    "# Apply to all training columns. \n",
    "for col_name in df.columns:\n",
    "        \n",
    "    # Apply only to numeric columns. \n",
    "    if df[col_name].dtypes == 'float64':\n",
    "            \n",
    "        s = df[col_name]\n",
    "        \n",
    "        # Brown's Transformation Suggestions\n",
    "        result = brown_transform(col_name, s, 4)\n",
    "        \n",
    "        transformed_df = pd.DataFrame({col_name:result}, index=df.index[4:] )\n",
    "        \n",
    "        transformed_df.plot(kind='line')\n",
    "        transformed_df_list.append(transformed_df)\n",
    "        \n",
    "        print(col_name)\n",
    "        plt.show()\n",
    "        "
   ]
  },
  {
   "cell_type": "code",
   "execution_count": null,
   "metadata": {},
   "outputs": [],
   "source": [
    "new_X_train = pd.concat(transformed_df_list, axis=1)"
   ]
  },
  {
   "cell_type": "markdown",
   "metadata": {},
   "source": [
    "## <!>Transform only skewed data \n",
    "https://www.kaggle.com/serigne/stacked-regressions-top-4-on-leaderboard/comments\n",
    "- the code skewness = skewness[abs(skewness) > 0.75] should be wrote as skewness = skewness[abs(skewness.Skew)>0.75]<br/>\n",
    "\n",
    "**Check the skew of all numerical features**<br/>\n",
    "- <code>skewed_feats = all_data[numeric_feats].apply(lambda x: skew(x.dropna())).sort_values(ascending=False)\n",
    "print(\"\\nSkew in numerical features: \\n\")\n",
    "skewness = pd.DataFrame({'Skew' :skewed_feats})\n",
    "skewness.head(10)<code/>\n",
    "    \n",
    "    \n",
    "src: https://www.kaggle.com/serigne/stacked-regressions-top-4-on-leaderboard"
   ]
  },
  {
   "cell_type": "markdown",
   "metadata": {},
   "source": [
    "### Implement the training transformations onto X_test with trans_para_."
   ]
  },
  {
   "cell_type": "code",
   "execution_count": null,
   "metadata": {
    "scrolled": true
   },
   "outputs": [],
   "source": [
    "# X_test_new = scaler.transform(X_test)\n",
    "X_test_new_list = []\n",
    "for col, parameters in trans_para_.items():\n",
    "    \n",
    "    power_T = parameters[0][0]\n",
    "    \n",
    "    lmbda = parameters[0][1]\n",
    "    \n",
    "    mean_ = parameters[1]\n",
    "    \n",
    "    std_ = parameters[2]\n",
    "    \n",
    "    s = X_test[col]\n",
    "#     s.plot(title=col)\n",
    "#     plt.show()\n",
    "    \n",
    "    # Power Transformation\n",
    "    if power_T == 'B-C':\n",
    "        result = boxcox(s, lmbda)\n",
    "        \n",
    "    elif power_T == 'Y-J':\n",
    "        result = yeojohnson(s, lmbda)\n",
    "    \n",
    "    # Difference Transformation\n",
    "    diff_res = difference(result, 4)\n",
    "    \n",
    "    # StandardScaler \n",
    "    diff_res = np.array(diff_res).reshape(len(diff_res), 1)\n",
    "    standard_res = StandardScaler(with_mean = mean_, \n",
    "                                 with_std = std_ ).fit_transform(diff_res)\n",
    "    \n",
    "    # Normalization\n",
    "    norm_res = MinMaxScaler(feature_range=(1,2)).fit_transform(standard_res)\n",
    "    norm_res = [ s[0] for s in norm_res]\n",
    "    \n",
    "    df = pd.DataFrame(dict({col: norm_res}), index=s.index[4:])\n",
    "    X_test_new_list.append(df)\n",
    "    \n",
    "#     X_test_new.plot(title=col)\n",
    "#     plt.show()\n",
    "    "
   ]
  },
  {
   "cell_type": "code",
   "execution_count": null,
   "metadata": {},
   "outputs": [],
   "source": [
    "new_X_Test = pd.concat(X_test_new_list, axis=1)\n",
    "new_X_Test.head()"
   ]
  },
  {
   "cell_type": "markdown",
   "metadata": {},
   "source": [
    "Below is a visual illustration of what happens when we transform our data using brown_transform(). "
   ]
  },
  {
   "cell_type": "markdown",
   "metadata": {},
   "source": [
    "<img src='before_and_after_transformation.png'>"
   ]
  },
  {
   "cell_type": "markdown",
   "metadata": {},
   "source": [
    "<a id='pipe&Hyper'></a>\n",
    "### Pipeline and Hyperparameters\n",
    "<a href='#top'>Top of Page</a>"
   ]
  },
  {
   "cell_type": "markdown",
   "metadata": {},
   "source": [
    "[Expt 2.2 - Train Model](#expt2.2train)"
   ]
  },
  {
   "cell_type": "code",
   "execution_count": null,
   "metadata": {},
   "outputs": [],
   "source": [
    "# Pipeline dictionary Classifiers\n",
    "pipelines = {\n",
    "    'l1' : make_pipeline(LogisticRegression(penalty='l1', random_state=123)),\n",
    "    'l2' : make_pipeline(LogisticRegression(penalty='l2', random_state=123)),\n",
    "    'rf' : make_pipeline(RandomForestClassifier(random_state=123)),\n",
    "    'gb' : make_pipeline(GradientBoostingClassifier(random_state=123))\n",
    "}"
   ]
  },
  {
   "cell_type": "code",
   "execution_count": null,
   "metadata": {},
   "outputs": [],
   "source": [
    "# Logistic Regression hyperparameters\n",
    "l1_hyperparameters = {\n",
    "    'logisticregression__C' : [0.001, 0.005, 0.01, 0.05, 0.1, 0.5, 1, 5, 10, 50, 100, 500, 1000],\n",
    "}\n",
    "\n",
    "l2_hyperparameters = {\n",
    "    'logisticregression__C' : [0.001, 0.005, 0.01, 0.05, 0.1, 0.5, 1, 5, 10, 50, 100, 500, 1000],\n",
    "}\n",
    "\n",
    "# Random Forest hyperparameters\n",
    "rf_hyperparameters = {\n",
    "    'randomforestclassifier__n_estimators': [100, 200],\n",
    "    'randomforestclassifier__max_features': ['auto', 'sqrt', 0.33],\n",
    "    'randomforestclassifier__min_samples_leaf': [1, 3, 5, 10]\n",
    "}\n",
    "\n",
    "# Boosted Tree hyperparameters\n",
    "gb_hyperparameters = {\n",
    "    'gradientboostingclassifier__n_estimators': [100, 200],\n",
    "    'gradientboostingclassifier__learning_rate': [0.05, 0.1, 0.2],\n",
    "    'gradientboostingclassifier__max_depth': [1, 3, 5]\n",
    "}"
   ]
  },
  {
   "cell_type": "code",
   "execution_count": null,
   "metadata": {},
   "outputs": [],
   "source": [
    "# Create hyperparameters dictionary\n",
    "hyperparameters = {\n",
    "    'l1' : l1_hyperparameters,\n",
    "    'l2' : l2_hyperparameters,\n",
    "    'rf' : rf_hyperparameters,\n",
    "    'gb' : gb_hyperparameters\n",
    "}"
   ]
  },
  {
   "cell_type": "markdown",
   "metadata": {},
   "source": [
    "## Fit and Tune Model with Cross-Validation"
   ]
  },
  {
   "cell_type": "code",
   "execution_count": null,
   "metadata": {
    "scrolled": true
   },
   "outputs": [],
   "source": [
    "# Create empty dictionary called fitted_models\n",
    "fitted_models = {}\n",
    "\n",
    "# Loop through model pipelines, tuning each one and saving it to fitted_models\n",
    "for name, pipeline in pipelines.items():\n",
    "    # Create cross-validation object from pipeline and hyperparameters\n",
    "    model = GridSearchCV(pipeline, hyperparameters[name], cv=10, n_jobs=-1)\n",
    "    \n",
    "    # Fit model on X_train, y_train\n",
    "    model.fit(new_X_train, y_train[4:])\n",
    "    \n",
    "    # Store model in fitted_models[name] \n",
    "    fitted_models[name] = model\n",
    "    \n",
    "    # Print '{name} has been fitted'\n",
    "    print(name, 'has been fitted.')"
   ]
  },
  {
   "cell_type": "code",
   "execution_count": null,
   "metadata": {
    "scrolled": true
   },
   "outputs": [],
   "source": [
    "for name, model in fitted_models.items():\n",
    "    pred = model.predict_proba(new_X_Test)\n",
    "    pred = [p[1] for p in pred]\n",
    "    \n",
    "    print( name, roc_auc_score(y_test[4:], pred) )"
   ]
  },
  {
   "cell_type": "markdown",
   "metadata": {},
   "source": [
    "Plot the highest AUROC score."
   ]
  },
  {
   "cell_type": "code",
   "execution_count": null,
   "metadata": {
    "scrolled": true
   },
   "outputs": [],
   "source": [
    "# Predict PROBABILITIES using L1-regularized logistic regression\n",
    "pred = fitted_models['l2'].predict_proba(new_X_Test)\n",
    "\n",
    "# Get just the prediction for the positive class (1)\n",
    "pred = [p[1] for p in pred]\n",
    "\n",
    "# Display first 10 predictions\n",
    "print( np.round(pred[:10], 2) )"
   ]
  },
  {
   "cell_type": "code",
   "execution_count": null,
   "metadata": {},
   "outputs": [],
   "source": [
    "# Calculate ROC curve from y_test and pred\n",
    "fpr, tpr, thresholds = roc_curve(y_test[4:], pred)"
   ]
  },
  {
   "cell_type": "code",
   "execution_count": null,
   "metadata": {},
   "outputs": [],
   "source": [
    "# Initialize figure\n",
    "fig = plt.figure(figsize=(9,9))\n",
    "plt.title('Receiver Operating Characteristic')\n",
    "\n",
    "# Plot ROC curve\n",
    "plt.plot(fpr, tpr, label='l1')\n",
    "plt.legend(loc='lower right')\n",
    "\n",
    "# Diagonal 45 degree line\n",
    "plt.plot([0,1],[0,1],'k--')\n",
    "\n",
    "# Axes limits and labels\n",
    "plt.xlim([-0.1,1.1])\n",
    "plt.ylim([-0.1,1.1])\n",
    "plt.ylabel('True Positive Rate')\n",
    "plt.xlabel('False Positive Rate')\n",
    "plt.show()"
   ]
  },
  {
   "cell_type": "markdown",
   "metadata": {},
   "source": [
    "The above shows the classification where tech is the positive class."
   ]
  },
  {
   "cell_type": "markdown",
   "metadata": {},
   "source": [
    "Now reversing the positive class from the Tech industry to Automobile. \n"
   ]
  },
  {
   "cell_type": "code",
   "execution_count": null,
   "metadata": {},
   "outputs": [],
   "source": [
    "def swapping_targets(y):\n",
    "    swapped_y_list = []\n",
    "\n",
    "    for value in y.values:\n",
    "\n",
    "        if value == 1:\n",
    "            swapped_y_list.append(0)\n",
    "\n",
    "        if value == 0:\n",
    "            swapped_y_list.append(1)\n",
    "            \n",
    "    swapped_y = pd.Series(swapped_y_list, index=y.index)\n",
    "    \n",
    "    return swapped_y"
   ]
  },
  {
   "cell_type": "code",
   "execution_count": null,
   "metadata": {},
   "outputs": [],
   "source": [
    "new_y_train = swapping_targets(y_train)"
   ]
  },
  {
   "cell_type": "code",
   "execution_count": null,
   "metadata": {},
   "outputs": [],
   "source": [
    "new_y_test = swapping_targets(y_test)"
   ]
  },
  {
   "cell_type": "code",
   "execution_count": null,
   "metadata": {
    "scrolled": true
   },
   "outputs": [],
   "source": [
    "# Create empty dictionary called fitted_models\n",
    "fitted_models_2 = {}\n",
    "\n",
    "# Loop through model pipelines, tuning each one and saving it to fitted_models\n",
    "for name, pipeline in pipelines.items():\n",
    "    # Create cross-validation object from pipeline and hyperparameters\n",
    "    model = GridSearchCV(pipeline, hyperparameters[name], cv=10, n_jobs=-1)\n",
    "    \n",
    "    # Fit model on X_train, y_train\n",
    "    model.fit(new_X_train, new_y_train[4:])\n",
    "    \n",
    "    # Store model in fitted_models[name] \n",
    "    fitted_models_2[name] = model\n",
    "    \n",
    "    # Print '{name} has been fitted'\n",
    "    print(name, 'has been fitted.')"
   ]
  },
  {
   "cell_type": "code",
   "execution_count": null,
   "metadata": {
    "scrolled": true
   },
   "outputs": [],
   "source": [
    "for name, model in fitted_models_2.items():\n",
    "    pred = model.predict_proba(new_X_Test)\n",
    "    pred = [p[1] for p in pred]\n",
    "    \n",
    "    print( name, roc_auc_score(new_y_test[4:], pred) )"
   ]
  },
  {
   "cell_type": "markdown",
   "metadata": {},
   "source": [
    "Swapping 0 and 1 produces the same results except for l1. "
   ]
  },
  {
   "cell_type": "code",
   "execution_count": null,
   "metadata": {
    "scrolled": true
   },
   "outputs": [],
   "source": [
    "# Predict PROBABILITIES using L1-regularized logistic regression\n",
    "pred = fitted_models_2['l2'].predict_proba(new_X_Test)\n",
    "\n",
    "# Get just the prediction for the positive class (1)\n",
    "pred = [p[1] for p in pred]\n",
    "\n",
    "# Display first 10 predictions\n",
    "print( np.round(pred[:10], 2) )"
   ]
  },
  {
   "cell_type": "code",
   "execution_count": null,
   "metadata": {},
   "outputs": [],
   "source": [
    "# Calculate ROC curve from y_test and pred\n",
    "fpr, tpr, thresholds = roc_curve(new_y_test[4:], pred)"
   ]
  },
  {
   "cell_type": "code",
   "execution_count": null,
   "metadata": {},
   "outputs": [],
   "source": [
    "# Initialize figure\n",
    "fig = plt.figure(figsize=(9,9))\n",
    "plt.title('Receiver Operating Characteristic')\n",
    "\n",
    "# Plot ROC curve\n",
    "plt.plot(fpr, tpr, label='l1')\n",
    "plt.legend(loc='lower right')\n",
    "\n",
    "# Diagonal 45 degree line\n",
    "plt.plot([0,1],[0,1],'k--')\n",
    "\n",
    "# Axes limits and labels\n",
    "plt.xlim([-0.1,1.1])\n",
    "plt.ylim([-0.1,1.1])\n",
    "plt.ylabel('True Positive Rate')\n",
    "plt.xlabel('False Positive Rate')\n",
    "plt.show()"
   ]
  },
  {
   "cell_type": "markdown",
   "metadata": {},
   "source": [
    "# https://stackoverflow.com/questions/52373318/how-to-compare-roc-auc-scores-of-different-binary-classifiers-and-assess-statist"
   ]
  },
  {
   "cell_type": "markdown",
   "metadata": {},
   "source": [
    "## Expt 1.1 Conclusion\n",
    "We will not try classifying Tesla into the models under these preprocessing conditions, because the predictability of the model is as good as chance.\n"
   ]
  },
  {
   "cell_type": "markdown",
   "metadata": {},
   "source": [
    "<a id='expt1.2'></a>"
   ]
  },
  {
   "cell_type": "markdown",
   "metadata": {},
   "source": [
    "# Experiment 1.2 - individually transforming within companies across the same time-frame\n",
    "<a href='#top'>Top of Page</a>"
   ]
  },
  {
   "cell_type": "code",
   "execution_count": null,
   "metadata": {},
   "outputs": [],
   "source": [
    "tesla_df_1_2 = main_df_1_2[main_df_1_2['industry'].isna()]\n",
    "Train_df_1_2 = main_df_1_2[main_df_1_2['industry'].notna()]"
   ]
  },
  {
   "cell_type": "code",
   "execution_count": null,
   "metadata": {},
   "outputs": [],
   "source": [
    "# Create separate object for target variable\n",
    "y = Train_df_1_2.industry\n",
    "\n",
    "# Create separate object for input features\n",
    "X = Train_df_1_2.drop('industry', axis=1)"
   ]
  },
  {
   "cell_type": "code",
   "execution_count": null,
   "metadata": {},
   "outputs": [],
   "source": [
    "# Split X and y into train and test sets\n",
    "X_train, X_test, y_train, y_test = train_test_split(X, y, \n",
    "                                                    test_size=0.2, \n",
    "                                                    random_state=1234,\n",
    "                                                    stratify=Train_df_1_2.industry)\n",
    "\n",
    "# Print number of observations in X_train, X_test, y_train, and y_test\n",
    "print( len(X_train), len(X_test), len(y_train), len(y_test) )"
   ]
  },
  {
   "cell_type": "code",
   "execution_count": null,
   "metadata": {},
   "outputs": [],
   "source": [
    "X_test.sort_index(ascending=True, sort_remaining= True, inplace=True)\n",
    "X_train.sort_index(ascending=True, sort_remaining= True, inplace=True)"
   ]
  },
  {
   "cell_type": "code",
   "execution_count": null,
   "metadata": {},
   "outputs": [],
   "source": [
    "company_list = [name for name in X_train.company_name.unique()]"
   ]
  },
  {
   "cell_type": "code",
   "execution_count": null,
   "metadata": {},
   "outputs": [],
   "source": [
    "df_lst = []\n",
    "for name in company_list:\n",
    "    company_df = X_train[X_train['company_name']==name]\n",
    "    df_lst.append(company_df)"
   ]
  },
  {
   "cell_type": "code",
   "execution_count": null,
   "metadata": {},
   "outputs": [],
   "source": [
    "company_dfs = dict(zip(company_list, df_lst))"
   ]
  },
  {
   "cell_type": "code",
   "execution_count": null,
   "metadata": {},
   "outputs": [],
   "source": [
    "for name, df in company_dfs.items():\n",
    "    print(name)\n",
    "    partial_df = df.head(2)\n",
    "    print(df.shape)\n",
    "#     ICD.display(partial_df)"
   ]
  },
  {
   "cell_type": "markdown",
   "metadata": {},
   "source": [
    "new_brown_transform without difference transformation because too little data, seperating into company_df's drastically scarificed more data, expecially in X_test. "
   ]
  },
  {
   "cell_type": "code",
   "execution_count": null,
   "metadata": {},
   "outputs": [],
   "source": [
    "def new_brown_transform(col_name, s):\n",
    "    # Create a list to hold parameter information before transformation.\n",
    "    para_list = []\n",
    "    \n",
    "    # Each Series -> variable s\n",
    "    s = df[col_name]\n",
    "\n",
    "    # Power Transform\n",
    "    try:\n",
    "        result, lmbda = boxcox(s)\n",
    "#         print('box_cox')\n",
    "#         print(lmbda)\n",
    "        para_list.append(['B-C', lmbda])\n",
    "        \n",
    "    except ValueError:\n",
    "        result, lmbda = yeojohnson(s.values.reshape(-1,1))\n",
    "#         print('Yeo-Johnson')\n",
    "        \n",
    "        if type(lmbda) == np.float64:\n",
    "            para_list.append(['Y-J', lmbda])\n",
    "            \n",
    "        else:\n",
    "    #         print(f'lambda {lmbda} {type(lmbda)}')\n",
    "            lmbda = lmbda[0]\n",
    "            para_list.append(['Y-J', lmbda])\n",
    "        \n",
    "#     # Difference Transform\n",
    "#     diff_res = difference(result, window)\n",
    "\n",
    "    # StandardScaler\n",
    "    # Turn 1-D array of lists into a 2-D array \n",
    "    #diff_res = array(diff_res).reshape(len(diff_res), 1)\n",
    "    \n",
    "    para_list.append(np.mean(result))\n",
    "    para_list.append(np.std(result))\n",
    "    \n",
    "    result = np.array(result).reshape(len(result), 1)\n",
    "    standard_res = StandardScaler().fit_transform(result)\n",
    "\n",
    "    # Normalization\n",
    "#     para_list.append(min(standard_res)[0])\n",
    "#     para_list.append(max(standard_res)[0])\n",
    "    \n",
    "    norm_res = MinMaxScaler(feature_range=(1,2)).fit_transform(standard_res)\n",
    "    norm_res = [ s[0] for s in norm_res]\n",
    "    trans_para_.update({ col_name : para_list} )\n",
    "    \n",
    "    return norm_res"
   ]
  },
  {
   "cell_type": "markdown",
   "metadata": {},
   "source": [
    " **Perform columnar transformation on each company-dataframe.**"
   ]
  },
  {
   "cell_type": "code",
   "execution_count": null,
   "metadata": {},
   "outputs": [],
   "source": [
    "# { Company Name : {feat_name : [parameters]} }\n",
    "company_trans_para = {}\n",
    "\n",
    "trfm_com_df_lst = []\n",
    "\n",
    "# For each company\n",
    "for name, df in company_dfs.items():\n",
    "    print(name)\n",
    "    # Create dictionary to save the transformation parameters.\n",
    "    trans_para_ = {}\n",
    "\n",
    "    transformed_df_list = []\n",
    "\n",
    "    # Apply to all training columns within that company.\n",
    "    for col_name in df.columns:\n",
    "\n",
    "        # Apply only to numeric columns. \n",
    "        if df[col_name].dtypes == 'float64':\n",
    "\n",
    "            s = df[col_name]\n",
    "\n",
    "            # Brown's Transformation Suggestions\n",
    "            result = new_brown_transform(col_name, s)\n",
    "            \n",
    "            # Transformed Series \n",
    "            transformed_df = pd.DataFrame({col_name:result}, index=df.index )\n",
    "            transformed_df_list.append(transformed_df)\n",
    "#             transformed_df.plot(kind='line')\n",
    "#             print(col_name)\n",
    "#             plt.show()\n",
    "            \n",
    "    # Transformed Dataframe, gluing series tgt\n",
    "    trans_df = pd.concat(transformed_df_list, axis=1)\n",
    "    \n",
    "    # Append transformed df to df_list\n",
    "    trfm_com_df_lst.append(trans_df)\n",
    "    \n",
    "    # Saving transformation parameters. \n",
    "    company_trans_para[name] = trans_para_\n",
    "    \n",
    "#     if name == 'GM':\n",
    "#         break"
   ]
  },
  {
   "cell_type": "markdown",
   "metadata": {},
   "source": [
    "#### new_X_train"
   ]
  },
  {
   "cell_type": "code",
   "execution_count": null,
   "metadata": {},
   "outputs": [],
   "source": [
    "new_X_train = pd.concat(trfm_com_df_lst, axis=0)\n",
    "print(new_X_train.shape)\n",
    "new_X_train.head()"
   ]
  },
  {
   "cell_type": "markdown",
   "metadata": {},
   "source": [
    "### Implement the training transformations onto X_test with trans_para_.\n"
   ]
  },
  {
   "cell_type": "code",
   "execution_count": null,
   "metadata": {},
   "outputs": [],
   "source": [
    "test_df_lst = []\n",
    "for name in company_list:\n",
    "    company_df = X_test[X_test['company_name']==name]\n",
    "    test_df_lst.append(company_df)"
   ]
  },
  {
   "cell_type": "code",
   "execution_count": null,
   "metadata": {},
   "outputs": [],
   "source": [
    "test_company_dfs = dict(zip(company_list, test_df_lst))"
   ]
  },
  {
   "cell_type": "code",
   "execution_count": null,
   "metadata": {},
   "outputs": [],
   "source": [
    "# Too little data!!!! \n",
    "test_company_dfs['Microsoft']['Accounts Receivable']"
   ]
  },
  {
   "cell_type": "code",
   "execution_count": null,
   "metadata": {},
   "outputs": [],
   "source": [
    "# X_test_new = scaler.transform(X_test)\n",
    "X_test_new_list = []\n",
    "\n",
    "for company, trans_para_ in company_trans_para.items():\n",
    "    \n",
    "    transformed_df_list = []\n",
    "    \n",
    "    for col, parameters in trans_para_.items():\n",
    "\n",
    "        power_T = parameters[0][0]\n",
    "\n",
    "        lmbda = parameters[0][1]\n",
    "\n",
    "        mean_ = parameters[1]\n",
    "\n",
    "        std_ = parameters[2]\n",
    "\n",
    "        s = test_company_dfs[company][col]\n",
    "\n",
    "        # Power Transformation\n",
    "        if power_T == 'B-C':\n",
    "            try:\n",
    "                result = boxcox(s, lmbda)\n",
    "                \n",
    "            except: \n",
    "#                 print('Original s \\n', s)\n",
    "                ss = s.copy()\n",
    "                ss = np.array([num+1 if num == 0 else num for num in s ])\n",
    "#                 print('New s \\n', s)\n",
    "                result = boxcox(ss, lmbda) \n",
    "                \n",
    "#                 print(company, 'has a negative value.')\n",
    "#                 s.plot(title=col)\n",
    "#                 print(s)\n",
    "#                 result = boxcox(abs(s), lmbda)\n",
    "                \n",
    "        elif power_T == 'Y-J':\n",
    "            result = yeojohnson(s, lmbda)\n",
    "           \n",
    "        # Difference Transformation\n",
    "#         diff_res = difference(result, 4)\n",
    "        \n",
    "        # StandardScaler \n",
    "#         diff_res = array(diff_res).reshape(len(diff_res), 1)\n",
    "        result = np.array(result).reshape(len(result), 1)\n",
    "    \n",
    "        try:\n",
    "            standard_res = StandardScaler(with_mean = mean_, \n",
    "                                     with_std = std_ ).fit_transform(result)\n",
    "        except:\n",
    "            print(company, col)\n",
    "            print('wrong?')\n",
    "            print(result)\n",
    "            print('after difference() and reshape', diff_res)\n",
    "        # Normalization\n",
    "        norm_res = MinMaxScaler(feature_range=(1,2)).fit_transform(standard_res)\n",
    "        norm_res = [ s[0] for s in norm_res]\n",
    "        \n",
    "        # Transformed Series\n",
    "        transformed_df = pd.DataFrame(dict({col: norm_res}), index=s.index)\n",
    "        transformed_df_list.append(transformed_df)\n",
    "        \n",
    "    # Transformed Dataframe, gluing series tgt, per company\n",
    "    trans_df = pd.concat(transformed_df_list, axis=1)\n",
    "    \n",
    "    # Append transformed df to df_list\n",
    "    X_test_new_list.append(trans_df)\n",
    "    \n",
    "    print(f'{company} is transformed and added.')"
   ]
  },
  {
   "cell_type": "code",
   "execution_count": null,
   "metadata": {},
   "outputs": [],
   "source": [
    "new_X_Test = pd.concat(X_test_new_list, axis=0)\n",
    "print(new_X_Test.shape)\n",
    "new_X_Test.head()"
   ]
  },
  {
   "cell_type": "markdown",
   "metadata": {},
   "source": [
    "We will be using the same pipeline and hyperparameters as experiment 1.1. \n",
    "<a id='expt2.2train'></a>\n",
    "\n",
    "[Click](#pipe&Hyper)\n",
    "here to view again.\n"
   ]
  },
  {
   "cell_type": "markdown",
   "metadata": {},
   "source": [
    "## Fit and Tune Model with Cross-Validation"
   ]
  },
  {
   "cell_type": "code",
   "execution_count": null,
   "metadata": {},
   "outputs": [],
   "source": [
    "# Create empty dictionary called fitted_models\n",
    "fitted_models = {}\n",
    "\n",
    "# Loop through model pipelines, tuning each one and saving it to fitted_models\n",
    "for name, pipeline in pipelines.items():\n",
    "    # Create cross-validation object from pipeline and hyperparameters\n",
    "    model = GridSearchCV(pipeline, hyperparameters[name], cv=10, n_jobs=-1)\n",
    "    \n",
    "    # Fit model on X_train, y_train\n",
    "    model.fit(new_X_train, y_train)\n",
    "    \n",
    "    # Store model in fitted_models[name]\n",
    "    fitted_models[name] = model\n",
    "    \n",
    "    # Print '{name} has been fitted'\n",
    "    print(name, 'has been fitted.') "
   ]
  },
  {
   "cell_type": "code",
   "execution_count": null,
   "metadata": {},
   "outputs": [],
   "source": [
    "for name, model in fitted_models.items():\n",
    "    pred = model.predict_proba(new_X_Test)\n",
    "    pred = [p[1] for p in pred]\n",
    "    \n",
    "    print( name, roc_auc_score(y_test, pred) )"
   ]
  },
  {
   "cell_type": "markdown",
   "metadata": {},
   "source": [
    "## Expt 1.2 Conclusion\n",
    "Our best classifer did not perform better than chance. Whether we transform the features across multiple industies as a whole or transform within each company. \n",
    "However, unlike expt 1.1, expt 1.2 did not perform the difference transformation. This may introduce some confounding variables, but since we did not have enough data, it is a limitation of this study."
   ]
  },
  {
   "cell_type": "markdown",
   "metadata": {},
   "source": [
    "# Experiment 2.1 - 2x4 Mixed MANCOVA/ Profile Analysis\n",
    "<a href='#top'>Top of Page</a>"
   ]
  },
  {
   "cell_type": "markdown",
   "metadata": {},
   "source": [
    "Homogeneity of variance-covariance matrices</br>\n",
    "https://www.introspective-mode.org/data-assumption-homogeneity-of-variance-covariance/#:~:text=In%20short%2C%20homogeneity%20of%20variance,in%20MANOVA)\n",
    "\n",
    "Homogeneity of regression slopes</br>\n",
    "https://www.introspective-mode.org/assumption-homogeneity-parallelism/"
   ]
  },
  {
   "cell_type": "markdown",
   "metadata": {},
   "source": [
    "<!> Profile Analysis is a mixed MANOVA:  http://userwww.sfsu.edu/efc/classes/biol710/manova/profileSPSS-Worked-Ex.htm <br/>\n",
    "Example using SPSS, note SPSS deafults to using type III (focus on Interaction) (Type I sequential; type II assumes no interaction)\n",
    "\n",
    "Difference between MANOVA and Profile analysis ( PA needs to be on the same scale) <br/>\n",
    "\n",
    "Three Hypothesis same as MANOVA and Profile Analysis <br/>\n",
    "H1: MANOVA is called Between Subject (IV) Main Effect (in PA is called Levels hypothesis) The 2 groups are different <br/>\n",
    "H2: MANOVA is called Within Subject (DV) Main Effect (in PA is called Flatness hypothesis) Difference within a group <br/>\n",
    "H3: MANOVA is called Interaction (IV & DV) (in PA is called Parallelism (of Profiles) hypothesis)  <br/>\n"
   ]
  },
  {
   "cell_type": "markdown",
   "metadata": {},
   "source": [
    "Analyse in SPSS because python statsmodels.api does not have MANCOVA (only MANOVA). We would like to control for the covariate ***Total Assets*** (Elmberger & Makdisi-Somi, 2016)<sup>1</sup> to level the playing field of individuals<sup>2</sup>.\n",
    "\n",
    "We selected considering our scope of interest is limited to the Balance Sheet, more traditional valuation metrics such as EBITDA (which incorporates the share price) are forgone. Another metric mentioned in the paper is the D&A (Depreciation & Amortization) of the company can be found in the Balance Sheet, however the coherence of reporting the metric is not found accross the companies. For example, Goodwill is a major intangible (amortized) asset in the auto industry but rarely seen in the tech industry. Given these limitations, we settled on selecting the ***Total Assets*** as our covariate. \n",
    "\n",
    "Covariates help with increasing statistical validity (controlling for confounding variables).<sup>3</sup> \n",
    "\n",
    "<br/>\n",
    "\n",
    "<sup>1</sup> http://www.diva-portal.org/smash/get/diva2:942663/FULLTEXT01.pdf</br>\n",
    "<sup>2</sup>http://media.usm.maine.edu/~jbeaudry/Research%20Literacy/Ch%209.pdf</br>\n",
    "<sup>3</sup>https://www.intechopen.com/books/physical-disabilities-therapeutic-implications/validity-in-rehabilitation-research-description-and-classification"
   ]
  },
  {
   "cell_type": "markdown",
   "metadata": {},
   "source": [
    "Example of 2 Factor Mixed MANOVA\n",
    "\n",
    "https://www.slideshare.net/JPVerma3/twofactor-mixed-manova-with-spss"
   ]
  },
  {
   "cell_type": "markdown",
   "metadata": {},
   "source": [
    "<a id='expt3.1'></a>"
   ]
  },
  {
   "cell_type": "markdown",
   "metadata": {},
   "source": [
    "# Experiment 3.1 - k-means clustering\n",
    "<a href='#top'>Top of Page</a>"
   ]
  },
  {
   "cell_type": "markdown",
   "metadata": {},
   "source": [
    "Does not assume any normality or Stationarity. "
   ]
  },
  {
   "cell_type": "markdown",
   "metadata": {},
   "source": [
    "Alternative to k-means clustering, without setting the number of clusters a priori https://en.wikipedia.org/wiki/DBSCAN"
   ]
  },
  {
   "cell_type": "markdown",
   "metadata": {},
   "source": [
    "<a id='expt4.1'></a>"
   ]
  },
  {
   "cell_type": "markdown",
   "metadata": {},
   "source": [
    "# Experiment 4.1 - ML Time Series Analysis\n",
    "<a href='#top'>Top of Page</a>"
   ]
  },
  {
   "cell_type": "markdown",
   "metadata": {},
   "source": [
    "Stationarity and detrending Test (ADF/KPSS)\n",
    "https://www.statsmodels.org/stable/examples/notebooks/generated/stationarity_detrending_adf_kpss.html\n",
    "\n"
   ]
  },
  {
   "cell_type": "code",
   "execution_count": null,
   "metadata": {},
   "outputs": [],
   "source": [
    "Sktime"
   ]
  },
  {
   "cell_type": "code",
   "execution_count": null,
   "metadata": {},
   "outputs": [],
   "source": [
    "Time Series ARIMA "
   ]
  },
  {
   "cell_type": "code",
   "execution_count": null,
   "metadata": {},
   "outputs": [],
   "source": [
    "Prophet https://facebook.github.io/prophet/docs/quick_start.html"
   ]
  },
  {
   "cell_type": "markdown",
   "metadata": {},
   "source": [
    "<a id='appendix'></a>"
   ]
  },
  {
   "cell_type": "markdown",
   "metadata": {},
   "source": [
    "https://academic.oup.com/cid/article/45/7/901/543152 <br/>\n",
    "Comparison of quasi-design experiments two-group tests (t test &  χ2 test), regression (association), and time series\n",
    "\n",
    "Quasi design susceptible to internal validity (the casual relationship between the IV and DV)"
   ]
  },
  {
   "cell_type": "markdown",
   "metadata": {},
   "source": [
    "# Appendix\n",
    "<a href='#top'>Top of Page</a>"
   ]
  },
  {
   "cell_type": "markdown",
   "metadata": {},
   "source": [
    "## Comparing BoxCox and Y-J have unexpected results"
   ]
  },
  {
   "cell_type": "markdown",
   "metadata": {},
   "source": [
    "Inventory positive outcome for Y-J, Total current assets negative outcome for Y-J but positive outcome for Box-Cox."
   ]
  },
  {
   "cell_type": "code",
   "execution_count": null,
   "metadata": {},
   "outputs": [],
   "source": [
    "Inventory = X_train.Inventory\n",
    "# print(Inventory)\n",
    "new_inventory, lmbda = yeojohnson(Inventory) \n",
    "pd.DataFrame(new_inventory).plot()\n",
    "plt.show()"
   ]
  },
  {
   "cell_type": "code",
   "execution_count": null,
   "metadata": {},
   "outputs": [],
   "source": [
    "newB_TCA = brown_transform('Total current assets', X_train['Total current assets'], 4)\n",
    "# pd.DataFrame(newB_TCA).plot()"
   ]
  },
  {
   "cell_type": "code",
   "execution_count": null,
   "metadata": {},
   "outputs": [],
   "source": [
    "TCA = X_train['Total current assets']\n",
    "TCA.plot()\n",
    "plt.show()\n",
    "# print(TCA.describe())\n",
    "# print(TCA)\n"
   ]
  },
  {
   "cell_type": "code",
   "execution_count": null,
   "metadata": {},
   "outputs": [],
   "source": [
    "TCA = X_train['Total current assets']\n",
    "# print(TCA)\n",
    "new_TCA, lmbda = yeojohnson(TCA) \n",
    "# print(lmbda)\n",
    "# pd.DataFrame(new_TCA).plot()\n",
    "# plt.show()"
   ]
  },
  {
   "cell_type": "markdown",
   "metadata": {},
   "source": [
    "## Try Brown's method."
   ]
  },
  {
   "cell_type": "markdown",
   "metadata": {},
   "source": [
    "#### Power Transform"
   ]
  },
  {
   "cell_type": "code",
   "execution_count": null,
   "metadata": {},
   "outputs": [],
   "source": [
    "from scipy.stats import boxcox\n",
    "s = tsla_df['Accounts Receivable']\n",
    "result, lmbda = boxcox(s)"
   ]
  },
  {
   "cell_type": "code",
   "execution_count": null,
   "metadata": {},
   "outputs": [],
   "source": [
    "s.plot()"
   ]
  },
  {
   "cell_type": "code",
   "execution_count": null,
   "metadata": {},
   "outputs": [],
   "source": [
    "pd.Series(result).plot()"
   ]
  },
  {
   "cell_type": "markdown",
   "metadata": {},
   "source": [
    "#### Difference Transform"
   ]
  },
  {
   "cell_type": "code",
   "execution_count": null,
   "metadata": {},
   "outputs": [],
   "source": [
    "# difference dataset\n",
    "def difference(data, interval):\n",
    "    return [data[i] - data[i - interval] for i in range(interval, len(data))]"
   ]
  },
  {
   "cell_type": "code",
   "execution_count": null,
   "metadata": {},
   "outputs": [],
   "source": [
    "diff_res = difference(result, 4)\n",
    "pd.Series(diff_res).plot()"
   ]
  },
  {
   "cell_type": "code",
   "execution_count": null,
   "metadata": {},
   "outputs": [],
   "source": [
    "sample = difference(power_s, 4)\n",
    "sample = np.array(sample).reshape(-1, 1) "
   ]
  },
  {
   "cell_type": "code",
   "execution_count": null,
   "metadata": {
    "scrolled": true
   },
   "outputs": [],
   "source": [
    "sample_norm = pd.DataFrame(StandardScaler().fit_transform(sample))\n",
    "sample_norm.plot()"
   ]
  },
  {
   "cell_type": "markdown",
   "metadata": {},
   "source": [
    "#### StandardScaler "
   ]
  },
  {
   "cell_type": "code",
   "execution_count": null,
   "metadata": {
    "scrolled": true
   },
   "outputs": [],
   "source": [
    "from numpy import array\n",
    "diff_res = [x for x in diff_res]\n",
    "diff_res = array(diff_res).reshape(len(diff_res), 1)\n",
    "# print(pd.Series(diff_res[0]).plot())\n",
    "# plt.show()\n",
    "standard_res = StandardScaler().fit_transform(diff_res)"
   ]
  },
  {
   "cell_type": "code",
   "execution_count": null,
   "metadata": {},
   "outputs": [],
   "source": [
    "pd.DataFrame(standard_res).plot()\n",
    "plt.show()"
   ]
  },
  {
   "cell_type": "markdown",
   "metadata": {},
   "source": [
    "#### Normalization"
   ]
  },
  {
   "cell_type": "code",
   "execution_count": null,
   "metadata": {},
   "outputs": [],
   "source": [
    "from sklearn.preprocessing import MinMaxScaler\n",
    "norm_res = MinMaxScaler().fit_transform(standard_res)"
   ]
  },
  {
   "cell_type": "code",
   "execution_count": null,
   "metadata": {},
   "outputs": [],
   "source": [
    "pd.DataFrame(norm_res).plot()"
   ]
  },
  {
   "cell_type": "markdown",
   "metadata": {},
   "source": [
    "## Using Scikit-Learn built-in preprocessing methods, does not yield proper results. "
   ]
  },
  {
   "cell_type": "code",
   "execution_count": null,
   "metadata": {},
   "outputs": [],
   "source": [
    "# Power Transform\n",
    "from sklearn.preprocessing import power_transform\n",
    "\n",
    "# Difference Transform\n",
    "# Missing\n",
    "\n",
    "# Standardization\n",
    "from sklearn.preprocessing import StandardScaler\n",
    "\n",
    "# Normalization\n",
    "from sklearn.preprocessing import normalize"
   ]
  },
  {
   "cell_type": "code",
   "execution_count": null,
   "metadata": {},
   "outputs": [],
   "source": [
    "type(s.values)"
   ]
  },
  {
   "cell_type": "markdown",
   "metadata": {},
   "source": [
    "#### Power Transform"
   ]
  },
  {
   "cell_type": "code",
   "execution_count": null,
   "metadata": {},
   "outputs": [],
   "source": [
    "# Using 'Accounts Receivable' as an example, plot different transformations.\n",
    "s = tsla_df['Short_term_investments']\n",
    "\n",
    "power_s = power_transform(s.values.reshape(-1,1), \n",
    "                          method='box-cox', \n",
    "                          standardize=False)\n",
    "# print(power_s)"
   ]
  },
  {
   "cell_type": "markdown",
   "metadata": {},
   "source": [
    "##### Accounts Receivable\n"
   ]
  },
  {
   "cell_type": "code",
   "execution_count": null,
   "metadata": {
    "scrolled": true
   },
   "outputs": [],
   "source": [
    "# Original\n",
    "# Before Power Transformations\n",
    "print(pd.DataFrame(s).plot())\n",
    "plt.show()"
   ]
  },
  {
   "cell_type": "code",
   "execution_count": null,
   "metadata": {},
   "outputs": [],
   "source": [
    "# Accounts Receivable\n",
    "# After Power Transformations - box-cox\n",
    "print(pd.DataFrame(power_s).plot())\n",
    "plt.show()"
   ]
  },
  {
   "cell_type": "code",
   "execution_count": null,
   "metadata": {
    "scrolled": true
   },
   "outputs": [],
   "source": [
    "# Accounts Receivable\n",
    "# After Power Transformations - yeo-johnson\n",
    "print(pd.DataFrame(power_s).plot())\n",
    "plt.show()"
   ]
  },
  {
   "cell_type": "markdown",
   "metadata": {},
   "source": [
    "##### Short_term_investments"
   ]
  },
  {
   "cell_type": "code",
   "execution_count": null,
   "metadata": {},
   "outputs": [],
   "source": [
    "# Original\n",
    "# Before Power Transformations\n",
    "print(pd.DataFrame(s).plot())\n",
    "plt.show()"
   ]
  },
  {
   "cell_type": "code",
   "execution_count": null,
   "metadata": {},
   "outputs": [],
   "source": [
    "# Short_term_investments\n",
    "# After Power Transformations - box-cox\n",
    " **ERROR - **\n",
    "ValueError: The Box-Cox transformation can only be applied to strictly positive data"
   ]
  },
  {
   "cell_type": "code",
   "execution_count": null,
   "metadata": {},
   "outputs": [],
   "source": [
    "# Short_term_investments\n",
    "# After Power Transformations - yeo-johnson\n",
    "print(pd.DataFrame(power_s).plot())\n",
    "plt.show()"
   ]
  },
  {
   "cell_type": "code",
   "execution_count": null,
   "metadata": {},
   "outputs": [],
   "source": [
    "power_s = [num[0] for num in power_s]"
   ]
  },
  {
   "cell_type": "markdown",
   "metadata": {},
   "source": [
    "#### Difference Transform\n",
    "Same as Brown's\n"
   ]
  },
  {
   "cell_type": "code",
   "execution_count": null,
   "metadata": {},
   "outputs": [],
   "source": [
    "# difference dataset\n",
    "def difference(data, interval):\n",
    "    return [data[i] - data[i - interval] for i in range(interval, len(data))]"
   ]
  },
  {
   "cell_type": "code",
   "execution_count": null,
   "metadata": {
    "scrolled": true
   },
   "outputs": [],
   "source": [
    "diff_s = difference(power_s, 4)\n",
    "pd.Series(diff_s).plot()"
   ]
  },
  {
   "cell_type": "markdown",
   "metadata": {},
   "source": [
    "## Normalization"
   ]
  },
  {
   "cell_type": "code",
   "execution_count": null,
   "metadata": {},
   "outputs": [],
   "source": [
    "norm_s = normalize(diff_s, norm='l1', axis=0)\n",
    "pd.DataFrame(norm_s).plot()"
   ]
  },
  {
   "cell_type": "markdown",
   "metadata": {},
   "source": [
    "#### Standardization"
   ]
  },
  {
   "cell_type": "code",
   "execution_count": null,
   "metadata": {},
   "outputs": [],
   "source": [
    "diff_s = [[num] for num in diff_s]"
   ]
  },
  {
   "cell_type": "code",
   "execution_count": null,
   "metadata": {},
   "outputs": [],
   "source": [
    "standard_s = StandardScaler().fit_transform(diff_s)\n",
    "pd.DataFrame(standard_s).plot()"
   ]
  },
  {
   "cell_type": "markdown",
   "metadata": {},
   "source": [
    "## Comparison of final products between scikit-learn and Brown's process"
   ]
  },
  {
   "cell_type": "code",
   "execution_count": null,
   "metadata": {},
   "outputs": [],
   "source": [
    "norm_s == norm_res\n",
    "print(type(norm_s), type(norm_res))\n",
    "norm_s_df = pd.DataFrame( norm_s)\n",
    "norm_res_df = pd.DataFrame( norm_res)\n",
    "norm_s_df.plot()\n",
    "norm_res_df.plot()"
   ]
  },
  {
   "cell_type": "markdown",
   "metadata": {},
   "source": [
    "<a href='#top'>Top of Page</a>"
   ]
  },
  {
   "cell_type": "code",
   "execution_count": null,
   "metadata": {},
   "outputs": [],
   "source": []
  }
 ],
 "metadata": {
  "kernelspec": {
   "display_name": "Python 3",
   "language": "python",
   "name": "python3"
  },
  "language_info": {
   "codemirror_mode": {
    "name": "ipython",
    "version": 3
   },
   "file_extension": ".py",
   "mimetype": "text/x-python",
   "name": "python",
   "nbconvert_exporter": "python",
   "pygments_lexer": "ipython3",
   "version": "3.7.4"
  },
  "toc-autonumbering": false,
  "toc-showcode": false,
  "toc-showmarkdowntxt": false,
  "toc-showtags": false
 },
 "nbformat": 4,
 "nbformat_minor": 4
}
