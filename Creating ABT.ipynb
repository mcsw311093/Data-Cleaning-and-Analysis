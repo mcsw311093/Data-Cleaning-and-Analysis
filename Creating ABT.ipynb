{
 "cells": [
  {
   "cell_type": "code",
   "execution_count": 1,
   "metadata": {},
   "outputs": [],
   "source": [
    "# Import Library \n",
    "\n",
    "import re\n",
    "from re import search\n",
    "\n",
    "import unicodedata\n",
    "from bs4 import BeautifulSoup\n",
    "from bs4 import Tag \n",
    "\n",
    "from bs4 import NavigableString\n",
    "from bs4 import SoupStrainer\n",
    "from pprint import pprint\n",
    "\n",
    "import numpy as np\n",
    "from numpy import array\n",
    "import pandas as pd \n",
    "\n",
    "from itertools import groupby\n",
    "from operator import itemgetter\n",
    "\n",
    "import csv\n",
    "import pickle\n",
    "\n",
    "from collections import Counter\n",
    "import datetime\n",
    "\n",
    "import matplotlib.pyplot as plt\n",
    "import seaborn as sns\n",
    "\n",
    "from IPython.display import display\n",
    "from IPython.core import display as ICD\n",
    "pd.set_option('display.max_columns', 100)\n",
    "pd.set_option('display.max_rows', None)"
   ]
  },
  {
   "cell_type": "code",
   "execution_count": 2,
   "metadata": {},
   "outputs": [],
   "source": [
    "company_name = {'Tesla' : '0001318605',\n",
    "                'Microsoft': '0000789019',\n",
    "                'Apple' : '0000320193',\n",
    "               'Netflix': '0001065280',\n",
    "               'Facebook' : '0001326801',\n",
    "               'Google' : '1652044',\n",
    "               'Ford' : '0000037996',\n",
    "               'Amazon' : '0001018724',\n",
    "                'GM' : '0001467858'}"
   ]
  },
  {
   "cell_type": "code",
   "execution_count": 3,
   "metadata": {
    "scrolled": true
   },
   "outputs": [
    {
     "name": "stdout",
     "output_type": "stream",
     "text": [
      "Tesla\n",
      "(22, 38)\n",
      "\n",
      "Microsoft\n",
      "(32, 28)\n",
      "\n",
      "Apple\n",
      "(26, 31)\n",
      "\n",
      "Netflix\n",
      "(48, 25)\n",
      "\n",
      "Facebook\n",
      "(22, 26)\n",
      "\n",
      "Google\n",
      "(19, 32)\n",
      "\n",
      "Ford\n",
      "(30, 34)\n",
      "\n",
      "Amazon\n",
      "(50, 25)\n",
      "\n",
      "GM\n",
      "(43, 38)\n",
      "\n"
     ]
    }
   ],
   "source": [
    "dfs = []\n",
    "for name, CIK in company_name.items(): \n",
    "    company_df = pd.read_csv(f'C:/Users/Matthew/Documents/Machine Learning Accelerator/Capstone Project/1 Predict Stock Price/{name}/abt-{name}.csv')\n",
    "    print(name)\n",
    "    company_df['company_name'] = '{}'.format(name)\n",
    "    print(company_df.shape)\n",
    "#     ICD.display(company_df)\n",
    "    dfs.append(company_df)\n",
    "    print()\n"
   ]
  },
  {
   "cell_type": "markdown",
   "metadata": {},
   "source": [
    "# 1. Exploratory Analysis"
   ]
  },
  {
   "cell_type": "code",
   "execution_count": 4,
   "metadata": {
    "scrolled": true
   },
   "outputs": [
    {
     "name": "stdout",
     "output_type": "stream",
     "text": [
      "(292, 113)\n"
     ]
    },
    {
     "data": {
      "text/html": [
       "<div>\n",
       "<style scoped>\n",
       "    .dataframe tbody tr th:only-of-type {\n",
       "        vertical-align: middle;\n",
       "    }\n",
       "\n",
       "    .dataframe tbody tr th {\n",
       "        vertical-align: top;\n",
       "    }\n",
       "\n",
       "    .dataframe thead th {\n",
       "        text-align: right;\n",
       "    }\n",
       "</style>\n",
       "<table border=\"1\" class=\"dataframe\">\n",
       "  <thead>\n",
       "    <tr style=\"text-align: right;\">\n",
       "      <th></th>\n",
       "      <th>Year</th>\n",
       "      <th>Cash</th>\n",
       "      <th>Accounts Receivable</th>\n",
       "      <th>Inventory</th>\n",
       "      <th>Prepaid expenses and other current assets</th>\n",
       "      <th>Total current assets</th>\n",
       "      <th>Operating lease vehicles</th>\n",
       "      <th>Solar energy systems</th>\n",
       "      <th>Property and Equipment</th>\n",
       "      <th>Intangible assets</th>\n",
       "      <th>Goodwill</th>\n",
       "      <th>Total assets</th>\n",
       "      <th>Accounts payable</th>\n",
       "      <th>Accrued Liabilities</th>\n",
       "      <th>Customer deposits</th>\n",
       "      <th>Total current liabilities</th>\n",
       "      <th>Other long term liabilities</th>\n",
       "      <th>Total liabilities</th>\n",
       "      <th>Common Stock</th>\n",
       "      <th>Additional paid in capital</th>\n",
       "      <th>Accumulated other comprehensive loss</th>\n",
       "      <th>Accumulated deficit</th>\n",
       "      <th>Total liabilities and equity</th>\n",
       "      <th>Total Deferred Revenue</th>\n",
       "      <th>Total Noncontrolling interests in subsidiaries</th>\n",
       "      <th>Total Shareholder Equity</th>\n",
       "      <th>MyPower customer notes receivable</th>\n",
       "      <th>Other assets</th>\n",
       "      <th>Total Resale value guarantees</th>\n",
       "      <th>Current portion of long term debt and capital leases</th>\n",
       "      <th>Long term debt and capital leases</th>\n",
       "      <th>Solar bonds issued to related parties</th>\n",
       "      <th>Total Convertible Senior Notes</th>\n",
       "      <th>Restricted cash and marketable securities</th>\n",
       "      <th>Total Restricted Cash</th>\n",
       "      <th>Short term investments</th>\n",
       "      <th>Other long term assets</th>\n",
       "      <th>Accrued compensation</th>\n",
       "      <th>Short term unearned revenue</th>\n",
       "      <th>Long term debt</th>\n",
       "      <th>Long term unearned revenue</th>\n",
       "      <th>Retained Earnings</th>\n",
       "      <th>Total Other</th>\n",
       "      <th>Accumulated comprehensive income</th>\n",
       "      <th>Vendor non trade receivables</th>\n",
       "      <th>Other current assets</th>\n",
       "      <th>Other non current assets</th>\n",
       "      <th>Other non current liabilities</th>\n",
       "      <th>Accumulated other comprehensive income/</th>\n",
       "      <th>Total shareholders equity</th>\n",
       "      <th>...</th>\n",
       "      <th>Accumulated comprehensive loss</th>\n",
       "      <th>Non Current liabilities</th>\n",
       "      <th>Marketable securities</th>\n",
       "      <th>Partners payable</th>\n",
       "      <th>Accrued expenses and other current liabilities</th>\n",
       "      <th>Other liabilities</th>\n",
       "      <th>Accumulated Other Comprehensive loss</th>\n",
       "      <th>Total cash</th>\n",
       "      <th>Income taxes receivable</th>\n",
       "      <th>Non marketable investments</th>\n",
       "      <th>Accrued compensation and benefits</th>\n",
       "      <th>Accrued revenue share</th>\n",
       "      <th>Total Deferred income taxes</th>\n",
       "      <th>Total Income taxes payable</th>\n",
       "      <th>Accumulated Comprehensive Income</th>\n",
       "      <th>Equity in  assets of affiliated companies</th>\n",
       "      <th>Payables</th>\n",
       "      <th>Automotive debt payable within one year</th>\n",
       "      <th>Automotive long term debt</th>\n",
       "      <th>Class B Stock</th>\n",
       "      <th>Capital in excess of par value of stock</th>\n",
       "      <th>Treasury stock</th>\n",
       "      <th>Total equity attributable to Ford Motor Company</th>\n",
       "      <th>Equity attributable to noncontrolling interests</th>\n",
       "      <th>Total equity</th>\n",
       "      <th>31000000</th>\n",
       "      <th>Debt</th>\n",
       "      <th>Total Cash</th>\n",
       "      <th>Total Other assets</th>\n",
       "      <th>Total Net investment in operating leases</th>\n",
       "      <th>Redeemable noncontrolling interest</th>\n",
       "      <th>Accrued expenses and other</th>\n",
       "      <th>Total non current liabilities</th>\n",
       "      <th>Total Property and Equipment</th>\n",
       "      <th>Equity in  assets of nonconsolidated affiliates</th>\n",
       "      <th>Total non current assets</th>\n",
       "      <th>Total Assets</th>\n",
       "      <th>Postretirement benefits other than pensions</th>\n",
       "      <th>Pensions</th>\n",
       "      <th>Total Liabilities</th>\n",
       "      <th>Shareholder Equity</th>\n",
       "      <th>Noncontrolling interests</th>\n",
       "      <th>Total Equity</th>\n",
       "      <th>Total Automotive</th>\n",
       "      <th>Total GM Financial</th>\n",
       "      <th>Total Restricted cash and marketable securities</th>\n",
       "      <th>Series A</th>\n",
       "      <th>Series B</th>\n",
       "      <th>Capital surplus</th>\n",
       "      <th>Accumulated other comprehensive income</th>\n",
       "    </tr>\n",
       "    <tr>\n",
       "      <th>company_name</th>\n",
       "      <th></th>\n",
       "      <th></th>\n",
       "      <th></th>\n",
       "      <th></th>\n",
       "      <th></th>\n",
       "      <th></th>\n",
       "      <th></th>\n",
       "      <th></th>\n",
       "      <th></th>\n",
       "      <th></th>\n",
       "      <th></th>\n",
       "      <th></th>\n",
       "      <th></th>\n",
       "      <th></th>\n",
       "      <th></th>\n",
       "      <th></th>\n",
       "      <th></th>\n",
       "      <th></th>\n",
       "      <th></th>\n",
       "      <th></th>\n",
       "      <th></th>\n",
       "      <th></th>\n",
       "      <th></th>\n",
       "      <th></th>\n",
       "      <th></th>\n",
       "      <th></th>\n",
       "      <th></th>\n",
       "      <th></th>\n",
       "      <th></th>\n",
       "      <th></th>\n",
       "      <th></th>\n",
       "      <th></th>\n",
       "      <th></th>\n",
       "      <th></th>\n",
       "      <th></th>\n",
       "      <th></th>\n",
       "      <th></th>\n",
       "      <th></th>\n",
       "      <th></th>\n",
       "      <th></th>\n",
       "      <th></th>\n",
       "      <th></th>\n",
       "      <th></th>\n",
       "      <th></th>\n",
       "      <th></th>\n",
       "      <th></th>\n",
       "      <th></th>\n",
       "      <th></th>\n",
       "      <th></th>\n",
       "      <th></th>\n",
       "      <th></th>\n",
       "      <th></th>\n",
       "      <th></th>\n",
       "      <th></th>\n",
       "      <th></th>\n",
       "      <th></th>\n",
       "      <th></th>\n",
       "      <th></th>\n",
       "      <th></th>\n",
       "      <th></th>\n",
       "      <th></th>\n",
       "      <th></th>\n",
       "      <th></th>\n",
       "      <th></th>\n",
       "      <th></th>\n",
       "      <th></th>\n",
       "      <th></th>\n",
       "      <th></th>\n",
       "      <th></th>\n",
       "      <th></th>\n",
       "      <th></th>\n",
       "      <th></th>\n",
       "      <th></th>\n",
       "      <th></th>\n",
       "      <th></th>\n",
       "      <th></th>\n",
       "      <th></th>\n",
       "      <th></th>\n",
       "      <th></th>\n",
       "      <th></th>\n",
       "      <th></th>\n",
       "      <th></th>\n",
       "      <th></th>\n",
       "      <th></th>\n",
       "      <th></th>\n",
       "      <th></th>\n",
       "      <th></th>\n",
       "      <th></th>\n",
       "      <th></th>\n",
       "      <th></th>\n",
       "      <th></th>\n",
       "      <th></th>\n",
       "      <th></th>\n",
       "      <th></th>\n",
       "      <th></th>\n",
       "      <th></th>\n",
       "      <th></th>\n",
       "      <th></th>\n",
       "      <th></th>\n",
       "      <th></th>\n",
       "      <th></th>\n",
       "    </tr>\n",
       "  </thead>\n",
       "  <tbody>\n",
       "    <tr>\n",
       "      <td>Amazon</td>\n",
       "      <td>2013.500000</td>\n",
       "      <td>9.612340e+09</td>\n",
       "      <td>5.658860e+09</td>\n",
       "      <td>7.651140e+09</td>\n",
       "      <td>NaN</td>\n",
       "      <td>2.856470e+10</td>\n",
       "      <td>NaN</td>\n",
       "      <td>NaN</td>\n",
       "      <td>NaN</td>\n",
       "      <td>NaN</td>\n",
       "      <td>4.790480e+09</td>\n",
       "      <td>6.088600e+10</td>\n",
       "      <td>1.465530e+10</td>\n",
       "      <td>NaN</td>\n",
       "      <td>NaN</td>\n",
       "      <td>2.602540e+10</td>\n",
       "      <td>NaN</td>\n",
       "      <td>NaN</td>\n",
       "      <td>4.820000e+06</td>\n",
       "      <td>1.271828e+10</td>\n",
       "      <td>NaN</td>\n",
       "      <td>NaN</td>\n",
       "      <td>6.088600e+10</td>\n",
       "      <td>NaN</td>\n",
       "      <td>NaN</td>\n",
       "      <td>1.649140e+10</td>\n",
       "      <td>NaN</td>\n",
       "      <td>4.216440e+09</td>\n",
       "      <td>NaN</td>\n",
       "      <td>NaN</td>\n",
       "      <td>NaN</td>\n",
       "      <td>NaN</td>\n",
       "      <td>NaN</td>\n",
       "      <td>NaN</td>\n",
       "      <td>NaN</td>\n",
       "      <td>NaN</td>\n",
       "      <td>NaN</td>\n",
       "      <td>NaN</td>\n",
       "      <td>NaN</td>\n",
       "      <td>NaN</td>\n",
       "      <td>NaN</td>\n",
       "      <td>5.929420e+09</td>\n",
       "      <td>NaN</td>\n",
       "      <td>4.444200e+08</td>\n",
       "      <td>NaN</td>\n",
       "      <td>NaN</td>\n",
       "      <td>NaN</td>\n",
       "      <td>NaN</td>\n",
       "      <td>NaN</td>\n",
       "      <td>NaN</td>\n",
       "      <td>...</td>\n",
       "      <td>NaN</td>\n",
       "      <td>NaN</td>\n",
       "      <td>5.512540e+09</td>\n",
       "      <td>NaN</td>\n",
       "      <td>NaN</td>\n",
       "      <td>NaN</td>\n",
       "      <td>NaN</td>\n",
       "      <td>NaN</td>\n",
       "      <td>NaN</td>\n",
       "      <td>NaN</td>\n",
       "      <td>NaN</td>\n",
       "      <td>NaN</td>\n",
       "      <td>NaN</td>\n",
       "      <td>NaN</td>\n",
       "      <td>NaN</td>\n",
       "      <td>NaN</td>\n",
       "      <td>NaN</td>\n",
       "      <td>NaN</td>\n",
       "      <td>NaN</td>\n",
       "      <td>NaN</td>\n",
       "      <td>NaN</td>\n",
       "      <td>1.382260e+09</td>\n",
       "      <td>NaN</td>\n",
       "      <td>NaN</td>\n",
       "      <td>NaN</td>\n",
       "      <td>NaN</td>\n",
       "      <td>NaN</td>\n",
       "      <td>NaN</td>\n",
       "      <td>NaN</td>\n",
       "      <td>NaN</td>\n",
       "      <td>NaN</td>\n",
       "      <td>8.981200e+09</td>\n",
       "      <td>1.836920e+10</td>\n",
       "      <td>2.093610e+10</td>\n",
       "      <td>NaN</td>\n",
       "      <td>NaN</td>\n",
       "      <td>NaN</td>\n",
       "      <td>NaN</td>\n",
       "      <td>NaN</td>\n",
       "      <td>NaN</td>\n",
       "      <td>NaN</td>\n",
       "      <td>NaN</td>\n",
       "      <td>NaN</td>\n",
       "      <td>NaN</td>\n",
       "      <td>NaN</td>\n",
       "      <td>NaN</td>\n",
       "      <td>NaN</td>\n",
       "      <td>NaN</td>\n",
       "      <td>NaN</td>\n",
       "      <td>NaN</td>\n",
       "    </tr>\n",
       "    <tr>\n",
       "      <td>Apple</td>\n",
       "      <td>2016.500000</td>\n",
       "      <td>2.577219e+10</td>\n",
       "      <td>1.528931e+10</td>\n",
       "      <td>3.299346e+09</td>\n",
       "      <td>NaN</td>\n",
       "      <td>1.076996e+11</td>\n",
       "      <td>NaN</td>\n",
       "      <td>NaN</td>\n",
       "      <td>2.854373e+10</td>\n",
       "      <td>NaN</td>\n",
       "      <td>4.697412e+09</td>\n",
       "      <td>3.119605e+11</td>\n",
       "      <td>3.506608e+10</td>\n",
       "      <td>NaN</td>\n",
       "      <td>NaN</td>\n",
       "      <td>8.175215e+10</td>\n",
       "      <td>NaN</td>\n",
       "      <td>1.929605e+11</td>\n",
       "      <td>3.329146e+10</td>\n",
       "      <td>NaN</td>\n",
       "      <td>NaN</td>\n",
       "      <td>NaN</td>\n",
       "      <td>3.119605e+11</td>\n",
       "      <td>1.146025e+10</td>\n",
       "      <td>NaN</td>\n",
       "      <td>NaN</td>\n",
       "      <td>NaN</td>\n",
       "      <td>NaN</td>\n",
       "      <td>NaN</td>\n",
       "      <td>NaN</td>\n",
       "      <td>NaN</td>\n",
       "      <td>NaN</td>\n",
       "      <td>NaN</td>\n",
       "      <td>NaN</td>\n",
       "      <td>NaN</td>\n",
       "      <td>NaN</td>\n",
       "      <td>NaN</td>\n",
       "      <td>NaN</td>\n",
       "      <td>NaN</td>\n",
       "      <td>6.210068e+10</td>\n",
       "      <td>NaN</td>\n",
       "      <td>8.635554e+10</td>\n",
       "      <td>NaN</td>\n",
       "      <td>NaN</td>\n",
       "      <td>1.309442e+10</td>\n",
       "      <td>1.103438e+10</td>\n",
       "      <td>2.039633e+10</td>\n",
       "      <td>3.893669e+10</td>\n",
       "      <td>1.230696e+09</td>\n",
       "      <td>1.190000e+11</td>\n",
       "      <td>...</td>\n",
       "      <td>NaN</td>\n",
       "      <td>NaN</td>\n",
       "      <td>NaN</td>\n",
       "      <td>NaN</td>\n",
       "      <td>NaN</td>\n",
       "      <td>NaN</td>\n",
       "      <td>NaN</td>\n",
       "      <td>NaN</td>\n",
       "      <td>NaN</td>\n",
       "      <td>NaN</td>\n",
       "      <td>NaN</td>\n",
       "      <td>NaN</td>\n",
       "      <td>NaN</td>\n",
       "      <td>NaN</td>\n",
       "      <td>NaN</td>\n",
       "      <td>NaN</td>\n",
       "      <td>NaN</td>\n",
       "      <td>NaN</td>\n",
       "      <td>NaN</td>\n",
       "      <td>NaN</td>\n",
       "      <td>NaN</td>\n",
       "      <td>NaN</td>\n",
       "      <td>NaN</td>\n",
       "      <td>NaN</td>\n",
       "      <td>NaN</td>\n",
       "      <td>NaN</td>\n",
       "      <td>NaN</td>\n",
       "      <td>NaN</td>\n",
       "      <td>NaN</td>\n",
       "      <td>NaN</td>\n",
       "      <td>NaN</td>\n",
       "      <td>NaN</td>\n",
       "      <td>NaN</td>\n",
       "      <td>NaN</td>\n",
       "      <td>NaN</td>\n",
       "      <td>NaN</td>\n",
       "      <td>NaN</td>\n",
       "      <td>NaN</td>\n",
       "      <td>NaN</td>\n",
       "      <td>NaN</td>\n",
       "      <td>NaN</td>\n",
       "      <td>NaN</td>\n",
       "      <td>NaN</td>\n",
       "      <td>NaN</td>\n",
       "      <td>NaN</td>\n",
       "      <td>NaN</td>\n",
       "      <td>NaN</td>\n",
       "      <td>NaN</td>\n",
       "      <td>NaN</td>\n",
       "      <td>NaN</td>\n",
       "    </tr>\n",
       "    <tr>\n",
       "      <td>Facebook</td>\n",
       "      <td>2017.000000</td>\n",
       "      <td>9.278727e+09</td>\n",
       "      <td>4.644000e+09</td>\n",
       "      <td>NaN</td>\n",
       "      <td>1.362818e+09</td>\n",
       "      <td>4.005695e+10</td>\n",
       "      <td>NaN</td>\n",
       "      <td>NaN</td>\n",
       "      <td>1.559245e+10</td>\n",
       "      <td>2.201636e+09</td>\n",
       "      <td>1.821345e+10</td>\n",
       "      <td>7.965432e+10</td>\n",
       "      <td>4.372273e+08</td>\n",
       "      <td>NaN</td>\n",
       "      <td>NaN</td>\n",
       "      <td>5.460818e+09</td>\n",
       "      <td>NaN</td>\n",
       "      <td>1.234255e+10</td>\n",
       "      <td>NaN</td>\n",
       "      <td>3.933468e+10</td>\n",
       "      <td>NaN</td>\n",
       "      <td>NaN</td>\n",
       "      <td>7.965432e+10</td>\n",
       "      <td>NaN</td>\n",
       "      <td>NaN</td>\n",
       "      <td>1.267869e+11</td>\n",
       "      <td>NaN</td>\n",
       "      <td>1.715227e+09</td>\n",
       "      <td>NaN</td>\n",
       "      <td>NaN</td>\n",
       "      <td>NaN</td>\n",
       "      <td>NaN</td>\n",
       "      <td>NaN</td>\n",
       "      <td>NaN</td>\n",
       "      <td>NaN</td>\n",
       "      <td>NaN</td>\n",
       "      <td>NaN</td>\n",
       "      <td>NaN</td>\n",
       "      <td>NaN</td>\n",
       "      <td>NaN</td>\n",
       "      <td>NaN</td>\n",
       "      <td>2.846250e+10</td>\n",
       "      <td>NaN</td>\n",
       "      <td>NaN</td>\n",
       "      <td>NaN</td>\n",
       "      <td>NaN</td>\n",
       "      <td>NaN</td>\n",
       "      <td>NaN</td>\n",
       "      <td>NaN</td>\n",
       "      <td>NaN</td>\n",
       "      <td>...</td>\n",
       "      <td>NaN</td>\n",
       "      <td>NaN</td>\n",
       "      <td>2.477141e+10</td>\n",
       "      <td>3.828182e+08</td>\n",
       "      <td>4.346773e+09</td>\n",
       "      <td>4.989273e+09</td>\n",
       "      <td>4.854091e+08</td>\n",
       "      <td>NaN</td>\n",
       "      <td>NaN</td>\n",
       "      <td>NaN</td>\n",
       "      <td>NaN</td>\n",
       "      <td>NaN</td>\n",
       "      <td>NaN</td>\n",
       "      <td>NaN</td>\n",
       "      <td>NaN</td>\n",
       "      <td>NaN</td>\n",
       "      <td>NaN</td>\n",
       "      <td>NaN</td>\n",
       "      <td>NaN</td>\n",
       "      <td>NaN</td>\n",
       "      <td>NaN</td>\n",
       "      <td>NaN</td>\n",
       "      <td>NaN</td>\n",
       "      <td>NaN</td>\n",
       "      <td>NaN</td>\n",
       "      <td>NaN</td>\n",
       "      <td>NaN</td>\n",
       "      <td>NaN</td>\n",
       "      <td>NaN</td>\n",
       "      <td>NaN</td>\n",
       "      <td>NaN</td>\n",
       "      <td>NaN</td>\n",
       "      <td>NaN</td>\n",
       "      <td>NaN</td>\n",
       "      <td>NaN</td>\n",
       "      <td>NaN</td>\n",
       "      <td>NaN</td>\n",
       "      <td>NaN</td>\n",
       "      <td>NaN</td>\n",
       "      <td>NaN</td>\n",
       "      <td>NaN</td>\n",
       "      <td>NaN</td>\n",
       "      <td>NaN</td>\n",
       "      <td>NaN</td>\n",
       "      <td>NaN</td>\n",
       "      <td>NaN</td>\n",
       "      <td>NaN</td>\n",
       "      <td>NaN</td>\n",
       "      <td>NaN</td>\n",
       "      <td>NaN</td>\n",
       "    </tr>\n",
       "    <tr>\n",
       "      <td>Ford</td>\n",
       "      <td>2016.000000</td>\n",
       "      <td>NaN</td>\n",
       "      <td>1.423826e+11</td>\n",
       "      <td>1.001370e+10</td>\n",
       "      <td>NaN</td>\n",
       "      <td>1.149718e+11</td>\n",
       "      <td>NaN</td>\n",
       "      <td>NaN</td>\n",
       "      <td>3.164500e+10</td>\n",
       "      <td>NaN</td>\n",
       "      <td>NaN</td>\n",
       "      <td>2.313733e+11</td>\n",
       "      <td>NaN</td>\n",
       "      <td>NaN</td>\n",
       "      <td>NaN</td>\n",
       "      <td>9.486088e+10</td>\n",
       "      <td>NaN</td>\n",
       "      <td>2.023362e+11</td>\n",
       "      <td>3.960000e+07</td>\n",
       "      <td>NaN</td>\n",
       "      <td>NaN</td>\n",
       "      <td>NaN</td>\n",
       "      <td>2.313733e+11</td>\n",
       "      <td>4.434346e+10</td>\n",
       "      <td>NaN</td>\n",
       "      <td>NaN</td>\n",
       "      <td>NaN</td>\n",
       "      <td>NaN</td>\n",
       "      <td>NaN</td>\n",
       "      <td>NaN</td>\n",
       "      <td>NaN</td>\n",
       "      <td>NaN</td>\n",
       "      <td>NaN</td>\n",
       "      <td>NaN</td>\n",
       "      <td>NaN</td>\n",
       "      <td>NaN</td>\n",
       "      <td>NaN</td>\n",
       "      <td>NaN</td>\n",
       "      <td>NaN</td>\n",
       "      <td>NaN</td>\n",
       "      <td>NaN</td>\n",
       "      <td>2.050447e+10</td>\n",
       "      <td>NaN</td>\n",
       "      <td>NaN</td>\n",
       "      <td>NaN</td>\n",
       "      <td>NaN</td>\n",
       "      <td>NaN</td>\n",
       "      <td>NaN</td>\n",
       "      <td>1.222040e+10</td>\n",
       "      <td>NaN</td>\n",
       "      <td>...</td>\n",
       "      <td>NaN</td>\n",
       "      <td>NaN</td>\n",
       "      <td>2.040693e+10</td>\n",
       "      <td>NaN</td>\n",
       "      <td>NaN</td>\n",
       "      <td>NaN</td>\n",
       "      <td>NaN</td>\n",
       "      <td>NaN</td>\n",
       "      <td>NaN</td>\n",
       "      <td>NaN</td>\n",
       "      <td>NaN</td>\n",
       "      <td>NaN</td>\n",
       "      <td>1.229913e+10</td>\n",
       "      <td>NaN</td>\n",
       "      <td>NaN</td>\n",
       "      <td>3.211567e+09</td>\n",
       "      <td>2.183303e+10</td>\n",
       "      <td>2.698062e+09</td>\n",
       "      <td>1.310319e+10</td>\n",
       "      <td>1000000.0</td>\n",
       "      <td>2.161827e+10</td>\n",
       "      <td>1.088600e+09</td>\n",
       "      <td>2.885433e+10</td>\n",
       "      <td>3.073333e+07</td>\n",
       "      <td>2.888507e+10</td>\n",
       "      <td>3.913636e+08</td>\n",
       "      <td>4.661150e+10</td>\n",
       "      <td>1.901847e+10</td>\n",
       "      <td>9.278167e+09</td>\n",
       "      <td>3.638733e+10</td>\n",
       "      <td>182400000.0</td>\n",
       "      <td>NaN</td>\n",
       "      <td>NaN</td>\n",
       "      <td>NaN</td>\n",
       "      <td>NaN</td>\n",
       "      <td>NaN</td>\n",
       "      <td>NaN</td>\n",
       "      <td>NaN</td>\n",
       "      <td>NaN</td>\n",
       "      <td>NaN</td>\n",
       "      <td>NaN</td>\n",
       "      <td>NaN</td>\n",
       "      <td>NaN</td>\n",
       "      <td>NaN</td>\n",
       "      <td>NaN</td>\n",
       "      <td>NaN</td>\n",
       "      <td>NaN</td>\n",
       "      <td>NaN</td>\n",
       "      <td>NaN</td>\n",
       "      <td>NaN</td>\n",
       "    </tr>\n",
       "    <tr>\n",
       "      <td>GM</td>\n",
       "      <td>2014.372093</td>\n",
       "      <td>1.923237e+10</td>\n",
       "      <td>3.825572e+10</td>\n",
       "      <td>1.325709e+10</td>\n",
       "      <td>NaN</td>\n",
       "      <td>7.442112e+10</td>\n",
       "      <td>NaN</td>\n",
       "      <td>NaN</td>\n",
       "      <td>NaN</td>\n",
       "      <td>NaN</td>\n",
       "      <td>NaN</td>\n",
       "      <td>NaN</td>\n",
       "      <td>2.445726e+10</td>\n",
       "      <td>NaN</td>\n",
       "      <td>NaN</td>\n",
       "      <td>6.892302e+10</td>\n",
       "      <td>NaN</td>\n",
       "      <td>NaN</td>\n",
       "      <td>1.446341e+07</td>\n",
       "      <td>2.676493e+10</td>\n",
       "      <td>7.646697e+09</td>\n",
       "      <td>NaN</td>\n",
       "      <td>1.851002e+11</td>\n",
       "      <td>2.950837e+10</td>\n",
       "      <td>NaN</td>\n",
       "      <td>NaN</td>\n",
       "      <td>NaN</td>\n",
       "      <td>3.774897e+09</td>\n",
       "      <td>NaN</td>\n",
       "      <td>NaN</td>\n",
       "      <td>NaN</td>\n",
       "      <td>NaN</td>\n",
       "      <td>NaN</td>\n",
       "      <td>NaN</td>\n",
       "      <td>NaN</td>\n",
       "      <td>NaN</td>\n",
       "      <td>NaN</td>\n",
       "      <td>NaN</td>\n",
       "      <td>NaN</td>\n",
       "      <td>3.445600e+09</td>\n",
       "      <td>NaN</td>\n",
       "      <td>1.670482e+10</td>\n",
       "      <td>NaN</td>\n",
       "      <td>NaN</td>\n",
       "      <td>NaN</td>\n",
       "      <td>3.548300e+09</td>\n",
       "      <td>NaN</td>\n",
       "      <td>NaN</td>\n",
       "      <td>NaN</td>\n",
       "      <td>NaN</td>\n",
       "      <td>...</td>\n",
       "      <td>NaN</td>\n",
       "      <td>NaN</td>\n",
       "      <td>7.903800e+09</td>\n",
       "      <td>NaN</td>\n",
       "      <td>NaN</td>\n",
       "      <td>NaN</td>\n",
       "      <td>NaN</td>\n",
       "      <td>NaN</td>\n",
       "      <td>NaN</td>\n",
       "      <td>NaN</td>\n",
       "      <td>NaN</td>\n",
       "      <td>NaN</td>\n",
       "      <td>NaN</td>\n",
       "      <td>NaN</td>\n",
       "      <td>NaN</td>\n",
       "      <td>NaN</td>\n",
       "      <td>NaN</td>\n",
       "      <td>NaN</td>\n",
       "      <td>NaN</td>\n",
       "      <td>NaN</td>\n",
       "      <td>NaN</td>\n",
       "      <td>NaN</td>\n",
       "      <td>NaN</td>\n",
       "      <td>NaN</td>\n",
       "      <td>NaN</td>\n",
       "      <td>NaN</td>\n",
       "      <td>NaN</td>\n",
       "      <td>NaN</td>\n",
       "      <td>NaN</td>\n",
       "      <td>NaN</td>\n",
       "      <td>NaN</td>\n",
       "      <td>NaN</td>\n",
       "      <td>7.543716e+10</td>\n",
       "      <td>4.919263e+10</td>\n",
       "      <td>8.223884e+09</td>\n",
       "      <td>1.092852e+11</td>\n",
       "      <td>1.851002e+11</td>\n",
       "      <td>6.492500e+09</td>\n",
       "      <td>1.981656e+10</td>\n",
       "      <td>1.462066e+11</td>\n",
       "      <td>3.784507e+10</td>\n",
       "      <td>1.260953e+09</td>\n",
       "      <td>4.141962e+10</td>\n",
       "      <td>1.075591e+10</td>\n",
       "      <td>5.568827e+10</td>\n",
       "      <td>2.879350e+09</td>\n",
       "      <td>4.996667e+09</td>\n",
       "      <td>4.855000e+09</td>\n",
       "      <td>2.450020e+10</td>\n",
       "      <td>1.779300e+09</td>\n",
       "    </tr>\n",
       "    <tr>\n",
       "      <td>Google</td>\n",
       "      <td>2017.368421</td>\n",
       "      <td>1.514089e+10</td>\n",
       "      <td>1.637795e+10</td>\n",
       "      <td>7.985333e+08</td>\n",
       "      <td>NaN</td>\n",
       "      <td>1.199522e+11</td>\n",
       "      <td>NaN</td>\n",
       "      <td>NaN</td>\n",
       "      <td>4.750689e+10</td>\n",
       "      <td>2.787789e+09</td>\n",
       "      <td>1.733084e+10</td>\n",
       "      <td>2.025850e+11</td>\n",
       "      <td>3.062263e+09</td>\n",
       "      <td>NaN</td>\n",
       "      <td>NaN</td>\n",
       "      <td>2.633947e+10</td>\n",
       "      <td>2.489789e+09</td>\n",
       "      <td>4.611306e+10</td>\n",
       "      <td>4.106211e+10</td>\n",
       "      <td>NaN</td>\n",
       "      <td>NaN</td>\n",
       "      <td>NaN</td>\n",
       "      <td>2.025850e+11</td>\n",
       "      <td>1.668684e+09</td>\n",
       "      <td>NaN</td>\n",
       "      <td>1.584223e+11</td>\n",
       "      <td>NaN</td>\n",
       "      <td>NaN</td>\n",
       "      <td>NaN</td>\n",
       "      <td>NaN</td>\n",
       "      <td>NaN</td>\n",
       "      <td>NaN</td>\n",
       "      <td>NaN</td>\n",
       "      <td>NaN</td>\n",
       "      <td>NaN</td>\n",
       "      <td>NaN</td>\n",
       "      <td>NaN</td>\n",
       "      <td>NaN</td>\n",
       "      <td>NaN</td>\n",
       "      <td>3.652737e+09</td>\n",
       "      <td>NaN</td>\n",
       "      <td>1.188103e+11</td>\n",
       "      <td>NaN</td>\n",
       "      <td>NaN</td>\n",
       "      <td>NaN</td>\n",
       "      <td>NaN</td>\n",
       "      <td>NaN</td>\n",
       "      <td>NaN</td>\n",
       "      <td>NaN</td>\n",
       "      <td>NaN</td>\n",
       "      <td>...</td>\n",
       "      <td>NaN</td>\n",
       "      <td>NaN</td>\n",
       "      <td>8.335553e+10</td>\n",
       "      <td>NaN</td>\n",
       "      <td>1.194642e+10</td>\n",
       "      <td>NaN</td>\n",
       "      <td>NaN</td>\n",
       "      <td>9.849642e+10</td>\n",
       "      <td>6.397895e+08</td>\n",
       "      <td>9.176053e+09</td>\n",
       "      <td>4.686421e+09</td>\n",
       "      <td>3.573316e+09</td>\n",
       "      <td>1.547737e+09</td>\n",
       "      <td>8.422316e+09</td>\n",
       "      <td>1.450158e+09</td>\n",
       "      <td>NaN</td>\n",
       "      <td>NaN</td>\n",
       "      <td>NaN</td>\n",
       "      <td>NaN</td>\n",
       "      <td>NaN</td>\n",
       "      <td>NaN</td>\n",
       "      <td>NaN</td>\n",
       "      <td>NaN</td>\n",
       "      <td>NaN</td>\n",
       "      <td>NaN</td>\n",
       "      <td>NaN</td>\n",
       "      <td>NaN</td>\n",
       "      <td>NaN</td>\n",
       "      <td>NaN</td>\n",
       "      <td>NaN</td>\n",
       "      <td>NaN</td>\n",
       "      <td>NaN</td>\n",
       "      <td>NaN</td>\n",
       "      <td>NaN</td>\n",
       "      <td>NaN</td>\n",
       "      <td>NaN</td>\n",
       "      <td>NaN</td>\n",
       "      <td>NaN</td>\n",
       "      <td>NaN</td>\n",
       "      <td>NaN</td>\n",
       "      <td>NaN</td>\n",
       "      <td>NaN</td>\n",
       "      <td>NaN</td>\n",
       "      <td>NaN</td>\n",
       "      <td>NaN</td>\n",
       "      <td>NaN</td>\n",
       "      <td>NaN</td>\n",
       "      <td>NaN</td>\n",
       "      <td>NaN</td>\n",
       "      <td>NaN</td>\n",
       "    </tr>\n",
       "    <tr>\n",
       "      <td>Microsoft</td>\n",
       "      <td>2015.750000</td>\n",
       "      <td>8.409594e+09</td>\n",
       "      <td>1.660500e+10</td>\n",
       "      <td>2.310781e+09</td>\n",
       "      <td>NaN</td>\n",
       "      <td>1.342725e+11</td>\n",
       "      <td>NaN</td>\n",
       "      <td>NaN</td>\n",
       "      <td>2.071259e+10</td>\n",
       "      <td>6.225625e+09</td>\n",
       "      <td>2.622444e+10</td>\n",
       "      <td>2.039038e+11</td>\n",
       "      <td>6.720344e+09</td>\n",
       "      <td>NaN</td>\n",
       "      <td>NaN</td>\n",
       "      <td>4.870350e+10</td>\n",
       "      <td>1.074512e+10</td>\n",
       "      <td>1.202202e+11</td>\n",
       "      <td>7.026206e+10</td>\n",
       "      <td>NaN</td>\n",
       "      <td>NaN</td>\n",
       "      <td>NaN</td>\n",
       "      <td>2.039038e+11</td>\n",
       "      <td>NaN</td>\n",
       "      <td>NaN</td>\n",
       "      <td>8.368362e+10</td>\n",
       "      <td>NaN</td>\n",
       "      <td>NaN</td>\n",
       "      <td>NaN</td>\n",
       "      <td>NaN</td>\n",
       "      <td>NaN</td>\n",
       "      <td>NaN</td>\n",
       "      <td>NaN</td>\n",
       "      <td>NaN</td>\n",
       "      <td>NaN</td>\n",
       "      <td>1.004635e+11</td>\n",
       "      <td>5.589656e+09</td>\n",
       "      <td>4.384125e+09</td>\n",
       "      <td>2.316422e+10</td>\n",
       "      <td>4.394784e+10</td>\n",
       "      <td>3.580062e+09</td>\n",
       "      <td>1.226453e+10</td>\n",
       "      <td>1.158228e+10</td>\n",
       "      <td>1.858097e+09</td>\n",
       "      <td>NaN</td>\n",
       "      <td>NaN</td>\n",
       "      <td>NaN</td>\n",
       "      <td>NaN</td>\n",
       "      <td>NaN</td>\n",
       "      <td>NaN</td>\n",
       "      <td>...</td>\n",
       "      <td>NaN</td>\n",
       "      <td>NaN</td>\n",
       "      <td>NaN</td>\n",
       "      <td>NaN</td>\n",
       "      <td>NaN</td>\n",
       "      <td>NaN</td>\n",
       "      <td>NaN</td>\n",
       "      <td>NaN</td>\n",
       "      <td>NaN</td>\n",
       "      <td>NaN</td>\n",
       "      <td>NaN</td>\n",
       "      <td>NaN</td>\n",
       "      <td>NaN</td>\n",
       "      <td>NaN</td>\n",
       "      <td>NaN</td>\n",
       "      <td>NaN</td>\n",
       "      <td>NaN</td>\n",
       "      <td>NaN</td>\n",
       "      <td>NaN</td>\n",
       "      <td>NaN</td>\n",
       "      <td>NaN</td>\n",
       "      <td>NaN</td>\n",
       "      <td>NaN</td>\n",
       "      <td>NaN</td>\n",
       "      <td>NaN</td>\n",
       "      <td>NaN</td>\n",
       "      <td>NaN</td>\n",
       "      <td>NaN</td>\n",
       "      <td>NaN</td>\n",
       "      <td>NaN</td>\n",
       "      <td>NaN</td>\n",
       "      <td>NaN</td>\n",
       "      <td>NaN</td>\n",
       "      <td>NaN</td>\n",
       "      <td>NaN</td>\n",
       "      <td>NaN</td>\n",
       "      <td>NaN</td>\n",
       "      <td>NaN</td>\n",
       "      <td>NaN</td>\n",
       "      <td>NaN</td>\n",
       "      <td>NaN</td>\n",
       "      <td>NaN</td>\n",
       "      <td>NaN</td>\n",
       "      <td>NaN</td>\n",
       "      <td>NaN</td>\n",
       "      <td>NaN</td>\n",
       "      <td>NaN</td>\n",
       "      <td>NaN</td>\n",
       "      <td>NaN</td>\n",
       "      <td>NaN</td>\n",
       "    </tr>\n",
       "    <tr>\n",
       "      <td>Netflix</td>\n",
       "      <td>2014.000000</td>\n",
       "      <td>3.740725e+11</td>\n",
       "      <td>NaN</td>\n",
       "      <td>NaN</td>\n",
       "      <td>NaN</td>\n",
       "      <td>9.857881e+11</td>\n",
       "      <td>NaN</td>\n",
       "      <td>NaN</td>\n",
       "      <td>5.565906e+10</td>\n",
       "      <td>NaN</td>\n",
       "      <td>NaN</td>\n",
       "      <td>2.602701e+12</td>\n",
       "      <td>6.348126e+10</td>\n",
       "      <td>NaN</td>\n",
       "      <td>NaN</td>\n",
       "      <td>7.414161e+11</td>\n",
       "      <td>NaN</td>\n",
       "      <td>2.044227e+12</td>\n",
       "      <td>2.070497e+11</td>\n",
       "      <td>NaN</td>\n",
       "      <td>NaN</td>\n",
       "      <td>NaN</td>\n",
       "      <td>2.602701e+12</td>\n",
       "      <td>NaN</td>\n",
       "      <td>NaN</td>\n",
       "      <td>5.584748e+11</td>\n",
       "      <td>NaN</td>\n",
       "      <td>NaN</td>\n",
       "      <td>NaN</td>\n",
       "      <td>NaN</td>\n",
       "      <td>NaN</td>\n",
       "      <td>NaN</td>\n",
       "      <td>NaN</td>\n",
       "      <td>NaN</td>\n",
       "      <td>NaN</td>\n",
       "      <td>8.897268e+10</td>\n",
       "      <td>NaN</td>\n",
       "      <td>NaN</td>\n",
       "      <td>NaN</td>\n",
       "      <td>NaN</td>\n",
       "      <td>NaN</td>\n",
       "      <td>2.996327e+11</td>\n",
       "      <td>NaN</td>\n",
       "      <td>NaN</td>\n",
       "      <td>NaN</td>\n",
       "      <td>7.437525e+10</td>\n",
       "      <td>1.259804e+11</td>\n",
       "      <td>NaN</td>\n",
       "      <td>NaN</td>\n",
       "      <td>NaN</td>\n",
       "      <td>...</td>\n",
       "      <td>3.736281e+09</td>\n",
       "      <td>4.595207e+10</td>\n",
       "      <td>NaN</td>\n",
       "      <td>NaN</td>\n",
       "      <td>NaN</td>\n",
       "      <td>NaN</td>\n",
       "      <td>NaN</td>\n",
       "      <td>NaN</td>\n",
       "      <td>NaN</td>\n",
       "      <td>NaN</td>\n",
       "      <td>NaN</td>\n",
       "      <td>NaN</td>\n",
       "      <td>NaN</td>\n",
       "      <td>NaN</td>\n",
       "      <td>NaN</td>\n",
       "      <td>NaN</td>\n",
       "      <td>NaN</td>\n",
       "      <td>NaN</td>\n",
       "      <td>NaN</td>\n",
       "      <td>NaN</td>\n",
       "      <td>NaN</td>\n",
       "      <td>NaN</td>\n",
       "      <td>NaN</td>\n",
       "      <td>NaN</td>\n",
       "      <td>NaN</td>\n",
       "      <td>NaN</td>\n",
       "      <td>NaN</td>\n",
       "      <td>NaN</td>\n",
       "      <td>NaN</td>\n",
       "      <td>NaN</td>\n",
       "      <td>NaN</td>\n",
       "      <td>NaN</td>\n",
       "      <td>NaN</td>\n",
       "      <td>NaN</td>\n",
       "      <td>NaN</td>\n",
       "      <td>NaN</td>\n",
       "      <td>NaN</td>\n",
       "      <td>NaN</td>\n",
       "      <td>NaN</td>\n",
       "      <td>NaN</td>\n",
       "      <td>NaN</td>\n",
       "      <td>NaN</td>\n",
       "      <td>NaN</td>\n",
       "      <td>NaN</td>\n",
       "      <td>NaN</td>\n",
       "      <td>NaN</td>\n",
       "      <td>NaN</td>\n",
       "      <td>NaN</td>\n",
       "      <td>NaN</td>\n",
       "      <td>NaN</td>\n",
       "    </tr>\n",
       "    <tr>\n",
       "      <td>Tesla</td>\n",
       "      <td>2017.000000</td>\n",
       "      <td>3.213162e+09</td>\n",
       "      <td>6.109415e+08</td>\n",
       "      <td>2.406071e+09</td>\n",
       "      <td>3.337170e+08</td>\n",
       "      <td>6.661245e+09</td>\n",
       "      <td>2.361766e+09</td>\n",
       "      <td>6.212393e+09</td>\n",
       "      <td>7.324769e+09</td>\n",
       "      <td>3.367191e+08</td>\n",
       "      <td>9.645869e+07</td>\n",
       "      <td>2.170806e+10</td>\n",
       "      <td>2.229792e+09</td>\n",
       "      <td>1.444155e+09</td>\n",
       "      <td>623725500.0</td>\n",
       "      <td>6.592847e+09</td>\n",
       "      <td>1.716376e+09</td>\n",
       "      <td>1.695742e+10</td>\n",
       "      <td>1.543158e+05</td>\n",
       "      <td>7.906756e+09</td>\n",
       "      <td>3.550067e+07</td>\n",
       "      <td>4.046118e+09</td>\n",
       "      <td>2.170806e+10</td>\n",
       "      <td>1.496469e+09</td>\n",
       "      <td>1.380649e+09</td>\n",
       "      <td>3.852940e+09</td>\n",
       "      <td>4.399518e+08</td>\n",
       "      <td>3.214020e+08</td>\n",
       "      <td>1.582889e+09</td>\n",
       "      <td>1.148661e+09</td>\n",
       "      <td>7.001809e+09</td>\n",
       "      <td>12483000.0</td>\n",
       "      <td>5.888472e+08</td>\n",
       "      <td>22412250.0</td>\n",
       "      <td>331189000.0</td>\n",
       "      <td>NaN</td>\n",
       "      <td>NaN</td>\n",
       "      <td>NaN</td>\n",
       "      <td>NaN</td>\n",
       "      <td>NaN</td>\n",
       "      <td>NaN</td>\n",
       "      <td>NaN</td>\n",
       "      <td>NaN</td>\n",
       "      <td>NaN</td>\n",
       "      <td>NaN</td>\n",
       "      <td>NaN</td>\n",
       "      <td>NaN</td>\n",
       "      <td>NaN</td>\n",
       "      <td>NaN</td>\n",
       "      <td>NaN</td>\n",
       "      <td>...</td>\n",
       "      <td>NaN</td>\n",
       "      <td>NaN</td>\n",
       "      <td>NaN</td>\n",
       "      <td>NaN</td>\n",
       "      <td>NaN</td>\n",
       "      <td>NaN</td>\n",
       "      <td>NaN</td>\n",
       "      <td>NaN</td>\n",
       "      <td>NaN</td>\n",
       "      <td>NaN</td>\n",
       "      <td>NaN</td>\n",
       "      <td>NaN</td>\n",
       "      <td>NaN</td>\n",
       "      <td>NaN</td>\n",
       "      <td>NaN</td>\n",
       "      <td>NaN</td>\n",
       "      <td>NaN</td>\n",
       "      <td>NaN</td>\n",
       "      <td>NaN</td>\n",
       "      <td>NaN</td>\n",
       "      <td>NaN</td>\n",
       "      <td>NaN</td>\n",
       "      <td>NaN</td>\n",
       "      <td>NaN</td>\n",
       "      <td>NaN</td>\n",
       "      <td>NaN</td>\n",
       "      <td>NaN</td>\n",
       "      <td>NaN</td>\n",
       "      <td>NaN</td>\n",
       "      <td>NaN</td>\n",
       "      <td>NaN</td>\n",
       "      <td>NaN</td>\n",
       "      <td>NaN</td>\n",
       "      <td>NaN</td>\n",
       "      <td>NaN</td>\n",
       "      <td>NaN</td>\n",
       "      <td>NaN</td>\n",
       "      <td>NaN</td>\n",
       "      <td>NaN</td>\n",
       "      <td>NaN</td>\n",
       "      <td>NaN</td>\n",
       "      <td>NaN</td>\n",
       "      <td>NaN</td>\n",
       "      <td>NaN</td>\n",
       "      <td>NaN</td>\n",
       "      <td>NaN</td>\n",
       "      <td>NaN</td>\n",
       "      <td>NaN</td>\n",
       "      <td>NaN</td>\n",
       "      <td>NaN</td>\n",
       "    </tr>\n",
       "  </tbody>\n",
       "</table>\n",
       "<p>9 rows × 110 columns</p>\n",
       "</div>"
      ],
      "text/plain": [
       "                     Year          Cash  Accounts Receivable     Inventory  \\\n",
       "company_name                                                                 \n",
       "Amazon        2013.500000  9.612340e+09         5.658860e+09  7.651140e+09   \n",
       "Apple         2016.500000  2.577219e+10         1.528931e+10  3.299346e+09   \n",
       "Facebook      2017.000000  9.278727e+09         4.644000e+09           NaN   \n",
       "Ford          2016.000000           NaN         1.423826e+11  1.001370e+10   \n",
       "GM            2014.372093  1.923237e+10         3.825572e+10  1.325709e+10   \n",
       "Google        2017.368421  1.514089e+10         1.637795e+10  7.985333e+08   \n",
       "Microsoft     2015.750000  8.409594e+09         1.660500e+10  2.310781e+09   \n",
       "Netflix       2014.000000  3.740725e+11                  NaN           NaN   \n",
       "Tesla         2017.000000  3.213162e+09         6.109415e+08  2.406071e+09   \n",
       "\n",
       "              Prepaid expenses and other current assets  Total current assets  \\\n",
       "company_name                                                                    \n",
       "Amazon                                              NaN          2.856470e+10   \n",
       "Apple                                               NaN          1.076996e+11   \n",
       "Facebook                                   1.362818e+09          4.005695e+10   \n",
       "Ford                                                NaN          1.149718e+11   \n",
       "GM                                                  NaN          7.442112e+10   \n",
       "Google                                              NaN          1.199522e+11   \n",
       "Microsoft                                           NaN          1.342725e+11   \n",
       "Netflix                                             NaN          9.857881e+11   \n",
       "Tesla                                      3.337170e+08          6.661245e+09   \n",
       "\n",
       "              Operating lease vehicles  Solar energy systems  \\\n",
       "company_name                                                   \n",
       "Amazon                             NaN                   NaN   \n",
       "Apple                              NaN                   NaN   \n",
       "Facebook                           NaN                   NaN   \n",
       "Ford                               NaN                   NaN   \n",
       "GM                                 NaN                   NaN   \n",
       "Google                             NaN                   NaN   \n",
       "Microsoft                          NaN                   NaN   \n",
       "Netflix                            NaN                   NaN   \n",
       "Tesla                     2.361766e+09          6.212393e+09   \n",
       "\n",
       "              Property and Equipment  Intangible assets      Goodwill  \\\n",
       "company_name                                                            \n",
       "Amazon                           NaN                NaN  4.790480e+09   \n",
       "Apple                   2.854373e+10                NaN  4.697412e+09   \n",
       "Facebook                1.559245e+10       2.201636e+09  1.821345e+10   \n",
       "Ford                    3.164500e+10                NaN           NaN   \n",
       "GM                               NaN                NaN           NaN   \n",
       "Google                  4.750689e+10       2.787789e+09  1.733084e+10   \n",
       "Microsoft               2.071259e+10       6.225625e+09  2.622444e+10   \n",
       "Netflix                 5.565906e+10                NaN           NaN   \n",
       "Tesla                   7.324769e+09       3.367191e+08  9.645869e+07   \n",
       "\n",
       "              Total assets  Accounts payable  Accrued Liabilities  \\\n",
       "company_name                                                        \n",
       "Amazon        6.088600e+10      1.465530e+10                  NaN   \n",
       "Apple         3.119605e+11      3.506608e+10                  NaN   \n",
       "Facebook      7.965432e+10      4.372273e+08                  NaN   \n",
       "Ford          2.313733e+11               NaN                  NaN   \n",
       "GM                     NaN      2.445726e+10                  NaN   \n",
       "Google        2.025850e+11      3.062263e+09                  NaN   \n",
       "Microsoft     2.039038e+11      6.720344e+09                  NaN   \n",
       "Netflix       2.602701e+12      6.348126e+10                  NaN   \n",
       "Tesla         2.170806e+10      2.229792e+09         1.444155e+09   \n",
       "\n",
       "              Customer deposits  Total current liabilities  \\\n",
       "company_name                                                 \n",
       "Amazon                      NaN               2.602540e+10   \n",
       "Apple                       NaN               8.175215e+10   \n",
       "Facebook                    NaN               5.460818e+09   \n",
       "Ford                        NaN               9.486088e+10   \n",
       "GM                          NaN               6.892302e+10   \n",
       "Google                      NaN               2.633947e+10   \n",
       "Microsoft                   NaN               4.870350e+10   \n",
       "Netflix                     NaN               7.414161e+11   \n",
       "Tesla               623725500.0               6.592847e+09   \n",
       "\n",
       "              Other long term liabilities  Total liabilities  Common Stock  \\\n",
       "company_name                                                                 \n",
       "Amazon                                NaN                NaN  4.820000e+06   \n",
       "Apple                                 NaN       1.929605e+11  3.329146e+10   \n",
       "Facebook                              NaN       1.234255e+10           NaN   \n",
       "Ford                                  NaN       2.023362e+11  3.960000e+07   \n",
       "GM                                    NaN                NaN  1.446341e+07   \n",
       "Google                       2.489789e+09       4.611306e+10  4.106211e+10   \n",
       "Microsoft                    1.074512e+10       1.202202e+11  7.026206e+10   \n",
       "Netflix                               NaN       2.044227e+12  2.070497e+11   \n",
       "Tesla                        1.716376e+09       1.695742e+10  1.543158e+05   \n",
       "\n",
       "              Additional paid in capital  \\\n",
       "company_name                               \n",
       "Amazon                      1.271828e+10   \n",
       "Apple                                NaN   \n",
       "Facebook                    3.933468e+10   \n",
       "Ford                                 NaN   \n",
       "GM                          2.676493e+10   \n",
       "Google                               NaN   \n",
       "Microsoft                            NaN   \n",
       "Netflix                              NaN   \n",
       "Tesla                       7.906756e+09   \n",
       "\n",
       "              Accumulated other comprehensive loss  Accumulated deficit  \\\n",
       "company_name                                                              \n",
       "Amazon                                         NaN                  NaN   \n",
       "Apple                                          NaN                  NaN   \n",
       "Facebook                                       NaN                  NaN   \n",
       "Ford                                           NaN                  NaN   \n",
       "GM                                    7.646697e+09                  NaN   \n",
       "Google                                         NaN                  NaN   \n",
       "Microsoft                                      NaN                  NaN   \n",
       "Netflix                                        NaN                  NaN   \n",
       "Tesla                                 3.550067e+07         4.046118e+09   \n",
       "\n",
       "              Total liabilities and equity  Total Deferred Revenue  \\\n",
       "company_name                                                         \n",
       "Amazon                        6.088600e+10                     NaN   \n",
       "Apple                         3.119605e+11            1.146025e+10   \n",
       "Facebook                      7.965432e+10                     NaN   \n",
       "Ford                          2.313733e+11            4.434346e+10   \n",
       "GM                            1.851002e+11            2.950837e+10   \n",
       "Google                        2.025850e+11            1.668684e+09   \n",
       "Microsoft                     2.039038e+11                     NaN   \n",
       "Netflix                       2.602701e+12                     NaN   \n",
       "Tesla                         2.170806e+10            1.496469e+09   \n",
       "\n",
       "              Total Noncontrolling interests in subsidiaries  \\\n",
       "company_name                                                   \n",
       "Amazon                                                   NaN   \n",
       "Apple                                                    NaN   \n",
       "Facebook                                                 NaN   \n",
       "Ford                                                     NaN   \n",
       "GM                                                       NaN   \n",
       "Google                                                   NaN   \n",
       "Microsoft                                                NaN   \n",
       "Netflix                                                  NaN   \n",
       "Tesla                                           1.380649e+09   \n",
       "\n",
       "              Total Shareholder Equity  MyPower customer notes receivable  \\\n",
       "company_name                                                                \n",
       "Amazon                    1.649140e+10                                NaN   \n",
       "Apple                              NaN                                NaN   \n",
       "Facebook                  1.267869e+11                                NaN   \n",
       "Ford                               NaN                                NaN   \n",
       "GM                                 NaN                                NaN   \n",
       "Google                    1.584223e+11                                NaN   \n",
       "Microsoft                 8.368362e+10                                NaN   \n",
       "Netflix                   5.584748e+11                                NaN   \n",
       "Tesla                     3.852940e+09                       4.399518e+08   \n",
       "\n",
       "              Other assets  Total Resale value guarantees  \\\n",
       "company_name                                                \n",
       "Amazon        4.216440e+09                            NaN   \n",
       "Apple                  NaN                            NaN   \n",
       "Facebook      1.715227e+09                            NaN   \n",
       "Ford                   NaN                            NaN   \n",
       "GM            3.774897e+09                            NaN   \n",
       "Google                 NaN                            NaN   \n",
       "Microsoft              NaN                            NaN   \n",
       "Netflix                NaN                            NaN   \n",
       "Tesla         3.214020e+08                   1.582889e+09   \n",
       "\n",
       "              Current portion of long term debt and capital leases  \\\n",
       "company_name                                                         \n",
       "Amazon                                                      NaN      \n",
       "Apple                                                       NaN      \n",
       "Facebook                                                    NaN      \n",
       "Ford                                                        NaN      \n",
       "GM                                                          NaN      \n",
       "Google                                                      NaN      \n",
       "Microsoft                                                   NaN      \n",
       "Netflix                                                     NaN      \n",
       "Tesla                                              1.148661e+09      \n",
       "\n",
       "              Long term debt and capital leases  \\\n",
       "company_name                                      \n",
       "Amazon                                      NaN   \n",
       "Apple                                       NaN   \n",
       "Facebook                                    NaN   \n",
       "Ford                                        NaN   \n",
       "GM                                          NaN   \n",
       "Google                                      NaN   \n",
       "Microsoft                                   NaN   \n",
       "Netflix                                     NaN   \n",
       "Tesla                              7.001809e+09   \n",
       "\n",
       "              Solar bonds issued to related parties  \\\n",
       "company_name                                          \n",
       "Amazon                                          NaN   \n",
       "Apple                                           NaN   \n",
       "Facebook                                        NaN   \n",
       "Ford                                            NaN   \n",
       "GM                                              NaN   \n",
       "Google                                          NaN   \n",
       "Microsoft                                       NaN   \n",
       "Netflix                                         NaN   \n",
       "Tesla                                    12483000.0   \n",
       "\n",
       "              Total Convertible Senior Notes  \\\n",
       "company_name                                   \n",
       "Amazon                                   NaN   \n",
       "Apple                                    NaN   \n",
       "Facebook                                 NaN   \n",
       "Ford                                     NaN   \n",
       "GM                                       NaN   \n",
       "Google                                   NaN   \n",
       "Microsoft                                NaN   \n",
       "Netflix                                  NaN   \n",
       "Tesla                           5.888472e+08   \n",
       "\n",
       "              Restricted cash and marketable securities  \\\n",
       "company_name                                              \n",
       "Amazon                                              NaN   \n",
       "Apple                                               NaN   \n",
       "Facebook                                            NaN   \n",
       "Ford                                                NaN   \n",
       "GM                                                  NaN   \n",
       "Google                                              NaN   \n",
       "Microsoft                                           NaN   \n",
       "Netflix                                             NaN   \n",
       "Tesla                                        22412250.0   \n",
       "\n",
       "              Total Restricted Cash  Short term investments  \\\n",
       "company_name                                                  \n",
       "Amazon                          NaN                     NaN   \n",
       "Apple                           NaN                     NaN   \n",
       "Facebook                        NaN                     NaN   \n",
       "Ford                            NaN                     NaN   \n",
       "GM                              NaN                     NaN   \n",
       "Google                          NaN                     NaN   \n",
       "Microsoft                       NaN            1.004635e+11   \n",
       "Netflix                         NaN            8.897268e+10   \n",
       "Tesla                   331189000.0                     NaN   \n",
       "\n",
       "              Other long term assets  Accrued compensation  \\\n",
       "company_name                                                 \n",
       "Amazon                           NaN                   NaN   \n",
       "Apple                            NaN                   NaN   \n",
       "Facebook                         NaN                   NaN   \n",
       "Ford                             NaN                   NaN   \n",
       "GM                               NaN                   NaN   \n",
       "Google                           NaN                   NaN   \n",
       "Microsoft               5.589656e+09          4.384125e+09   \n",
       "Netflix                          NaN                   NaN   \n",
       "Tesla                            NaN                   NaN   \n",
       "\n",
       "              Short term unearned revenue  Long term debt  \\\n",
       "company_name                                                \n",
       "Amazon                                NaN             NaN   \n",
       "Apple                                 NaN    6.210068e+10   \n",
       "Facebook                              NaN             NaN   \n",
       "Ford                                  NaN             NaN   \n",
       "GM                                    NaN    3.445600e+09   \n",
       "Google                                NaN    3.652737e+09   \n",
       "Microsoft                    2.316422e+10    4.394784e+10   \n",
       "Netflix                               NaN             NaN   \n",
       "Tesla                                 NaN             NaN   \n",
       "\n",
       "              Long term unearned revenue  Retained Earnings   Total Other  \\\n",
       "company_name                                                                \n",
       "Amazon                               NaN       5.929420e+09           NaN   \n",
       "Apple                                NaN       8.635554e+10           NaN   \n",
       "Facebook                             NaN       2.846250e+10           NaN   \n",
       "Ford                                 NaN       2.050447e+10           NaN   \n",
       "GM                                   NaN       1.670482e+10           NaN   \n",
       "Google                               NaN       1.188103e+11           NaN   \n",
       "Microsoft                   3.580062e+09       1.226453e+10  1.158228e+10   \n",
       "Netflix                              NaN       2.996327e+11           NaN   \n",
       "Tesla                                NaN                NaN           NaN   \n",
       "\n",
       "              Accumulated comprehensive income  Vendor non trade receivables  \\\n",
       "company_name                                                                   \n",
       "Amazon                            4.444200e+08                           NaN   \n",
       "Apple                                      NaN                  1.309442e+10   \n",
       "Facebook                                   NaN                           NaN   \n",
       "Ford                                       NaN                           NaN   \n",
       "GM                                         NaN                           NaN   \n",
       "Google                                     NaN                           NaN   \n",
       "Microsoft                         1.858097e+09                           NaN   \n",
       "Netflix                                    NaN                           NaN   \n",
       "Tesla                                      NaN                           NaN   \n",
       "\n",
       "              Other current assets  Other non current assets  \\\n",
       "company_name                                                   \n",
       "Amazon                         NaN                       NaN   \n",
       "Apple                 1.103438e+10              2.039633e+10   \n",
       "Facebook                       NaN                       NaN   \n",
       "Ford                           NaN                       NaN   \n",
       "GM                    3.548300e+09                       NaN   \n",
       "Google                         NaN                       NaN   \n",
       "Microsoft                      NaN                       NaN   \n",
       "Netflix               7.437525e+10              1.259804e+11   \n",
       "Tesla                          NaN                       NaN   \n",
       "\n",
       "              Other non current liabilities  \\\n",
       "company_name                                  \n",
       "Amazon                                  NaN   \n",
       "Apple                          3.893669e+10   \n",
       "Facebook                                NaN   \n",
       "Ford                                    NaN   \n",
       "GM                                      NaN   \n",
       "Google                                  NaN   \n",
       "Microsoft                               NaN   \n",
       "Netflix                                 NaN   \n",
       "Tesla                                   NaN   \n",
       "\n",
       "              Accumulated other comprehensive income/  \\\n",
       "company_name                                            \n",
       "Amazon                                            NaN   \n",
       "Apple                                    1.230696e+09   \n",
       "Facebook                                          NaN   \n",
       "Ford                                     1.222040e+10   \n",
       "GM                                                NaN   \n",
       "Google                                            NaN   \n",
       "Microsoft                                         NaN   \n",
       "Netflix                                           NaN   \n",
       "Tesla                                             NaN   \n",
       "\n",
       "              Total shareholders equity  ...  Accumulated comprehensive loss  \\\n",
       "company_name                             ...                                   \n",
       "Amazon                              NaN  ...                             NaN   \n",
       "Apple                      1.190000e+11  ...                             NaN   \n",
       "Facebook                            NaN  ...                             NaN   \n",
       "Ford                                NaN  ...                             NaN   \n",
       "GM                                  NaN  ...                             NaN   \n",
       "Google                              NaN  ...                             NaN   \n",
       "Microsoft                           NaN  ...                             NaN   \n",
       "Netflix                             NaN  ...                    3.736281e+09   \n",
       "Tesla                               NaN  ...                             NaN   \n",
       "\n",
       "              Non Current liabilities  Marketable securities  \\\n",
       "company_name                                                   \n",
       "Amazon                            NaN           5.512540e+09   \n",
       "Apple                             NaN                    NaN   \n",
       "Facebook                          NaN           2.477141e+10   \n",
       "Ford                              NaN           2.040693e+10   \n",
       "GM                                NaN           7.903800e+09   \n",
       "Google                            NaN           8.335553e+10   \n",
       "Microsoft                         NaN                    NaN   \n",
       "Netflix                  4.595207e+10                    NaN   \n",
       "Tesla                             NaN                    NaN   \n",
       "\n",
       "              Partners payable  \\\n",
       "company_name                     \n",
       "Amazon                     NaN   \n",
       "Apple                      NaN   \n",
       "Facebook          3.828182e+08   \n",
       "Ford                       NaN   \n",
       "GM                         NaN   \n",
       "Google                     NaN   \n",
       "Microsoft                  NaN   \n",
       "Netflix                    NaN   \n",
       "Tesla                      NaN   \n",
       "\n",
       "              Accrued expenses and other current liabilities  \\\n",
       "company_name                                                   \n",
       "Amazon                                                   NaN   \n",
       "Apple                                                    NaN   \n",
       "Facebook                                        4.346773e+09   \n",
       "Ford                                                     NaN   \n",
       "GM                                                       NaN   \n",
       "Google                                          1.194642e+10   \n",
       "Microsoft                                                NaN   \n",
       "Netflix                                                  NaN   \n",
       "Tesla                                                    NaN   \n",
       "\n",
       "              Other liabilities  Accumulated Other Comprehensive loss  \\\n",
       "company_name                                                            \n",
       "Amazon                      NaN                                   NaN   \n",
       "Apple                       NaN                                   NaN   \n",
       "Facebook           4.989273e+09                          4.854091e+08   \n",
       "Ford                        NaN                                   NaN   \n",
       "GM                          NaN                                   NaN   \n",
       "Google                      NaN                                   NaN   \n",
       "Microsoft                   NaN                                   NaN   \n",
       "Netflix                     NaN                                   NaN   \n",
       "Tesla                       NaN                                   NaN   \n",
       "\n",
       "                Total cash  Income taxes receivable  \\\n",
       "company_name                                          \n",
       "Amazon                 NaN                      NaN   \n",
       "Apple                  NaN                      NaN   \n",
       "Facebook               NaN                      NaN   \n",
       "Ford                   NaN                      NaN   \n",
       "GM                     NaN                      NaN   \n",
       "Google        9.849642e+10             6.397895e+08   \n",
       "Microsoft              NaN                      NaN   \n",
       "Netflix                NaN                      NaN   \n",
       "Tesla                  NaN                      NaN   \n",
       "\n",
       "              Non marketable investments  Accrued compensation and benefits  \\\n",
       "company_name                                                                  \n",
       "Amazon                               NaN                                NaN   \n",
       "Apple                                NaN                                NaN   \n",
       "Facebook                             NaN                                NaN   \n",
       "Ford                                 NaN                                NaN   \n",
       "GM                                   NaN                                NaN   \n",
       "Google                      9.176053e+09                       4.686421e+09   \n",
       "Microsoft                            NaN                                NaN   \n",
       "Netflix                              NaN                                NaN   \n",
       "Tesla                                NaN                                NaN   \n",
       "\n",
       "              Accrued revenue share  Total Deferred income taxes  \\\n",
       "company_name                                                       \n",
       "Amazon                          NaN                          NaN   \n",
       "Apple                           NaN                          NaN   \n",
       "Facebook                        NaN                          NaN   \n",
       "Ford                            NaN                 1.229913e+10   \n",
       "GM                              NaN                          NaN   \n",
       "Google                 3.573316e+09                 1.547737e+09   \n",
       "Microsoft                       NaN                          NaN   \n",
       "Netflix                         NaN                          NaN   \n",
       "Tesla                           NaN                          NaN   \n",
       "\n",
       "              Total Income taxes payable  Accumulated Comprehensive Income  \\\n",
       "company_name                                                                 \n",
       "Amazon                               NaN                               NaN   \n",
       "Apple                                NaN                               NaN   \n",
       "Facebook                             NaN                               NaN   \n",
       "Ford                                 NaN                               NaN   \n",
       "GM                                   NaN                               NaN   \n",
       "Google                      8.422316e+09                      1.450158e+09   \n",
       "Microsoft                            NaN                               NaN   \n",
       "Netflix                              NaN                               NaN   \n",
       "Tesla                                NaN                               NaN   \n",
       "\n",
       "              Equity in  assets of affiliated companies      Payables  \\\n",
       "company_name                                                            \n",
       "Amazon                                              NaN           NaN   \n",
       "Apple                                               NaN           NaN   \n",
       "Facebook                                            NaN           NaN   \n",
       "Ford                                       3.211567e+09  2.183303e+10   \n",
       "GM                                                  NaN           NaN   \n",
       "Google                                              NaN           NaN   \n",
       "Microsoft                                           NaN           NaN   \n",
       "Netflix                                             NaN           NaN   \n",
       "Tesla                                               NaN           NaN   \n",
       "\n",
       "              Automotive debt payable within one year  \\\n",
       "company_name                                            \n",
       "Amazon                                            NaN   \n",
       "Apple                                             NaN   \n",
       "Facebook                                          NaN   \n",
       "Ford                                     2.698062e+09   \n",
       "GM                                                NaN   \n",
       "Google                                            NaN   \n",
       "Microsoft                                         NaN   \n",
       "Netflix                                           NaN   \n",
       "Tesla                                             NaN   \n",
       "\n",
       "              Automotive long term debt  Class B Stock  \\\n",
       "company_name                                             \n",
       "Amazon                              NaN            NaN   \n",
       "Apple                               NaN            NaN   \n",
       "Facebook                            NaN            NaN   \n",
       "Ford                       1.310319e+10      1000000.0   \n",
       "GM                                  NaN            NaN   \n",
       "Google                              NaN            NaN   \n",
       "Microsoft                           NaN            NaN   \n",
       "Netflix                             NaN            NaN   \n",
       "Tesla                               NaN            NaN   \n",
       "\n",
       "              Capital in excess of par value of stock  Treasury stock  \\\n",
       "company_name                                                            \n",
       "Amazon                                            NaN    1.382260e+09   \n",
       "Apple                                             NaN             NaN   \n",
       "Facebook                                          NaN             NaN   \n",
       "Ford                                     2.161827e+10    1.088600e+09   \n",
       "GM                                                NaN             NaN   \n",
       "Google                                            NaN             NaN   \n",
       "Microsoft                                         NaN             NaN   \n",
       "Netflix                                           NaN             NaN   \n",
       "Tesla                                             NaN             NaN   \n",
       "\n",
       "              Total equity attributable to Ford Motor Company  \\\n",
       "company_name                                                    \n",
       "Amazon                                                    NaN   \n",
       "Apple                                                     NaN   \n",
       "Facebook                                                  NaN   \n",
       "Ford                                             2.885433e+10   \n",
       "GM                                                        NaN   \n",
       "Google                                                    NaN   \n",
       "Microsoft                                                 NaN   \n",
       "Netflix                                                   NaN   \n",
       "Tesla                                                     NaN   \n",
       "\n",
       "              Equity attributable to noncontrolling interests  Total equity  \\\n",
       "company_name                                                                  \n",
       "Amazon                                                    NaN           NaN   \n",
       "Apple                                                     NaN           NaN   \n",
       "Facebook                                                  NaN           NaN   \n",
       "Ford                                             3.073333e+07  2.888507e+10   \n",
       "GM                                                        NaN           NaN   \n",
       "Google                                                    NaN           NaN   \n",
       "Microsoft                                                 NaN           NaN   \n",
       "Netflix                                                   NaN           NaN   \n",
       "Tesla                                                     NaN           NaN   \n",
       "\n",
       "                  31000000          Debt    Total Cash  Total Other assets  \\\n",
       "company_name                                                                 \n",
       "Amazon                 NaN           NaN           NaN                 NaN   \n",
       "Apple                  NaN           NaN           NaN                 NaN   \n",
       "Facebook               NaN           NaN           NaN                 NaN   \n",
       "Ford          3.913636e+08  4.661150e+10  1.901847e+10        9.278167e+09   \n",
       "GM                     NaN           NaN           NaN                 NaN   \n",
       "Google                 NaN           NaN           NaN                 NaN   \n",
       "Microsoft              NaN           NaN           NaN                 NaN   \n",
       "Netflix                NaN           NaN           NaN                 NaN   \n",
       "Tesla                  NaN           NaN           NaN                 NaN   \n",
       "\n",
       "              Total Net investment in operating leases  \\\n",
       "company_name                                             \n",
       "Amazon                                             NaN   \n",
       "Apple                                              NaN   \n",
       "Facebook                                           NaN   \n",
       "Ford                                      3.638733e+10   \n",
       "GM                                                 NaN   \n",
       "Google                                             NaN   \n",
       "Microsoft                                          NaN   \n",
       "Netflix                                            NaN   \n",
       "Tesla                                              NaN   \n",
       "\n",
       "              Redeemable noncontrolling interest  Accrued expenses and other  \\\n",
       "company_name                                                                   \n",
       "Amazon                                       NaN                8.981200e+09   \n",
       "Apple                                        NaN                         NaN   \n",
       "Facebook                                     NaN                         NaN   \n",
       "Ford                                 182400000.0                         NaN   \n",
       "GM                                           NaN                         NaN   \n",
       "Google                                       NaN                         NaN   \n",
       "Microsoft                                    NaN                         NaN   \n",
       "Netflix                                      NaN                         NaN   \n",
       "Tesla                                        NaN                         NaN   \n",
       "\n",
       "              Total non current liabilities  Total Property and Equipment  \\\n",
       "company_name                                                                \n",
       "Amazon                         1.836920e+10                  2.093610e+10   \n",
       "Apple                                   NaN                           NaN   \n",
       "Facebook                                NaN                           NaN   \n",
       "Ford                                    NaN                           NaN   \n",
       "GM                             7.543716e+10                  4.919263e+10   \n",
       "Google                                  NaN                           NaN   \n",
       "Microsoft                               NaN                           NaN   \n",
       "Netflix                                 NaN                           NaN   \n",
       "Tesla                                   NaN                           NaN   \n",
       "\n",
       "              Equity in  assets of nonconsolidated affiliates  \\\n",
       "company_name                                                    \n",
       "Amazon                                                    NaN   \n",
       "Apple                                                     NaN   \n",
       "Facebook                                                  NaN   \n",
       "Ford                                                      NaN   \n",
       "GM                                               8.223884e+09   \n",
       "Google                                                    NaN   \n",
       "Microsoft                                                 NaN   \n",
       "Netflix                                                   NaN   \n",
       "Tesla                                                     NaN   \n",
       "\n",
       "              Total non current assets  Total Assets  \\\n",
       "company_name                                           \n",
       "Amazon                             NaN           NaN   \n",
       "Apple                              NaN           NaN   \n",
       "Facebook                           NaN           NaN   \n",
       "Ford                               NaN           NaN   \n",
       "GM                        1.092852e+11  1.851002e+11   \n",
       "Google                             NaN           NaN   \n",
       "Microsoft                          NaN           NaN   \n",
       "Netflix                            NaN           NaN   \n",
       "Tesla                              NaN           NaN   \n",
       "\n",
       "              Postretirement benefits other than pensions      Pensions  \\\n",
       "company_name                                                              \n",
       "Amazon                                                NaN           NaN   \n",
       "Apple                                                 NaN           NaN   \n",
       "Facebook                                              NaN           NaN   \n",
       "Ford                                                  NaN           NaN   \n",
       "GM                                           6.492500e+09  1.981656e+10   \n",
       "Google                                                NaN           NaN   \n",
       "Microsoft                                             NaN           NaN   \n",
       "Netflix                                               NaN           NaN   \n",
       "Tesla                                                 NaN           NaN   \n",
       "\n",
       "              Total Liabilities  Shareholder Equity  Noncontrolling interests  \\\n",
       "company_name                                                                    \n",
       "Amazon                      NaN                 NaN                       NaN   \n",
       "Apple                       NaN                 NaN                       NaN   \n",
       "Facebook                    NaN                 NaN                       NaN   \n",
       "Ford                        NaN                 NaN                       NaN   \n",
       "GM                 1.462066e+11        3.784507e+10              1.260953e+09   \n",
       "Google                      NaN                 NaN                       NaN   \n",
       "Microsoft                   NaN                 NaN                       NaN   \n",
       "Netflix                     NaN                 NaN                       NaN   \n",
       "Tesla                       NaN                 NaN                       NaN   \n",
       "\n",
       "              Total Equity  Total Automotive  Total GM Financial  \\\n",
       "company_name                                                       \n",
       "Amazon                 NaN               NaN                 NaN   \n",
       "Apple                  NaN               NaN                 NaN   \n",
       "Facebook               NaN               NaN                 NaN   \n",
       "Ford                   NaN               NaN                 NaN   \n",
       "GM            4.141962e+10      1.075591e+10        5.568827e+10   \n",
       "Google                 NaN               NaN                 NaN   \n",
       "Microsoft              NaN               NaN                 NaN   \n",
       "Netflix                NaN               NaN                 NaN   \n",
       "Tesla                  NaN               NaN                 NaN   \n",
       "\n",
       "              Total Restricted cash and marketable securities      Series A  \\\n",
       "company_name                                                                  \n",
       "Amazon                                                    NaN           NaN   \n",
       "Apple                                                     NaN           NaN   \n",
       "Facebook                                                  NaN           NaN   \n",
       "Ford                                                      NaN           NaN   \n",
       "GM                                               2.879350e+09  4.996667e+09   \n",
       "Google                                                    NaN           NaN   \n",
       "Microsoft                                                 NaN           NaN   \n",
       "Netflix                                                   NaN           NaN   \n",
       "Tesla                                                     NaN           NaN   \n",
       "\n",
       "                  Series B  Capital surplus  \\\n",
       "company_name                                  \n",
       "Amazon                 NaN              NaN   \n",
       "Apple                  NaN              NaN   \n",
       "Facebook               NaN              NaN   \n",
       "Ford                   NaN              NaN   \n",
       "GM            4.855000e+09     2.450020e+10   \n",
       "Google                 NaN              NaN   \n",
       "Microsoft              NaN              NaN   \n",
       "Netflix                NaN              NaN   \n",
       "Tesla                  NaN              NaN   \n",
       "\n",
       "              Accumulated other comprehensive income  \n",
       "company_name                                          \n",
       "Amazon                                           NaN  \n",
       "Apple                                            NaN  \n",
       "Facebook                                         NaN  \n",
       "Ford                                             NaN  \n",
       "GM                                      1.779300e+09  \n",
       "Google                                           NaN  \n",
       "Microsoft                                        NaN  \n",
       "Netflix                                          NaN  \n",
       "Tesla                                            NaN  \n",
       "\n",
       "[9 rows x 110 columns]"
      ]
     },
     "execution_count": 4,
     "metadata": {},
     "output_type": "execute_result"
    }
   ],
   "source": [
    "abt = pd.concat(dfs, sort=False,ignore_index=True )\n",
    "print(abt.shape)\n",
    "abt.groupby(['company_name'], sort=True).mean()"
   ]
  },
  {
   "cell_type": "markdown",
   "metadata": {},
   "source": [
    "# 2. Data Cleaning\n",
    "## 2.1 Merging features with different names."
   ]
  },
  {
   "cell_type": "markdown",
   "metadata": {},
   "source": [
    "After exploring the data, we find the column names have duplicates. For example, **'Deferred Revenue'** is sometimes referred to as **'Short term unearned revenue'**, **'Long term unearned revenue'**. \n",
    "\n",
    "We will try to group all these different columns into one column. "
   ]
  },
  {
   "cell_type": "markdown",
   "metadata": {},
   "source": [
    "### Deferred Revenue, an example"
   ]
  },
  {
   "cell_type": "code",
   "execution_count": 5,
   "metadata": {
    "scrolled": true
   },
   "outputs": [
    {
     "data": {
      "text/html": [
       "<div>\n",
       "<style scoped>\n",
       "    .dataframe tbody tr th:only-of-type {\n",
       "        vertical-align: middle;\n",
       "    }\n",
       "\n",
       "    .dataframe tbody tr th {\n",
       "        vertical-align: top;\n",
       "    }\n",
       "\n",
       "    .dataframe thead th {\n",
       "        text-align: right;\n",
       "    }\n",
       "</style>\n",
       "<table border=\"1\" class=\"dataframe\">\n",
       "  <thead>\n",
       "    <tr style=\"text-align: right;\">\n",
       "      <th></th>\n",
       "      <th>Total Deferred Revenue</th>\n",
       "      <th>Short term unearned revenue</th>\n",
       "      <th>Long term unearned revenue</th>\n",
       "      <th>Deferred Revenue</th>\n",
       "    </tr>\n",
       "    <tr>\n",
       "      <th>company_name</th>\n",
       "      <th></th>\n",
       "      <th></th>\n",
       "      <th></th>\n",
       "      <th></th>\n",
       "    </tr>\n",
       "  </thead>\n",
       "  <tbody>\n",
       "    <tr>\n",
       "      <td>Amazon</td>\n",
       "      <td>0</td>\n",
       "      <td>0</td>\n",
       "      <td>0</td>\n",
       "      <td>1</td>\n",
       "    </tr>\n",
       "    <tr>\n",
       "      <td>Apple</td>\n",
       "      <td>1</td>\n",
       "      <td>0</td>\n",
       "      <td>0</td>\n",
       "      <td>0</td>\n",
       "    </tr>\n",
       "    <tr>\n",
       "      <td>Facebook</td>\n",
       "      <td>0</td>\n",
       "      <td>0</td>\n",
       "      <td>0</td>\n",
       "      <td>1</td>\n",
       "    </tr>\n",
       "    <tr>\n",
       "      <td>Ford</td>\n",
       "      <td>1</td>\n",
       "      <td>0</td>\n",
       "      <td>0</td>\n",
       "      <td>0</td>\n",
       "    </tr>\n",
       "    <tr>\n",
       "      <td>GM</td>\n",
       "      <td>1</td>\n",
       "      <td>0</td>\n",
       "      <td>0</td>\n",
       "      <td>0</td>\n",
       "    </tr>\n",
       "    <tr>\n",
       "      <td>Google</td>\n",
       "      <td>1</td>\n",
       "      <td>0</td>\n",
       "      <td>0</td>\n",
       "      <td>0</td>\n",
       "    </tr>\n",
       "    <tr>\n",
       "      <td>Microsoft</td>\n",
       "      <td>0</td>\n",
       "      <td>1</td>\n",
       "      <td>1</td>\n",
       "      <td>0</td>\n",
       "    </tr>\n",
       "    <tr>\n",
       "      <td>Netflix</td>\n",
       "      <td>0</td>\n",
       "      <td>0</td>\n",
       "      <td>0</td>\n",
       "      <td>1</td>\n",
       "    </tr>\n",
       "    <tr>\n",
       "      <td>Tesla</td>\n",
       "      <td>1</td>\n",
       "      <td>0</td>\n",
       "      <td>0</td>\n",
       "      <td>0</td>\n",
       "    </tr>\n",
       "  </tbody>\n",
       "</table>\n",
       "</div>"
      ],
      "text/plain": [
       "              Total Deferred Revenue  Short term unearned revenue  \\\n",
       "company_name                                                        \n",
       "Amazon                             0                            0   \n",
       "Apple                              1                            0   \n",
       "Facebook                           0                            0   \n",
       "Ford                               1                            0   \n",
       "GM                                 1                            0   \n",
       "Google                             1                            0   \n",
       "Microsoft                          0                            1   \n",
       "Netflix                            0                            0   \n",
       "Tesla                              1                            0   \n",
       "\n",
       "              Long term unearned revenue  Deferred Revenue  \n",
       "company_name                                                \n",
       "Amazon                                 0                 1  \n",
       "Apple                                  0                 0  \n",
       "Facebook                               0                 1  \n",
       "Ford                                   0                 0  \n",
       "GM                                     0                 0  \n",
       "Google                                 0                 0  \n",
       "Microsoft                              1                 0  \n",
       "Netflix                                0                 1  \n",
       "Tesla                                  0                 0  "
      ]
     },
     "execution_count": 5,
     "metadata": {},
     "output_type": "execute_result"
    }
   ],
   "source": [
    "abt[['Total Deferred Revenue', 'Short term unearned revenue', 'Long term unearned revenue', \n",
    "          'Deferred Revenue']].groupby(abt['company_name'], sort=True).mean().notna().astype(int)"
   ]
  },
  {
   "cell_type": "code",
   "execution_count": 6,
   "metadata": {},
   "outputs": [],
   "source": [
    "# Different columns referring to the same concept. \n",
    "Sum_DR = ['Total Deferred Revenue', 'Short term unearned revenue', 'Long term unearned revenue', 'Deferred Revenue']"
   ]
  },
  {
   "cell_type": "code",
   "execution_count": 7,
   "metadata": {
    "scrolled": true
   },
   "outputs": [
    {
     "name": "stdout",
     "output_type": "stream",
     "text": [
      "(10, 3)\n"
     ]
    },
    {
     "data": {
      "text/html": [
       "<div>\n",
       "<style scoped>\n",
       "    .dataframe tbody tr th:only-of-type {\n",
       "        vertical-align: middle;\n",
       "    }\n",
       "\n",
       "    .dataframe tbody tr th {\n",
       "        vertical-align: top;\n",
       "    }\n",
       "\n",
       "    .dataframe thead th {\n",
       "        text-align: right;\n",
       "    }\n",
       "</style>\n",
       "<table border=\"1\" class=\"dataframe\">\n",
       "  <thead>\n",
       "    <tr style=\"text-align: right;\">\n",
       "      <th></th>\n",
       "      <th>company_name</th>\n",
       "      <th>New Deferred Revenue</th>\n",
       "      <th>Filing/Acc.No.</th>\n",
       "    </tr>\n",
       "  </thead>\n",
       "  <tbody>\n",
       "    <tr>\n",
       "      <td>54</td>\n",
       "      <td>Apple</td>\n",
       "      <td>NaN</td>\n",
       "      <td>10-Q, 0000320193-20-000052</td>\n",
       "    </tr>\n",
       "    <tr>\n",
       "      <td>55</td>\n",
       "      <td>Apple</td>\n",
       "      <td>NaN</td>\n",
       "      <td>10-Q, 0000320193-20-000010</td>\n",
       "    </tr>\n",
       "    <tr>\n",
       "      <td>56</td>\n",
       "      <td>Apple</td>\n",
       "      <td>NaN</td>\n",
       "      <td>10-Q, 0000320193-19-000076</td>\n",
       "    </tr>\n",
       "    <tr>\n",
       "      <td>57</td>\n",
       "      <td>Apple</td>\n",
       "      <td>NaN</td>\n",
       "      <td>10-Q, 0000320193-19-000066</td>\n",
       "    </tr>\n",
       "    <tr>\n",
       "      <td>58</td>\n",
       "      <td>Apple</td>\n",
       "      <td>NaN</td>\n",
       "      <td>10-Q, 0000320193-19-000010</td>\n",
       "    </tr>\n",
       "    <tr>\n",
       "      <td>74</td>\n",
       "      <td>Apple</td>\n",
       "      <td>NaN</td>\n",
       "      <td>10-K, 0000320193-19-000119</td>\n",
       "    </tr>\n",
       "    <tr>\n",
       "      <td>188</td>\n",
       "      <td>Ford</td>\n",
       "      <td>NaN</td>\n",
       "      <td>10-Q, 0000037996-13-000055</td>\n",
       "    </tr>\n",
       "    <tr>\n",
       "      <td>189</td>\n",
       "      <td>Ford</td>\n",
       "      <td>NaN</td>\n",
       "      <td>10-Q, 0000037996-13-000042</td>\n",
       "    </tr>\n",
       "    <tr>\n",
       "      <td>190</td>\n",
       "      <td>Ford</td>\n",
       "      <td>NaN</td>\n",
       "      <td>10-Q, 0000037996-13-000027</td>\n",
       "    </tr>\n",
       "    <tr>\n",
       "      <td>198</td>\n",
       "      <td>Ford</td>\n",
       "      <td>NaN</td>\n",
       "      <td>10-K, 0000037996-13-000014</td>\n",
       "    </tr>\n",
       "  </tbody>\n",
       "</table>\n",
       "</div>"
      ],
      "text/plain": [
       "    company_name  New Deferred Revenue              Filing/Acc.No.\n",
       "54         Apple                   NaN  10-Q, 0000320193-20-000052\n",
       "55         Apple                   NaN  10-Q, 0000320193-20-000010\n",
       "56         Apple                   NaN  10-Q, 0000320193-19-000076\n",
       "57         Apple                   NaN  10-Q, 0000320193-19-000066\n",
       "58         Apple                   NaN  10-Q, 0000320193-19-000010\n",
       "74         Apple                   NaN  10-K, 0000320193-19-000119\n",
       "188         Ford                   NaN  10-Q, 0000037996-13-000055\n",
       "189         Ford                   NaN  10-Q, 0000037996-13-000042\n",
       "190         Ford                   NaN  10-Q, 0000037996-13-000027\n",
       "198         Ford                   NaN  10-K, 0000037996-13-000014"
      ]
     },
     "execution_count": 7,
     "metadata": {},
     "output_type": "execute_result"
    }
   ],
   "source": [
    "# Set a variable for the new column name.\n",
    "new_col_name = 'New Deferred Revenue'\n",
    "\n",
    "# Take the sum of comceptually equivalent columns. Notice we keep null values. \n",
    "abt[new_col_name] = abt[Sum_DR].sum(axis=1, min_count=1)\n",
    "\n",
    "# Delete the original parent columns.  \n",
    "abt.drop(Sum_DR, axis=1, inplace=True)\n",
    "\n",
    "# Display the number of null objects in the new column after combining.\n",
    "missing_in_new_col = abt[['company_name', new_col_name, 'Filing/Acc.No.']][abt[new_col_name].isna()]\n",
    "print(missing_in_new_col.shape)\n",
    "missing_in_new_col"
   ]
  },
  {
   "cell_type": "markdown",
   "metadata": {},
   "source": [
    "After engineering this new feature, there are still 10 instances of missing values in the new column. \n",
    "\n",
    "We will handle this shortly after we  iterate this 'sum-and-delete' method systemaically across all columns in the dataframe. "
   ]
  },
  {
   "cell_type": "code",
   "execution_count": 8,
   "metadata": {},
   "outputs": [],
   "source": [
    "# First we create a list of similar columns and create a new name for the summed value of these columns. \n",
    "# i.e. save_dict = { new_col_name : [similar_cols] }\n",
    "\n",
    "col_name_converter = {\n",
    "# Property and Equipment\n",
    "    'New Property and Equipment' : ['Property and Equipment', 'Total Property and Equipment'],\n",
    "    \n",
    "# Assets ( except 'Total current assets' )\n",
    "    'Total Non-Current Assets' : ['Total non current assets', 'Other non current assets', 'Other long term assets', \n",
    "                                  'Intangible assets', 'Other assets'],\n",
    "    'Total_Assets' : ['Total Assets', 'Total assets'],\n",
    "    \n",
    "# Liabilities ( except 'Total current liabilities' )\n",
    "    'Non-Current Liabilities' : ['Total non current liabilities',  'Long term debt and capital leases', 'Long term debt', 'Debt', \n",
    "          'Other liabilities', 'Non Current liabilities'],\n",
    "    \n",
    "# Shareholder's Equity\n",
    "    \"Total Shareholder's Equity\" : ['Total Shareholder Equity', 'Total shareholders equity', 'Shareholder Equity', 'Total equity'],\n",
    "    \n",
    "# Account Payables\n",
    "    'Accounts Payables' : ['Accounts payable', 'Payables'],\n",
    "    \n",
    "# Retained Earnings\n",
    "    'Retained Earning' : ['Retained Earnings', \"Accumulated deficit\"],\n",
    "    \n",
    "# OCI \n",
    "    'OCI' : ['Accumulated other comprehensive income/', 'Accumulated comprehensive loss', \"Accumulated other comprehensive loss\", \n",
    "             'Accumulated other comprehensive income', 'Accumulated Other Comprehensive loss', 'Accumulated Comprehensive Income',\n",
    "             'Accumulated comprehensive income'],\n",
    "    \n",
    "# Cash \n",
    "    'Cash' : ['Cash', 'Total Cash']\n",
    "}\n",
    "# Exceptions\n",
    "# Account Receivable, Only missing Netflix\n",
    "# Common Stock, Only missing Facebook\n",
    "\n",
    "\n",
    "# Columns need to be deleted not mentioned above: \n",
    "del_col = [\n",
    "    # Assets\n",
    "    'Other current assets', 'Prepaid expenses and other current assets', 'Acquired intangible assets', \n",
    "           'Equity in  assets of affiliated companies', \n",
    "    # Liabilities\n",
    "    'Current portion of long term debt and capital leases', 'Current portion of long term debt', 'Total Liabilities',\n",
    "    'Other long term liabilities', \n",
    "    # Other \n",
    "    'Total equity attributable to Ford Motor Company', 'Equity attributable to noncontrolling interests', \n",
    "    'Partners payable', 'Total Income taxes payable', 'Class B Stock', 'Capital in excess of par value of stock',\n",
    "    'Treasury stock', 'Total cash', 'Class B Stock', 'Capital in excess of par value of stock', 'Treasury stock'\n",
    "] \n"
   ]
  },
  {
   "cell_type": "code",
   "execution_count": 9,
   "metadata": {},
   "outputs": [],
   "source": [
    "for new_name, old_name_list in col_name_converter.items():\n",
    "    abt[new_name] = abt[old_name_list].sum(axis=1, min_count=1)\n",
    "    abt.drop(old_name_list, axis=1, inplace=True)\n",
    "    "
   ]
  },
  {
   "cell_type": "code",
   "execution_count": 10,
   "metadata": {},
   "outputs": [],
   "source": [
    "abt.drop(del_col, axis=1, inplace=True)"
   ]
  },
  {
   "cell_type": "code",
   "execution_count": 11,
   "metadata": {},
   "outputs": [
    {
     "data": {
      "text/plain": [
       "(292, 70)"
      ]
     },
     "execution_count": 11,
     "metadata": {},
     "output_type": "execute_result"
    }
   ],
   "source": [
    "abt.shape"
   ]
  },
  {
   "cell_type": "markdown",
   "metadata": {},
   "source": [
    "After combining similar columns listed above. We have mangaged to reduce the number of columns from 113 to 70! \n",
    "\n",
    "Thats's a ~38% reduction. But we can do a little better. "
   ]
  },
  {
   "cell_type": "markdown",
   "metadata": {},
   "source": [
    "## 2.2 Missing data at company-level."
   ]
  },
  {
   "cell_type": "markdown",
   "metadata": {},
   "source": [
    "The amount of information reported in the balance sheet differ from different companies; for these features we will not impute the numbers since the missing data is structurally and conceptually different from every other data point collected. \n",
    "\n",
    "Instead we will represent the nothingness by creating an **indicator variable**. \n",
    "And in order to allow the machine learning algorithms to run smoothly, we fill in the original missing data with **int(0)** ."
   ]
  },
  {
   "cell_type": "markdown",
   "metadata": {},
   "source": [
    "### Account Receivable, missing NTLX"
   ]
  },
  {
   "cell_type": "code",
   "execution_count": 12,
   "metadata": {
    "scrolled": true
   },
   "outputs": [
    {
     "data": {
      "text/html": [
       "<div>\n",
       "<style scoped>\n",
       "    .dataframe tbody tr th:only-of-type {\n",
       "        vertical-align: middle;\n",
       "    }\n",
       "\n",
       "    .dataframe tbody tr th {\n",
       "        vertical-align: top;\n",
       "    }\n",
       "\n",
       "    .dataframe thead th {\n",
       "        text-align: right;\n",
       "    }\n",
       "</style>\n",
       "<table border=\"1\" class=\"dataframe\">\n",
       "  <thead>\n",
       "    <tr style=\"text-align: right;\">\n",
       "      <th></th>\n",
       "      <th>Accounts Receivable</th>\n",
       "    </tr>\n",
       "    <tr>\n",
       "      <th>company_name</th>\n",
       "      <th></th>\n",
       "    </tr>\n",
       "  </thead>\n",
       "  <tbody>\n",
       "    <tr>\n",
       "      <td>Amazon</td>\n",
       "      <td>1</td>\n",
       "    </tr>\n",
       "    <tr>\n",
       "      <td>Apple</td>\n",
       "      <td>1</td>\n",
       "    </tr>\n",
       "    <tr>\n",
       "      <td>Facebook</td>\n",
       "      <td>1</td>\n",
       "    </tr>\n",
       "    <tr>\n",
       "      <td>Ford</td>\n",
       "      <td>1</td>\n",
       "    </tr>\n",
       "    <tr>\n",
       "      <td>GM</td>\n",
       "      <td>1</td>\n",
       "    </tr>\n",
       "    <tr>\n",
       "      <td>Google</td>\n",
       "      <td>1</td>\n",
       "    </tr>\n",
       "    <tr>\n",
       "      <td>Microsoft</td>\n",
       "      <td>1</td>\n",
       "    </tr>\n",
       "    <tr>\n",
       "      <td>Netflix</td>\n",
       "      <td>0</td>\n",
       "    </tr>\n",
       "    <tr>\n",
       "      <td>Tesla</td>\n",
       "      <td>1</td>\n",
       "    </tr>\n",
       "  </tbody>\n",
       "</table>\n",
       "</div>"
      ],
      "text/plain": [
       "              Accounts Receivable\n",
       "company_name                     \n",
       "Amazon                          1\n",
       "Apple                           1\n",
       "Facebook                        1\n",
       "Ford                            1\n",
       "GM                              1\n",
       "Google                          1\n",
       "Microsoft                       1\n",
       "Netflix                         0\n",
       "Tesla                           1"
      ]
     },
     "execution_count": 12,
     "metadata": {},
     "output_type": "execute_result"
    }
   ],
   "source": [
    "# Double check to see if there is only one company missing this feature. \n",
    "abt[[ 'company_name', 'Accounts Receivable']].groupby(abt['company_name'], sort=True).mean().notna().astype(int)"
   ]
  },
  {
   "cell_type": "code",
   "execution_count": 13,
   "metadata": {},
   "outputs": [
    {
     "data": {
      "text/plain": [
       "48"
      ]
     },
     "execution_count": 13,
     "metadata": {},
     "output_type": "execute_result"
    }
   ],
   "source": [
    "# How many missing data in total? \n",
    "abt['Accounts Receivable'].isnull().sum()"
   ]
  },
  {
   "cell_type": "code",
   "execution_count": 14,
   "metadata": {},
   "outputs": [
    {
     "data": {
      "text/html": [
       "<div>\n",
       "<style scoped>\n",
       "    .dataframe tbody tr th:only-of-type {\n",
       "        vertical-align: middle;\n",
       "    }\n",
       "\n",
       "    .dataframe tbody tr th {\n",
       "        vertical-align: top;\n",
       "    }\n",
       "\n",
       "    .dataframe thead th {\n",
       "        text-align: right;\n",
       "    }\n",
       "</style>\n",
       "<table border=\"1\" class=\"dataframe\">\n",
       "  <thead>\n",
       "    <tr style=\"text-align: right;\">\n",
       "      <th></th>\n",
       "      <th>company_name</th>\n",
       "      <th>Accounts Receivable</th>\n",
       "    </tr>\n",
       "  </thead>\n",
       "  <tbody>\n",
       "    <tr>\n",
       "      <td>80</td>\n",
       "      <td>Netflix</td>\n",
       "      <td>NaN</td>\n",
       "    </tr>\n",
       "    <tr>\n",
       "      <td>81</td>\n",
       "      <td>Netflix</td>\n",
       "      <td>NaN</td>\n",
       "    </tr>\n",
       "    <tr>\n",
       "      <td>82</td>\n",
       "      <td>Netflix</td>\n",
       "      <td>NaN</td>\n",
       "    </tr>\n",
       "    <tr>\n",
       "      <td>83</td>\n",
       "      <td>Netflix</td>\n",
       "      <td>NaN</td>\n",
       "    </tr>\n",
       "    <tr>\n",
       "      <td>84</td>\n",
       "      <td>Netflix</td>\n",
       "      <td>NaN</td>\n",
       "    </tr>\n",
       "  </tbody>\n",
       "</table>\n",
       "</div>"
      ],
      "text/plain": [
       "   company_name  Accounts Receivable\n",
       "80      Netflix                  NaN\n",
       "81      Netflix                  NaN\n",
       "82      Netflix                  NaN\n",
       "83      Netflix                  NaN\n",
       "84      Netflix                  NaN"
      ]
     },
     "execution_count": 14,
     "metadata": {},
     "output_type": "execute_result"
    }
   ],
   "source": [
    "# Double check nothing funny is going in the df. Checking top 5 rows.\n",
    "abt[['company_name', 'Accounts Receivable']][abt['company_name'] == 'Netflix'].head(5)"
   ]
  },
  {
   "cell_type": "code",
   "execution_count": 15,
   "metadata": {},
   "outputs": [],
   "source": [
    "# Create Indicator Variable \n",
    "abt['Accounts_Receivable_missing'] = abt['Accounts Receivable'].isnull().astype(int)"
   ]
  },
  {
   "cell_type": "code",
   "execution_count": 16,
   "metadata": {},
   "outputs": [],
   "source": [
    "# Fill in the original missing value with 0.\n",
    "abt['Accounts Receivable'].fillna(0, inplace=True)"
   ]
  },
  {
   "cell_type": "code",
   "execution_count": 17,
   "metadata": {},
   "outputs": [
    {
     "data": {
      "text/plain": [
       "0"
      ]
     },
     "execution_count": 17,
     "metadata": {},
     "output_type": "execute_result"
    }
   ],
   "source": [
    "# Checking if there are any other missing values in the feature. \n",
    "abt[ 'Accounts Receivable'].isnull().sum()"
   ]
  },
  {
   "cell_type": "markdown",
   "metadata": {},
   "source": [
    "We will repeat the process for the next feature - 'Common Stock'."
   ]
  },
  {
   "cell_type": "markdown",
   "metadata": {},
   "source": [
    "### Common Stock, missing FB"
   ]
  },
  {
   "cell_type": "code",
   "execution_count": 18,
   "metadata": {},
   "outputs": [
    {
     "name": "stdout",
     "output_type": "stream",
     "text": [
      "Amount of missing values prior the operation\n"
     ]
    },
    {
     "data": {
      "text/plain": [
       "0"
      ]
     },
     "execution_count": 18,
     "metadata": {},
     "output_type": "execute_result"
    }
   ],
   "source": [
    "print('Amount of missing values prior the operation')\n",
    "abt['Accounts Receivable'].isnull().sum()"
   ]
  },
  {
   "cell_type": "code",
   "execution_count": 19,
   "metadata": {},
   "outputs": [],
   "source": [
    "# Create Indicator Variable \n",
    "abt['Common_Stock_missing'] = abt['Common Stock'].isnull().astype(int)"
   ]
  },
  {
   "cell_type": "code",
   "execution_count": 20,
   "metadata": {},
   "outputs": [],
   "source": [
    "# Fill in the original missing value with 0.\n",
    "abt['Common Stock'].fillna(0, inplace=True)"
   ]
  },
  {
   "cell_type": "code",
   "execution_count": 21,
   "metadata": {},
   "outputs": [
    {
     "name": "stdout",
     "output_type": "stream",
     "text": [
      "Amount of missing values after the operation\n"
     ]
    },
    {
     "data": {
      "text/plain": [
       "0"
      ]
     },
     "execution_count": 21,
     "metadata": {},
     "output_type": "execute_result"
    }
   ],
   "source": [
    "print('Amount of missing values after the operation')\n",
    "abt[ 'Accounts Receivable'].isnull().sum()"
   ]
  },
  {
   "cell_type": "markdown",
   "metadata": {},
   "source": [
    "### Total Liabilities, missing Amazon and GM"
   ]
  },
  {
   "cell_type": "markdown",
   "metadata": {},
   "source": [
    "Amazon and GM both share a missing feature - **Total liabilities** that every other company has reported.\n",
    "\n",
    "To remedy this,  we added together the values in **'Total current liabilities'**, **'Non-Current Liabilites'** to 'impute' the missing values because the relationship is conceptually coherent. "
   ]
  },
  {
   "cell_type": "code",
   "execution_count": 22,
   "metadata": {},
   "outputs": [
    {
     "data": {
      "text/plain": [
       "company_name          0\n",
       "Total liabilities    95\n",
       "dtype: int64"
      ]
     },
     "execution_count": 22,
     "metadata": {},
     "output_type": "execute_result"
    }
   ],
   "source": [
    "# Number of missing values before operation. \n",
    "abt[['company_name', 'Total liabilities']].isnull().sum()"
   ]
  },
  {
   "cell_type": "code",
   "execution_count": 23,
   "metadata": {},
   "outputs": [],
   "source": [
    "# Creating a Series summing all the numbers from Amazon and GM on columns 'Total current liabilities', 'Non-Current Liabilites'.\n",
    "artifical_sum = abt[['Total current liabilities', 'Non-Current Liabilities']][(abt['company_name'] == 'Amazon') | (abt['company_name'] == 'GM' )].sum(axis=1, min_count=1)"
   ]
  },
  {
   "cell_type": "code",
   "execution_count": 24,
   "metadata": {
    "scrolled": true
   },
   "outputs": [],
   "source": [
    "# Inserting in the Series data into the existing df. \n",
    "abt['Total liabilities'].fillna(artifical_sum, inplace=True)"
   ]
  },
  {
   "cell_type": "code",
   "execution_count": 25,
   "metadata": {},
   "outputs": [
    {
     "data": {
      "text/plain": [
       "company_name         0\n",
       "Total liabilities    2\n",
       "dtype: int64"
      ]
     },
     "execution_count": 25,
     "metadata": {},
     "output_type": "execute_result"
    }
   ],
   "source": [
    "# Number of missing values after operation. \n",
    "abt[['company_name', 'Total liabilities']].isnull().sum()"
   ]
  },
  {
   "cell_type": "markdown",
   "metadata": {},
   "source": [
    "There are still 2 missing values.  \n",
    "Now let's interpolate the remaining the **sparse** missing values. "
   ]
  },
  {
   "cell_type": "markdown",
   "metadata": {},
   "source": [
    "But before we do that we will want to dicard features that have too many missing oberservations. \n",
    "\n",
    "We do this now and not after intrerpolation becasue we can save computation time and computational space."
   ]
  },
  {
   "cell_type": "code",
   "execution_count": 26,
   "metadata": {
    "scrolled": false
   },
   "outputs": [
    {
     "name": "stdout",
     "output_type": "stream",
     "text": [
      "There are 12 clean columns.\n",
      "['Accounts Receivable', 'Accounts_Receivable_missing', 'Common Stock', 'Common_Stock_missing', 'Filing/Acc.No.', 'New Property and Equipment', 'Quarter', \"Total Shareholder's Equity\", 'Total liabilities and equity', 'Total_Assets', 'Year', 'company_name']\n"
     ]
    }
   ],
   "source": [
    "# Features that do not have missing values.\n",
    "print(f'There are {len(abt.columns[abt.isna().sum() == 0])} clean columns.')\n",
    "print(sorted(list(abt.columns[abt.isna().sum() == 0])))"
   ]
  },
  {
   "cell_type": "code",
   "execution_count": 27,
   "metadata": {},
   "outputs": [
    {
     "name": "stdout",
     "output_type": "stream",
     "text": [
      "dirty_col_name list has 60 values\n"
     ]
    }
   ],
   "source": [
    "#Creating dirty_col_name list. i.e. these columns have missing value.\n",
    "dirty_col_name = list(abt.columns[abt.isna().sum() > 0])\n",
    "print(f'dirty_col_name list has {len(dirty_col_name)} values')\n"
   ]
  },
  {
   "cell_type": "code",
   "execution_count": 28,
   "metadata": {
    "scrolled": false
   },
   "outputs": [
    {
     "name": "stdout",
     "output_type": "stream",
     "text": [
      "True\n"
     ]
    }
   ],
   "source": [
    "# Are all values in dirty_col_name unique?\n",
    "print(len(set(dirty_col_name)) == len(dirty_col_name))"
   ]
  },
  {
   "cell_type": "code",
   "execution_count": 29,
   "metadata": {
    "scrolled": true
   },
   "outputs": [
    {
     "name": "stdout",
     "output_type": "stream",
     "text": [
      "1.  Inventory\n",
      "0.7465753424657534\n",
      "\n",
      "2.  Total current assets\n",
      "0.952054794520548\n",
      "\n",
      "3.  Total current liabilities\n",
      "0.952054794520548\n",
      "\n",
      "4.  Total liabilities\n",
      "0.9931506849315068\n",
      "\n",
      "5.  New Deferred Revenue\n",
      "0.9657534246575342\n",
      "\n",
      "6.  Total Non-Current Assets\n",
      "0.8527397260273972\n",
      "\n",
      "7.  Non-Current Liabilities\n",
      "0.9006849315068494\n",
      "\n",
      "8.  Accounts Payables\n",
      "0.9965753424657534\n",
      "\n",
      "9.  Retained Earning\n",
      "0.9828767123287672\n",
      "\n",
      "10.  OCI\n",
      "0.9383561643835616\n",
      "\n",
      "Length of hope_list:  10\n",
      "['company_name', 'Inventory', 'Total current assets', 'Total current liabilities', 'Total liabilities', 'New Deferred Revenue', 'Total Non-Current Assets', 'Non-Current Liabilities', 'Accounts Payables', 'Retained Earning', 'OCI']\n"
     ]
    }
   ],
   "source": [
    "# Columns that need to be cleaned/merged. \n",
    "count = 1\n",
    "hope_list = []\n",
    "for columns in dirty_col_name:\n",
    "    \n",
    "    ratio = abt[columns].notna().astype(int).mean()\n",
    "    \n",
    "    # Set ( valid : missing ) ratio threshold\n",
    "    if 1 > ratio > 0.6:\n",
    "        print(f'{count}.  {columns}')\n",
    "        print( ratio )\n",
    "        print()\n",
    "        count+=1\n",
    "        hope_list.append(columns)\n",
    "\n",
    "print('Length of hope_list: ',len(hope_list) )\n",
    "hope_list.insert(0, 'company_name')\n",
    "print( hope_list )"
   ]
  },
  {
   "cell_type": "markdown",
   "metadata": {},
   "source": [
    "##### By manipulating the **ratio** in the above cell a bit to compute a list of features that do not meet our minimum requirement. \n",
    "And save it into another list called **dirty_col_name_loc**."
   ]
  },
  {
   "cell_type": "code",
   "execution_count": 30,
   "metadata": {
    "scrolled": true
   },
   "outputs": [
    {
     "name": "stdout",
     "output_type": "stream",
     "text": [
      "Length of dirty_col_name_loc: 50 \n",
      "\n",
      "[('Solar bonds issued to related parties', 0.0273972602739726),\n",
      " ('Restricted cash and marketable securities', 0.0273972602739726),\n",
      " ('Series A', 0.030821917808219176),\n",
      " ('Series B', 0.030821917808219176),\n",
      " ('MyPower customer notes receivable', 0.04452054794520548),\n",
      " ('Solar energy systems', 0.04794520547945205),\n",
      " ('Total Noncontrolling interests in subsidiaries', 0.04794520547945205),\n",
      " ('Capital surplus', 0.05136986301369863),\n",
      " ('Automotive debt payable within one year', 0.0547945205479452),\n",
      " ('Automotive long term debt', 0.0547945205479452),\n",
      " ('Total Resale value guarantees', 0.06164383561643835),\n",
      " ('Total Convertible Senior Notes', 0.06164383561643835),\n",
      " ('Short term marketable securities', 0.06506849315068493),\n",
      " ('Long term marketable securities', 0.06506849315068493),\n",
      " ('Income taxes receivable', 0.06506849315068493),\n",
      " ('Non marketable investments', 0.06506849315068493),\n",
      " ('Accrued compensation and benefits', 0.06506849315068493),\n",
      " ('Accrued revenue share', 0.06506849315068493),\n",
      " ('Total Restricted cash and marketable securities', 0.0684931506849315),\n",
      " ('Total Restricted Cash', 0.07191780821917808),\n",
      " ('Operating lease vehicles', 0.07534246575342465),\n",
      " ('Accrued Liabilities', 0.07534246575342465),\n",
      " ('Customer deposits', 0.07534246575342465),\n",
      " ('31000000', 0.07534246575342465),\n",
      " ('Commercial paper', 0.07876712328767123),\n",
      " ('Redeemable noncontrolling interest', 0.08561643835616438),\n",
      " ('Vendor non trade receivables', 0.08904109589041095),\n",
      " ('Other non current liabilities', 0.08904109589041095),\n",
      " ('Total Other', 0.09931506849315068),\n",
      " ('Total Other assets', 0.10273972602739725),\n",
      " ('Total Net investment in operating leases', 0.10273972602739725),\n",
      " ('Current content liabilities', 0.10616438356164383),\n",
      " ('Accrued compensation', 0.1095890410958904),\n",
      " ('Total Automotive', 0.11301369863013698),\n",
      " ('Total GM Financial', 0.11301369863013698),\n",
      " ('Non current content liabilities', 0.11986301369863013),\n",
      " ('Total Equity', 0.1267123287671233),\n",
      " ('Postretirement benefits other than pensions', 0.136986301369863),\n",
      " ('Accrued expenses and other current liabilities', 0.1404109589041096),\n",
      " ('Equity in  assets of nonconsolidated affiliates', 0.14726027397260275),\n",
      " ('Pensions', 0.14726027397260275),\n",
      " ('Noncontrolling interests', 0.14726027397260275),\n",
      " ('Content Assets', 0.16095890410958905),\n",
      " ('Total Deferred income taxes', 0.1678082191780822),\n",
      " ('Accrued expenses and other', 0.17123287671232876),\n",
      " ('Accrued expenses', 0.2089041095890411),\n",
      " ('Short term investments', 0.23972602739726026),\n",
      " ('Additional paid in capital', 0.4178082191780822),\n",
      " ('Goodwill', 0.523972602739726),\n",
      " ('Marketable securities', 0.5513698630136986)]\n"
     ]
    }
   ],
   "source": [
    "# Columns that need to be dropped. \n",
    "dirty_col_name_loc = []\n",
    "\n",
    "for columns in dirty_col_name:\n",
    "    \n",
    "    ratio = abt[columns].notna().astype(int).mean()\n",
    "    \n",
    "    # Set ( valid : missing ) ratio threshold\n",
    "    if 0.6 > ratio:\n",
    "        \n",
    "        dirty_col_name_loc.append((columns, ratio))\n",
    "\n",
    "print(f'Length of dirty_col_name_loc: {len(dirty_col_name_loc)} \\n' )\n",
    "pprint( sorted(dirty_col_name_loc, key=lambda tup : tup[1] ) )"
   ]
  },
  {
   "cell_type": "markdown",
   "metadata": {},
   "source": [
    "After consulting google, turns out **'Short term investments'** and **'Marketable securities'** are conceptually similar objects. Let's quickly fix that. "
   ]
  },
  {
   "cell_type": "markdown",
   "metadata": {},
   "source": [
    "### Short_term_investments"
   ]
  },
  {
   "cell_type": "code",
   "execution_count": 31,
   "metadata": {
    "scrolled": true
   },
   "outputs": [
    {
     "name": "stdout",
     "output_type": "stream",
     "text": [
      "(292, 72)\n",
      "Amount of valid values prior the operation\n"
     ]
    },
    {
     "data": {
      "text/plain": [
       "Short term investments     70\n",
       "Marketable securities     161\n",
       "dtype: int64"
      ]
     },
     "execution_count": 31,
     "metadata": {},
     "output_type": "execute_result"
    }
   ],
   "source": [
    "# Background information.\n",
    "print(abt.shape)\n",
    "\n",
    "print('Amount of valid values prior the operation')\n",
    "abt[['Short term investments', 'Marketable securities']].notna().sum()"
   ]
  },
  {
   "cell_type": "markdown",
   "metadata": {},
   "source": [
    "Note 70+161 = 231, there are 231 valid observations in the beginning. "
   ]
  },
  {
   "cell_type": "code",
   "execution_count": 32,
   "metadata": {},
   "outputs": [],
   "source": [
    "# Creating new feature - 'Short_term_investments'.\n",
    "abt['Short_term_investments'] = abt[['Short term investments', 'Marketable securities']].sum(axis=1, min_count=1)"
   ]
  },
  {
   "cell_type": "code",
   "execution_count": 33,
   "metadata": {
    "scrolled": true
   },
   "outputs": [
    {
     "name": "stdout",
     "output_type": "stream",
     "text": [
      "company_name\n",
      "Amazon        0.0\n",
      "Apple        26.0\n",
      "Facebook      0.0\n",
      "Ford          0.0\n",
      "GM            3.0\n",
      "Google        0.0\n",
      "Microsoft     0.0\n",
      "Netflix      10.0\n",
      "Tesla        22.0\n",
      "Name: Short_term_investments, dtype: float64\n"
     ]
    }
   ],
   "source": [
    "# Investigate which companies are not reporting 'Short term investments' or 'Marketable securities'.\n",
    "print(abt['Short_term_investments'].isnull().groupby(abt['company_name']).sum())\n"
   ]
  },
  {
   "cell_type": "markdown",
   "metadata": {},
   "source": [
    "Apple and Tesla seems to be promising candidates for capturing additional data. "
   ]
  },
  {
   "cell_type": "code",
   "execution_count": 34,
   "metadata": {},
   "outputs": [
    {
     "data": {
      "text/plain": [
       "231"
      ]
     },
     "execution_count": 34,
     "metadata": {},
     "output_type": "execute_result"
    }
   ],
   "source": [
    "# Checking there are no duplicates in the company-level. \n",
    "abt['Short_term_investments'].notna().sum()"
   ]
  },
  {
   "cell_type": "markdown",
   "metadata": {},
   "source": [
    "After the summation operation, the number is still 231, hence we can deduce there are no duplicates. \n",
    "\n",
    "i.e. No company has both terms listed in the same balance sheet. "
   ]
  },
  {
   "cell_type": "markdown",
   "metadata": {},
   "source": [
    "There are still 61 missing instances. Let's look at the dirty column again and see if we can gather more information there. "
   ]
  },
  {
   "cell_type": "code",
   "execution_count": 35,
   "metadata": {
    "scrolled": true
   },
   "outputs": [
    {
     "data": {
      "text/html": [
       "<div>\n",
       "<style scoped>\n",
       "    .dataframe tbody tr th:only-of-type {\n",
       "        vertical-align: middle;\n",
       "    }\n",
       "\n",
       "    .dataframe tbody tr th {\n",
       "        vertical-align: top;\n",
       "    }\n",
       "\n",
       "    .dataframe thead th {\n",
       "        text-align: right;\n",
       "    }\n",
       "</style>\n",
       "<table border=\"1\" class=\"dataframe\">\n",
       "  <thead>\n",
       "    <tr style=\"text-align: right;\">\n",
       "      <th></th>\n",
       "      <th>company_name</th>\n",
       "      <th>Short_term_investments</th>\n",
       "      <th>Filing/Acc.No.</th>\n",
       "    </tr>\n",
       "  </thead>\n",
       "  <tbody>\n",
       "    <tr>\n",
       "      <td>0</td>\n",
       "      <td>Tesla</td>\n",
       "      <td>NaN</td>\n",
       "      <td>10-Q, 0001564590-20-019931</td>\n",
       "    </tr>\n",
       "    <tr>\n",
       "      <td>1</td>\n",
       "      <td>Tesla</td>\n",
       "      <td>NaN</td>\n",
       "      <td>10-Q, 0001564590-19-038256</td>\n",
       "    </tr>\n",
       "    <tr>\n",
       "      <td>2</td>\n",
       "      <td>Tesla</td>\n",
       "      <td>NaN</td>\n",
       "      <td>10-Q, 0001564590-19-026445</td>\n",
       "    </tr>\n",
       "    <tr>\n",
       "      <td>3</td>\n",
       "      <td>Tesla</td>\n",
       "      <td>NaN</td>\n",
       "      <td>10-Q, 0001564590-19-013462</td>\n",
       "    </tr>\n",
       "    <tr>\n",
       "      <td>4</td>\n",
       "      <td>Tesla</td>\n",
       "      <td>NaN</td>\n",
       "      <td>10-Q, 0001564590-18-026353</td>\n",
       "    </tr>\n",
       "    <tr>\n",
       "      <td>5</td>\n",
       "      <td>Tesla</td>\n",
       "      <td>NaN</td>\n",
       "      <td>10-Q, 0001564590-18-019254</td>\n",
       "    </tr>\n",
       "    <tr>\n",
       "      <td>6</td>\n",
       "      <td>Tesla</td>\n",
       "      <td>NaN</td>\n",
       "      <td>10-Q, 0001564590-18-011086</td>\n",
       "    </tr>\n",
       "    <tr>\n",
       "      <td>7</td>\n",
       "      <td>Tesla</td>\n",
       "      <td>NaN</td>\n",
       "      <td>10-Q, 0001564590-17-021343</td>\n",
       "    </tr>\n",
       "    <tr>\n",
       "      <td>8</td>\n",
       "      <td>Tesla</td>\n",
       "      <td>NaN</td>\n",
       "      <td>10-Q, 0001564590-17-015705</td>\n",
       "    </tr>\n",
       "    <tr>\n",
       "      <td>9</td>\n",
       "      <td>Tesla</td>\n",
       "      <td>NaN</td>\n",
       "      <td>10-Q, 0001564590-17-009968</td>\n",
       "    </tr>\n",
       "    <tr>\n",
       "      <td>10</td>\n",
       "      <td>Tesla</td>\n",
       "      <td>NaN</td>\n",
       "      <td>10-Q, 0001564590-16-026820</td>\n",
       "    </tr>\n",
       "    <tr>\n",
       "      <td>11</td>\n",
       "      <td>Tesla</td>\n",
       "      <td>NaN</td>\n",
       "      <td>10-Q, 0001564590-16-023024</td>\n",
       "    </tr>\n",
       "    <tr>\n",
       "      <td>12</td>\n",
       "      <td>Tesla</td>\n",
       "      <td>NaN</td>\n",
       "      <td>10-Q, 0001564590-16-018886</td>\n",
       "    </tr>\n",
       "    <tr>\n",
       "      <td>13</td>\n",
       "      <td>Tesla</td>\n",
       "      <td>NaN</td>\n",
       "      <td>10-Q, 0001564590-15-009741</td>\n",
       "    </tr>\n",
       "    <tr>\n",
       "      <td>14</td>\n",
       "      <td>Tesla</td>\n",
       "      <td>NaN</td>\n",
       "      <td>10-Q, 0001564590-15-006666</td>\n",
       "    </tr>\n",
       "    <tr>\n",
       "      <td>15</td>\n",
       "      <td>Tesla</td>\n",
       "      <td>NaN</td>\n",
       "      <td>10-Q, 0001564590-15-003789</td>\n",
       "    </tr>\n",
       "    <tr>\n",
       "      <td>16</td>\n",
       "      <td>Tesla</td>\n",
       "      <td>NaN</td>\n",
       "      <td>10-K, 0001564590-20-004475</td>\n",
       "    </tr>\n",
       "    <tr>\n",
       "      <td>17</td>\n",
       "      <td>Tesla</td>\n",
       "      <td>NaN</td>\n",
       "      <td>10-K, 0001564590-19-003165</td>\n",
       "    </tr>\n",
       "    <tr>\n",
       "      <td>18</td>\n",
       "      <td>Tesla</td>\n",
       "      <td>NaN</td>\n",
       "      <td>10-K, 0001564590-18-002956</td>\n",
       "    </tr>\n",
       "    <tr>\n",
       "      <td>19</td>\n",
       "      <td>Tesla</td>\n",
       "      <td>NaN</td>\n",
       "      <td>10-K, 0001564590-17-003118</td>\n",
       "    </tr>\n",
       "    <tr>\n",
       "      <td>20</td>\n",
       "      <td>Tesla</td>\n",
       "      <td>NaN</td>\n",
       "      <td>10-K, 0001564590-16-013195</td>\n",
       "    </tr>\n",
       "    <tr>\n",
       "      <td>21</td>\n",
       "      <td>Tesla</td>\n",
       "      <td>NaN</td>\n",
       "      <td>10-K, 0001564590-15-001031</td>\n",
       "    </tr>\n",
       "    <tr>\n",
       "      <td>54</td>\n",
       "      <td>Apple</td>\n",
       "      <td>NaN</td>\n",
       "      <td>10-Q, 0000320193-20-000052</td>\n",
       "    </tr>\n",
       "    <tr>\n",
       "      <td>55</td>\n",
       "      <td>Apple</td>\n",
       "      <td>NaN</td>\n",
       "      <td>10-Q, 0000320193-20-000010</td>\n",
       "    </tr>\n",
       "    <tr>\n",
       "      <td>56</td>\n",
       "      <td>Apple</td>\n",
       "      <td>NaN</td>\n",
       "      <td>10-Q, 0000320193-19-000076</td>\n",
       "    </tr>\n",
       "    <tr>\n",
       "      <td>57</td>\n",
       "      <td>Apple</td>\n",
       "      <td>NaN</td>\n",
       "      <td>10-Q, 0000320193-19-000066</td>\n",
       "    </tr>\n",
       "    <tr>\n",
       "      <td>58</td>\n",
       "      <td>Apple</td>\n",
       "      <td>NaN</td>\n",
       "      <td>10-Q, 0000320193-19-000010</td>\n",
       "    </tr>\n",
       "    <tr>\n",
       "      <td>59</td>\n",
       "      <td>Apple</td>\n",
       "      <td>NaN</td>\n",
       "      <td>10-Q, 0000320193-18-000100</td>\n",
       "    </tr>\n",
       "    <tr>\n",
       "      <td>60</td>\n",
       "      <td>Apple</td>\n",
       "      <td>NaN</td>\n",
       "      <td>10-Q, 0000320193-18-000070</td>\n",
       "    </tr>\n",
       "    <tr>\n",
       "      <td>61</td>\n",
       "      <td>Apple</td>\n",
       "      <td>NaN</td>\n",
       "      <td>10-Q, 0000320193-18-000007</td>\n",
       "    </tr>\n",
       "    <tr>\n",
       "      <td>62</td>\n",
       "      <td>Apple</td>\n",
       "      <td>NaN</td>\n",
       "      <td>10-Q, 0000320193-17-000009</td>\n",
       "    </tr>\n",
       "    <tr>\n",
       "      <td>63</td>\n",
       "      <td>Apple</td>\n",
       "      <td>NaN</td>\n",
       "      <td>10-Q, 0001628280-17-004790</td>\n",
       "    </tr>\n",
       "    <tr>\n",
       "      <td>64</td>\n",
       "      <td>Apple</td>\n",
       "      <td>NaN</td>\n",
       "      <td>10-Q, 0001628280-17-000717</td>\n",
       "    </tr>\n",
       "    <tr>\n",
       "      <td>65</td>\n",
       "      <td>Apple</td>\n",
       "      <td>NaN</td>\n",
       "      <td>10-Q, 0001628280-16-017809</td>\n",
       "    </tr>\n",
       "    <tr>\n",
       "      <td>66</td>\n",
       "      <td>Apple</td>\n",
       "      <td>NaN</td>\n",
       "      <td>10-Q, 0001193125-16-559625</td>\n",
       "    </tr>\n",
       "    <tr>\n",
       "      <td>67</td>\n",
       "      <td>Apple</td>\n",
       "      <td>NaN</td>\n",
       "      <td>10-Q, 0001193125-16-439878</td>\n",
       "    </tr>\n",
       "    <tr>\n",
       "      <td>68</td>\n",
       "      <td>Apple</td>\n",
       "      <td>NaN</td>\n",
       "      <td>10-Q, 0001193125-15-259935</td>\n",
       "    </tr>\n",
       "    <tr>\n",
       "      <td>69</td>\n",
       "      <td>Apple</td>\n",
       "      <td>NaN</td>\n",
       "      <td>10-Q, 0001193125-15-153166</td>\n",
       "    </tr>\n",
       "    <tr>\n",
       "      <td>70</td>\n",
       "      <td>Apple</td>\n",
       "      <td>NaN</td>\n",
       "      <td>10-Q, 0001193125-15-023697</td>\n",
       "    </tr>\n",
       "    <tr>\n",
       "      <td>71</td>\n",
       "      <td>Apple</td>\n",
       "      <td>NaN</td>\n",
       "      <td>10-Q, 0001193125-14-277160</td>\n",
       "    </tr>\n",
       "    <tr>\n",
       "      <td>72</td>\n",
       "      <td>Apple</td>\n",
       "      <td>NaN</td>\n",
       "      <td>10-Q, 0001193125-14-157311</td>\n",
       "    </tr>\n",
       "    <tr>\n",
       "      <td>73</td>\n",
       "      <td>Apple</td>\n",
       "      <td>NaN</td>\n",
       "      <td>10-Q, 0001193125-14-024487</td>\n",
       "    </tr>\n",
       "    <tr>\n",
       "      <td>74</td>\n",
       "      <td>Apple</td>\n",
       "      <td>NaN</td>\n",
       "      <td>10-K, 0000320193-19-000119</td>\n",
       "    </tr>\n",
       "    <tr>\n",
       "      <td>75</td>\n",
       "      <td>Apple</td>\n",
       "      <td>NaN</td>\n",
       "      <td>10-K, 0000320193-18-000145</td>\n",
       "    </tr>\n",
       "    <tr>\n",
       "      <td>76</td>\n",
       "      <td>Apple</td>\n",
       "      <td>NaN</td>\n",
       "      <td>10-K, 0000320193-17-000070</td>\n",
       "    </tr>\n",
       "    <tr>\n",
       "      <td>77</td>\n",
       "      <td>Apple</td>\n",
       "      <td>NaN</td>\n",
       "      <td>10-K, 0001628280-16-020309</td>\n",
       "    </tr>\n",
       "    <tr>\n",
       "      <td>78</td>\n",
       "      <td>Apple</td>\n",
       "      <td>NaN</td>\n",
       "      <td>10-K, 0001193125-15-356351</td>\n",
       "    </tr>\n",
       "    <tr>\n",
       "      <td>79</td>\n",
       "      <td>Apple</td>\n",
       "      <td>NaN</td>\n",
       "      <td>10-K, 0001193125-14-383437</td>\n",
       "    </tr>\n",
       "  </tbody>\n",
       "</table>\n",
       "</div>"
      ],
      "text/plain": [
       "   company_name  Short_term_investments              Filing/Acc.No.\n",
       "0         Tesla                     NaN  10-Q, 0001564590-20-019931\n",
       "1         Tesla                     NaN  10-Q, 0001564590-19-038256\n",
       "2         Tesla                     NaN  10-Q, 0001564590-19-026445\n",
       "3         Tesla                     NaN  10-Q, 0001564590-19-013462\n",
       "4         Tesla                     NaN  10-Q, 0001564590-18-026353\n",
       "5         Tesla                     NaN  10-Q, 0001564590-18-019254\n",
       "6         Tesla                     NaN  10-Q, 0001564590-18-011086\n",
       "7         Tesla                     NaN  10-Q, 0001564590-17-021343\n",
       "8         Tesla                     NaN  10-Q, 0001564590-17-015705\n",
       "9         Tesla                     NaN  10-Q, 0001564590-17-009968\n",
       "10        Tesla                     NaN  10-Q, 0001564590-16-026820\n",
       "11        Tesla                     NaN  10-Q, 0001564590-16-023024\n",
       "12        Tesla                     NaN  10-Q, 0001564590-16-018886\n",
       "13        Tesla                     NaN  10-Q, 0001564590-15-009741\n",
       "14        Tesla                     NaN  10-Q, 0001564590-15-006666\n",
       "15        Tesla                     NaN  10-Q, 0001564590-15-003789\n",
       "16        Tesla                     NaN  10-K, 0001564590-20-004475\n",
       "17        Tesla                     NaN  10-K, 0001564590-19-003165\n",
       "18        Tesla                     NaN  10-K, 0001564590-18-002956\n",
       "19        Tesla                     NaN  10-K, 0001564590-17-003118\n",
       "20        Tesla                     NaN  10-K, 0001564590-16-013195\n",
       "21        Tesla                     NaN  10-K, 0001564590-15-001031\n",
       "54        Apple                     NaN  10-Q, 0000320193-20-000052\n",
       "55        Apple                     NaN  10-Q, 0000320193-20-000010\n",
       "56        Apple                     NaN  10-Q, 0000320193-19-000076\n",
       "57        Apple                     NaN  10-Q, 0000320193-19-000066\n",
       "58        Apple                     NaN  10-Q, 0000320193-19-000010\n",
       "59        Apple                     NaN  10-Q, 0000320193-18-000100\n",
       "60        Apple                     NaN  10-Q, 0000320193-18-000070\n",
       "61        Apple                     NaN  10-Q, 0000320193-18-000007\n",
       "62        Apple                     NaN  10-Q, 0000320193-17-000009\n",
       "63        Apple                     NaN  10-Q, 0001628280-17-004790\n",
       "64        Apple                     NaN  10-Q, 0001628280-17-000717\n",
       "65        Apple                     NaN  10-Q, 0001628280-16-017809\n",
       "66        Apple                     NaN  10-Q, 0001193125-16-559625\n",
       "67        Apple                     NaN  10-Q, 0001193125-16-439878\n",
       "68        Apple                     NaN  10-Q, 0001193125-15-259935\n",
       "69        Apple                     NaN  10-Q, 0001193125-15-153166\n",
       "70        Apple                     NaN  10-Q, 0001193125-15-023697\n",
       "71        Apple                     NaN  10-Q, 0001193125-14-277160\n",
       "72        Apple                     NaN  10-Q, 0001193125-14-157311\n",
       "73        Apple                     NaN  10-Q, 0001193125-14-024487\n",
       "74        Apple                     NaN  10-K, 0000320193-19-000119\n",
       "75        Apple                     NaN  10-K, 0000320193-18-000145\n",
       "76        Apple                     NaN  10-K, 0000320193-17-000070\n",
       "77        Apple                     NaN  10-K, 0001628280-16-020309\n",
       "78        Apple                     NaN  10-K, 0001193125-15-356351\n",
       "79        Apple                     NaN  10-K, 0001193125-14-383437"
      ]
     },
     "execution_count": 35,
     "metadata": {},
     "output_type": "execute_result"
    }
   ],
   "source": [
    "# Because Apple and Tesla seems promising. We will targert these two companies. \n",
    "abt[['company_name', 'Short_term_investments', 'Filing/Acc.No.']][(abt['company_name'] == 'Apple') | (abt['company_name'] == 'Tesla')] "
   ]
  },
  {
   "cell_type": "code",
   "execution_count": 36,
   "metadata": {},
   "outputs": [
    {
     "data": {
      "text/html": [
       "<div>\n",
       "<style scoped>\n",
       "    .dataframe tbody tr th:only-of-type {\n",
       "        vertical-align: middle;\n",
       "    }\n",
       "\n",
       "    .dataframe tbody tr th {\n",
       "        vertical-align: top;\n",
       "    }\n",
       "\n",
       "    .dataframe thead th {\n",
       "        text-align: right;\n",
       "    }\n",
       "</style>\n",
       "<table border=\"1\" class=\"dataframe\">\n",
       "  <thead>\n",
       "    <tr style=\"text-align: right;\">\n",
       "      <th></th>\n",
       "      <th>company_name</th>\n",
       "      <th>Short term investments</th>\n",
       "      <th>Marketable securities</th>\n",
       "      <th>Restricted cash and marketable securities</th>\n",
       "      <th>Short term marketable securities</th>\n",
       "      <th>Long term marketable securities</th>\n",
       "      <th>Filing/Acc.No.</th>\n",
       "    </tr>\n",
       "  </thead>\n",
       "  <tbody>\n",
       "    <tr>\n",
       "      <td>0</td>\n",
       "      <td>Tesla</td>\n",
       "      <td>NaN</td>\n",
       "      <td>NaN</td>\n",
       "      <td>NaN</td>\n",
       "      <td>NaN</td>\n",
       "      <td>NaN</td>\n",
       "      <td>10-Q, 0001564590-20-019931</td>\n",
       "    </tr>\n",
       "    <tr>\n",
       "      <td>1</td>\n",
       "      <td>Tesla</td>\n",
       "      <td>NaN</td>\n",
       "      <td>NaN</td>\n",
       "      <td>NaN</td>\n",
       "      <td>NaN</td>\n",
       "      <td>NaN</td>\n",
       "      <td>10-Q, 0001564590-19-038256</td>\n",
       "    </tr>\n",
       "    <tr>\n",
       "      <td>2</td>\n",
       "      <td>Tesla</td>\n",
       "      <td>NaN</td>\n",
       "      <td>NaN</td>\n",
       "      <td>NaN</td>\n",
       "      <td>NaN</td>\n",
       "      <td>NaN</td>\n",
       "      <td>10-Q, 0001564590-19-026445</td>\n",
       "    </tr>\n",
       "    <tr>\n",
       "      <td>3</td>\n",
       "      <td>Tesla</td>\n",
       "      <td>NaN</td>\n",
       "      <td>NaN</td>\n",
       "      <td>NaN</td>\n",
       "      <td>NaN</td>\n",
       "      <td>NaN</td>\n",
       "      <td>10-Q, 0001564590-19-013462</td>\n",
       "    </tr>\n",
       "    <tr>\n",
       "      <td>4</td>\n",
       "      <td>Tesla</td>\n",
       "      <td>NaN</td>\n",
       "      <td>NaN</td>\n",
       "      <td>NaN</td>\n",
       "      <td>NaN</td>\n",
       "      <td>NaN</td>\n",
       "      <td>10-Q, 0001564590-18-026353</td>\n",
       "    </tr>\n",
       "    <tr>\n",
       "      <td>5</td>\n",
       "      <td>Tesla</td>\n",
       "      <td>NaN</td>\n",
       "      <td>NaN</td>\n",
       "      <td>NaN</td>\n",
       "      <td>NaN</td>\n",
       "      <td>NaN</td>\n",
       "      <td>10-Q, 0001564590-18-019254</td>\n",
       "    </tr>\n",
       "    <tr>\n",
       "      <td>6</td>\n",
       "      <td>Tesla</td>\n",
       "      <td>NaN</td>\n",
       "      <td>NaN</td>\n",
       "      <td>NaN</td>\n",
       "      <td>NaN</td>\n",
       "      <td>NaN</td>\n",
       "      <td>10-Q, 0001564590-18-011086</td>\n",
       "    </tr>\n",
       "    <tr>\n",
       "      <td>7</td>\n",
       "      <td>Tesla</td>\n",
       "      <td>NaN</td>\n",
       "      <td>NaN</td>\n",
       "      <td>NaN</td>\n",
       "      <td>NaN</td>\n",
       "      <td>NaN</td>\n",
       "      <td>10-Q, 0001564590-17-021343</td>\n",
       "    </tr>\n",
       "    <tr>\n",
       "      <td>8</td>\n",
       "      <td>Tesla</td>\n",
       "      <td>NaN</td>\n",
       "      <td>NaN</td>\n",
       "      <td>NaN</td>\n",
       "      <td>NaN</td>\n",
       "      <td>NaN</td>\n",
       "      <td>10-Q, 0001564590-17-015705</td>\n",
       "    </tr>\n",
       "    <tr>\n",
       "      <td>9</td>\n",
       "      <td>Tesla</td>\n",
       "      <td>NaN</td>\n",
       "      <td>NaN</td>\n",
       "      <td>NaN</td>\n",
       "      <td>NaN</td>\n",
       "      <td>NaN</td>\n",
       "      <td>10-Q, 0001564590-17-009968</td>\n",
       "    </tr>\n",
       "    <tr>\n",
       "      <td>10</td>\n",
       "      <td>Tesla</td>\n",
       "      <td>NaN</td>\n",
       "      <td>NaN</td>\n",
       "      <td>23711000.0</td>\n",
       "      <td>NaN</td>\n",
       "      <td>NaN</td>\n",
       "      <td>10-Q, 0001564590-16-026820</td>\n",
       "    </tr>\n",
       "    <tr>\n",
       "      <td>11</td>\n",
       "      <td>Tesla</td>\n",
       "      <td>NaN</td>\n",
       "      <td>NaN</td>\n",
       "      <td>24525000.0</td>\n",
       "      <td>NaN</td>\n",
       "      <td>NaN</td>\n",
       "      <td>10-Q, 0001564590-16-023024</td>\n",
       "    </tr>\n",
       "    <tr>\n",
       "      <td>12</td>\n",
       "      <td>Tesla</td>\n",
       "      <td>NaN</td>\n",
       "      <td>NaN</td>\n",
       "      <td>23980000.0</td>\n",
       "      <td>NaN</td>\n",
       "      <td>NaN</td>\n",
       "      <td>10-Q, 0001564590-16-018886</td>\n",
       "    </tr>\n",
       "    <tr>\n",
       "      <td>13</td>\n",
       "      <td>Tesla</td>\n",
       "      <td>NaN</td>\n",
       "      <td>NaN</td>\n",
       "      <td>25223000.0</td>\n",
       "      <td>NaN</td>\n",
       "      <td>NaN</td>\n",
       "      <td>10-Q, 0001564590-15-009741</td>\n",
       "    </tr>\n",
       "    <tr>\n",
       "      <td>14</td>\n",
       "      <td>Tesla</td>\n",
       "      <td>NaN</td>\n",
       "      <td>NaN</td>\n",
       "      <td>20591000.0</td>\n",
       "      <td>NaN</td>\n",
       "      <td>NaN</td>\n",
       "      <td>10-Q, 0001564590-15-006666</td>\n",
       "    </tr>\n",
       "    <tr>\n",
       "      <td>15</td>\n",
       "      <td>Tesla</td>\n",
       "      <td>NaN</td>\n",
       "      <td>NaN</td>\n",
       "      <td>20693000.0</td>\n",
       "      <td>NaN</td>\n",
       "      <td>NaN</td>\n",
       "      <td>10-Q, 0001564590-15-003789</td>\n",
       "    </tr>\n",
       "    <tr>\n",
       "      <td>16</td>\n",
       "      <td>Tesla</td>\n",
       "      <td>NaN</td>\n",
       "      <td>NaN</td>\n",
       "      <td>NaN</td>\n",
       "      <td>NaN</td>\n",
       "      <td>NaN</td>\n",
       "      <td>10-K, 0001564590-20-004475</td>\n",
       "    </tr>\n",
       "    <tr>\n",
       "      <td>17</td>\n",
       "      <td>Tesla</td>\n",
       "      <td>NaN</td>\n",
       "      <td>NaN</td>\n",
       "      <td>NaN</td>\n",
       "      <td>NaN</td>\n",
       "      <td>NaN</td>\n",
       "      <td>10-K, 0001564590-19-003165</td>\n",
       "    </tr>\n",
       "    <tr>\n",
       "      <td>18</td>\n",
       "      <td>Tesla</td>\n",
       "      <td>NaN</td>\n",
       "      <td>NaN</td>\n",
       "      <td>NaN</td>\n",
       "      <td>NaN</td>\n",
       "      <td>NaN</td>\n",
       "      <td>10-K, 0001564590-18-002956</td>\n",
       "    </tr>\n",
       "    <tr>\n",
       "      <td>19</td>\n",
       "      <td>Tesla</td>\n",
       "      <td>NaN</td>\n",
       "      <td>NaN</td>\n",
       "      <td>NaN</td>\n",
       "      <td>NaN</td>\n",
       "      <td>NaN</td>\n",
       "      <td>10-K, 0001564590-17-003118</td>\n",
       "    </tr>\n",
       "    <tr>\n",
       "      <td>20</td>\n",
       "      <td>Tesla</td>\n",
       "      <td>NaN</td>\n",
       "      <td>NaN</td>\n",
       "      <td>22628000.0</td>\n",
       "      <td>NaN</td>\n",
       "      <td>NaN</td>\n",
       "      <td>10-K, 0001564590-16-013195</td>\n",
       "    </tr>\n",
       "    <tr>\n",
       "      <td>21</td>\n",
       "      <td>Tesla</td>\n",
       "      <td>NaN</td>\n",
       "      <td>NaN</td>\n",
       "      <td>17947000.0</td>\n",
       "      <td>NaN</td>\n",
       "      <td>NaN</td>\n",
       "      <td>10-K, 0001564590-15-001031</td>\n",
       "    </tr>\n",
       "    <tr>\n",
       "      <td>54</td>\n",
       "      <td>Apple</td>\n",
       "      <td>NaN</td>\n",
       "      <td>NaN</td>\n",
       "      <td>NaN</td>\n",
       "      <td>NaN</td>\n",
       "      <td>NaN</td>\n",
       "      <td>10-Q, 0000320193-20-000052</td>\n",
       "    </tr>\n",
       "    <tr>\n",
       "      <td>55</td>\n",
       "      <td>Apple</td>\n",
       "      <td>NaN</td>\n",
       "      <td>NaN</td>\n",
       "      <td>NaN</td>\n",
       "      <td>NaN</td>\n",
       "      <td>NaN</td>\n",
       "      <td>10-Q, 0000320193-20-000010</td>\n",
       "    </tr>\n",
       "    <tr>\n",
       "      <td>56</td>\n",
       "      <td>Apple</td>\n",
       "      <td>NaN</td>\n",
       "      <td>NaN</td>\n",
       "      <td>NaN</td>\n",
       "      <td>NaN</td>\n",
       "      <td>NaN</td>\n",
       "      <td>10-Q, 0000320193-19-000076</td>\n",
       "    </tr>\n",
       "    <tr>\n",
       "      <td>57</td>\n",
       "      <td>Apple</td>\n",
       "      <td>NaN</td>\n",
       "      <td>NaN</td>\n",
       "      <td>NaN</td>\n",
       "      <td>NaN</td>\n",
       "      <td>NaN</td>\n",
       "      <td>10-Q, 0000320193-19-000066</td>\n",
       "    </tr>\n",
       "    <tr>\n",
       "      <td>58</td>\n",
       "      <td>Apple</td>\n",
       "      <td>NaN</td>\n",
       "      <td>NaN</td>\n",
       "      <td>NaN</td>\n",
       "      <td>NaN</td>\n",
       "      <td>NaN</td>\n",
       "      <td>10-Q, 0000320193-19-000010</td>\n",
       "    </tr>\n",
       "    <tr>\n",
       "      <td>59</td>\n",
       "      <td>Apple</td>\n",
       "      <td>NaN</td>\n",
       "      <td>NaN</td>\n",
       "      <td>NaN</td>\n",
       "      <td>3.899900e+10</td>\n",
       "      <td>1.727730e+11</td>\n",
       "      <td>10-Q, 0000320193-18-000100</td>\n",
       "    </tr>\n",
       "    <tr>\n",
       "      <td>60</td>\n",
       "      <td>Apple</td>\n",
       "      <td>NaN</td>\n",
       "      <td>NaN</td>\n",
       "      <td>NaN</td>\n",
       "      <td>4.288100e+10</td>\n",
       "      <td>1.792860e+11</td>\n",
       "      <td>10-Q, 0000320193-18-000070</td>\n",
       "    </tr>\n",
       "    <tr>\n",
       "      <td>61</td>\n",
       "      <td>Apple</td>\n",
       "      <td>NaN</td>\n",
       "      <td>NaN</td>\n",
       "      <td>NaN</td>\n",
       "      <td>4.966200e+10</td>\n",
       "      <td>2.079440e+11</td>\n",
       "      <td>10-Q, 0000320193-18-000007</td>\n",
       "    </tr>\n",
       "    <tr>\n",
       "      <td>62</td>\n",
       "      <td>Apple</td>\n",
       "      <td>NaN</td>\n",
       "      <td>NaN</td>\n",
       "      <td>NaN</td>\n",
       "      <td>5.818800e+10</td>\n",
       "      <td>1.847570e+11</td>\n",
       "      <td>10-Q, 0000320193-17-000009</td>\n",
       "    </tr>\n",
       "    <tr>\n",
       "      <td>63</td>\n",
       "      <td>Apple</td>\n",
       "      <td>NaN</td>\n",
       "      <td>NaN</td>\n",
       "      <td>NaN</td>\n",
       "      <td>5.194400e+10</td>\n",
       "      <td>1.897400e+11</td>\n",
       "      <td>10-Q, 0001628280-17-004790</td>\n",
       "    </tr>\n",
       "    <tr>\n",
       "      <td>64</td>\n",
       "      <td>Apple</td>\n",
       "      <td>NaN</td>\n",
       "      <td>NaN</td>\n",
       "      <td>NaN</td>\n",
       "      <td>4.408100e+10</td>\n",
       "      <td>1.856380e+11</td>\n",
       "      <td>10-Q, 0001628280-17-000717</td>\n",
       "    </tr>\n",
       "    <tr>\n",
       "      <td>65</td>\n",
       "      <td>Apple</td>\n",
       "      <td>NaN</td>\n",
       "      <td>NaN</td>\n",
       "      <td>NaN</td>\n",
       "      <td>4.351900e+10</td>\n",
       "      <td>1.697640e+11</td>\n",
       "      <td>10-Q, 0001628280-16-017809</td>\n",
       "    </tr>\n",
       "    <tr>\n",
       "      <td>66</td>\n",
       "      <td>Apple</td>\n",
       "      <td>NaN</td>\n",
       "      <td>NaN</td>\n",
       "      <td>NaN</td>\n",
       "      <td>3.376900e+10</td>\n",
       "      <td>1.776450e+11</td>\n",
       "      <td>10-Q, 0001193125-16-559625</td>\n",
       "    </tr>\n",
       "    <tr>\n",
       "      <td>67</td>\n",
       "      <td>Apple</td>\n",
       "      <td>NaN</td>\n",
       "      <td>NaN</td>\n",
       "      <td>NaN</td>\n",
       "      <td>2.138500e+10</td>\n",
       "      <td>1.776650e+11</td>\n",
       "      <td>10-Q, 0001193125-16-439878</td>\n",
       "    </tr>\n",
       "    <tr>\n",
       "      <td>68</td>\n",
       "      <td>Apple</td>\n",
       "      <td>NaN</td>\n",
       "      <td>NaN</td>\n",
       "      <td>NaN</td>\n",
       "      <td>1.938400e+10</td>\n",
       "      <td>1.681450e+11</td>\n",
       "      <td>10-Q, 0001193125-15-259935</td>\n",
       "    </tr>\n",
       "    <tr>\n",
       "      <td>69</td>\n",
       "      <td>Apple</td>\n",
       "      <td>NaN</td>\n",
       "      <td>NaN</td>\n",
       "      <td>NaN</td>\n",
       "      <td>1.860700e+10</td>\n",
       "      <td>1.604430e+11</td>\n",
       "      <td>10-Q, 0001193125-15-153166</td>\n",
       "    </tr>\n",
       "    <tr>\n",
       "      <td>70</td>\n",
       "      <td>Apple</td>\n",
       "      <td>NaN</td>\n",
       "      <td>NaN</td>\n",
       "      <td>NaN</td>\n",
       "      <td>1.298500e+10</td>\n",
       "      <td>1.454920e+11</td>\n",
       "      <td>10-Q, 0001193125-15-023697</td>\n",
       "    </tr>\n",
       "    <tr>\n",
       "      <td>71</td>\n",
       "      <td>Apple</td>\n",
       "      <td>NaN</td>\n",
       "      <td>NaN</td>\n",
       "      <td>NaN</td>\n",
       "      <td>2.482800e+10</td>\n",
       "      <td>1.266850e+11</td>\n",
       "      <td>10-Q, 0001193125-14-277160</td>\n",
       "    </tr>\n",
       "    <tr>\n",
       "      <td>72</td>\n",
       "      <td>Apple</td>\n",
       "      <td>NaN</td>\n",
       "      <td>NaN</td>\n",
       "      <td>NaN</td>\n",
       "      <td>2.240100e+10</td>\n",
       "      <td>1.092390e+11</td>\n",
       "      <td>10-Q, 0001193125-14-157311</td>\n",
       "    </tr>\n",
       "    <tr>\n",
       "      <td>73</td>\n",
       "      <td>Apple</td>\n",
       "      <td>NaN</td>\n",
       "      <td>NaN</td>\n",
       "      <td>NaN</td>\n",
       "      <td>2.663400e+10</td>\n",
       "      <td>1.181310e+11</td>\n",
       "      <td>10-Q, 0001193125-14-024487</td>\n",
       "    </tr>\n",
       "    <tr>\n",
       "      <td>74</td>\n",
       "      <td>Apple</td>\n",
       "      <td>NaN</td>\n",
       "      <td>NaN</td>\n",
       "      <td>NaN</td>\n",
       "      <td>NaN</td>\n",
       "      <td>NaN</td>\n",
       "      <td>10-K, 0000320193-19-000119</td>\n",
       "    </tr>\n",
       "    <tr>\n",
       "      <td>75</td>\n",
       "      <td>Apple</td>\n",
       "      <td>NaN</td>\n",
       "      <td>NaN</td>\n",
       "      <td>NaN</td>\n",
       "      <td>NaN</td>\n",
       "      <td>NaN</td>\n",
       "      <td>10-K, 0000320193-18-000145</td>\n",
       "    </tr>\n",
       "    <tr>\n",
       "      <td>76</td>\n",
       "      <td>Apple</td>\n",
       "      <td>NaN</td>\n",
       "      <td>NaN</td>\n",
       "      <td>NaN</td>\n",
       "      <td>5.389200e+10</td>\n",
       "      <td>1.947140e+11</td>\n",
       "      <td>10-K, 0000320193-17-000070</td>\n",
       "    </tr>\n",
       "    <tr>\n",
       "      <td>77</td>\n",
       "      <td>Apple</td>\n",
       "      <td>NaN</td>\n",
       "      <td>NaN</td>\n",
       "      <td>NaN</td>\n",
       "      <td>4.667100e+10</td>\n",
       "      <td>1.704300e+11</td>\n",
       "      <td>10-K, 0001628280-16-020309</td>\n",
       "    </tr>\n",
       "    <tr>\n",
       "      <td>78</td>\n",
       "      <td>Apple</td>\n",
       "      <td>NaN</td>\n",
       "      <td>NaN</td>\n",
       "      <td>NaN</td>\n",
       "      <td>2.048100e+10</td>\n",
       "      <td>1.640650e+11</td>\n",
       "      <td>10-K, 0001193125-15-356351</td>\n",
       "    </tr>\n",
       "    <tr>\n",
       "      <td>79</td>\n",
       "      <td>Apple</td>\n",
       "      <td>NaN</td>\n",
       "      <td>NaN</td>\n",
       "      <td>NaN</td>\n",
       "      <td>1.123300e+10</td>\n",
       "      <td>1.301620e+11</td>\n",
       "      <td>10-K, 0001193125-14-383437</td>\n",
       "    </tr>\n",
       "  </tbody>\n",
       "</table>\n",
       "</div>"
      ],
      "text/plain": [
       "   company_name  Short term investments  Marketable securities  \\\n",
       "0         Tesla                     NaN                    NaN   \n",
       "1         Tesla                     NaN                    NaN   \n",
       "2         Tesla                     NaN                    NaN   \n",
       "3         Tesla                     NaN                    NaN   \n",
       "4         Tesla                     NaN                    NaN   \n",
       "5         Tesla                     NaN                    NaN   \n",
       "6         Tesla                     NaN                    NaN   \n",
       "7         Tesla                     NaN                    NaN   \n",
       "8         Tesla                     NaN                    NaN   \n",
       "9         Tesla                     NaN                    NaN   \n",
       "10        Tesla                     NaN                    NaN   \n",
       "11        Tesla                     NaN                    NaN   \n",
       "12        Tesla                     NaN                    NaN   \n",
       "13        Tesla                     NaN                    NaN   \n",
       "14        Tesla                     NaN                    NaN   \n",
       "15        Tesla                     NaN                    NaN   \n",
       "16        Tesla                     NaN                    NaN   \n",
       "17        Tesla                     NaN                    NaN   \n",
       "18        Tesla                     NaN                    NaN   \n",
       "19        Tesla                     NaN                    NaN   \n",
       "20        Tesla                     NaN                    NaN   \n",
       "21        Tesla                     NaN                    NaN   \n",
       "54        Apple                     NaN                    NaN   \n",
       "55        Apple                     NaN                    NaN   \n",
       "56        Apple                     NaN                    NaN   \n",
       "57        Apple                     NaN                    NaN   \n",
       "58        Apple                     NaN                    NaN   \n",
       "59        Apple                     NaN                    NaN   \n",
       "60        Apple                     NaN                    NaN   \n",
       "61        Apple                     NaN                    NaN   \n",
       "62        Apple                     NaN                    NaN   \n",
       "63        Apple                     NaN                    NaN   \n",
       "64        Apple                     NaN                    NaN   \n",
       "65        Apple                     NaN                    NaN   \n",
       "66        Apple                     NaN                    NaN   \n",
       "67        Apple                     NaN                    NaN   \n",
       "68        Apple                     NaN                    NaN   \n",
       "69        Apple                     NaN                    NaN   \n",
       "70        Apple                     NaN                    NaN   \n",
       "71        Apple                     NaN                    NaN   \n",
       "72        Apple                     NaN                    NaN   \n",
       "73        Apple                     NaN                    NaN   \n",
       "74        Apple                     NaN                    NaN   \n",
       "75        Apple                     NaN                    NaN   \n",
       "76        Apple                     NaN                    NaN   \n",
       "77        Apple                     NaN                    NaN   \n",
       "78        Apple                     NaN                    NaN   \n",
       "79        Apple                     NaN                    NaN   \n",
       "\n",
       "    Restricted cash and marketable securities  \\\n",
       "0                                         NaN   \n",
       "1                                         NaN   \n",
       "2                                         NaN   \n",
       "3                                         NaN   \n",
       "4                                         NaN   \n",
       "5                                         NaN   \n",
       "6                                         NaN   \n",
       "7                                         NaN   \n",
       "8                                         NaN   \n",
       "9                                         NaN   \n",
       "10                                 23711000.0   \n",
       "11                                 24525000.0   \n",
       "12                                 23980000.0   \n",
       "13                                 25223000.0   \n",
       "14                                 20591000.0   \n",
       "15                                 20693000.0   \n",
       "16                                        NaN   \n",
       "17                                        NaN   \n",
       "18                                        NaN   \n",
       "19                                        NaN   \n",
       "20                                 22628000.0   \n",
       "21                                 17947000.0   \n",
       "54                                        NaN   \n",
       "55                                        NaN   \n",
       "56                                        NaN   \n",
       "57                                        NaN   \n",
       "58                                        NaN   \n",
       "59                                        NaN   \n",
       "60                                        NaN   \n",
       "61                                        NaN   \n",
       "62                                        NaN   \n",
       "63                                        NaN   \n",
       "64                                        NaN   \n",
       "65                                        NaN   \n",
       "66                                        NaN   \n",
       "67                                        NaN   \n",
       "68                                        NaN   \n",
       "69                                        NaN   \n",
       "70                                        NaN   \n",
       "71                                        NaN   \n",
       "72                                        NaN   \n",
       "73                                        NaN   \n",
       "74                                        NaN   \n",
       "75                                        NaN   \n",
       "76                                        NaN   \n",
       "77                                        NaN   \n",
       "78                                        NaN   \n",
       "79                                        NaN   \n",
       "\n",
       "    Short term marketable securities  Long term marketable securities  \\\n",
       "0                                NaN                              NaN   \n",
       "1                                NaN                              NaN   \n",
       "2                                NaN                              NaN   \n",
       "3                                NaN                              NaN   \n",
       "4                                NaN                              NaN   \n",
       "5                                NaN                              NaN   \n",
       "6                                NaN                              NaN   \n",
       "7                                NaN                              NaN   \n",
       "8                                NaN                              NaN   \n",
       "9                                NaN                              NaN   \n",
       "10                               NaN                              NaN   \n",
       "11                               NaN                              NaN   \n",
       "12                               NaN                              NaN   \n",
       "13                               NaN                              NaN   \n",
       "14                               NaN                              NaN   \n",
       "15                               NaN                              NaN   \n",
       "16                               NaN                              NaN   \n",
       "17                               NaN                              NaN   \n",
       "18                               NaN                              NaN   \n",
       "19                               NaN                              NaN   \n",
       "20                               NaN                              NaN   \n",
       "21                               NaN                              NaN   \n",
       "54                               NaN                              NaN   \n",
       "55                               NaN                              NaN   \n",
       "56                               NaN                              NaN   \n",
       "57                               NaN                              NaN   \n",
       "58                               NaN                              NaN   \n",
       "59                      3.899900e+10                     1.727730e+11   \n",
       "60                      4.288100e+10                     1.792860e+11   \n",
       "61                      4.966200e+10                     2.079440e+11   \n",
       "62                      5.818800e+10                     1.847570e+11   \n",
       "63                      5.194400e+10                     1.897400e+11   \n",
       "64                      4.408100e+10                     1.856380e+11   \n",
       "65                      4.351900e+10                     1.697640e+11   \n",
       "66                      3.376900e+10                     1.776450e+11   \n",
       "67                      2.138500e+10                     1.776650e+11   \n",
       "68                      1.938400e+10                     1.681450e+11   \n",
       "69                      1.860700e+10                     1.604430e+11   \n",
       "70                      1.298500e+10                     1.454920e+11   \n",
       "71                      2.482800e+10                     1.266850e+11   \n",
       "72                      2.240100e+10                     1.092390e+11   \n",
       "73                      2.663400e+10                     1.181310e+11   \n",
       "74                               NaN                              NaN   \n",
       "75                               NaN                              NaN   \n",
       "76                      5.389200e+10                     1.947140e+11   \n",
       "77                      4.667100e+10                     1.704300e+11   \n",
       "78                      2.048100e+10                     1.640650e+11   \n",
       "79                      1.123300e+10                     1.301620e+11   \n",
       "\n",
       "                Filing/Acc.No.  \n",
       "0   10-Q, 0001564590-20-019931  \n",
       "1   10-Q, 0001564590-19-038256  \n",
       "2   10-Q, 0001564590-19-026445  \n",
       "3   10-Q, 0001564590-19-013462  \n",
       "4   10-Q, 0001564590-18-026353  \n",
       "5   10-Q, 0001564590-18-019254  \n",
       "6   10-Q, 0001564590-18-011086  \n",
       "7   10-Q, 0001564590-17-021343  \n",
       "8   10-Q, 0001564590-17-015705  \n",
       "9   10-Q, 0001564590-17-009968  \n",
       "10  10-Q, 0001564590-16-026820  \n",
       "11  10-Q, 0001564590-16-023024  \n",
       "12  10-Q, 0001564590-16-018886  \n",
       "13  10-Q, 0001564590-15-009741  \n",
       "14  10-Q, 0001564590-15-006666  \n",
       "15  10-Q, 0001564590-15-003789  \n",
       "16  10-K, 0001564590-20-004475  \n",
       "17  10-K, 0001564590-19-003165  \n",
       "18  10-K, 0001564590-18-002956  \n",
       "19  10-K, 0001564590-17-003118  \n",
       "20  10-K, 0001564590-16-013195  \n",
       "21  10-K, 0001564590-15-001031  \n",
       "54  10-Q, 0000320193-20-000052  \n",
       "55  10-Q, 0000320193-20-000010  \n",
       "56  10-Q, 0000320193-19-000076  \n",
       "57  10-Q, 0000320193-19-000066  \n",
       "58  10-Q, 0000320193-19-000010  \n",
       "59  10-Q, 0000320193-18-000100  \n",
       "60  10-Q, 0000320193-18-000070  \n",
       "61  10-Q, 0000320193-18-000007  \n",
       "62  10-Q, 0000320193-17-000009  \n",
       "63  10-Q, 0001628280-17-004790  \n",
       "64  10-Q, 0001628280-17-000717  \n",
       "65  10-Q, 0001628280-16-017809  \n",
       "66  10-Q, 0001193125-16-559625  \n",
       "67  10-Q, 0001193125-16-439878  \n",
       "68  10-Q, 0001193125-15-259935  \n",
       "69  10-Q, 0001193125-15-153166  \n",
       "70  10-Q, 0001193125-15-023697  \n",
       "71  10-Q, 0001193125-14-277160  \n",
       "72  10-Q, 0001193125-14-157311  \n",
       "73  10-Q, 0001193125-14-024487  \n",
       "74  10-K, 0000320193-19-000119  \n",
       "75  10-K, 0000320193-18-000145  \n",
       "76  10-K, 0000320193-17-000070  \n",
       "77  10-K, 0001628280-16-020309  \n",
       "78  10-K, 0001193125-15-356351  \n",
       "79  10-K, 0001193125-14-383437  "
      ]
     },
     "execution_count": 36,
     "metadata": {},
     "output_type": "execute_result"
    }
   ],
   "source": [
    "# Showing columns that are smenatically related to 'Short_term_investments'.\n",
    "abt[['company_name', 'Short term investments', 'Marketable securities', 'Restricted cash and marketable securities', 'Short term marketable securities', 'Long term marketable securities', 'Filing/Acc.No.']][(abt['company_name'] == 'Apple') | (abt['company_name'] == 'Tesla')] "
   ]
  },
  {
   "cell_type": "markdown",
   "metadata": {},
   "source": [
    "Observing that there is no overlap in the columns, reassures us this column is what we are looking for. \n",
    "\n",
    "However, there is an overlap, but no worries the column name specify long and short term marketable securities, since previous companies have not specified this we will assume that those companies added the long and short term together into one 'Marketable securities' term. We will do the same here."
   ]
  },
  {
   "cell_type": "code",
   "execution_count": 37,
   "metadata": {},
   "outputs": [],
   "source": [
    "# We will overwrite the new feature to include new columns. \n",
    "abt['Short_term_investments'] = abt[['Short term investments', 'Marketable securities', \n",
    "                                     'Restricted cash and marketable securities', 'Short term marketable securities',\n",
    "                                     'Long term marketable securities']].sum(axis=1, min_count=1)\n"
   ]
  },
  {
   "cell_type": "code",
   "execution_count": 38,
   "metadata": {},
   "outputs": [],
   "source": [
    "# Finally delete the original columns used.\n",
    "abt.drop(['Short term investments', 'Marketable securities', 'Restricted cash and marketable securities',\n",
    "          'Short term marketable securities', 'Long term marketable securities' ], axis=1, inplace=True)"
   ]
  },
  {
   "cell_type": "code",
   "execution_count": 39,
   "metadata": {},
   "outputs": [
    {
     "name": "stdout",
     "output_type": "stream",
     "text": [
      "258\n",
      "company_name\n",
      "Amazon        0.0\n",
      "Apple         7.0\n",
      "Facebook      0.0\n",
      "Ford          0.0\n",
      "GM            3.0\n",
      "Google        0.0\n",
      "Microsoft     0.0\n",
      "Netflix      10.0\n",
      "Tesla        14.0\n",
      "Name: Short_term_investments, dtype: float64\n"
     ]
    }
   ],
   "source": [
    "print(abt['Short_term_investments'].notna().sum())\n",
    "print(abt['Short_term_investments'].isnull().groupby(abt['company_name']).sum())"
   ]
  },
  {
   "cell_type": "markdown",
   "metadata": {},
   "source": [
    "After some investigative work, Tesla seems to see its 'short term' investments differently and have put them in property and equipment. \n",
    "This is fine as this gives as insight in how Tesla views its assets on a financial level.   "
   ]
  },
  {
   "attachments": {
    "image.png": {
     "image/png": "[encoded data removed]"
    }
   },
   "cell_type": "markdown",
   "metadata": {},
   "source": [
    "![image.png](attachment:image.png)"
   ]
  },
  {
   "attachments": {
    "image.png": {
     "image/png": "[encoded data removed]"
    }
   },
   "cell_type": "markdown",
   "metadata": {},
   "source": [
    "![image.png](attachment:image.png)\n",
    "'0001564590-20-019931', pg. 19"
   ]
  },
  {
   "cell_type": "code",
   "execution_count": 40,
   "metadata": {},
   "outputs": [
    {
     "data": {
      "text/html": [
       "<div>\n",
       "<style scoped>\n",
       "    .dataframe tbody tr th:only-of-type {\n",
       "        vertical-align: middle;\n",
       "    }\n",
       "\n",
       "    .dataframe tbody tr th {\n",
       "        vertical-align: top;\n",
       "    }\n",
       "\n",
       "    .dataframe thead th {\n",
       "        text-align: right;\n",
       "    }\n",
       "</style>\n",
       "<table border=\"1\" class=\"dataframe\">\n",
       "  <thead>\n",
       "    <tr style=\"text-align: right;\">\n",
       "      <th></th>\n",
       "      <th>company_name</th>\n",
       "      <th>Short_term_investments</th>\n",
       "      <th>Filing/Acc.No.</th>\n",
       "    </tr>\n",
       "  </thead>\n",
       "  <tbody>\n",
       "    <tr>\n",
       "      <td>0</td>\n",
       "      <td>Tesla</td>\n",
       "      <td>NaN</td>\n",
       "      <td>10-Q, 0001564590-20-019931</td>\n",
       "    </tr>\n",
       "    <tr>\n",
       "      <td>1</td>\n",
       "      <td>Tesla</td>\n",
       "      <td>NaN</td>\n",
       "      <td>10-Q, 0001564590-19-038256</td>\n",
       "    </tr>\n",
       "    <tr>\n",
       "      <td>2</td>\n",
       "      <td>Tesla</td>\n",
       "      <td>NaN</td>\n",
       "      <td>10-Q, 0001564590-19-026445</td>\n",
       "    </tr>\n",
       "    <tr>\n",
       "      <td>3</td>\n",
       "      <td>Tesla</td>\n",
       "      <td>NaN</td>\n",
       "      <td>10-Q, 0001564590-19-013462</td>\n",
       "    </tr>\n",
       "    <tr>\n",
       "      <td>4</td>\n",
       "      <td>Tesla</td>\n",
       "      <td>NaN</td>\n",
       "      <td>10-Q, 0001564590-18-026353</td>\n",
       "    </tr>\n",
       "    <tr>\n",
       "      <td>5</td>\n",
       "      <td>Tesla</td>\n",
       "      <td>NaN</td>\n",
       "      <td>10-Q, 0001564590-18-019254</td>\n",
       "    </tr>\n",
       "    <tr>\n",
       "      <td>6</td>\n",
       "      <td>Tesla</td>\n",
       "      <td>NaN</td>\n",
       "      <td>10-Q, 0001564590-18-011086</td>\n",
       "    </tr>\n",
       "    <tr>\n",
       "      <td>7</td>\n",
       "      <td>Tesla</td>\n",
       "      <td>NaN</td>\n",
       "      <td>10-Q, 0001564590-17-021343</td>\n",
       "    </tr>\n",
       "    <tr>\n",
       "      <td>8</td>\n",
       "      <td>Tesla</td>\n",
       "      <td>NaN</td>\n",
       "      <td>10-Q, 0001564590-17-015705</td>\n",
       "    </tr>\n",
       "    <tr>\n",
       "      <td>9</td>\n",
       "      <td>Tesla</td>\n",
       "      <td>NaN</td>\n",
       "      <td>10-Q, 0001564590-17-009968</td>\n",
       "    </tr>\n",
       "    <tr>\n",
       "      <td>10</td>\n",
       "      <td>Tesla</td>\n",
       "      <td>23711000.0</td>\n",
       "      <td>10-Q, 0001564590-16-026820</td>\n",
       "    </tr>\n",
       "    <tr>\n",
       "      <td>11</td>\n",
       "      <td>Tesla</td>\n",
       "      <td>24525000.0</td>\n",
       "      <td>10-Q, 0001564590-16-023024</td>\n",
       "    </tr>\n",
       "    <tr>\n",
       "      <td>12</td>\n",
       "      <td>Tesla</td>\n",
       "      <td>23980000.0</td>\n",
       "      <td>10-Q, 0001564590-16-018886</td>\n",
       "    </tr>\n",
       "    <tr>\n",
       "      <td>13</td>\n",
       "      <td>Tesla</td>\n",
       "      <td>25223000.0</td>\n",
       "      <td>10-Q, 0001564590-15-009741</td>\n",
       "    </tr>\n",
       "    <tr>\n",
       "      <td>14</td>\n",
       "      <td>Tesla</td>\n",
       "      <td>20591000.0</td>\n",
       "      <td>10-Q, 0001564590-15-006666</td>\n",
       "    </tr>\n",
       "    <tr>\n",
       "      <td>15</td>\n",
       "      <td>Tesla</td>\n",
       "      <td>20693000.0</td>\n",
       "      <td>10-Q, 0001564590-15-003789</td>\n",
       "    </tr>\n",
       "    <tr>\n",
       "      <td>16</td>\n",
       "      <td>Tesla</td>\n",
       "      <td>NaN</td>\n",
       "      <td>10-K, 0001564590-20-004475</td>\n",
       "    </tr>\n",
       "    <tr>\n",
       "      <td>17</td>\n",
       "      <td>Tesla</td>\n",
       "      <td>NaN</td>\n",
       "      <td>10-K, 0001564590-19-003165</td>\n",
       "    </tr>\n",
       "    <tr>\n",
       "      <td>18</td>\n",
       "      <td>Tesla</td>\n",
       "      <td>NaN</td>\n",
       "      <td>10-K, 0001564590-18-002956</td>\n",
       "    </tr>\n",
       "    <tr>\n",
       "      <td>19</td>\n",
       "      <td>Tesla</td>\n",
       "      <td>NaN</td>\n",
       "      <td>10-K, 0001564590-17-003118</td>\n",
       "    </tr>\n",
       "    <tr>\n",
       "      <td>20</td>\n",
       "      <td>Tesla</td>\n",
       "      <td>22628000.0</td>\n",
       "      <td>10-K, 0001564590-16-013195</td>\n",
       "    </tr>\n",
       "    <tr>\n",
       "      <td>21</td>\n",
       "      <td>Tesla</td>\n",
       "      <td>17947000.0</td>\n",
       "      <td>10-K, 0001564590-15-001031</td>\n",
       "    </tr>\n",
       "  </tbody>\n",
       "</table>\n",
       "</div>"
      ],
      "text/plain": [
       "   company_name  Short_term_investments              Filing/Acc.No.\n",
       "0         Tesla                     NaN  10-Q, 0001564590-20-019931\n",
       "1         Tesla                     NaN  10-Q, 0001564590-19-038256\n",
       "2         Tesla                     NaN  10-Q, 0001564590-19-026445\n",
       "3         Tesla                     NaN  10-Q, 0001564590-19-013462\n",
       "4         Tesla                     NaN  10-Q, 0001564590-18-026353\n",
       "5         Tesla                     NaN  10-Q, 0001564590-18-019254\n",
       "6         Tesla                     NaN  10-Q, 0001564590-18-011086\n",
       "7         Tesla                     NaN  10-Q, 0001564590-17-021343\n",
       "8         Tesla                     NaN  10-Q, 0001564590-17-015705\n",
       "9         Tesla                     NaN  10-Q, 0001564590-17-009968\n",
       "10        Tesla              23711000.0  10-Q, 0001564590-16-026820\n",
       "11        Tesla              24525000.0  10-Q, 0001564590-16-023024\n",
       "12        Tesla              23980000.0  10-Q, 0001564590-16-018886\n",
       "13        Tesla              25223000.0  10-Q, 0001564590-15-009741\n",
       "14        Tesla              20591000.0  10-Q, 0001564590-15-006666\n",
       "15        Tesla              20693000.0  10-Q, 0001564590-15-003789\n",
       "16        Tesla                     NaN  10-K, 0001564590-20-004475\n",
       "17        Tesla                     NaN  10-K, 0001564590-19-003165\n",
       "18        Tesla                     NaN  10-K, 0001564590-18-002956\n",
       "19        Tesla                     NaN  10-K, 0001564590-17-003118\n",
       "20        Tesla              22628000.0  10-K, 0001564590-16-013195\n",
       "21        Tesla              17947000.0  10-K, 0001564590-15-001031"
      ]
     },
     "execution_count": 40,
     "metadata": {},
     "output_type": "execute_result"
    }
   ],
   "source": [
    "abt[['company_name', 'Short_term_investments', 'Filing/Acc.No.']][abt['company_name']=='Tesla']"
   ]
  },
  {
   "cell_type": "code",
   "execution_count": 41,
   "metadata": {},
   "outputs": [],
   "source": [
    "# Create Indicator Variable \n",
    "abt['Short_term_investments_missing'] = abt['Short_term_investments'].isnull().astype(int)"
   ]
  },
  {
   "cell_type": "code",
   "execution_count": 42,
   "metadata": {},
   "outputs": [],
   "source": [
    "# Fill in the original missing value with 0.\n",
    "abt['Short_term_investments'].fillna(0, inplace=True)"
   ]
  },
  {
   "cell_type": "code",
   "execution_count": 43,
   "metadata": {},
   "outputs": [
    {
     "data": {
      "text/plain": [
       "0"
      ]
     },
     "execution_count": 43,
     "metadata": {},
     "output_type": "execute_result"
    }
   ],
   "source": [
    "# Checking if there are any other missing values in the feature. \n",
    "abt[ 'Short_term_investments' ].isnull().sum()"
   ]
  },
  {
   "cell_type": "markdown",
   "metadata": {},
   "source": [
    "***The above described process is how we reiterated through each column that share semantic similarity in the column name and visually compared if the data 'fit' together cohesively. This painstaking process is essentially how we ended up with the vlaues in the col_name_converter dictionary.***"
   ]
  },
  {
   "cell_type": "markdown",
   "metadata": {},
   "source": [
    "We will iterate over the processes described above to clean the remainder of our dataframe either by:\n",
    "\n",
    "1) Create Indicator Variable to show missingness across a company\n",
    "\n",
    "or\n",
    "\n",
    "2) Merge and combine multiple simialr columns together to form a feature. "
   ]
  },
  {
   "cell_type": "markdown",
   "metadata": {},
   "source": [
    "### Inventory\n",
    "#### Netflix missing"
   ]
  },
  {
   "cell_type": "code",
   "execution_count": 44,
   "metadata": {
    "scrolled": true
   },
   "outputs": [],
   "source": [
    "# Netflix Inventory name is Content Assets.\n",
    "abt['Inventory'] = abt[['Inventory', 'Content Assets']].sum(axis=1, min_count=1)\n",
    "abt.drop(['Content Assets'], axis=1, inplace=True)"
   ]
  },
  {
   "cell_type": "markdown",
   "metadata": {},
   "source": [
    "#### Facebook missing"
   ]
  },
  {
   "cell_type": "code",
   "execution_count": 45,
   "metadata": {},
   "outputs": [
    {
     "data": {
      "text/plain": [
       "0"
      ]
     },
     "execution_count": 45,
     "metadata": {},
     "output_type": "execute_result"
    }
   ],
   "source": [
    "# Facebook does not have Inventory. \n",
    "abt['Inventory_missing'] = abt['Inventory'].isnull().astype(int)\n",
    "abt['Inventory'].fillna(0, inplace=True)\n",
    "abt[ 'Inventory_missing' ].isnull().sum()"
   ]
  },
  {
   "cell_type": "markdown",
   "metadata": {},
   "source": [
    "### Total Non-Current Assets\n",
    "####  Ford missing"
   ]
  },
  {
   "attachments": {
    "image.png": {
     "image/png": "[encoded data removed]"
    }
   },
   "cell_type": "markdown",
   "metadata": {},
   "source": [
    "![image.png](attachment:image.png)\n",
    "'0000037996-20-000041'"
   ]
  },
  {
   "attachments": {
    "image.png": {
     "image/png": "[encoded data removed]"
    }
   },
   "cell_type": "markdown",
   "metadata": {},
   "source": [
    "##### ![image.png](attachment:image.png)\n",
    "'0000037996-16-000107'"
   ]
  },
  {
   "cell_type": "code",
   "execution_count": 46,
   "metadata": {},
   "outputs": [],
   "source": [
    "# Conceptually: Total_Assets - Total current assets = Total Non-Current Assets\n",
    "df = abt['Total_Assets'][abt['company_name']=='Ford'] - abt['Total current assets'][abt['company_name']=='Ford']"
   ]
  },
  {
   "cell_type": "code",
   "execution_count": 47,
   "metadata": {
    "scrolled": false
   },
   "outputs": [
    {
     "name": "stderr",
     "output_type": "stream",
     "text": [
      "C:\\Users\\Matthew\\AppData\\Roaming\\Python\\Python37\\site-packages\\ipykernel_launcher.py:1: SettingWithCopyWarning: \n",
      "A value is trying to be set on a copy of a slice from a DataFrame\n",
      "\n",
      "See the caveats in the documentation: http://pandas.pydata.org/pandas-docs/stable/user_guide/indexing.html#returning-a-view-versus-a-copy\n",
      "  \"\"\"Entry point for launching an IPython kernel.\n"
     ]
    }
   ],
   "source": [
    "abt['Total Non-Current Assets'][abt['company_name']=='Ford'] = df"
   ]
  },
  {
   "cell_type": "markdown",
   "metadata": {},
   "source": [
    "The remaining missing instances should be sparse and low enough for us to make meaningful interpolations on the data. "
   ]
  },
  {
   "cell_type": "code",
   "execution_count": 48,
   "metadata": {
    "scrolled": false
   },
   "outputs": [
    {
     "name": "stdout",
     "output_type": "stream",
     "text": [
      "dirty_col_name list has 53 values\n"
     ]
    }
   ],
   "source": [
    "dirty_col_name = list(abt.columns[abt.isna().sum() > 0])\n",
    "print(f'dirty_col_name list has {len(dirty_col_name)} values')"
   ]
  },
  {
   "cell_type": "code",
   "execution_count": 49,
   "metadata": {
    "scrolled": true
   },
   "outputs": [
    {
     "name": "stdout",
     "output_type": "stream",
     "text": [
      "Length of dirty_col_name_loc: 44 \n",
      "\n",
      "[('Solar bonds issued to related parties', 0.0273972602739726),\n",
      " ('Series A', 0.030821917808219176),\n",
      " ('Series B', 0.030821917808219176),\n",
      " ('MyPower customer notes receivable', 0.04452054794520548),\n",
      " ('Solar energy systems', 0.04794520547945205),\n",
      " ('Total Noncontrolling interests in subsidiaries', 0.04794520547945205),\n",
      " ('Capital surplus', 0.05136986301369863),\n",
      " ('Automotive debt payable within one year', 0.0547945205479452),\n",
      " ('Automotive long term debt', 0.0547945205479452),\n",
      " ('Total Resale value guarantees', 0.06164383561643835),\n",
      " ('Total Convertible Senior Notes', 0.06164383561643835),\n",
      " ('Income taxes receivable', 0.06506849315068493),\n",
      " ('Non marketable investments', 0.06506849315068493),\n",
      " ('Accrued compensation and benefits', 0.06506849315068493),\n",
      " ('Accrued revenue share', 0.06506849315068493),\n",
      " ('Total Restricted cash and marketable securities', 0.0684931506849315),\n",
      " ('Total Restricted Cash', 0.07191780821917808),\n",
      " ('Operating lease vehicles', 0.07534246575342465),\n",
      " ('Accrued Liabilities', 0.07534246575342465),\n",
      " ('Customer deposits', 0.07534246575342465),\n",
      " ('31000000', 0.07534246575342465),\n",
      " ('Commercial paper', 0.07876712328767123),\n",
      " ('Redeemable noncontrolling interest', 0.08561643835616438),\n",
      " ('Vendor non trade receivables', 0.08904109589041095),\n",
      " ('Other non current liabilities', 0.08904109589041095),\n",
      " ('Total Other', 0.09931506849315068),\n",
      " ('Total Other assets', 0.10273972602739725),\n",
      " ('Total Net investment in operating leases', 0.10273972602739725),\n",
      " ('Current content liabilities', 0.10616438356164383),\n",
      " ('Accrued compensation', 0.1095890410958904),\n",
      " ('Total Automotive', 0.11301369863013698),\n",
      " ('Total GM Financial', 0.11301369863013698),\n",
      " ('Non current content liabilities', 0.11986301369863013),\n",
      " ('Total Equity', 0.1267123287671233),\n",
      " ('Postretirement benefits other than pensions', 0.136986301369863),\n",
      " ('Accrued expenses and other current liabilities', 0.1404109589041096),\n",
      " ('Equity in  assets of nonconsolidated affiliates', 0.14726027397260275),\n",
      " ('Pensions', 0.14726027397260275),\n",
      " ('Noncontrolling interests', 0.14726027397260275),\n",
      " ('Total Deferred income taxes', 0.1678082191780822),\n",
      " ('Accrued expenses and other', 0.17123287671232876),\n",
      " ('Accrued expenses', 0.2089041095890411),\n",
      " ('Additional paid in capital', 0.4178082191780822),\n",
      " ('Goodwill', 0.523972602739726)]\n"
     ]
    }
   ],
   "source": [
    "# Columns that need to be dropped. \n",
    "dirty_col_name_loc = []\n",
    "\n",
    "for columns in dirty_col_name:\n",
    "    \n",
    "    ratio = abt[columns].notna().astype(int).mean()\n",
    "    \n",
    "    # Set ( valid : missing ) ratio threshold\n",
    "    if 0.6 > ratio:\n",
    "        \n",
    "        dirty_col_name_loc.append((columns, ratio))\n",
    "\n",
    "print(f'Length of dirty_col_name_loc: {len(dirty_col_name_loc)} \\n' )\n",
    "pprint( sorted(dirty_col_name_loc, key=lambda tup : tup[1] ) )"
   ]
  },
  {
   "cell_type": "markdown",
   "metadata": {},
   "source": [
    "Before we delete the features, let's have a last look at it. \n",
    "From the above output we see **'Goodwill'** has the highest non-null values, but still only half of the values are present for the feature the other half is missing. Unfortuantely we could not fill in the missing values. So we will delete the rest of dirty_col_name_loc. "
   ]
  },
  {
   "cell_type": "code",
   "execution_count": 50,
   "metadata": {
    "scrolled": true
   },
   "outputs": [],
   "source": [
    "# Delete the columns that are too dirty for us to inpute/clean.\n",
    "abt.drop([name for name, ratio in  dirty_col_name_loc], axis=1, inplace=True)"
   ]
  },
  {
   "cell_type": "code",
   "execution_count": 51,
   "metadata": {},
   "outputs": [
    {
     "data": {
      "text/plain": [
       "(292, 25)"
      ]
     },
     "execution_count": 51,
     "metadata": {},
     "output_type": "execute_result"
    }
   ],
   "source": [
    "abt.shape"
   ]
  },
  {
   "cell_type": "markdown",
   "metadata": {},
   "source": [
    "## Set the index, and reset the index to perform time-series manipulations. "
   ]
  },
  {
   "cell_type": "code",
   "execution_count": 52,
   "metadata": {},
   "outputs": [],
   "source": [
    "# Create new Dataframe, first ordered by company, then chronologically. \n",
    "df_ordered_list = []\n",
    "\n",
    "for name in company_name.keys():\n",
    "    df = abt[ abt['company_name'] == name ].copy()\n",
    "    df.set_index(['Year', 'Quarter'], drop=True, inplace=True)\n",
    "    df.sort_index(ascending=True, sort_remaining= True, inplace=True)\n",
    "    df_ordered_list.append(df)"
   ]
  },
  {
   "cell_type": "code",
   "execution_count": 53,
   "metadata": {},
   "outputs": [],
   "source": [
    "df_ordered = pd.concat(df_ordered_list)"
   ]
  },
  {
   "cell_type": "markdown",
   "metadata": {},
   "source": [
    "# Where is the Missing Values?\n"
   ]
  },
  {
   "cell_type": "code",
   "execution_count": 54,
   "metadata": {
    "scrolled": true
   },
   "outputs": [
    {
     "data": {
      "text/html": [
       "<div>\n",
       "<style scoped>\n",
       "    .dataframe tbody tr th:only-of-type {\n",
       "        vertical-align: middle;\n",
       "    }\n",
       "\n",
       "    .dataframe tbody tr th {\n",
       "        vertical-align: top;\n",
       "    }\n",
       "\n",
       "    .dataframe thead th {\n",
       "        text-align: right;\n",
       "    }\n",
       "</style>\n",
       "<table border=\"1\" class=\"dataframe\">\n",
       "  <thead>\n",
       "    <tr style=\"text-align: right;\">\n",
       "      <th></th>\n",
       "      <th>Accounts Receivable</th>\n",
       "      <th>Inventory</th>\n",
       "      <th>Total current assets</th>\n",
       "      <th>Total current liabilities</th>\n",
       "      <th>Total liabilities</th>\n",
       "      <th>Common Stock</th>\n",
       "      <th>Total liabilities and equity</th>\n",
       "      <th>Filing/Acc.No.</th>\n",
       "      <th>company_name</th>\n",
       "      <th>New Deferred Revenue</th>\n",
       "      <th>New Property and Equipment</th>\n",
       "      <th>Total Non-Current Assets</th>\n",
       "      <th>Total_Assets</th>\n",
       "      <th>Non-Current Liabilities</th>\n",
       "      <th>Total Shareholder's Equity</th>\n",
       "      <th>Accounts Payables</th>\n",
       "      <th>Retained Earning</th>\n",
       "      <th>OCI</th>\n",
       "      <th>Accounts_Receivable_missing</th>\n",
       "      <th>Common_Stock_missing</th>\n",
       "      <th>Short_term_investments</th>\n",
       "      <th>Short_term_investments_missing</th>\n",
       "      <th>Inventory_missing</th>\n",
       "    </tr>\n",
       "    <tr>\n",
       "      <th>company_name</th>\n",
       "      <th></th>\n",
       "      <th></th>\n",
       "      <th></th>\n",
       "      <th></th>\n",
       "      <th></th>\n",
       "      <th></th>\n",
       "      <th></th>\n",
       "      <th></th>\n",
       "      <th></th>\n",
       "      <th></th>\n",
       "      <th></th>\n",
       "      <th></th>\n",
       "      <th></th>\n",
       "      <th></th>\n",
       "      <th></th>\n",
       "      <th></th>\n",
       "      <th></th>\n",
       "      <th></th>\n",
       "      <th></th>\n",
       "      <th></th>\n",
       "      <th></th>\n",
       "      <th></th>\n",
       "      <th></th>\n",
       "    </tr>\n",
       "  </thead>\n",
       "  <tbody>\n",
       "    <tr>\n",
       "      <td>Amazon</td>\n",
       "      <td>0.0</td>\n",
       "      <td>0.0</td>\n",
       "      <td>0.0</td>\n",
       "      <td>0.0</td>\n",
       "      <td>0.0</td>\n",
       "      <td>0.0</td>\n",
       "      <td>0.0</td>\n",
       "      <td>0.0</td>\n",
       "      <td>0.0</td>\n",
       "      <td>0.0</td>\n",
       "      <td>0.0</td>\n",
       "      <td>0.0</td>\n",
       "      <td>0.0</td>\n",
       "      <td>0.0</td>\n",
       "      <td>0.0</td>\n",
       "      <td>0.0</td>\n",
       "      <td>0.0</td>\n",
       "      <td>0.0</td>\n",
       "      <td>0.0</td>\n",
       "      <td>0.0</td>\n",
       "      <td>0.0</td>\n",
       "      <td>0.0</td>\n",
       "      <td>0.0</td>\n",
       "    </tr>\n",
       "    <tr>\n",
       "      <td>Apple</td>\n",
       "      <td>0.0</td>\n",
       "      <td>0.0</td>\n",
       "      <td>0.0</td>\n",
       "      <td>0.0</td>\n",
       "      <td>0.0</td>\n",
       "      <td>0.0</td>\n",
       "      <td>0.0</td>\n",
       "      <td>0.0</td>\n",
       "      <td>0.0</td>\n",
       "      <td>6.0</td>\n",
       "      <td>0.0</td>\n",
       "      <td>8.0</td>\n",
       "      <td>0.0</td>\n",
       "      <td>7.0</td>\n",
       "      <td>0.0</td>\n",
       "      <td>0.0</td>\n",
       "      <td>0.0</td>\n",
       "      <td>3.0</td>\n",
       "      <td>0.0</td>\n",
       "      <td>0.0</td>\n",
       "      <td>0.0</td>\n",
       "      <td>0.0</td>\n",
       "      <td>0.0</td>\n",
       "    </tr>\n",
       "    <tr>\n",
       "      <td>Facebook</td>\n",
       "      <td>0.0</td>\n",
       "      <td>0.0</td>\n",
       "      <td>0.0</td>\n",
       "      <td>0.0</td>\n",
       "      <td>0.0</td>\n",
       "      <td>0.0</td>\n",
       "      <td>0.0</td>\n",
       "      <td>0.0</td>\n",
       "      <td>0.0</td>\n",
       "      <td>0.0</td>\n",
       "      <td>0.0</td>\n",
       "      <td>0.0</td>\n",
       "      <td>0.0</td>\n",
       "      <td>0.0</td>\n",
       "      <td>0.0</td>\n",
       "      <td>0.0</td>\n",
       "      <td>0.0</td>\n",
       "      <td>0.0</td>\n",
       "      <td>0.0</td>\n",
       "      <td>0.0</td>\n",
       "      <td>0.0</td>\n",
       "      <td>0.0</td>\n",
       "      <td>0.0</td>\n",
       "    </tr>\n",
       "    <tr>\n",
       "      <td>Ford</td>\n",
       "      <td>0.0</td>\n",
       "      <td>0.0</td>\n",
       "      <td>14.0</td>\n",
       "      <td>14.0</td>\n",
       "      <td>0.0</td>\n",
       "      <td>0.0</td>\n",
       "      <td>0.0</td>\n",
       "      <td>0.0</td>\n",
       "      <td>0.0</td>\n",
       "      <td>4.0</td>\n",
       "      <td>0.0</td>\n",
       "      <td>14.0</td>\n",
       "      <td>0.0</td>\n",
       "      <td>12.0</td>\n",
       "      <td>0.0</td>\n",
       "      <td>0.0</td>\n",
       "      <td>0.0</td>\n",
       "      <td>0.0</td>\n",
       "      <td>0.0</td>\n",
       "      <td>0.0</td>\n",
       "      <td>0.0</td>\n",
       "      <td>0.0</td>\n",
       "      <td>0.0</td>\n",
       "    </tr>\n",
       "    <tr>\n",
       "      <td>GM</td>\n",
       "      <td>0.0</td>\n",
       "      <td>0.0</td>\n",
       "      <td>0.0</td>\n",
       "      <td>0.0</td>\n",
       "      <td>0.0</td>\n",
       "      <td>0.0</td>\n",
       "      <td>0.0</td>\n",
       "      <td>0.0</td>\n",
       "      <td>0.0</td>\n",
       "      <td>0.0</td>\n",
       "      <td>0.0</td>\n",
       "      <td>0.0</td>\n",
       "      <td>0.0</td>\n",
       "      <td>0.0</td>\n",
       "      <td>0.0</td>\n",
       "      <td>0.0</td>\n",
       "      <td>5.0</td>\n",
       "      <td>0.0</td>\n",
       "      <td>0.0</td>\n",
       "      <td>0.0</td>\n",
       "      <td>0.0</td>\n",
       "      <td>0.0</td>\n",
       "      <td>0.0</td>\n",
       "    </tr>\n",
       "    <tr>\n",
       "      <td>Google</td>\n",
       "      <td>0.0</td>\n",
       "      <td>0.0</td>\n",
       "      <td>0.0</td>\n",
       "      <td>0.0</td>\n",
       "      <td>2.0</td>\n",
       "      <td>0.0</td>\n",
       "      <td>0.0</td>\n",
       "      <td>0.0</td>\n",
       "      <td>0.0</td>\n",
       "      <td>0.0</td>\n",
       "      <td>0.0</td>\n",
       "      <td>0.0</td>\n",
       "      <td>0.0</td>\n",
       "      <td>0.0</td>\n",
       "      <td>0.0</td>\n",
       "      <td>0.0</td>\n",
       "      <td>0.0</td>\n",
       "      <td>0.0</td>\n",
       "      <td>0.0</td>\n",
       "      <td>0.0</td>\n",
       "      <td>0.0</td>\n",
       "      <td>0.0</td>\n",
       "      <td>0.0</td>\n",
       "    </tr>\n",
       "    <tr>\n",
       "      <td>Microsoft</td>\n",
       "      <td>0.0</td>\n",
       "      <td>0.0</td>\n",
       "      <td>0.0</td>\n",
       "      <td>0.0</td>\n",
       "      <td>0.0</td>\n",
       "      <td>0.0</td>\n",
       "      <td>0.0</td>\n",
       "      <td>0.0</td>\n",
       "      <td>0.0</td>\n",
       "      <td>0.0</td>\n",
       "      <td>0.0</td>\n",
       "      <td>0.0</td>\n",
       "      <td>0.0</td>\n",
       "      <td>0.0</td>\n",
       "      <td>0.0</td>\n",
       "      <td>0.0</td>\n",
       "      <td>0.0</td>\n",
       "      <td>1.0</td>\n",
       "      <td>0.0</td>\n",
       "      <td>0.0</td>\n",
       "      <td>0.0</td>\n",
       "      <td>0.0</td>\n",
       "      <td>0.0</td>\n",
       "    </tr>\n",
       "    <tr>\n",
       "      <td>Netflix</td>\n",
       "      <td>0.0</td>\n",
       "      <td>0.0</td>\n",
       "      <td>0.0</td>\n",
       "      <td>0.0</td>\n",
       "      <td>0.0</td>\n",
       "      <td>0.0</td>\n",
       "      <td>0.0</td>\n",
       "      <td>0.0</td>\n",
       "      <td>0.0</td>\n",
       "      <td>0.0</td>\n",
       "      <td>0.0</td>\n",
       "      <td>5.0</td>\n",
       "      <td>0.0</td>\n",
       "      <td>0.0</td>\n",
       "      <td>0.0</td>\n",
       "      <td>1.0</td>\n",
       "      <td>0.0</td>\n",
       "      <td>4.0</td>\n",
       "      <td>0.0</td>\n",
       "      <td>0.0</td>\n",
       "      <td>0.0</td>\n",
       "      <td>0.0</td>\n",
       "      <td>0.0</td>\n",
       "    </tr>\n",
       "    <tr>\n",
       "      <td>Tesla</td>\n",
       "      <td>0.0</td>\n",
       "      <td>0.0</td>\n",
       "      <td>0.0</td>\n",
       "      <td>0.0</td>\n",
       "      <td>0.0</td>\n",
       "      <td>0.0</td>\n",
       "      <td>0.0</td>\n",
       "      <td>0.0</td>\n",
       "      <td>0.0</td>\n",
       "      <td>0.0</td>\n",
       "      <td>0.0</td>\n",
       "      <td>0.0</td>\n",
       "      <td>0.0</td>\n",
       "      <td>10.0</td>\n",
       "      <td>0.0</td>\n",
       "      <td>0.0</td>\n",
       "      <td>0.0</td>\n",
       "      <td>10.0</td>\n",
       "      <td>0.0</td>\n",
       "      <td>0.0</td>\n",
       "      <td>0.0</td>\n",
       "      <td>0.0</td>\n",
       "      <td>0.0</td>\n",
       "    </tr>\n",
       "  </tbody>\n",
       "</table>\n",
       "</div>"
      ],
      "text/plain": [
       "              Accounts Receivable  Inventory  Total current assets  \\\n",
       "company_name                                                         \n",
       "Amazon                        0.0        0.0                   0.0   \n",
       "Apple                         0.0        0.0                   0.0   \n",
       "Facebook                      0.0        0.0                   0.0   \n",
       "Ford                          0.0        0.0                  14.0   \n",
       "GM                            0.0        0.0                   0.0   \n",
       "Google                        0.0        0.0                   0.0   \n",
       "Microsoft                     0.0        0.0                   0.0   \n",
       "Netflix                       0.0        0.0                   0.0   \n",
       "Tesla                         0.0        0.0                   0.0   \n",
       "\n",
       "              Total current liabilities  Total liabilities  Common Stock  \\\n",
       "company_name                                                               \n",
       "Amazon                              0.0                0.0           0.0   \n",
       "Apple                               0.0                0.0           0.0   \n",
       "Facebook                            0.0                0.0           0.0   \n",
       "Ford                               14.0                0.0           0.0   \n",
       "GM                                  0.0                0.0           0.0   \n",
       "Google                              0.0                2.0           0.0   \n",
       "Microsoft                           0.0                0.0           0.0   \n",
       "Netflix                             0.0                0.0           0.0   \n",
       "Tesla                               0.0                0.0           0.0   \n",
       "\n",
       "              Total liabilities and equity  Filing/Acc.No.  company_name  \\\n",
       "company_name                                                               \n",
       "Amazon                                 0.0             0.0           0.0   \n",
       "Apple                                  0.0             0.0           0.0   \n",
       "Facebook                               0.0             0.0           0.0   \n",
       "Ford                                   0.0             0.0           0.0   \n",
       "GM                                     0.0             0.0           0.0   \n",
       "Google                                 0.0             0.0           0.0   \n",
       "Microsoft                              0.0             0.0           0.0   \n",
       "Netflix                                0.0             0.0           0.0   \n",
       "Tesla                                  0.0             0.0           0.0   \n",
       "\n",
       "              New Deferred Revenue  New Property and Equipment  \\\n",
       "company_name                                                     \n",
       "Amazon                         0.0                         0.0   \n",
       "Apple                          6.0                         0.0   \n",
       "Facebook                       0.0                         0.0   \n",
       "Ford                           4.0                         0.0   \n",
       "GM                             0.0                         0.0   \n",
       "Google                         0.0                         0.0   \n",
       "Microsoft                      0.0                         0.0   \n",
       "Netflix                        0.0                         0.0   \n",
       "Tesla                          0.0                         0.0   \n",
       "\n",
       "              Total Non-Current Assets  Total_Assets  Non-Current Liabilities  \\\n",
       "company_name                                                                    \n",
       "Amazon                             0.0           0.0                      0.0   \n",
       "Apple                              8.0           0.0                      7.0   \n",
       "Facebook                           0.0           0.0                      0.0   \n",
       "Ford                              14.0           0.0                     12.0   \n",
       "GM                                 0.0           0.0                      0.0   \n",
       "Google                             0.0           0.0                      0.0   \n",
       "Microsoft                          0.0           0.0                      0.0   \n",
       "Netflix                            5.0           0.0                      0.0   \n",
       "Tesla                              0.0           0.0                     10.0   \n",
       "\n",
       "              Total Shareholder's Equity  Accounts Payables  Retained Earning  \\\n",
       "company_name                                                                    \n",
       "Amazon                               0.0                0.0               0.0   \n",
       "Apple                                0.0                0.0               0.0   \n",
       "Facebook                             0.0                0.0               0.0   \n",
       "Ford                                 0.0                0.0               0.0   \n",
       "GM                                   0.0                0.0               5.0   \n",
       "Google                               0.0                0.0               0.0   \n",
       "Microsoft                            0.0                0.0               0.0   \n",
       "Netflix                              0.0                1.0               0.0   \n",
       "Tesla                                0.0                0.0               0.0   \n",
       "\n",
       "               OCI  Accounts_Receivable_missing  Common_Stock_missing  \\\n",
       "company_name                                                            \n",
       "Amazon         0.0                          0.0                   0.0   \n",
       "Apple          3.0                          0.0                   0.0   \n",
       "Facebook       0.0                          0.0                   0.0   \n",
       "Ford           0.0                          0.0                   0.0   \n",
       "GM             0.0                          0.0                   0.0   \n",
       "Google         0.0                          0.0                   0.0   \n",
       "Microsoft      1.0                          0.0                   0.0   \n",
       "Netflix        4.0                          0.0                   0.0   \n",
       "Tesla         10.0                          0.0                   0.0   \n",
       "\n",
       "              Short_term_investments  Short_term_investments_missing  \\\n",
       "company_name                                                           \n",
       "Amazon                           0.0                             0.0   \n",
       "Apple                            0.0                             0.0   \n",
       "Facebook                         0.0                             0.0   \n",
       "Ford                             0.0                             0.0   \n",
       "GM                               0.0                             0.0   \n",
       "Google                           0.0                             0.0   \n",
       "Microsoft                        0.0                             0.0   \n",
       "Netflix                          0.0                             0.0   \n",
       "Tesla                            0.0                             0.0   \n",
       "\n",
       "              Inventory_missing  \n",
       "company_name                     \n",
       "Amazon                      0.0  \n",
       "Apple                       0.0  \n",
       "Facebook                    0.0  \n",
       "Ford                        0.0  \n",
       "GM                          0.0  \n",
       "Google                      0.0  \n",
       "Microsoft                   0.0  \n",
       "Netflix                     0.0  \n",
       "Tesla                       0.0  "
      ]
     },
     "execution_count": 54,
     "metadata": {},
     "output_type": "execute_result"
    }
   ],
   "source": [
    "# Check to see the spread of missing values. \n",
    "null_mask = df_ordered.isna().groupby(df_ordered['company_name'], sort=True).sum()\n",
    "null_mask"
   ]
  },
  {
   "cell_type": "code",
   "execution_count": 55,
   "metadata": {},
   "outputs": [],
   "source": [
    "# Create a mask to filter out only the missing values. \n",
    "sum_of_nulls = null_mask[ null_mask>0 ].dropna(axis=1, how='all').dropna(axis=0, how='all').fillna(False)"
   ]
  },
  {
   "cell_type": "code",
   "execution_count": 56,
   "metadata": {},
   "outputs": [
    {
     "name": "stdout",
     "output_type": "stream",
     "text": [
      "(7, 9)\n"
     ]
    },
    {
     "data": {
      "text/html": [
       "<div>\n",
       "<style scoped>\n",
       "    .dataframe tbody tr th:only-of-type {\n",
       "        vertical-align: middle;\n",
       "    }\n",
       "\n",
       "    .dataframe tbody tr th {\n",
       "        vertical-align: top;\n",
       "    }\n",
       "\n",
       "    .dataframe thead th {\n",
       "        text-align: right;\n",
       "    }\n",
       "</style>\n",
       "<table border=\"1\" class=\"dataframe\">\n",
       "  <thead>\n",
       "    <tr style=\"text-align: right;\">\n",
       "      <th></th>\n",
       "      <th>Total current assets</th>\n",
       "      <th>Total current liabilities</th>\n",
       "      <th>Total liabilities</th>\n",
       "      <th>New Deferred Revenue</th>\n",
       "      <th>Total Non-Current Assets</th>\n",
       "      <th>Non-Current Liabilities</th>\n",
       "      <th>Accounts Payables</th>\n",
       "      <th>Retained Earning</th>\n",
       "      <th>OCI</th>\n",
       "    </tr>\n",
       "    <tr>\n",
       "      <th>company_name</th>\n",
       "      <th></th>\n",
       "      <th></th>\n",
       "      <th></th>\n",
       "      <th></th>\n",
       "      <th></th>\n",
       "      <th></th>\n",
       "      <th></th>\n",
       "      <th></th>\n",
       "      <th></th>\n",
       "    </tr>\n",
       "  </thead>\n",
       "  <tbody>\n",
       "    <tr>\n",
       "      <td>Apple</td>\n",
       "      <td>False</td>\n",
       "      <td>False</td>\n",
       "      <td>False</td>\n",
       "      <td>6</td>\n",
       "      <td>8</td>\n",
       "      <td>7</td>\n",
       "      <td>False</td>\n",
       "      <td>False</td>\n",
       "      <td>3</td>\n",
       "    </tr>\n",
       "    <tr>\n",
       "      <td>Ford</td>\n",
       "      <td>14</td>\n",
       "      <td>14</td>\n",
       "      <td>False</td>\n",
       "      <td>4</td>\n",
       "      <td>14</td>\n",
       "      <td>12</td>\n",
       "      <td>False</td>\n",
       "      <td>False</td>\n",
       "      <td>False</td>\n",
       "    </tr>\n",
       "    <tr>\n",
       "      <td>GM</td>\n",
       "      <td>False</td>\n",
       "      <td>False</td>\n",
       "      <td>False</td>\n",
       "      <td>False</td>\n",
       "      <td>False</td>\n",
       "      <td>False</td>\n",
       "      <td>False</td>\n",
       "      <td>5</td>\n",
       "      <td>False</td>\n",
       "    </tr>\n",
       "    <tr>\n",
       "      <td>Google</td>\n",
       "      <td>False</td>\n",
       "      <td>False</td>\n",
       "      <td>2</td>\n",
       "      <td>False</td>\n",
       "      <td>False</td>\n",
       "      <td>False</td>\n",
       "      <td>False</td>\n",
       "      <td>False</td>\n",
       "      <td>False</td>\n",
       "    </tr>\n",
       "    <tr>\n",
       "      <td>Microsoft</td>\n",
       "      <td>False</td>\n",
       "      <td>False</td>\n",
       "      <td>False</td>\n",
       "      <td>False</td>\n",
       "      <td>False</td>\n",
       "      <td>False</td>\n",
       "      <td>False</td>\n",
       "      <td>False</td>\n",
       "      <td>1</td>\n",
       "    </tr>\n",
       "    <tr>\n",
       "      <td>Netflix</td>\n",
       "      <td>False</td>\n",
       "      <td>False</td>\n",
       "      <td>False</td>\n",
       "      <td>False</td>\n",
       "      <td>5</td>\n",
       "      <td>False</td>\n",
       "      <td>1</td>\n",
       "      <td>False</td>\n",
       "      <td>4</td>\n",
       "    </tr>\n",
       "    <tr>\n",
       "      <td>Tesla</td>\n",
       "      <td>False</td>\n",
       "      <td>False</td>\n",
       "      <td>False</td>\n",
       "      <td>False</td>\n",
       "      <td>False</td>\n",
       "      <td>10</td>\n",
       "      <td>False</td>\n",
       "      <td>False</td>\n",
       "      <td>10</td>\n",
       "    </tr>\n",
       "  </tbody>\n",
       "</table>\n",
       "</div>"
      ],
      "text/plain": [
       "             Total current assets Total current liabilities Total liabilities  \\\n",
       "company_name                                                                    \n",
       "Apple                       False                     False             False   \n",
       "Ford                           14                        14             False   \n",
       "GM                          False                     False             False   \n",
       "Google                      False                     False                 2   \n",
       "Microsoft                   False                     False             False   \n",
       "Netflix                     False                     False             False   \n",
       "Tesla                       False                     False             False   \n",
       "\n",
       "             New Deferred Revenue Total Non-Current Assets  \\\n",
       "company_name                                                 \n",
       "Apple                           6                        8   \n",
       "Ford                            4                       14   \n",
       "GM                          False                    False   \n",
       "Google                      False                    False   \n",
       "Microsoft                   False                    False   \n",
       "Netflix                     False                        5   \n",
       "Tesla                       False                    False   \n",
       "\n",
       "             Non-Current Liabilities Accounts Payables Retained Earning    OCI  \n",
       "company_name                                                                    \n",
       "Apple                              7             False            False      3  \n",
       "Ford                              12             False            False  False  \n",
       "GM                             False             False                5  False  \n",
       "Google                         False             False            False  False  \n",
       "Microsoft                      False             False            False      1  \n",
       "Netflix                        False                 1            False      4  \n",
       "Tesla                             10             False            False     10  "
      ]
     },
     "execution_count": 56,
     "metadata": {},
     "output_type": "execute_result"
    }
   ],
   "source": [
    "# Show shape and concise view of filtered result. \n",
    "print(sum_of_nulls.shape)\n",
    "sum_of_nulls"
   ]
  },
  {
   "cell_type": "code",
   "execution_count": 57,
   "metadata": {},
   "outputs": [
    {
     "name": "stdout",
     "output_type": "stream",
     "text": [
      "['Total current assets', 'Total current liabilities', 'Total liabilities', 'New Deferred Revenue', 'Total Non-Current Assets', 'Non-Current Liabilities', 'Accounts Payables', 'Retained Earning', 'OCI'] \n",
      " ['Apple', 'Ford', 'GM', 'Google', 'Microsoft', 'Netflix', 'Tesla']\n"
     ]
    }
   ],
   "source": [
    "columns =  list(sum_of_nulls.columns)\n",
    "index = list(sum_of_nulls.index)\n",
    "print(columns, '\\n', index)"
   ]
  },
  {
   "cell_type": "code",
   "execution_count": 58,
   "metadata": {},
   "outputs": [
    {
     "data": {
      "text/plain": [
       "17"
      ]
     },
     "execution_count": 58,
     "metadata": {},
     "output_type": "execute_result"
    }
   ],
   "source": [
    "null_list = [(attr, name) for name  in index for attr in columns if sum_of_nulls[attr][sum_of_nulls.index==name].any()]\n",
    "len(null_list)"
   ]
  },
  {
   "cell_type": "code",
   "execution_count": 141,
   "metadata": {
    "scrolled": true
   },
   "outputs": [
    {
     "name": "stdout",
     "output_type": "stream",
     "text": [
      "Apple New Deferred Revenue\n",
      "This requires Extrapolation\n"
     ]
    },
    {
     "data": {
      "image/png": "[encoded data removed]",
      "text/plain": [
       "<Figure size 432x288 with 1 Axes>"
      ]
     },
     "metadata": {
      "needs_background": "light"
     },
     "output_type": "display_data"
    },
    {
     "name": "stdout",
     "output_type": "stream",
     "text": [
      "----------------------------------------------------------------------\n",
      "Apple Total Non-Current Assets\n",
      "This requires Extrapolation\n"
     ]
    },
    {
     "data": {
      "image/png": "[encoded data removed]",
      "text/plain": [
       "<Figure size 432x288 with 1 Axes>"
      ]
     },
     "metadata": {
      "needs_background": "light"
     },
     "output_type": "display_data"
    },
    {
     "name": "stdout",
     "output_type": "stream",
     "text": [
      "----------------------------------------------------------------------\n",
      "Apple Non-Current Liabilities\n",
      "This requires Extrapolation\n"
     ]
    },
    {
     "data": {
      "image/png": "[encoded data removed]",
      "text/plain": [
       "<Figure size 432x288 with 1 Axes>"
      ]
     },
     "metadata": {
      "needs_background": "light"
     },
     "output_type": "display_data"
    },
    {
     "name": "stdout",
     "output_type": "stream",
     "text": [
      "----------------------------------------------------------------------\n",
      "Apple OCI\n",
      "This requires Interpolation\n"
     ]
    },
    {
     "data": {
      "image/png": "[encoded data removed]",
      "text/plain": [
       "<Figure size 432x288 with 1 Axes>"
      ]
     },
     "metadata": {
      "needs_background": "light"
     },
     "output_type": "display_data"
    },
    {
     "name": "stdout",
     "output_type": "stream",
     "text": [
      "----------------------------------------------------------------------\n",
      "Ford Total current assets\n",
      "This requires Extrapolation\n"
     ]
    },
    {
     "data": {
      "image/png": "[encoded data removed]",
      "text/plain": [
       "<Figure size 432x288 with 1 Axes>"
      ]
     },
     "metadata": {
      "needs_background": "light"
     },
     "output_type": "display_data"
    },
    {
     "name": "stdout",
     "output_type": "stream",
     "text": [
      "----------------------------------------------------------------------\n",
      "Ford Total current liabilities\n",
      "This requires Extrapolation\n"
     ]
    },
    {
     "data": {
      "image/png": "[encoded data removed]",
      "text/plain": [
       "<Figure size 432x288 with 1 Axes>"
      ]
     },
     "metadata": {
      "needs_background": "light"
     },
     "output_type": "display_data"
    },
    {
     "name": "stdout",
     "output_type": "stream",
     "text": [
      "----------------------------------------------------------------------\n",
      "Ford New Deferred Revenue\n",
      "This requires Extrapolation\n"
     ]
    },
    {
     "data": {
      "image/png": "[encoded data removed]",
      "text/plain": [
       "<Figure size 432x288 with 1 Axes>"
      ]
     },
     "metadata": {
      "needs_background": "light"
     },
     "output_type": "display_data"
    },
    {
     "name": "stdout",
     "output_type": "stream",
     "text": [
      "----------------------------------------------------------------------\n",
      "Ford Total Non-Current Assets\n",
      "This requires Extrapolation\n"
     ]
    },
    {
     "data": {
      "image/png": "[encoded data removed]",
      "text/plain": [
       "<Figure size 432x288 with 1 Axes>"
      ]
     },
     "metadata": {
      "needs_background": "light"
     },
     "output_type": "display_data"
    },
    {
     "name": "stdout",
     "output_type": "stream",
     "text": [
      "----------------------------------------------------------------------\n",
      "Ford Non-Current Liabilities\n",
      "This requires Extrapolation\n"
     ]
    },
    {
     "data": {
      "image/png": "[encoded data removed]",
      "text/plain": [
       "<Figure size 432x288 with 1 Axes>"
      ]
     },
     "metadata": {
      "needs_background": "light"
     },
     "output_type": "display_data"
    },
    {
     "name": "stdout",
     "output_type": "stream",
     "text": [
      "----------------------------------------------------------------------\n",
      "GM Retained Earning\n",
      "This requires Extrapolation\n"
     ]
    },
    {
     "data": {
      "image/png": "[encoded data removed]",
      "text/plain": [
       "<Figure size 432x288 with 1 Axes>"
      ]
     },
     "metadata": {
      "needs_background": "light"
     },
     "output_type": "display_data"
    },
    {
     "name": "stdout",
     "output_type": "stream",
     "text": [
      "----------------------------------------------------------------------\n",
      "Google Total liabilities\n",
      "This requires Extrapolation\n"
     ]
    },
    {
     "data": {
      "image/png": "[encoded data removed]",
      "text/plain": [
       "<Figure size 432x288 with 1 Axes>"
      ]
     },
     "metadata": {
      "needs_background": "light"
     },
     "output_type": "display_data"
    },
    {
     "name": "stdout",
     "output_type": "stream",
     "text": [
      "----------------------------------------------------------------------\n",
      "Microsoft OCI\n",
      "This requires Extrapolation\n"
     ]
    },
    {
     "data": {
      "image/png": "[encoded data removed]",
      "text/plain": [
       "<Figure size 432x288 with 1 Axes>"
      ]
     },
     "metadata": {
      "needs_background": "light"
     },
     "output_type": "display_data"
    },
    {
     "name": "stdout",
     "output_type": "stream",
     "text": [
      "----------------------------------------------------------------------\n",
      "Netflix Total Non-Current Assets\n",
      "This requires Extrapolation\n"
     ]
    },
    {
     "data": {
      "image/png": "[encoded data removed]",
      "text/plain": [
       "<Figure size 432x288 with 1 Axes>"
      ]
     },
     "metadata": {
      "needs_background": "light"
     },
     "output_type": "display_data"
    },
    {
     "name": "stdout",
     "output_type": "stream",
     "text": [
      "----------------------------------------------------------------------\n",
      "Netflix Accounts Payables\n",
      "This requires Interpolation\n"
     ]
    },
    {
     "data": {
      "image/png": "[encoded data removed]",
      "text/plain": [
       "<Figure size 432x288 with 1 Axes>"
      ]
     },
     "metadata": {
      "needs_background": "light"
     },
     "output_type": "display_data"
    },
    {
     "name": "stdout",
     "output_type": "stream",
     "text": [
      "----------------------------------------------------------------------\n",
      "Netflix OCI\n",
      "This requires Extrapolation\n"
     ]
    },
    {
     "data": {
      "image/png": "[encoded data removed]",
      "text/plain": [
       "<Figure size 432x288 with 1 Axes>"
      ]
     },
     "metadata": {
      "needs_background": "light"
     },
     "output_type": "display_data"
    },
    {
     "name": "stdout",
     "output_type": "stream",
     "text": [
      "----------------------------------------------------------------------\n",
      "Tesla Non-Current Liabilities\n",
      "This requires Extrapolation\n"
     ]
    },
    {
     "data": {
      "image/png": "[encoded data removed]",
      "text/plain": [
       "<Figure size 432x288 with 1 Axes>"
      ]
     },
     "metadata": {
      "needs_background": "light"
     },
     "output_type": "display_data"
    },
    {
     "name": "stdout",
     "output_type": "stream",
     "text": [
      "----------------------------------------------------------------------\n",
      "Tesla OCI\n",
      "This requires Extrapolation\n"
     ]
    },
    {
     "data": {
      "image/png": "[encoded data removed]",
      "text/plain": [
       "<Figure size 432x288 with 1 Axes>"
      ]
     },
     "metadata": {
      "needs_background": "light"
     },
     "output_type": "display_data"
    },
    {
     "name": "stdout",
     "output_type": "stream",
     "text": [
      "----------------------------------------------------------------------\n"
     ]
    }
   ],
   "source": [
    "# Detect missing values are in the middle or at the sides, extrapolation or interpolation \n",
    "interpolate = []\n",
    "extrapolate = []\n",
    "\n",
    "for attr, name in null_list:\n",
    "    plt.figure()\n",
    "    print(name, attr)\n",
    "    \n",
    "    whole_column_index = df_ordered[attr][(df_ordered['company_name']==name)]\n",
    "    missing = df_ordered[attr][(df_ordered['company_name']==name) & (df_ordered[attr].isna())]\n",
    "    \n",
    "    num_of_missing = len(missing)\n",
    "#     print('Number of missing values: ', num_of_missing)\n",
    "    \n",
    "    missing_year_list = list(missing.index)\n",
    "#     print('This is the missing year distribution: ', missing_year_list)\n",
    "\n",
    "    whole_year_min = whole_column_index[:1].index.values[0]\n",
    "    whole_year_max = whole_column_index[-1:].index.values[0]\n",
    "    \n",
    "    if (whole_year_min in missing_year_list) or (whole_year_max in missing_year_list):\n",
    "        print('This requires Extrapolation')\n",
    "        extrapolate.append( (name, attr) )\n",
    "        \n",
    "    elif (whole_year_min not in missing_year_list) or (whole_year_max not in missing_year_list):\n",
    "        print('This requires Interpolation')\n",
    "        interpolate.append( (name, attr) )\n",
    "        \n",
    "    df_ordered[attr][df_ordered['company_name']==name].plot(legend=True)\n",
    "    plt.show()\n",
    "    print('-'*70)\n",
    "    "
   ]
  },
  {
   "cell_type": "code",
   "execution_count": 138,
   "metadata": {},
   "outputs": [
    {
     "data": {
      "text/plain": [
       "[('Apple', 'OCI'), ('Netflix', 'Accounts Payables')]"
      ]
     },
     "execution_count": 138,
     "metadata": {},
     "output_type": "execute_result"
    }
   ],
   "source": [
    "interpolate"
   ]
  },
  {
   "cell_type": "code",
   "execution_count": 139,
   "metadata": {},
   "outputs": [
    {
     "data": {
      "text/plain": [
       "[('Apple', 'New Deferred Revenue'),\n",
       " ('Apple', 'Total Non-Current Assets'),\n",
       " ('Apple', 'Non-Current Liabilities'),\n",
       " ('Ford', 'Total current assets'),\n",
       " ('Ford', 'Total current liabilities'),\n",
       " ('Ford', 'New Deferred Revenue'),\n",
       " ('Ford', 'Total Non-Current Assets'),\n",
       " ('Ford', 'Non-Current Liabilities'),\n",
       " ('GM', 'Retained Earning'),\n",
       " ('Google', 'Total liabilities'),\n",
       " ('Microsoft', 'OCI'),\n",
       " ('Netflix', 'Total Non-Current Assets'),\n",
       " ('Netflix', 'OCI'),\n",
       " ('Tesla', 'Non-Current Liabilities'),\n",
       " ('Tesla', 'OCI')]"
      ]
     },
     "execution_count": 139,
     "metadata": {},
     "output_type": "execute_result"
    }
   ],
   "source": [
    "extrapolate"
   ]
  },
  {
   "cell_type": "markdown",
   "metadata": {},
   "source": [
    "From the above we can clearly see which company and features need to be interpolated and which need to be extrapolated. "
   ]
  },
  {
   "cell_type": "code",
   "execution_count": null,
   "metadata": {},
   "outputs": [],
   "source": [
    "# "
   ]
  },
  {
   "cell_type": "markdown",
   "metadata": {},
   "source": [
    "## The following needs Interpolation"
   ]
  },
  {
   "cell_type": "code",
   "execution_count": 69,
   "metadata": {},
   "outputs": [
    {
     "name": "stdout",
     "output_type": "stream",
     "text": [
      "[2014, 2016, 2017, 2018]\n"
     ]
    }
   ],
   "source": [
    "# Both\n",
    "print(list(df_ordered['OCI'][(df_ordered['company_name']=='Tesla') & (df_ordered['OCI'].isna())].unstack().index.values))"
   ]
  },
  {
   "cell_type": "code",
   "execution_count": 1,
   "metadata": {},
   "outputs": [
    {
     "ename": "NameError",
     "evalue": "name 'df_ordered' is not defined",
     "output_type": "error",
     "traceback": [
      "\u001b[1;31m---------------------------------------------------------------------------\u001b[0m",
      "\u001b[1;31mNameError\u001b[0m                                 Traceback (most recent call last)",
      "\u001b[1;32m<ipython-input-1-7521f26789eb>\u001b[0m in \u001b[0;36m<module>\u001b[1;34m\u001b[0m\n\u001b[0;32m      1\u001b[0m \u001b[1;31m# Both Interpolation and Extrapolation\u001b[0m\u001b[1;33m\u001b[0m\u001b[1;33m\u001b[0m\u001b[1;33m\u001b[0m\u001b[0m\n\u001b[1;32m----> 2\u001b[1;33m \u001b[0mdf_ordered\u001b[0m\u001b[1;33m[\u001b[0m\u001b[1;34m'OCI'\u001b[0m\u001b[1;33m]\u001b[0m\u001b[1;33m[\u001b[0m\u001b[1;33m(\u001b[0m\u001b[0mdf_ordered\u001b[0m\u001b[1;33m[\u001b[0m\u001b[1;34m'company_name'\u001b[0m\u001b[1;33m]\u001b[0m\u001b[1;33m==\u001b[0m\u001b[1;34m'Netflix'\u001b[0m\u001b[1;33m)\u001b[0m\u001b[1;33m]\u001b[0m\u001b[1;33m\u001b[0m\u001b[1;33m\u001b[0m\u001b[0m\n\u001b[0m",
      "\u001b[1;31mNameError\u001b[0m: name 'df_ordered' is not defined"
     ]
    }
   ],
   "source": [
    "# Both Interpolation and Extrapolation\n",
    "df_ordered['OCI'][(df_ordered['company_name']=='Netflix')] "
   ]
  },
  {
   "cell_type": "code",
   "execution_count": null,
   "metadata": {},
   "outputs": [],
   "source": [
    "df_ordered['Accounts Payables'][(df_ordered['company_name']=='Netflix')] "
   ]
  },
  {
   "cell_type": "code",
   "execution_count": null,
   "metadata": {},
   "outputs": [],
   "source": [
    "df_ordered['OCI'][(df_ordered['company_name']=='Apple')] "
   ]
  },
  {
   "cell_type": "markdown",
   "metadata": {},
   "source": [
    "## The following needs Extrapolation"
   ]
  },
  {
   "cell_type": "code",
   "execution_count": null,
   "metadata": {},
   "outputs": [],
   "source": [
    "df_ordered['Non-Current Liabilities'][(df_ordered['company_name']=='Tesla')] "
   ]
  },
  {
   "cell_type": "code",
   "execution_count": null,
   "metadata": {},
   "outputs": [],
   "source": [
    "df_ordered['Total Non-Current Assets'][(df_ordered['company_name']=='Netflix')] "
   ]
  },
  {
   "cell_type": "code",
   "execution_count": null,
   "metadata": {},
   "outputs": [],
   "source": [
    "df_ordered['OCI'][(df_ordered['company_name']=='Microsoft')] "
   ]
  },
  {
   "cell_type": "code",
   "execution_count": null,
   "metadata": {},
   "outputs": [],
   "source": [
    "df_ordered['Total liabilities'][(df_ordered['company_name']=='Google')] "
   ]
  },
  {
   "cell_type": "code",
   "execution_count": null,
   "metadata": {},
   "outputs": [],
   "source": [
    "df_ordered['Retained Earning'][(df_ordered['company_name']=='GM')] "
   ]
  },
  {
   "cell_type": "code",
   "execution_count": null,
   "metadata": {},
   "outputs": [],
   "source": [
    "df_ordered['New Deferred Revenue'][(df_ordered['company_name']=='Ford')] "
   ]
  },
  {
   "cell_type": "code",
   "execution_count": null,
   "metadata": {},
   "outputs": [],
   "source": [
    "df_ordered['Non-Current Liabilities'][(df_ordered['company_name']=='Apple')] "
   ]
  },
  {
   "cell_type": "code",
   "execution_count": null,
   "metadata": {},
   "outputs": [],
   "source": [
    "df_ordered['Total Non-Current Assets'][(df_ordered['company_name']=='Apple')] "
   ]
  },
  {
   "cell_type": "code",
   "execution_count": null,
   "metadata": {},
   "outputs": [],
   "source": [
    "df_ordered['New Deferred Revenue'][(df_ordered['company_name']=='Apple')] #& (df_ordered['New Deferred Revenue'].isna())].interpolate()"
   ]
  },
  {
   "cell_type": "markdown",
   "metadata": {},
   "source": []
  },
  {
   "cell_type": "markdown",
   "metadata": {},
   "source": [
    "## 2.3 Extrapolation"
   ]
  },
  {
   "cell_type": "markdown",
   "metadata": {},
   "source": [
    "Which is a better method to fill in time series data? Our metric of comparison is MSE."
   ]
  },
  {
   "cell_type": "code",
   "execution_count": null,
   "metadata": {},
   "outputs": [],
   "source": [
    "df_ordered['Total current assets'][df_ordered['company_name']=='Ford']"
   ]
  },
  {
   "cell_type": "code",
   "execution_count": null,
   "metadata": {},
   "outputs": [],
   "source": [
    "# First lets grab all of Ford columns with nan values into a df.  \n",
    "nan_Ford = df_ordered[['Total current assets', 'Total Non-Current Assets', 'Total_Assets', 'Total liabilities', 'Total current liabilities', 'Non-Current Liabilities']][df_ordered['company_name']=='Ford'].sort_index(ascending=False, sort_remaining= True, inplace=False)\n",
    "\n",
    "# 'Total Non-Current Assets' is made up from subtracting 'Total current assets'  from 'Total_Assets'.\n",
    "# nan_Ford['Total Non-Current Assets'] + nan_Ford['Total current assets'] == nan_Ford['Total_Assets']"
   ]
  },
  {
   "cell_type": "code",
   "execution_count": null,
   "metadata": {},
   "outputs": [],
   "source": [
    "# nan_Ford"
   ]
  },
  {
   "cell_type": "markdown",
   "metadata": {},
   "source": [
    "Considering the relationship of our missing Asset-side data, we only need to infer the ratio between 'Total current assets' and 'Total Non-current Assets' from before 2016 Q1. As the sum of these two missing values is known as 'Total_Assets'.\n",
    "\n",
    "The ratios between current and non-current assets exhibit a relatively stable relationship. (see plot below)"
   ]
  },
  {
   "cell_type": "markdown",
   "metadata": {},
   "source": [
    "#### Total current assets"
   ]
  },
  {
   "cell_type": "code",
   "execution_count": null,
   "metadata": {},
   "outputs": [],
   "source": [
    "valid_rows = len(nan_Ford['Total current assets'][nan_Ford['Total current assets'].notna()])\n",
    "# Ratio between 'Total current assets' and 'Total Non-Current Assets'.\n",
    "TCA_TA_ratio = nan_Ford['Total current assets'][:valid_rows] / nan_Ford['Total_Assets'][:valid_rows]\n",
    "#Plot ratio.\n",
    "# TCA_TA_ratio.plot(ylim=[0.4, 0.5])"
   ]
  },
  {
   "cell_type": "markdown",
   "metadata": {},
   "source": [
    "Therefore we will try to use autoregressive moving average to extrapolate the missing values. "
   ]
  },
  {
   "cell_type": "code",
   "execution_count": null,
   "metadata": {},
   "outputs": [],
   "source": [
    "from statsmodels.tsa.arima_model import ARMA"
   ]
  },
  {
   "cell_type": "code",
   "execution_count": null,
   "metadata": {},
   "outputs": [],
   "source": [
    "# Our small sample of training data are the non-null ratios. \n",
    "train_data = TCA_TA_ratio[TCA_TA_ratio.notna()].values\n",
    "# print(train_data)"
   ]
  },
  {
   "cell_type": "code",
   "execution_count": null,
   "metadata": {},
   "outputs": [],
   "source": [
    "# ARMA( order = p=1, q=0 )\n",
    "model = ARMA(train_data, order=(2,2))\n",
    "model_fitted = model.fit()\n",
    "# print(model_fitted.summary())\n",
    "pred_ratio_TCA = model_fitted.predict(start=valid_rows+1, end=len(nan_Ford)-1)\n",
    "print(pred_ratio_TCA)"
   ]
  },
  {
   "cell_type": "code",
   "execution_count": null,
   "metadata": {},
   "outputs": [],
   "source": [
    "# Create a ratio dataframe for plotting. \n",
    "ratio_plot = pd.DataFrame(pred_ratio_TCA, range(len(pred_ratio_TCA)))\n",
    "# Using values p=2, q=2, we have a stationary prediction. \n",
    "# ratio_plot.plot()"
   ]
  },
  {
   "cell_type": "code",
   "execution_count": null,
   "metadata": {},
   "outputs": [],
   "source": [
    "fill_TCA = nan_Ford['Total current assets'].copy()\n",
    "fill_TCA[fill_TCA.isna()] = nan_Ford['Total_Assets'][valid_rows:]*pred_ratio_TCA\n",
    "# (1,0)"
   ]
  },
  {
   "cell_type": "code",
   "execution_count": null,
   "metadata": {},
   "outputs": [],
   "source": [
    "# Update our main df. \n",
    "df_ordered['Total current assets'][df_ordered['company_name']=='Ford'] = fill_TCA"
   ]
  },
  {
   "cell_type": "markdown",
   "metadata": {},
   "source": [
    "When p=1, and q=0 visually looks good, after checking larger values there are no improvement, so we will use the predictions where p=1, and q=0. "
   ]
  },
  {
   "cell_type": "code",
   "execution_count": null,
   "metadata": {},
   "outputs": [],
   "source": [
    "nan_Ford['Total current assets'] = fill_TCA"
   ]
  },
  {
   "cell_type": "markdown",
   "metadata": {},
   "source": [
    "#### Total Non-Current Assets"
   ]
  },
  {
   "cell_type": "code",
   "execution_count": null,
   "metadata": {},
   "outputs": [],
   "source": [
    "nan_Ford['Total Non-Current Assets'] = nan_Ford['Total_Assets'] - nan_Ford['Total current assets']"
   ]
  },
  {
   "cell_type": "code",
   "execution_count": null,
   "metadata": {
    "scrolled": true
   },
   "outputs": [],
   "source": [
    "# Update our main df.\n",
    "df_ordered['Total Non-Current Assets'][df_ordered['company_name']=='Ford'] = nan_Ford['Total Non-Current Assets']"
   ]
  },
  {
   "cell_type": "markdown",
   "metadata": {},
   "source": [
    "We will do the same for 'Total current liabilities', and 'Non-Current Liabilities'."
   ]
  },
  {
   "cell_type": "markdown",
   "metadata": {},
   "source": [
    "#### Total current liabilities "
   ]
  },
  {
   "cell_type": "code",
   "execution_count": null,
   "metadata": {},
   "outputs": [],
   "source": [
    "# From the plot below, we see the relationship remains very stable, so we will use the mean instead.\n",
    "valid_rows = len(nan_Ford['Total current liabilities'][nan_Ford['Total current liabilities'].notna()])\n",
    "# Ratio between 'Total current assets' and 'Total Non-Current Assets'.\n",
    "TCL_TL_ratio = nan_Ford['Total current liabilities'][:valid_rows] / nan_Ford['Total liabilities'][:valid_rows]\n",
    "TCL_TL_ratio.plot(ylim=[0.4, 0.45])"
   ]
  },
  {
   "cell_type": "code",
   "execution_count": null,
   "metadata": {},
   "outputs": [],
   "source": [
    "# Deducting the most recent data, we will have a stationary time-series. \n",
    "TCL_TL_ratio.plot(kind='bar',ylim=[0.4, 0.45])"
   ]
  },
  {
   "cell_type": "code",
   "execution_count": null,
   "metadata": {
    "scrolled": true
   },
   "outputs": [],
   "source": [
    "# delete the most recent data & most irrelevant. \n",
    "TCL_TL_ratio.pop((2020, 'Q1'))"
   ]
  },
  {
   "cell_type": "code",
   "execution_count": null,
   "metadata": {},
   "outputs": [],
   "source": [
    "valid_rows+1"
   ]
  },
  {
   "cell_type": "code",
   "execution_count": null,
   "metadata": {},
   "outputs": [],
   "source": [
    "# Our small sample of training data are the non-null ratios. \n",
    "train_data = TCL_TL_ratio[TCL_TL_ratio.notna()].values\n",
    "# print(train_data)"
   ]
  },
  {
   "cell_type": "code",
   "execution_count": null,
   "metadata": {},
   "outputs": [],
   "source": [
    "# ARMA( order = p=1, q=0 )\n",
    "model = ARMA(train_data, order=(1,1))\n",
    "model_fitted = model.fit()\n",
    "# print(model_fitted.summary())\n",
    "pred_ratio_TCL = model_fitted.predict(start=(valid_rows+1), end=(len(nan_Ford)-2))\n",
    "print(pred_ratio_TCL)"
   ]
  },
  {
   "cell_type": "code",
   "execution_count": null,
   "metadata": {
    "scrolled": true
   },
   "outputs": [],
   "source": [
    "len(pred_ratio_TCL)"
   ]
  },
  {
   "cell_type": "code",
   "execution_count": null,
   "metadata": {
    "scrolled": true
   },
   "outputs": [],
   "source": [
    "fill_TCL = nan_Ford['Total current liabilities'].copy()\n",
    "fill_TCL[fill_TCL.isna()] = nan_Ford['Total liabilities'][valid_rows:]*pred_ratio_TCL"
   ]
  },
  {
   "cell_type": "code",
   "execution_count": null,
   "metadata": {},
   "outputs": [],
   "source": [
    "# fill_TCL.plot()"
   ]
  },
  {
   "cell_type": "code",
   "execution_count": null,
   "metadata": {},
   "outputs": [],
   "source": [
    "# Update our main df. \n",
    "df_ordered['Total current liabilities'][df_ordered['company_name']=='Ford'] = fill_TCL"
   ]
  },
  {
   "cell_type": "markdown",
   "metadata": {},
   "source": [
    "#### Non-Current Liabilities"
   ]
  },
  {
   "cell_type": "code",
   "execution_count": null,
   "metadata": {},
   "outputs": [],
   "source": [
    "valid_rows = len(nan_Ford['Non-Current Liabilities'][nan_Ford['Non-Current Liabilities'].notna()])\n",
    "# Ratio between 'Total current assets' and 'Total Non-Current Assets'.\n",
    "NCL_TL_ratio = nan_Ford['Non-Current Liabilities'][:valid_rows] / nan_Ford['Total liabilities'][:valid_rows]"
   ]
  },
  {
   "cell_type": "code",
   "execution_count": null,
   "metadata": {},
   "outputs": [],
   "source": [
    "NCL_TL_ratio.plot(ylim= [0.18, 0.25])"
   ]
  },
  {
   "cell_type": "code",
   "execution_count": null,
   "metadata": {},
   "outputs": [],
   "source": [
    "NCL_TL_ratio.describe()"
   ]
  },
  {
   "cell_type": "markdown",
   "metadata": {},
   "source": [
    "The data does not represent a stationary time series, and has a low std, we will use the mean to approximate the relationship."
   ]
  },
  {
   "cell_type": "code",
   "execution_count": null,
   "metadata": {},
   "outputs": [],
   "source": [
    "fill_NCL = nan_Ford['Non-Current Liabilities'].copy()\n",
    "fill_NCL[fill_NCL.isna()] = nan_Ford['Total liabilities'][valid_rows:]*NCL_TL_ratio.mean()"
   ]
  },
  {
   "cell_type": "code",
   "execution_count": null,
   "metadata": {},
   "outputs": [],
   "source": [
    "fill_NCL.plot(figsize=(8,8))"
   ]
  },
  {
   "cell_type": "code",
   "execution_count": null,
   "metadata": {},
   "outputs": [],
   "source": [
    "# Update our main df. \n",
    "df_ordered['Non-Current Liabilities'][df_ordered['company_name']=='Ford'] = fill_NCL"
   ]
  },
  {
   "cell_type": "code",
   "execution_count": null,
   "metadata": {
    "scrolled": true
   },
   "outputs": [],
   "source": [
    "nan_Ford"
   ]
  },
  {
   "cell_type": "markdown",
   "metadata": {},
   "source": [
    "Great! Ford looks all clean, we will move onto the other compnaies. "
   ]
  },
  {
   "cell_type": "code",
   "execution_count": null,
   "metadata": {},
   "outputs": [],
   "source": [
    "# Check to see the spread of missing values. \n",
    "null_mask = df_ordered.isna().groupby(df_ordered['company_name'], sort=True).sum()\n",
    "# Create a mask to filter out only the missing values. \n",
    "sum_of_nulls = null_mask[ null_mask>0 ].dropna(axis=1, how='all').dropna(axis=0, how='all').fillna(False)\n",
    "print(sum_of_nulls.shape)\n",
    "sum_of_nulls"
   ]
  },
  {
   "cell_type": "code",
   "execution_count": null,
   "metadata": {},
   "outputs": [],
   "source": []
  },
  {
   "cell_type": "code",
   "execution_count": null,
   "metadata": {},
   "outputs": [],
   "source": []
  },
  {
   "cell_type": "code",
   "execution_count": null,
   "metadata": {},
   "outputs": [],
   "source": [
    "methods = ['linear', 'quadratic', 'cubic', 'akima', 'polynomial']\n",
    "df = pd.DataFrame({m: TCA_Ford.interpolate(method=m, order=2, limit_direction='backward') for m in methods})\n",
    "df.plot()"
   ]
  },
  {
   "cell_type": "code",
   "execution_count": null,
   "metadata": {},
   "outputs": [],
   "source": [
    "noninterp_idx_names = [idx_name for idx_name in TCA_Ford.index.names if idx_name != 'Quarter']"
   ]
  },
  {
   "cell_type": "code",
   "execution_count": null,
   "metadata": {},
   "outputs": [],
   "source": [
    "noninterp_idx_names"
   ]
  },
  {
   "cell_type": "code",
   "execution_count": null,
   "metadata": {
    "scrolled": true
   },
   "outputs": [],
   "source": [
    "for _, grp in TCA_Ford.groupby(['Year']):\n",
    "    print('This is _', _) # int()\n",
    "    print('grp type is - ', type(grp))\n",
    "    print(grp) # pd.Series\n",
    "    \n",
    "    \n",
    "    sub_df = pd.to_numeric(grp, errors='coerce').set_index('Quarter').interpolate(method='index')\n",
    "    print(sub_df)\n",
    "    \n",
    "    print('\\n','-'*45)"
   ]
  },
  {
   "cell_type": "code",
   "execution_count": null,
   "metadata": {},
   "outputs": [],
   "source": [
    "type(pd.to_numeric(grp, errors='coerce'))"
   ]
  },
  {
   "cell_type": "code",
   "execution_count": null,
   "metadata": {},
   "outputs": [],
   "source": [
    "def interp_multiindex(df, interp_idx_name):\n",
    "    \"\"\"\n",
    "    Provides index-based interpolation for pd.Multiindex which usually only support linear\n",
    "    interpolation. Interpolates full DataFrame.\n",
    "\n",
    "    Parameters\n",
    "    ----------\n",
    "    df : pd.DataFrame\n",
    "        The DataFrame with NaN values\n",
    "    interp_idx_name : str\n",
    "        The name of the multiindex level on which index-based interpolation should take place\n",
    "\n",
    "    Returns\n",
    "    -------\n",
    "    df : pd.DataFrame\n",
    "        The DataFrame with index-based interpolated values\n",
    "    \"\"\"\n",
    "    # Get all index level names in order\n",
    "    existing_multiidx = df.index\n",
    "    # Remove the name on which interpolation will take place\n",
    "    noninterp_idx_names = [idx_name for idx_name in existing_multiidx.names \n",
    "                           if idx_name != interp_idx_name]\n",
    "    df = df.reset_index()\n",
    "    concat_list = [pd.to_numeric(grp, errors='coerce').set_index(interp_idx_name).interpolate(method='index') \n",
    "                   for _, grp in df.groupby(noninterp_idx_names)]\n",
    "    df = pd.concat(concat_list)\n",
    "    df = df.reset_index().set_index(existing_multiidx.names)\n",
    "    df = pd.DataFrame(index=existing_multiidx).join(df)\n",
    "    return df"
   ]
  },
  {
   "cell_type": "code",
   "execution_count": null,
   "metadata": {
    "scrolled": true
   },
   "outputs": [],
   "source": [
    "interp_multiindex(TCA_Ford, 'Quarter' )"
   ]
  },
  {
   "cell_type": "code",
   "execution_count": null,
   "metadata": {},
   "outputs": [],
   "source": [
    "from scipy.interpolate import interp1d\n",
    "import matplotlib.pyplot as plt"
   ]
  },
  {
   "cell_type": "code",
   "execution_count": null,
   "metadata": {},
   "outputs": [],
   "source": [
    "x=TCA_Ford.index.values\n",
    "y=TCA_Ford.values\n",
    "\n",
    "f = interp1d(x, y)\n",
    "f2 = interp1d(x, y)\n"
   ]
  },
  {
   "cell_type": "code",
   "execution_count": null,
   "metadata": {},
   "outputs": [],
   "source": [
    "np.linspace(0, 10, num=41, endpoint=True)"
   ]
  },
  {
   "cell_type": "code",
   "execution_count": null,
   "metadata": {
    "scrolled": true
   },
   "outputs": [],
   "source": [
    "interp1d(x=TCA_Ford.index.values, y=TCA_Ford.values)"
   ]
  },
  {
   "cell_type": "code",
   "execution_count": null,
   "metadata": {
    "scrolled": true
   },
   "outputs": [],
   "source": [
    "TCA_Ford.interpolate(method='polynomial', order=1, limit_area=None).plot()"
   ]
  },
  {
   "cell_type": "code",
   "execution_count": null,
   "metadata": {},
   "outputs": [],
   "source": [
    "# Average of polynomial and akima interpolations\n",
    "order1 = TCA_Ford.interpolate(method='polynomial', order=1, limit_direction='both')\n",
    "order2 = TCA_Ford.interpolate(method='polynomial', order=2, limit_direction='both')\n",
    "ser = (order1 + order2)/2\n",
    "\n",
    "pd.DataFrame({'ser': ser, 'order1': order1, 'order2': order2}).plot()"
   ]
  },
  {
   "cell_type": "code",
   "execution_count": null,
   "metadata": {},
   "outputs": [],
   "source": [
    "ser.plot()"
   ]
  },
  {
   "cell_type": "code",
   "execution_count": null,
   "metadata": {},
   "outputs": [],
   "source": [
    "TCA_Ford.plot()"
   ]
  },
  {
   "cell_type": "markdown",
   "metadata": {},
   "source": [
    "Mo"
   ]
  },
  {
   "cell_type": "markdown",
   "metadata": {},
   "source": [
    "# https://pandas.pydata.org/pandas-docs/stable/user_guide/missing_data.html#interpolation"
   ]
  },
  {
   "cell_type": "markdown",
   "metadata": {},
   "source": [
    "# 3. Feature Engineering, Ratios"
   ]
  },
  {
   "cell_type": "code",
   "execution_count": null,
   "metadata": {},
   "outputs": [],
   "source": []
  },
  {
   "cell_type": "code",
   "execution_count": null,
   "metadata": {},
   "outputs": [],
   "source": []
  },
  {
   "cell_type": "code",
   "execution_count": null,
   "metadata": {},
   "outputs": [],
   "source": []
  },
  {
   "cell_type": "code",
   "execution_count": null,
   "metadata": {},
   "outputs": [],
   "source": []
  },
  {
   "cell_type": "code",
   "execution_count": null,
   "metadata": {},
   "outputs": [],
   "source": []
  },
  {
   "cell_type": "code",
   "execution_count": null,
   "metadata": {},
   "outputs": [],
   "source": []
  },
  {
   "cell_type": "code",
   "execution_count": null,
   "metadata": {},
   "outputs": [],
   "source": []
  },
  {
   "cell_type": "code",
   "execution_count": null,
   "metadata": {},
   "outputs": [],
   "source": [
    "pd.concat([test_data, predictions]).plot()"
   ]
  },
  {
   "cell_type": "code",
   "execution_count": null,
   "metadata": {},
   "outputs": [],
   "source": [
    "TCA_TNCA_ratio.rolling(window=1).mean().plot()"
   ]
  },
  {
   "cell_type": "markdown",
   "metadata": {},
   "source": [
    "# August 7, above"
   ]
  },
  {
   "cell_type": "markdown",
   "metadata": {},
   "source": [
    "# Querying the Dataframe's Missing Data by Keywords"
   ]
  },
  {
   "cell_type": "code",
   "execution_count": null,
   "metadata": {
    "scrolled": false
   },
   "outputs": [],
   "source": [
    "# Total amount of company names. \n",
    "list_company_name = list(company_name.keys())\n",
    "print(len(list_company_name), list_company_name)\n",
    "\n",
    "# Querying the dataframe using broswse_term, returns descriptive information. \n",
    "count = 0\n",
    "col_container = []\n",
    "\n",
    "keyword = input('Enter search keyword: ')\n",
    "if keyword == '':\n",
    "    broswse_term = ''\n",
    "else:\n",
    "    broswse_term = keyword\n",
    "    \n",
    "print(f'(*Only Accepts Numbers!), largest_max: {len(list_company_name)+1}')\n",
    "max_com = int(input('Enter maximum of unique companies returned per column name: '))\n",
    "    \n",
    "print(f'(*Only Accepts Numbers!), largest_min: {len(list_company_name)-1}')\n",
    "in_min = int(input('Enter minimum of unique companies returned per column name: '))\n",
    "if in_min == '':\n",
    "    min_com = 0\n",
    "else:\n",
    "    min_com = in_min\n",
    "print('\\n\\n')\n",
    "for name in dirty_col_name:\n",
    "    \n",
    "    if re.search(f'{broswse_term}.*', name, flags=re.I):\n",
    "        \n",
    "        company_name_isna_list = abt['company_name'][abt[name].isna()]\n",
    "        com_container = [ (col_name, freq) for (col_name, freq) in Counter(company_name_isna_list).items() ]\n",
    "        \n",
    "        company_name_notna_list = abt['company_name'][abt[name].notna()]\n",
    "        postive_container = [ (col_name, freq) for (col_name, freq) in Counter(company_name_notna_list).items() ]\n",
    "               \n",
    "        amt_flagged = len(com_container)\n",
    "        \n",
    "        if  max_com > amt_flagged > min_com:\n",
    "            \n",
    "            print(\"\\033[1m{\", name , \"}\\033[0m\")\n",
    "            count+=1\n",
    "            print('The following companies have nan values for the above description. Number of nan columns')\n",
    "            print( com_container)\n",
    "            \n",
    "            print(\"-\"*70, f'\\nHow many companies do not have this column name - {amt_flagged}\\n', \"-\"*70)\n",
    "                        \n",
    "            print('The following companies have numbers for this name.')\n",
    "            print(postive_container)\n",
    "            #print([com_name for com_name in list_company_name if com_name not in [company_name for company_name, freq in com_container]])\n",
    "            print()\n",
    "            col_container.append(name)\n",
    "\n",
    "print(f'\\n\\nCurrently looking at {count} columns with term - \\'{broswse_term}\\'.\\n', '~'*70)\n",
    "print(col_container)\n",
    "\n",
    "col_container.insert(0, 'company_name')\n",
    "col_container.insert(len(col_container), 'Filing/Acc.No.')\n",
    "\n",
    "abt[col_container]\n"
   ]
  },
  {
   "cell_type": "code",
   "execution_count": null,
   "metadata": {},
   "outputs": [],
   "source": [
    "    "
   ]
  },
  {
   "cell_type": "code",
   "execution_count": null,
   "metadata": {},
   "outputs": [],
   "source": [
    "df = abt[col_container]\n",
    "df.groupby(['company_name'], sort=True).mean()"
   ]
  },
  {
   "cell_type": "code",
   "execution_count": null,
   "metadata": {},
   "outputs": [],
   "source": [
    "??"
   ]
  },
  {
   "cell_type": "code",
   "execution_count": null,
   "metadata": {
    "scrolled": false
   },
   "outputs": [],
   "source": [
    "df = abt[col_container]\n",
    "corr = df.corr()\n",
    "\n",
    "kot = corr[corr>=.8]\n",
    "plt.figure(figsize=(12,12))\n",
    "sns.heatmap(kot, cmap=\"Greens\")"
   ]
  },
  {
   "cell_type": "markdown",
   "metadata": {},
   "source": [
    "# Truth Zip Match Method of Merging Similar Columns "
   ]
  },
  {
   "cell_type": "code",
   "execution_count": null,
   "metadata": {},
   "outputs": [],
   "source": [
    "np.random.seed(1)\n",
    "test_list2 = np.random.rand(10, 2)\n",
    "df2 = pd.DataFrame(test_list2, columns= ['A', 'F'])\n",
    "df_1 = df2[df2>0.5].isna()\n"
   ]
  },
  {
   "cell_type": "code",
   "execution_count": null,
   "metadata": {},
   "outputs": [],
   "source": [
    "ICD.display(df_1, df_2)"
   ]
  },
  {
   "cell_type": "code",
   "execution_count": null,
   "metadata": {},
   "outputs": [],
   "source": [
    "sample_test_TF  = pd.concat([df1[df1<0.5].isna(), df1[df1>0.5].isna() ], axis=1)\n",
    "sample_test_TF"
   ]
  },
  {
   "cell_type": "code",
   "execution_count": null,
   "metadata": {},
   "outputs": [],
   "source": [
    "sample_test_TF2"
   ]
  },
  {
   "cell_type": "code",
   "execution_count": null,
   "metadata": {},
   "outputs": [],
   "source": [
    "sample_TF = df1[df1>0.5].isna()"
   ]
  },
  {
   "cell_type": "code",
   "execution_count": null,
   "metadata": {},
   "outputs": [],
   "source": [
    "sample_TF"
   ]
  },
  {
   "cell_type": "code",
   "execution_count": null,
   "metadata": {},
   "outputs": [],
   "source": [
    "np.random.seed(123)\n",
    "test_list = np.random.rand(10, 2)\n",
    "df1 = pd.DataFrame(test_list, columns= ['C', 'D'])\n",
    "df_rand =  df1[df1>0.5].isna()\n",
    "df_rand"
   ]
  },
  {
   "cell_type": "code",
   "execution_count": null,
   "metadata": {},
   "outputs": [],
   "source": [
    "zip(df_1['F'] , df_2['B'])"
   ]
  },
  {
   "cell_type": "code",
   "execution_count": null,
   "metadata": {
    "scrolled": true
   },
   "outputs": [],
   "source": [
    "# Zip two columns using list comprehension \n",
    "zip_test = [num for num in zip(df_1['F'] , df_2['B'])]\n",
    "pprint(zip_test )"
   ]
  },
  {
   "cell_type": "code",
   "execution_count": null,
   "metadata": {},
   "outputs": [],
   "source": [
    "# If the right doesnt match the left, then +=1\n",
    "match = 0\n",
    "for a, b in zip_test:\n",
    "    print(type(a))\n",
    "    if a != b:\n",
    "        match+=1\n",
    "    \n",
    "total_num = len(zip_test)\n",
    "match/total_num"
   ]
  },
  {
   "cell_type": "code",
   "execution_count": null,
   "metadata": {},
   "outputs": [],
   "source": [
    "comparing_columns(abt)"
   ]
  },
  {
   "cell_type": "markdown",
   "metadata": {},
   "source": [
    "\n",
    "### Creating a matching metric; 1.0 represents a perfect match, 0.0 represents no match "
   ]
  },
  {
   "attachments": {
    "image.png": {
     "image/png": "[encoded data removed]"
    }
   },
   "cell_type": "markdown",
   "metadata": {},
   "source": [
    " - s1 = pd.Series(['X0', 'X1', 'X2', 'X3'], name='X')\n",
    " - result = pd.concat([df1, s1], axis=1)\n",
    "#### Source: https://pandas.pydata.org/pandas-docs/stable/user_guide/merging.html\n",
    "![image.png](attachment:image.png)"
   ]
  },
  {
   "cell_type": "code",
   "execution_count": null,
   "metadata": {},
   "outputs": [],
   "source": [
    "test_TF = abt['Total Assets'].isna()\n",
    "type(test_TF)"
   ]
  },
  {
   "cell_type": "code",
   "execution_count": null,
   "metadata": {},
   "outputs": [],
   "source": [
    "corr = abt.corr()\n",
    "\n",
    "kot = corr[corr>=.5]\n",
    "plt.figure(figsize=(12,12))\n",
    "sns.heatmap(kot, cmap=\"Greens\")"
   ]
  },
  {
   "cell_type": "code",
   "execution_count": null,
   "metadata": {},
   "outputs": [],
   "source": [
    "def get_redundant_pairs(df):\n",
    "    '''Get diagonal and lower triangular pairs of correlation matrix'''\n",
    "    pairs_to_drop = set()\n",
    "    cols = df.columns\n",
    "    for i in range(0, df.shape[1]):\n",
    "        for j in range(0, i+1):\n",
    "            pairs_to_drop.add((cols[i], cols[j]))\n",
    "    return pairs_to_drop\n",
    "\n",
    "def get_top_abs_correlations(df, n=5):\n",
    "    au_corr = df.corr().abs().unstack()\n",
    "    labels_to_drop = get_redundant_pairs(df)\n",
    "    au_corr = au_corr.drop(labels=labels_to_drop).sort_values(ascending=False)\n",
    "    return au_corr[0:n]\n",
    "\n",
    "print(\"Top Absolute Correlations\")\n",
    "print(get_top_abs_correlations(abt, 3))"
   ]
  },
  {
   "cell_type": "code",
   "execution_count": null,
   "metadata": {},
   "outputs": [],
   "source": [
    "corr = abt.corr(method='pearson')\n",
    "bot = corr[corr>=.8]\n",
    "bot"
   ]
  },
  {
   "cell_type": "code",
   "execution_count": null,
   "metadata": {
    "scrolled": true
   },
   "outputs": [],
   "source": [
    "reference_list = abt[dirty_col_name_loc].groupby(abt['company_name'], sort=True).apply(comparing_columns())"
   ]
  },
  {
   "cell_type": "code",
   "execution_count": null,
   "metadata": {},
   "outputs": [],
   "source": [
    "def comparing_columns( df ):\n",
    "    \n",
    "    total_num_col = len(df)\n",
    "    list_col_name = list(df.columns[df.isna().sum()>1])\n",
    "    \n",
    "    reference_list = {}\n",
    "    \n",
    "    for target_col_name in list_col_name:\n",
    "        print(f'------ target_col_name - {target_col_name} ------')\n",
    "        for default_col_name in list_col_name:\n",
    "            \n",
    "            zip_col = [ row for row in zip( df[target_col_name].isna(), df[default_col_name ].isna() ) ]\n",
    "            match = 0\n",
    "\n",
    "            \n",
    "            for col_a, col_b in zip_col:\n",
    "                if col_a != col_b:\n",
    "                    match+=1 \n",
    "\n",
    "            match_ratio = match/total_num_col\n",
    "#             print(f'{default_col_name} : {match_ratio}')\n",
    "            \n",
    "            if 1 > match_ratio > 0.9:\n",
    "                reference_list.update( {target_col_name : [default_col_name, match_ratio ] } )\n",
    "                \n",
    "            else:\n",
    "                continue\n",
    "\n",
    "    return reference_list\n",
    "#                 print(f'\\n ------------------------------ \\n Does this match? ')\n",
    "#                 print( target_col_name, default_col_name )\n",
    "                \n",
    "#                 response = input()\n",
    "#                 if response == 'yes':\n",
    "\n",
    "#                     # create new varible to store sum_value\n",
    "#                     sum_value = df[target_col_name] + df[default_col_name]\n",
    "#                     new_S = pd.Series(sum_value, name = target_col_name)\n",
    "\n",
    "#                     # .drop(default_col_name)\n",
    "#                     df = df.drop(columns= [target_col_name, default_col_name], axis= 'columns' )\n",
    "\n",
    "#                     # pd.concat\n",
    "#                     df = pd.concat([df, new_S], axis='columns')\n",
    "#                     continue\n",
    "\n",
    "#                 elif response == 'no':\n",
    "#                     pass \n",
    "\n",
    "#                 elif response == 'stop':\n",
    "#                     break"
   ]
  },
  {
   "cell_type": "code",
   "execution_count": null,
   "metadata": {
    "scrolled": false
   },
   "outputs": [],
   "source": [
    "pprint(reference_list) "
   ]
  },
  {
   "cell_type": "code",
   "execution_count": null,
   "metadata": {},
   "outputs": [],
   "source": [
    "sorted(reference_list.items(), key=lambda x: x[1])"
   ]
  },
  {
   "cell_type": "code",
   "execution_count": null,
   "metadata": {},
   "outputs": [],
   "source": [
    "reference_list.pop('Accrued expenses and other')"
   ]
  },
  {
   "cell_type": "code",
   "execution_count": null,
   "metadata": {},
   "outputs": [],
   "source": [
    "reference_list.pop('Deferred Revenue')"
   ]
  },
  {
   "cell_type": "code",
   "execution_count": null,
   "metadata": {
    "scrolled": true
   },
   "outputs": [],
   "source": [
    "reference_list"
   ]
  },
  {
   "cell_type": "code",
   "execution_count": null,
   "metadata": {},
   "outputs": [],
   "source": [
    "reference_list.pop('Total assets')"
   ]
  },
  {
   "cell_type": "code",
   "execution_count": null,
   "metadata": {},
   "outputs": [],
   "source": [
    "reference_list"
   ]
  },
  {
   "cell_type": "code",
   "execution_count": null,
   "metadata": {},
   "outputs": [],
   "source": [
    "abt['Deferred Revenue']"
   ]
  },
  {
   "cell_type": "code",
   "execution_count": null,
   "metadata": {
    "scrolled": true
   },
   "outputs": [],
   "source": [
    "[df_1[col].mean() for col in df_1]"
   ]
  },
  {
   "cell_type": "code",
   "execution_count": null,
   "metadata": {
    "scrolled": false
   },
   "outputs": [],
   "source": [
    "[df_2[col].mean() for col in df_2]"
   ]
  },
  {
   "cell_type": "code",
   "execution_count": null,
   "metadata": {},
   "outputs": [],
   "source": [
    "print( True + True )"
   ]
  },
  {
   "cell_type": "code",
   "execution_count": null,
   "metadata": {},
   "outputs": [],
   "source": [
    "print( True + False )"
   ]
  },
  {
   "cell_type": "code",
   "execution_count": null,
   "metadata": {},
   "outputs": [],
   "source": []
  },
  {
   "cell_type": "code",
   "execution_count": null,
   "metadata": {},
   "outputs": [],
   "source": [
    "print(False + False)"
   ]
  },
  {
   "cell_type": "markdown",
   "metadata": {},
   "source": [
    "# Considering Data Structures Storing dfs for the above method"
   ]
  },
  {
   "cell_type": "code",
   "execution_count": null,
   "metadata": {},
   "outputs": [],
   "source": [
    "# Candidate One - sorted-dictionary\n",
    "dict_variable = {key:value for (key,value) in dictonary.items()}\n",
    "\n",
    "# Candidate Two - shelves / global \n"
   ]
  },
  {
   "cell_type": "markdown",
   "metadata": {},
   "source": [
    "# Column name Cleaners"
   ]
  },
  {
   "cell_type": "code",
   "execution_count": null,
   "metadata": {},
   "outputs": [],
   "source": [
    "import nltk\n"
   ]
  },
  {
   "cell_type": "code",
   "execution_count": null,
   "metadata": {
    "scrolled": true
   },
   "outputs": [],
   "source": [
    "nltk.download('stopwords')"
   ]
  },
  {
   "cell_type": "code",
   "execution_count": null,
   "metadata": {
    "scrolled": true
   },
   "outputs": [],
   "source": [
    "from nltk.stem import WordNetLemmatizer\n",
    "from nltk.tokenize import word_tokenize\n",
    "\n",
    "lemmatizer=WordNetLemmatizer()\n",
    "input_str='been had done languages cities mice'\n",
    "input_str=word_tokenize(input_str)\n",
    "print(input_str, '\\n')\n",
    "\n",
    "for word in input_str:\n",
    "    print(lemmatizer.lemmatize(word))"
   ]
  },
  {
   "cell_type": "code",
   "execution_count": null,
   "metadata": {},
   "outputs": [],
   "source": [
    "from nltk.corpus import stopwords\n",
    "stop_words = set(stopwords.words('english'))\n",
    "tokens = [w for w in input_str if not w in stop_words]\n",
    "tokens"
   ]
  },
  {
   "cell_type": "code",
   "execution_count": null,
   "metadata": {},
   "outputs": [],
   "source": [
    "stop_words"
   ]
  },
  {
   "cell_type": "code",
   "execution_count": null,
   "metadata": {
    "scrolled": true
   },
   "outputs": [],
   "source": [
    "cleaned_col_name = []\n",
    "for words in dirty_col_name:\n",
    "    tokenized_list = word_tokenize(words)\n",
    "    tokens = [w for w in tokenized_list if not w in stop_words]\n",
    "\n",
    "    new_token = []\n",
    "    for word in tokens:\n",
    "        input_str = lemmatizer.lemmatize(word)\n",
    "        new_token.append(input_str)\n",
    "    cleaned_col_name.append(new_token)"
   ]
  },
  {
   "cell_type": "code",
   "execution_count": null,
   "metadata": {
    "scrolled": true
   },
   "outputs": [],
   "source": [
    "cleaned_col_name"
   ]
  },
  {
   "cell_type": "code",
   "execution_count": null,
   "metadata": {},
   "outputs": [],
   "source": [
    "a_col_name, b_col_name = ['Total', 'Deferred', 'Revenue'], ['Deferred', 'Revenue']\n",
    "print(f'a_col_name - {a_col_name}')\n",
    "print(f'b_col_name - {b_col_name}')"
   ]
  },
  {
   "cell_type": "code",
   "execution_count": null,
   "metadata": {},
   "outputs": [],
   "source": [
    "a_col_name, b_col_name"
   ]
  }
 ],
 "metadata": {
  "kernelspec": {
   "display_name": "Python 3",
   "language": "python",
   "name": "python3"
  },
  "language_info": {
   "codemirror_mode": {
    "name": "ipython",
    "version": 3
   },
   "file_extension": ".py",
   "mimetype": "text/x-python",
   "name": "python",
   "nbconvert_exporter": "python",
   "pygments_lexer": "ipython3",
   "version": "3.7.4"
  }
 },
 "nbformat": 4,
 "nbformat_minor": 2
}
